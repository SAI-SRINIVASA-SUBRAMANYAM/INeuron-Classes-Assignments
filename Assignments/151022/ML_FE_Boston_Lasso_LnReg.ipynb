{
  "nbformat": 4,
  "nbformat_minor": 0,
  "metadata": {
    "colab": {
      "provenance": []
    },
    "kernelspec": {
      "name": "python3",
      "display_name": "Python 3"
    },
    "language_info": {
      "name": "python"
    }
  },
  "cells": [
    {
      "cell_type": "markdown",
      "source": [
        "# This task is to understand boston dataset using **Lasso Regression** model"
      ],
      "metadata": {
        "id": "LR0L_oai2e-n"
      }
    },
    {
      "cell_type": "code",
      "execution_count": 1,
      "metadata": {
        "id": "OgXV2R3c16s0"
      },
      "outputs": [],
      "source": [
        "# imports\n",
        "\n",
        "import numpy as np\n",
        "import pandas as pd\n",
        "import seaborn as sns\n",
        "import matplotlib.pyplot as plt\n",
        "%matplotlib inline"
      ]
    },
    {
      "cell_type": "code",
      "source": [
        "# importing boston dataset from sklearn\n",
        "\n",
        "from sklearn.datasets import load_boston"
      ],
      "metadata": {
        "id": "eiTu4zuK2sRK"
      },
      "execution_count": 2,
      "outputs": []
    },
    {
      "cell_type": "code",
      "source": [
        "# Initial data load\n",
        "\n",
        "boston = load_boston()\n",
        "dataset = pd.DataFrame(boston.data, columns=boston.feature_names)"
      ],
      "metadata": {
        "colab": {
          "base_uri": "https://localhost:8080/"
        },
        "id": "0XyuFB3Q2t2c",
        "outputId": "668598dc-7cbf-4a00-94ec-886d829c50ca"
      },
      "execution_count": 3,
      "outputs": [
        {
          "output_type": "stream",
          "name": "stderr",
          "text": [
            "/usr/local/lib/python3.7/dist-packages/sklearn/utils/deprecation.py:87: FutureWarning: Function load_boston is deprecated; `load_boston` is deprecated in 1.0 and will be removed in 1.2.\n",
            "\n",
            "    The Boston housing prices dataset has an ethical problem. You can refer to\n",
            "    the documentation of this function for further details.\n",
            "\n",
            "    The scikit-learn maintainers therefore strongly discourage the use of this\n",
            "    dataset unless the purpose of the code is to study and educate about\n",
            "    ethical issues in data science and machine learning.\n",
            "\n",
            "    In this special case, you can fetch the dataset from the original\n",
            "    source::\n",
            "\n",
            "        import pandas as pd\n",
            "        import numpy as np\n",
            "\n",
            "\n",
            "        data_url = \"http://lib.stat.cmu.edu/datasets/boston\"\n",
            "        raw_df = pd.read_csv(data_url, sep=\"\\s+\", skiprows=22, header=None)\n",
            "        data = np.hstack([raw_df.values[::2, :], raw_df.values[1::2, :2]])\n",
            "        target = raw_df.values[1::2, 2]\n",
            "\n",
            "    Alternative datasets include the California housing dataset (i.e.\n",
            "    :func:`~sklearn.datasets.fetch_california_housing`) and the Ames housing\n",
            "    dataset. You can load the datasets as follows::\n",
            "\n",
            "        from sklearn.datasets import fetch_california_housing\n",
            "        housing = fetch_california_housing()\n",
            "\n",
            "    for the California housing dataset and::\n",
            "\n",
            "        from sklearn.datasets import fetch_openml\n",
            "        housing = fetch_openml(name=\"house_prices\", as_frame=True)\n",
            "\n",
            "    for the Ames housing dataset.\n",
            "    \n",
            "  warnings.warn(msg, category=FutureWarning)\n"
          ]
        }
      ]
    },
    {
      "cell_type": "code",
      "source": [
        "print(boston.DESCR)"
      ],
      "metadata": {
        "colab": {
          "base_uri": "https://localhost:8080/"
        },
        "id": "mwCw_WYV2xSn",
        "outputId": "356dbbb3-f448-4361-e764-29edf9a2c1ae"
      },
      "execution_count": 4,
      "outputs": [
        {
          "output_type": "stream",
          "name": "stdout",
          "text": [
            ".. _boston_dataset:\n",
            "\n",
            "Boston house prices dataset\n",
            "---------------------------\n",
            "\n",
            "**Data Set Characteristics:**  \n",
            "\n",
            "    :Number of Instances: 506 \n",
            "\n",
            "    :Number of Attributes: 13 numeric/categorical predictive. Median Value (attribute 14) is usually the target.\n",
            "\n",
            "    :Attribute Information (in order):\n",
            "        - CRIM     per capita crime rate by town\n",
            "        - ZN       proportion of residential land zoned for lots over 25,000 sq.ft.\n",
            "        - INDUS    proportion of non-retail business acres per town\n",
            "        - CHAS     Charles River dummy variable (= 1 if tract bounds river; 0 otherwise)\n",
            "        - NOX      nitric oxides concentration (parts per 10 million)\n",
            "        - RM       average number of rooms per dwelling\n",
            "        - AGE      proportion of owner-occupied units built prior to 1940\n",
            "        - DIS      weighted distances to five Boston employment centres\n",
            "        - RAD      index of accessibility to radial highways\n",
            "        - TAX      full-value property-tax rate per $10,000\n",
            "        - PTRATIO  pupil-teacher ratio by town\n",
            "        - B        1000(Bk - 0.63)^2 where Bk is the proportion of black people by town\n",
            "        - LSTAT    % lower status of the population\n",
            "        - MEDV     Median value of owner-occupied homes in $1000's\n",
            "\n",
            "    :Missing Attribute Values: None\n",
            "\n",
            "    :Creator: Harrison, D. and Rubinfeld, D.L.\n",
            "\n",
            "This is a copy of UCI ML housing dataset.\n",
            "https://archive.ics.uci.edu/ml/machine-learning-databases/housing/\n",
            "\n",
            "\n",
            "This dataset was taken from the StatLib library which is maintained at Carnegie Mellon University.\n",
            "\n",
            "The Boston house-price data of Harrison, D. and Rubinfeld, D.L. 'Hedonic\n",
            "prices and the demand for clean air', J. Environ. Economics & Management,\n",
            "vol.5, 81-102, 1978.   Used in Belsley, Kuh & Welsch, 'Regression diagnostics\n",
            "...', Wiley, 1980.   N.B. Various transformations are used in the table on\n",
            "pages 244-261 of the latter.\n",
            "\n",
            "The Boston house-price data has been used in many machine learning papers that address regression\n",
            "problems.   \n",
            "     \n",
            ".. topic:: References\n",
            "\n",
            "   - Belsley, Kuh & Welsch, 'Regression diagnostics: Identifying Influential Data and Sources of Collinearity', Wiley, 1980. 244-261.\n",
            "   - Quinlan,R. (1993). Combining Instance-Based and Model-Based Learning. In Proceedings on the Tenth International Conference of Machine Learning, 236-243, University of Massachusetts, Amherst. Morgan Kaufmann.\n",
            "\n"
          ]
        }
      ]
    },
    {
      "cell_type": "code",
      "source": [
        "dataset['PRICE'] = boston.target"
      ],
      "metadata": {
        "id": "rvfwVchV29Xf"
      },
      "execution_count": 5,
      "outputs": []
    },
    {
      "cell_type": "code",
      "source": [
        "# Identifying independent and dependent feature\n",
        "\n",
        "X = dataset.iloc[:, :-1]\n",
        "y = dataset.iloc[:, -1]"
      ],
      "metadata": {
        "id": "WqSH2zJ-3AdF"
      },
      "execution_count": 6,
      "outputs": []
    },
    {
      "cell_type": "code",
      "source": [
        "# Creating training and testing dataset\n",
        "\n",
        "from sklearn.model_selection import train_test_split\n",
        "\n",
        "X_train, X_test, y_train, y_test = train_test_split(X, y, test_size=0.25, random_state=42)"
      ],
      "metadata": {
        "id": "Fbiud6Ba3IIV"
      },
      "execution_count": 7,
      "outputs": []
    },
    {
      "cell_type": "code",
      "source": [
        "# Data analysis on X_train and y_train\n",
        "\n",
        "print(type(X_train), len(X_train), type(y_train), len(y_train))"
      ],
      "metadata": {
        "colab": {
          "base_uri": "https://localhost:8080/"
        },
        "id": "1QoFEduX3ULy",
        "outputId": "fdf8601a-d2d6-4c00-d494-f5c6d7dc4d07"
      },
      "execution_count": 8,
      "outputs": [
        {
          "output_type": "stream",
          "name": "stdout",
          "text": [
            "<class 'pandas.core.frame.DataFrame'> 379 <class 'pandas.core.series.Series'> 379\n"
          ]
        }
      ]
    },
    {
      "cell_type": "code",
      "source": [
        "# Data analysis on X_test and y_test\n",
        "\n",
        "print(type(X_test), len(X_test), type(y_test), len(y_test))"
      ],
      "metadata": {
        "colab": {
          "base_uri": "https://localhost:8080/"
        },
        "id": "5jLNVQPl3W9s",
        "outputId": "88dfea29-95a1-4ab4-e9cc-b7e87260af71"
      },
      "execution_count": 9,
      "outputs": [
        {
          "output_type": "stream",
          "name": "stdout",
          "text": [
            "<class 'pandas.core.frame.DataFrame'> 127 <class 'pandas.core.series.Series'> 127\n"
          ]
        }
      ]
    },
    {
      "cell_type": "code",
      "source": [
        "## Standardizing the datasets\n",
        "\n",
        "from sklearn.preprocessing import StandardScaler\n",
        "\n",
        "scaler = StandardScaler()"
      ],
      "metadata": {
        "id": "V8BSZlqt3Znp"
      },
      "execution_count": 10,
      "outputs": []
    },
    {
      "cell_type": "code",
      "source": [
        "# Calculate mean and standard deviation\n",
        "X_train = scaler.fit_transform(X_train)"
      ],
      "metadata": {
        "id": "hoYDzBR33b9I"
      },
      "execution_count": 11,
      "outputs": []
    },
    {
      "cell_type": "code",
      "source": [
        "X_test = scaler.transform(X_test)"
      ],
      "metadata": {
        "id": "3LYiz8n93e1d"
      },
      "execution_count": 12,
      "outputs": []
    },
    {
      "cell_type": "code",
      "source": [
        "## Model training"
      ],
      "metadata": {
        "id": "L8b8B1ql3gQb"
      },
      "execution_count": 13,
      "outputs": []
    },
    {
      "cell_type": "code",
      "source": [
        "from sklearn.linear_model import Lasso"
      ],
      "metadata": {
        "id": "gjtbjSLi3hn2"
      },
      "execution_count": 14,
      "outputs": []
    },
    {
      "cell_type": "code",
      "source": [
        "lasso = Lasso()"
      ],
      "metadata": {
        "id": "sLlRl7gT3nAO"
      },
      "execution_count": 15,
      "outputs": []
    },
    {
      "cell_type": "code",
      "source": [
        "lasso.fit(X_train, y_train)"
      ],
      "metadata": {
        "colab": {
          "base_uri": "https://localhost:8080/"
        },
        "id": "IXmTlJSj3pii",
        "outputId": "c78ce4a1-2c30-4f4e-9eab-75ef8d4590ac"
      },
      "execution_count": 16,
      "outputs": [
        {
          "output_type": "execute_result",
          "data": {
            "text/plain": [
              "Lasso()"
            ]
          },
          "metadata": {},
          "execution_count": 16
        }
      ]
    },
    {
      "cell_type": "code",
      "source": [
        "print(boston.feature_names)"
      ],
      "metadata": {
        "colab": {
          "base_uri": "https://localhost:8080/"
        },
        "id": "hE3sCD7Z38NT",
        "outputId": "4697db2e-fa8e-44c5-8e20-6cc28f6026f5"
      },
      "execution_count": 17,
      "outputs": [
        {
          "output_type": "stream",
          "name": "stdout",
          "text": [
            "['CRIM' 'ZN' 'INDUS' 'CHAS' 'NOX' 'RM' 'AGE' 'DIS' 'RAD' 'TAX' 'PTRATIO'\n",
            " 'B' 'LSTAT']\n"
          ]
        }
      ]
    },
    {
      "cell_type": "code",
      "source": [
        "for index, feature in enumerate(boston.feature_names):\n",
        "  print(feature.ljust(10), \" :\", \"{0:+f}\".format(lasso.coef_[index]))"
      ],
      "metadata": {
        "colab": {
          "base_uri": "https://localhost:8080/"
        },
        "id": "JGX61MgK3q1y",
        "outputId": "4c6f2de5-030b-41e6-d487-0d3d4f996ef8"
      },
      "execution_count": 18,
      "outputs": [
        {
          "output_type": "stream",
          "name": "stdout",
          "text": [
            "CRIM        : -0.000000\n",
            "ZN          : +0.000000\n",
            "INDUS       : -0.000000\n",
            "CHAS        : +0.061467\n",
            "NOX         : -0.000000\n",
            "RM          : +2.993858\n",
            "AGE         : -0.000000\n",
            "DIS         : -0.000000\n",
            "RAD         : -0.000000\n",
            "TAX         : -0.000000\n",
            "PTRATIO     : -1.233132\n",
            "B           : +0.395172\n",
            "LSTAT       : -3.559637\n"
          ]
        }
      ]
    },
    {
      "cell_type": "code",
      "source": [
        "print(lasso.intercept_)"
      ],
      "metadata": {
        "colab": {
          "base_uri": "https://localhost:8080/"
        },
        "id": "9spFMg5o3usv",
        "outputId": "ea543506-f442-4fb7-ce6d-e0200f81fb18"
      },
      "execution_count": 19,
      "outputs": [
        {
          "output_type": "stream",
          "name": "stdout",
          "text": [
            "22.907915567282352\n"
          ]
        }
      ]
    },
    {
      "cell_type": "code",
      "source": [
        "lasso_prediction = lasso.predict(X_test)"
      ],
      "metadata": {
        "id": "BrDq7X353yDy"
      },
      "execution_count": 20,
      "outputs": []
    },
    {
      "cell_type": "code",
      "source": [
        "lasso_prediction"
      ],
      "metadata": {
        "colab": {
          "base_uri": "https://localhost:8080/"
        },
        "id": "A9JUqcbw32ga",
        "outputId": "a7c31859-0c03-4ef7-d4c2-19ef2871e69f"
      },
      "execution_count": 21,
      "outputs": [
        {
          "output_type": "execute_result",
          "data": {
            "text/plain": [
              "array([26.08091831, 29.94454465, 17.84201214, 24.93618171, 19.47093429,\n",
              "       22.80537063, 18.35495068, 14.99114791, 21.42829251, 20.41178014,\n",
              "       20.06350767, 21.07023893,  0.89798106, 22.48280053, 20.13104663,\n",
              "       25.0648268 , 18.1502786 ,  6.85949337, 36.37600121, 18.6292068 ,\n",
              "       25.48547784, 26.73915502, 13.83275071, 24.08799627, 18.74797265,\n",
              "       15.26816612, 22.65176936, 18.83613733, 19.20872599, 19.55646393,\n",
              "       19.75607457, 25.4102311 , 25.66398743, 19.08954727, 15.98409458,\n",
              "       20.20395678, 31.11415439, 21.46758126, 20.88927915, 24.61610469,\n",
              "       14.3639173 , 27.66115688, 36.90256022, 19.39111439, 25.53028291,\n",
              "       17.16168267, 15.89581237, 25.77073544, 19.47182405, 29.48281022,\n",
              "       23.04703774, 31.51044811, 17.71965576, 25.93877924, 35.34097545,\n",
              "       22.88544809, 19.53323477, 29.36920983, 24.64935347, 16.61483534,\n",
              "       25.6015937 , 30.95110896, 28.77521649, 17.88147173, 27.49083386,\n",
              "       13.75847664, 20.30127422, 25.46060471, 28.2532505 , 15.57304091,\n",
              "       20.20724641, 26.14524647, 13.72164484, 22.77984512, 23.13457212,\n",
              "        9.36835797, 21.04574258, 35.69535246, 18.65685744, 12.32276723,\n",
              "       22.74686968, 11.7685937 , 23.83573795, 10.08080278, 22.13026524,\n",
              "       27.50047084, 20.98953435, 25.90300073, 25.76982473, 20.95623179,\n",
              "       23.88847545,  9.49904439, 21.59800368, 20.77468627, 13.00469097,\n",
              "       22.30762148, 22.90779056,  2.38434732, 18.14779756, 17.41716995,\n",
              "       21.47253404, 24.38875593, 11.36608441, 21.54299495, 24.76753888,\n",
              "       13.93145738, 19.67515956, 26.4736686 , 23.05960807, 27.19873699,\n",
              "       12.59039923, 19.59958033, 24.7905566 , 24.09594   , 29.98500013,\n",
              "       18.861406  , 31.78080981, 16.13845515, 20.23649249, 27.61520624,\n",
              "       19.46171416, 26.58235096, 14.71807589, 23.14919786, 25.89946143,\n",
              "       23.55808895, 27.11076625])"
            ]
          },
          "metadata": {},
          "execution_count": 21
        }
      ]
    },
    {
      "cell_type": "code",
      "source": [
        "# Assumptions"
      ],
      "metadata": {
        "id": "lx6gHNsP5oeX"
      },
      "execution_count": 22,
      "outputs": []
    },
    {
      "cell_type": "code",
      "source": [
        "plt.scatter(y_test, lasso_prediction)\n",
        "plt.xlabel('Test truth data')\n",
        "plt.ylabel('Test prediction data')"
      ],
      "metadata": {
        "colab": {
          "base_uri": "https://localhost:8080/",
          "height": 296
        },
        "id": "ohY2u7_t5r93",
        "outputId": "48f5b284-fc1d-4609-f4b3-c625d3dfe183"
      },
      "execution_count": 23,
      "outputs": [
        {
          "output_type": "execute_result",
          "data": {
            "text/plain": [
              "Text(0, 0.5, 'Test prediction data')"
            ]
          },
          "metadata": {},
          "execution_count": 23
        },
        {
          "output_type": "display_data",
          "data": {
            "text/plain": [
              "<Figure size 432x288 with 1 Axes>"
            ],
            "image/png": "[encoded data removed]"
          },
          "metadata": {
            "needs_background": "light"
          }
        }
      ]
    },
    {
      "cell_type": "code",
      "source": [
        "plt.subplots(figsize=(15, 5))\n",
        "sns.regplot(x = y_test, y = lasso_prediction)\n",
        "plt.xlabel('Test truth data')\n",
        "plt.ylabel('Test prediction data')"
      ],
      "metadata": {
        "colab": {
          "base_uri": "https://localhost:8080/",
          "height": 351
        },
        "id": "r_gUBhha5vn8",
        "outputId": "5da91cc3-05c5-43e7-9f1c-194215c2dafd"
      },
      "execution_count": 24,
      "outputs": [
        {
          "output_type": "execute_result",
          "data": {
            "text/plain": [
              "Text(0, 0.5, 'Test prediction data')"
            ]
          },
          "metadata": {},
          "execution_count": 24
        },
        {
          "output_type": "display_data",
          "data": {
            "text/plain": [
              "<Figure size 1080x360 with 1 Axes>"
            ],
            "image/png": "[encoded data removed]"
          },
          "metadata": {
            "needs_background": "light"
          }
        }
      ]
    },
    {
      "cell_type": "code",
      "source": [
        "residuals = y_test - lasso_prediction"
      ],
      "metadata": {
        "id": "S9gxkfn-517p"
      },
      "execution_count": 25,
      "outputs": []
    },
    {
      "cell_type": "code",
      "source": [
        "sns.displot(residuals, kind=\"kde\")"
      ],
      "metadata": {
        "colab": {
          "base_uri": "https://localhost:8080/",
          "height": 386
        },
        "id": "dWCcc6ON6VsI",
        "outputId": "be2143fe-27d4-41a4-b7fe-ac62adc9db27"
      },
      "execution_count": 26,
      "outputs": [
        {
          "output_type": "execute_result",
          "data": {
            "text/plain": [
              "<seaborn.axisgrid.FacetGrid at 0x7f0ba9604350>"
            ]
          },
          "metadata": {},
          "execution_count": 26
        },
        {
          "output_type": "display_data",
          "data": {
            "text/plain": [
              "<Figure size 360x360 with 1 Axes>"
            ],
            "image/png": "[encoded data removed]"
          },
          "metadata": {
            "needs_background": "light"
          }
        }
      ]
    },
    {
      "cell_type": "code",
      "source": [
        "plt.scatter(lasso_prediction, residuals)"
      ],
      "metadata": {
        "colab": {
          "base_uri": "https://localhost:8080/",
          "height": 282
        },
        "id": "i4Go4BoD6i79",
        "outputId": "aeacdcd9-d3d9-4e81-d5c4-246f722d37d0"
      },
      "execution_count": 27,
      "outputs": [
        {
          "output_type": "execute_result",
          "data": {
            "text/plain": [
              "<matplotlib.collections.PathCollection at 0x7f0ba6d46750>"
            ]
          },
          "metadata": {},
          "execution_count": 27
        },
        {
          "output_type": "display_data",
          "data": {
            "text/plain": [
              "<Figure size 432x288 with 1 Axes>"
            ],
            "image/png": "[encoded data removed]"
          },
          "metadata": {
            "needs_background": "light"
          }
        }
      ]
    },
    {
      "cell_type": "code",
      "source": [
        "# Cost function analysis"
      ],
      "metadata": {
        "id": "ripLlV3r6nDV"
      },
      "execution_count": 28,
      "outputs": []
    },
    {
      "cell_type": "code",
      "source": [
        "from sklearn.metrics import mean_squared_error, mean_absolute_error"
      ],
      "metadata": {
        "id": "9g-7JVq86qGP"
      },
      "execution_count": 29,
      "outputs": []
    },
    {
      "cell_type": "code",
      "source": [
        "MSE = mean_squared_error(y_test, lasso_prediction)\n",
        "MAE = mean_absolute_error(y_test, lasso_prediction)\n",
        "\n",
        "print(\"Mean Squared Error\", MSE)\n",
        "print(\"Mean Absolute Error\", MAE)\n",
        "print(\"Root Mean Squared Error\", np.sqrt(MAE))"
      ],
      "metadata": {
        "colab": {
          "base_uri": "https://localhost:8080/"
        },
        "id": "CvyBf96u6rg4",
        "outputId": "3546d593-5252-44cd-f898-c7d45d2e557c"
      },
      "execution_count": 30,
      "outputs": [
        {
          "output_type": "stream",
          "name": "stdout",
          "text": [
            "Mean Squared Error 26.006934373904368\n",
            "Mean Absolute Error 3.5117751415021887\n",
            "Root Mean Squared Error 1.8739730898553983\n"
          ]
        }
      ]
    },
    {
      "cell_type": "code",
      "source": [
        "# Performance metrics"
      ],
      "metadata": {
        "id": "s2srei_u6vxP"
      },
      "execution_count": 31,
      "outputs": []
    },
    {
      "cell_type": "code",
      "source": [
        "from sklearn.metrics import r2_score"
      ],
      "metadata": {
        "id": "4NHjbhlA6762"
      },
      "execution_count": 32,
      "outputs": []
    },
    {
      "cell_type": "code",
      "source": [
        "score = r2_score(y_test, lasso_prediction)\n",
        "adj_score = 1 - ((1-score) * (len(y_test) - 1 ))/( len(y_test) - X_test.shape[1] - 1)"
      ],
      "metadata": {
        "id": "3jadAJI3699H"
      },
      "execution_count": 33,
      "outputs": []
    },
    {
      "cell_type": "code",
      "source": [
        "print('R Squared', score)\n",
        "print('Adjusted R Squared', adj_score)"
      ],
      "metadata": {
        "colab": {
          "base_uri": "https://localhost:8080/"
        },
        "id": "Vn6fk7Bp7D1W",
        "outputId": "05ddabd2-6fe9-472c-e0b8-77d2a176a74f"
      },
      "execution_count": 34,
      "outputs": [
        {
          "output_type": "stream",
          "name": "stdout",
          "text": [
            "R Squared 0.6286163762112531\n",
            "Adjusted R Squared 0.5858908265718398\n"
          ]
        }
      ]
    },
    {
      "cell_type": "code",
      "source": [],
      "metadata": {
        "id": "k3JTXG4_7Ghp"
      },
      "execution_count": 34,
      "outputs": []
    }
  ]
}