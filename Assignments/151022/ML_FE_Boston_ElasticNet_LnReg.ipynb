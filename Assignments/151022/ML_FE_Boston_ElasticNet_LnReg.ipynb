{
  "nbformat": 4,
  "nbformat_minor": 0,
  "metadata": {
    "colab": {
      "provenance": []
    },
    "kernelspec": {
      "name": "python3",
      "display_name": "Python 3"
    },
    "language_info": {
      "name": "python"
    }
  },
  "cells": [
    {
      "cell_type": "markdown",
      "source": [
        "# This task is to understand boston dataset using **ElasticNet Regression** model"
      ],
      "metadata": {
        "id": "br9GZxAa7wnv"
      }
    },
    {
      "cell_type": "code",
      "execution_count": 1,
      "metadata": {
        "id": "xAaagLyc7g8V"
      },
      "outputs": [],
      "source": [
        "# imports\n",
        "\n",
        "import numpy as np\n",
        "import pandas as pd\n",
        "import seaborn as sns\n",
        "import matplotlib.pyplot as plt\n",
        "%matplotlib inline"
      ]
    },
    {
      "cell_type": "code",
      "source": [
        "# importing boston dataset from sklearn\n",
        "\n",
        "from sklearn.datasets import load_boston"
      ],
      "metadata": {
        "id": "jB04YAvp71D8"
      },
      "execution_count": 2,
      "outputs": []
    },
    {
      "cell_type": "code",
      "source": [
        "# Initial data load\n",
        "\n",
        "boston = load_boston()\n",
        "dataset = pd.DataFrame(boston.data, columns=boston.feature_names)"
      ],
      "metadata": {
        "colab": {
          "base_uri": "https://localhost:8080/"
        },
        "id": "7TILg1pQ74HX",
        "outputId": "0f3efaab-4d39-4c91-9218-e9493746e904"
      },
      "execution_count": 3,
      "outputs": [
        {
          "output_type": "stream",
          "name": "stderr",
          "text": [
            "/usr/local/lib/python3.7/dist-packages/sklearn/utils/deprecation.py:87: FutureWarning: Function load_boston is deprecated; `load_boston` is deprecated in 1.0 and will be removed in 1.2.\n",
            "\n",
            "    The Boston housing prices dataset has an ethical problem. You can refer to\n",
            "    the documentation of this function for further details.\n",
            "\n",
            "    The scikit-learn maintainers therefore strongly discourage the use of this\n",
            "    dataset unless the purpose of the code is to study and educate about\n",
            "    ethical issues in data science and machine learning.\n",
            "\n",
            "    In this special case, you can fetch the dataset from the original\n",
            "    source::\n",
            "\n",
            "        import pandas as pd\n",
            "        import numpy as np\n",
            "\n",
            "\n",
            "        data_url = \"http://lib.stat.cmu.edu/datasets/boston\"\n",
            "        raw_df = pd.read_csv(data_url, sep=\"\\s+\", skiprows=22, header=None)\n",
            "        data = np.hstack([raw_df.values[::2, :], raw_df.values[1::2, :2]])\n",
            "        target = raw_df.values[1::2, 2]\n",
            "\n",
            "    Alternative datasets include the California housing dataset (i.e.\n",
            "    :func:`~sklearn.datasets.fetch_california_housing`) and the Ames housing\n",
            "    dataset. You can load the datasets as follows::\n",
            "\n",
            "        from sklearn.datasets import fetch_california_housing\n",
            "        housing = fetch_california_housing()\n",
            "\n",
            "    for the California housing dataset and::\n",
            "\n",
            "        from sklearn.datasets import fetch_openml\n",
            "        housing = fetch_openml(name=\"house_prices\", as_frame=True)\n",
            "\n",
            "    for the Ames housing dataset.\n",
            "    \n",
            "  warnings.warn(msg, category=FutureWarning)\n"
          ]
        }
      ]
    },
    {
      "cell_type": "code",
      "source": [
        "print(boston.DESCR)"
      ],
      "metadata": {
        "colab": {
          "base_uri": "https://localhost:8080/"
        },
        "id": "jNiSALym78Di",
        "outputId": "ed690563-69ed-497f-d835-94c8c1fb5529"
      },
      "execution_count": 4,
      "outputs": [
        {
          "output_type": "stream",
          "name": "stdout",
          "text": [
            ".. _boston_dataset:\n",
            "\n",
            "Boston house prices dataset\n",
            "---------------------------\n",
            "\n",
            "**Data Set Characteristics:**  \n",
            "\n",
            "    :Number of Instances: 506 \n",
            "\n",
            "    :Number of Attributes: 13 numeric/categorical predictive. Median Value (attribute 14) is usually the target.\n",
            "\n",
            "    :Attribute Information (in order):\n",
            "        - CRIM     per capita crime rate by town\n",
            "        - ZN       proportion of residential land zoned for lots over 25,000 sq.ft.\n",
            "        - INDUS    proportion of non-retail business acres per town\n",
            "        - CHAS     Charles River dummy variable (= 1 if tract bounds river; 0 otherwise)\n",
            "        - NOX      nitric oxides concentration (parts per 10 million)\n",
            "        - RM       average number of rooms per dwelling\n",
            "        - AGE      proportion of owner-occupied units built prior to 1940\n",
            "        - DIS      weighted distances to five Boston employment centres\n",
            "        - RAD      index of accessibility to radial highways\n",
            "        - TAX      full-value property-tax rate per $10,000\n",
            "        - PTRATIO  pupil-teacher ratio by town\n",
            "        - B        1000(Bk - 0.63)^2 where Bk is the proportion of black people by town\n",
            "        - LSTAT    % lower status of the population\n",
            "        - MEDV     Median value of owner-occupied homes in $1000's\n",
            "\n",
            "    :Missing Attribute Values: None\n",
            "\n",
            "    :Creator: Harrison, D. and Rubinfeld, D.L.\n",
            "\n",
            "This is a copy of UCI ML housing dataset.\n",
            "https://archive.ics.uci.edu/ml/machine-learning-databases/housing/\n",
            "\n",
            "\n",
            "This dataset was taken from the StatLib library which is maintained at Carnegie Mellon University.\n",
            "\n",
            "The Boston house-price data of Harrison, D. and Rubinfeld, D.L. 'Hedonic\n",
            "prices and the demand for clean air', J. Environ. Economics & Management,\n",
            "vol.5, 81-102, 1978.   Used in Belsley, Kuh & Welsch, 'Regression diagnostics\n",
            "...', Wiley, 1980.   N.B. Various transformations are used in the table on\n",
            "pages 244-261 of the latter.\n",
            "\n",
            "The Boston house-price data has been used in many machine learning papers that address regression\n",
            "problems.   \n",
            "     \n",
            ".. topic:: References\n",
            "\n",
            "   - Belsley, Kuh & Welsch, 'Regression diagnostics: Identifying Influential Data and Sources of Collinearity', Wiley, 1980. 244-261.\n",
            "   - Quinlan,R. (1993). Combining Instance-Based and Model-Based Learning. In Proceedings on the Tenth International Conference of Machine Learning, 236-243, University of Massachusetts, Amherst. Morgan Kaufmann.\n",
            "\n"
          ]
        }
      ]
    },
    {
      "cell_type": "code",
      "source": [
        "dataset['PRICE'] = boston.target"
      ],
      "metadata": {
        "id": "rBtZT9y27_Fb"
      },
      "execution_count": 5,
      "outputs": []
    },
    {
      "cell_type": "code",
      "source": [
        "# Identifying independent and dependent feature\n",
        "\n",
        "X = dataset.iloc[:, :-1]\n",
        "y = dataset.iloc[:, -1]"
      ],
      "metadata": {
        "id": "NkW0dgzg8BdY"
      },
      "execution_count": 6,
      "outputs": []
    },
    {
      "cell_type": "code",
      "source": [
        "# Creating training and testing dataset\n",
        "\n",
        "from sklearn.model_selection import train_test_split\n",
        "\n",
        "X_train, X_test, y_train, y_test = train_test_split(X, y, test_size=0.25, random_state=42)"
      ],
      "metadata": {
        "id": "e0EBDBKE8C9r"
      },
      "execution_count": 7,
      "outputs": []
    },
    {
      "cell_type": "code",
      "source": [
        "# Data analysis on X_train and y_train\n",
        "\n",
        "print(type(X_train), len(X_train), type(y_train), len(y_train))"
      ],
      "metadata": {
        "colab": {
          "base_uri": "https://localhost:8080/"
        },
        "id": "01jRmXnI8E-M",
        "outputId": "ad7982da-0cfe-428c-afc0-13b6f0ab4f55"
      },
      "execution_count": 8,
      "outputs": [
        {
          "output_type": "stream",
          "name": "stdout",
          "text": [
            "<class 'pandas.core.frame.DataFrame'> 379 <class 'pandas.core.series.Series'> 379\n"
          ]
        }
      ]
    },
    {
      "cell_type": "code",
      "source": [
        "# Data analysis on X_test and y_test\n",
        "\n",
        "print(type(X_test), len(X_test), type(y_test), len(y_test))"
      ],
      "metadata": {
        "colab": {
          "base_uri": "https://localhost:8080/"
        },
        "id": "7584E-gG8G4o",
        "outputId": "38fe07d8-c68f-47e3-bb61-18c5aa2f41d8"
      },
      "execution_count": 9,
      "outputs": [
        {
          "output_type": "stream",
          "name": "stdout",
          "text": [
            "<class 'pandas.core.frame.DataFrame'> 127 <class 'pandas.core.series.Series'> 127\n"
          ]
        }
      ]
    },
    {
      "cell_type": "code",
      "source": [
        "## Standardizing the datasets\n",
        "\n",
        "from sklearn.preprocessing import StandardScaler\n",
        "\n",
        "scaler = StandardScaler()"
      ],
      "metadata": {
        "id": "WoE3QKuO8Oyz"
      },
      "execution_count": 10,
      "outputs": []
    },
    {
      "cell_type": "code",
      "source": [
        "# Calculate mean and standard deviation\n",
        "X_train = scaler.fit_transform(X_train)"
      ],
      "metadata": {
        "id": "_KCH9rug8Q3k"
      },
      "execution_count": 11,
      "outputs": []
    },
    {
      "cell_type": "code",
      "source": [
        "X_test = scaler.transform(X_test)"
      ],
      "metadata": {
        "id": "jXTgXA3m8StP"
      },
      "execution_count": 12,
      "outputs": []
    },
    {
      "cell_type": "code",
      "source": [
        "## Model training"
      ],
      "metadata": {
        "id": "3NW_0FjH8UeY"
      },
      "execution_count": 13,
      "outputs": []
    },
    {
      "cell_type": "code",
      "source": [
        "from sklearn.linear_model import ElasticNet"
      ],
      "metadata": {
        "id": "E03D8_4L8V7E"
      },
      "execution_count": 14,
      "outputs": []
    },
    {
      "cell_type": "code",
      "source": [
        "elasticnet = ElasticNet()"
      ],
      "metadata": {
        "id": "kJ7ltRGR8Yft"
      },
      "execution_count": 15,
      "outputs": []
    },
    {
      "cell_type": "code",
      "source": [
        "elasticnet.fit(X_train, y_train)"
      ],
      "metadata": {
        "colab": {
          "base_uri": "https://localhost:8080/"
        },
        "id": "soETqY7m8c5k",
        "outputId": "2566c0c5-6311-47e0-93fa-c87f7f79363f"
      },
      "execution_count": 16,
      "outputs": [
        {
          "output_type": "execute_result",
          "data": {
            "text/plain": [
              "ElasticNet()"
            ]
          },
          "metadata": {},
          "execution_count": 16
        }
      ]
    },
    {
      "cell_type": "code",
      "source": [
        "for index, feature in enumerate(boston.feature_names):\n",
        "  print(feature.ljust(10), \" :\", \"{0:+f}\".format(elasticnet.coef_[index]))"
      ],
      "metadata": {
        "colab": {
          "base_uri": "https://localhost:8080/"
        },
        "id": "kzsqwL4v8mg7",
        "outputId": "f117e4b5-8ac4-4a0a-9f9c-6820f8ef3b65"
      },
      "execution_count": 17,
      "outputs": [
        {
          "output_type": "stream",
          "name": "stdout",
          "text": [
            "CRIM        : -0.419944\n",
            "ZN          : +0.000000\n",
            "INDUS       : -0.182200\n",
            "CHAS        : +0.478972\n",
            "NOX         : -0.223266\n",
            "RM          : +2.529099\n",
            "AGE         : -0.000000\n",
            "DIS         : -0.000000\n",
            "RAD         : -0.000000\n",
            "TAX         : -0.313280\n",
            "PTRATIO     : -1.229945\n",
            "B           : +0.586115\n",
            "LSTAT       : -2.460488\n"
          ]
        }
      ]
    },
    {
      "cell_type": "code",
      "source": [
        "print(elasticnet.intercept_)"
      ],
      "metadata": {
        "colab": {
          "base_uri": "https://localhost:8080/"
        },
        "id": "iX8B_W-W8sZA",
        "outputId": "04ebf286-c1d5-408c-84f5-f8f1921b75a8"
      },
      "execution_count": 18,
      "outputs": [
        {
          "output_type": "stream",
          "name": "stdout",
          "text": [
            "22.90791556728235\n"
          ]
        }
      ]
    },
    {
      "cell_type": "code",
      "source": [
        "elasticnet_prediction = elasticnet.predict(X_test)"
      ],
      "metadata": {
        "id": "u3sqAjIf8xhD"
      },
      "execution_count": 19,
      "outputs": []
    },
    {
      "cell_type": "code",
      "source": [
        "elasticnet_prediction"
      ],
      "metadata": {
        "colab": {
          "base_uri": "https://localhost:8080/"
        },
        "id": "5We3Ymxo8_p3",
        "outputId": "344a4b2e-e47a-4e1c-ef05-db51ea0eed1c"
      },
      "execution_count": 20,
      "outputs": [
        {
          "output_type": "execute_result",
          "data": {
            "text/plain": [
              "array([26.09753157, 30.60422387, 17.93003017, 24.61895326, 19.11266232,\n",
              "       23.03039446, 19.87464954, 16.52415011, 20.85172381, 21.02616687,\n",
              "       23.02494106, 22.41422207,  2.05651025, 22.82528562, 20.9674675 ,\n",
              "       23.58680059, 19.3009252 ,  9.00292299, 34.84991024, 18.28714935,\n",
              "       25.38878581, 26.56898322, 16.08748498, 23.80569019, 18.08664586,\n",
              "       15.62720302, 22.74644433, 17.37057981, 22.25533751, 20.28379197,\n",
              "       21.18879469, 25.10204636, 23.42965489, 18.20040427, 16.59779283,\n",
              "       20.03121359, 29.96118069, 22.06248917, 23.4426774 , 24.45832002,\n",
              "       16.43528678, 27.43333806, 35.26330399, 20.61066675, 25.61286529,\n",
              "       17.10632309, 17.49977047, 25.39527836, 19.35958155, 28.77015846,\n",
              "       23.82296776, 30.77428111, 19.17480092, 25.2103103 , 33.67243746,\n",
              "       21.81069498, 19.06400821, 28.48712918, 24.97604778, 18.62719169,\n",
              "       25.56952442, 30.19209316, 27.77529626, 18.48345773, 26.83497013,\n",
              "       18.09411867, 19.67661968, 25.36762706, 27.69919628, 14.89301583,\n",
              "       21.57818848, 24.35266055, 13.89703503, 22.70312169, 23.21745113,\n",
              "        9.98760872, 21.42404099, 34.32038639, 18.28416313, 13.58244051,\n",
              "       23.11661502, 13.20239565, 24.4318706 , 11.55452437, 22.57680849,\n",
              "       28.56934054, 19.96963028, 25.4268519 , 25.33751285, 20.84468964,\n",
              "       24.32190331,  9.67148274, 21.1740565 , 21.63507193, 12.80297424,\n",
              "       21.68456247, 21.31308119,  4.48307332, 16.49976862, 16.43420628,\n",
              "       22.5377772 , 24.1639289 , 12.43157769, 21.64670423, 24.84478732,\n",
              "       13.87634791, 20.26552394, 25.82755276, 23.27004738, 26.98322411,\n",
              "       12.3575474 , 18.56454452, 24.61427482, 24.6349584 , 28.97399453,\n",
              "       17.1695541 , 30.97841798, 17.41982076, 20.70303657, 27.26571676,\n",
              "       20.52700387, 26.10890541, 10.89206741, 23.12891205, 25.71149642,\n",
              "       23.5664272 , 26.69440721])"
            ]
          },
          "metadata": {},
          "execution_count": 20
        }
      ]
    },
    {
      "cell_type": "code",
      "source": [
        "# Assumptions"
      ],
      "metadata": {
        "id": "ywwiURsK9MKk"
      },
      "execution_count": 21,
      "outputs": []
    },
    {
      "cell_type": "code",
      "source": [
        "plt.scatter(y_test, elasticnet_prediction)\n",
        "plt.xlabel('Test truth data')\n",
        "plt.ylabel('Test prediction data')"
      ],
      "metadata": {
        "colab": {
          "base_uri": "https://localhost:8080/",
          "height": 296
        },
        "id": "xQagEd969QFR",
        "outputId": "c763bcd7-43f3-44aa-e27c-1a67e1b35df5"
      },
      "execution_count": 22,
      "outputs": [
        {
          "output_type": "execute_result",
          "data": {
            "text/plain": [
              "Text(0, 0.5, 'Test prediction data')"
            ]
          },
          "metadata": {},
          "execution_count": 22
        },
        {
          "output_type": "display_data",
          "data": {
            "text/plain": [
              "<Figure size 432x288 with 1 Axes>"
            ],
            "image/png": "[encoded data removed]"
          },
          "metadata": {
            "needs_background": "light"
          }
        }
      ]
    },
    {
      "cell_type": "code",
      "source": [
        "plt.subplots(figsize=(15, 8))\n",
        "sns.regplot(x = y_test, y = elasticnet_prediction)\n",
        "plt.xlabel('Test truth data')\n",
        "plt.ylabel('Test prediction data')"
      ],
      "metadata": {
        "colab": {
          "base_uri": "https://localhost:8080/",
          "height": 514
        },
        "id": "5dPzUF1W9VB6",
        "outputId": "e679b8f9-acdb-4e8f-b26a-eabee5c0426f"
      },
      "execution_count": 23,
      "outputs": [
        {
          "output_type": "execute_result",
          "data": {
            "text/plain": [
              "Text(0, 0.5, 'Test prediction data')"
            ]
          },
          "metadata": {},
          "execution_count": 23
        },
        {
          "output_type": "display_data",
          "data": {
            "text/plain": [
              "<Figure size 1080x576 with 1 Axes>"
            ],
            "image/png": "[encoded data removed]"
          },
          "metadata": {
            "needs_background": "light"
          }
        }
      ]
    },
    {
      "cell_type": "code",
      "source": [
        "residuals = y_test - elasticnet_prediction"
      ],
      "metadata": {
        "id": "90q-MSVc9Zt3"
      },
      "execution_count": 24,
      "outputs": []
    },
    {
      "cell_type": "code",
      "source": [
        "sns.displot(residuals, kind=\"kde\")"
      ],
      "metadata": {
        "colab": {
          "base_uri": "https://localhost:8080/",
          "height": 386
        },
        "id": "4H6E0CF69h9i",
        "outputId": "321ba1f7-ea1e-4838-84ab-f68c071811bc"
      },
      "execution_count": 25,
      "outputs": [
        {
          "output_type": "execute_result",
          "data": {
            "text/plain": [
              "<seaborn.axisgrid.FacetGrid at 0x7fa10be88310>"
            ]
          },
          "metadata": {},
          "execution_count": 25
        },
        {
          "output_type": "display_data",
          "data": {
            "text/plain": [
              "<Figure size 360x360 with 1 Axes>"
            ],
            "image/png": "[encoded data removed]"
          },
          "metadata": {
            "needs_background": "light"
          }
        }
      ]
    },
    {
      "cell_type": "code",
      "source": [
        "plt.scatter(elasticnet_prediction, residuals)"
      ],
      "metadata": {
        "colab": {
          "base_uri": "https://localhost:8080/",
          "height": 283
        },
        "id": "O6CVLrFh9l0N",
        "outputId": "cfdfd098-6971-4723-b21a-109263769817"
      },
      "execution_count": 26,
      "outputs": [
        {
          "output_type": "execute_result",
          "data": {
            "text/plain": [
              "<matplotlib.collections.PathCollection at 0x7fa1095d97d0>"
            ]
          },
          "metadata": {},
          "execution_count": 26
        },
        {
          "output_type": "display_data",
          "data": {
            "text/plain": [
              "<Figure size 432x288 with 1 Axes>"
            ],
            "image/png": "[encoded data removed]"
          },
          "metadata": {
            "needs_background": "light"
          }
        }
      ]
    },
    {
      "cell_type": "code",
      "source": [
        "# Cost function analysis"
      ],
      "metadata": {
        "id": "-NH3BiE49qg8"
      },
      "execution_count": 27,
      "outputs": []
    },
    {
      "cell_type": "code",
      "source": [
        "from sklearn.metrics import mean_squared_error, mean_absolute_error"
      ],
      "metadata": {
        "id": "rh-udZR3-HYy"
      },
      "execution_count": 28,
      "outputs": []
    },
    {
      "cell_type": "code",
      "source": [
        "MSE = mean_squared_error(y_test, elasticnet_prediction)\n",
        "MAE = mean_absolute_error(y_test, elasticnet_prediction)\n",
        "\n",
        "print(\"Mean Squared Error\", MSE)\n",
        "print(\"Mean Absolute Error\", MAE)\n",
        "print(\"Root Mean Squared Error\", np.sqrt(MAE))"
      ],
      "metadata": {
        "colab": {
          "base_uri": "https://localhost:8080/"
        },
        "id": "h4JzaCM4-JD_",
        "outputId": "dffb5d95-e705-4b8d-90ce-2e13b13624fb"
      },
      "execution_count": 29,
      "outputs": [
        {
          "output_type": "stream",
          "name": "stdout",
          "text": [
            "Mean Squared Error 26.54097051831717\n",
            "Mean Absolute Error 3.4604535710209277\n",
            "Root Mean Squared Error 1.8602294404241988\n"
          ]
        }
      ]
    },
    {
      "cell_type": "code",
      "source": [
        "# Performance metrics"
      ],
      "metadata": {
        "id": "eekF20fp-O0u"
      },
      "execution_count": 30,
      "outputs": []
    },
    {
      "cell_type": "code",
      "source": [
        "from sklearn.metrics import r2_score"
      ],
      "metadata": {
        "id": "y08iu4Do-c0V"
      },
      "execution_count": 31,
      "outputs": []
    },
    {
      "cell_type": "code",
      "source": [
        "score = r2_score(y_test, elasticnet_prediction)\n",
        "adj_score = 1 - ((1-score) * (len(y_test) - 1 ))/( len(y_test) - X_test.shape[1] - 1)"
      ],
      "metadata": {
        "id": "KwRHjIpw-ewJ"
      },
      "execution_count": 32,
      "outputs": []
    },
    {
      "cell_type": "code",
      "source": [
        "print('R Squared', score)\n",
        "print('Adjusted R Squared', adj_score)"
      ],
      "metadata": {
        "colab": {
          "base_uri": "https://localhost:8080/"
        },
        "id": "IsnCnbds-gnz",
        "outputId": "ab3c53ea-1b39-4575-edd8-0dc936d6acba"
      },
      "execution_count": 33,
      "outputs": [
        {
          "output_type": "stream",
          "name": "stdout",
          "text": [
            "R Squared 0.6209902455918286\n",
            "Adjusted R Squared 0.5773873534917735\n"
          ]
        }
      ]
    },
    {
      "cell_type": "code",
      "source": [],
      "metadata": {
        "id": "w4BljS88-lfK"
      },
      "execution_count": 33,
      "outputs": []
    }
  ]
}