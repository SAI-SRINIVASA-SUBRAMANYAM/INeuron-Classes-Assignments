{
  "nbformat": 4,
  "nbformat_minor": 0,
  "metadata": {
    "colab": {
      "provenance": []
    },
    "kernelspec": {
      "name": "python3",
      "display_name": "Python 3"
    },
    "language_info": {
      "name": "python"
    }
  },
  "cells": [
    {
      "cell_type": "markdown",
      "source": [
        "<h1>This task is to understand algerian forest fire dataset using <b>ElasticNet Regression</b> model</h1>"
      ],
      "metadata": {
        "id": "0aIOvoUii3-X"
      }
    },
    {
      "cell_type": "code",
      "execution_count": 1,
      "metadata": {
        "id": "eLoqhc3Yiuex"
      },
      "outputs": [],
      "source": [
        "# import statements\n",
        "\n",
        "import pandas as pd\n",
        "import numpy as np\n",
        "import seaborn as sns\n",
        "import matplotlib.pyplot as plt\n",
        "%matplotlib inline\n",
        "from sklearn.model_selection import train_test_split\n"
      ]
    },
    {
      "cell_type": "code",
      "source": [
        "# Initializing the dataset \n",
        "\n",
        "DATA = \"https://raw.githubusercontent.com/SAI-SRINIVASA-SUBRAMANYAM/INeuron-Classes-Assignments/main/Assignments/151022/forestfires.csv\""
      ],
      "metadata": {
        "id": "48YRll0vjGcj"
      },
      "execution_count": 2,
      "outputs": []
    },
    {
      "cell_type": "code",
      "source": [
        "# Reading the dataset using read csv function\n",
        "\n",
        "dataset = pd.read_csv(DATA)"
      ],
      "metadata": {
        "id": "sq9rlhpNjS9X"
      },
      "execution_count": 3,
      "outputs": []
    },
    {
      "cell_type": "code",
      "source": [
        "COLUMN_DESCRIPTIONS = {\n",
        "    \"FFMC\": \"Fine Fuel Moisture Code\", \n",
        "    \"DMC\": \"Duff Moisture Code\",\n",
        "    \"DC\": \"Drought Code\",\n",
        "    \"ISI\": \"The ISI is a score that correlates with fire velocity spread\",\n",
        "    \"temp\": \"Temperature in Celsius degrees\",\n",
        "    \"RH\": \"Relative humidity in %\",\n",
        "    \"wind\": \"Wind speed in km/h\",\n",
        "    \"rain\": \"Outside rain in mm/m2\",\n",
        "    \"area\": \"The burned area of the forest in ha\"\n",
        "}"
      ],
      "metadata": {
        "id": "Fw0lC0A9jUHa"
      },
      "execution_count": 4,
      "outputs": []
    },
    {
      "cell_type": "code",
      "source": [
        "# Data preview\n",
        "\n",
        "dataset.head()"
      ],
      "metadata": {
        "colab": {
          "base_uri": "https://localhost:8080/",
          "height": 206
        },
        "id": "N1r_lECajVMB",
        "outputId": "36b08d3a-eb4b-4678-f2fd-58d8413804cb"
      },
      "execution_count": 5,
      "outputs": [
        {
          "output_type": "execute_result",
          "data": {
            "text/plain": [
              "   X  Y month  day  FFMC   DMC     DC  ISI  temp  RH  wind  rain  area\n",
              "0  7  5   mar  fri  86.2  26.2   94.3  5.1   8.2  51   6.7   0.0   0.0\n",
              "1  7  4   oct  tue  90.6  35.4  669.1  6.7  18.0  33   0.9   0.0   0.0\n",
              "2  7  4   oct  sat  90.6  43.7  686.9  6.7  14.6  33   1.3   0.0   0.0\n",
              "3  8  6   mar  fri  91.7  33.3   77.5  9.0   8.3  97   4.0   0.2   0.0\n",
              "4  8  6   mar  sun  89.3  51.3  102.2  9.6  11.4  99   1.8   0.0   0.0"
            ],
            "text/html": [
              "\n",
              "  <div id=\"df-d8e38490-4a7c-4817-9746-dde459ce0d35\">\n",
              "    <div class=\"colab-df-container\">\n",
              "      <div>\n",
              "<style scoped>\n",
              "    .dataframe tbody tr th:only-of-type {\n",
              "        vertical-align: middle;\n",
              "    }\n",
              "\n",
              "    .dataframe tbody tr th {\n",
              "        vertical-align: top;\n",
              "    }\n",
              "\n",
              "    .dataframe thead th {\n",
              "        text-align: right;\n",
              "    }\n",
              "</style>\n",
              "<table border=\"1\" class=\"dataframe\">\n",
              "  <thead>\n",
              "    <tr style=\"text-align: right;\">\n",
              "      <th></th>\n",
              "      <th>X</th>\n",
              "      <th>Y</th>\n",
              "      <th>month</th>\n",
              "      <th>day</th>\n",
              "      <th>FFMC</th>\n",
              "      <th>DMC</th>\n",
              "      <th>DC</th>\n",
              "      <th>ISI</th>\n",
              "      <th>temp</th>\n",
              "      <th>RH</th>\n",
              "      <th>wind</th>\n",
              "      <th>rain</th>\n",
              "      <th>area</th>\n",
              "    </tr>\n",
              "  </thead>\n",
              "  <tbody>\n",
              "    <tr>\n",
              "      <th>0</th>\n",
              "      <td>7</td>\n",
              "      <td>5</td>\n",
              "      <td>mar</td>\n",
              "      <td>fri</td>\n",
              "      <td>86.2</td>\n",
              "      <td>26.2</td>\n",
              "      <td>94.3</td>\n",
              "      <td>5.1</td>\n",
              "      <td>8.2</td>\n",
              "      <td>51</td>\n",
              "      <td>6.7</td>\n",
              "      <td>0.0</td>\n",
              "      <td>0.0</td>\n",
              "    </tr>\n",
              "    <tr>\n",
              "      <th>1</th>\n",
              "      <td>7</td>\n",
              "      <td>4</td>\n",
              "      <td>oct</td>\n",
              "      <td>tue</td>\n",
              "      <td>90.6</td>\n",
              "      <td>35.4</td>\n",
              "      <td>669.1</td>\n",
              "      <td>6.7</td>\n",
              "      <td>18.0</td>\n",
              "      <td>33</td>\n",
              "      <td>0.9</td>\n",
              "      <td>0.0</td>\n",
              "      <td>0.0</td>\n",
              "    </tr>\n",
              "    <tr>\n",
              "      <th>2</th>\n",
              "      <td>7</td>\n",
              "      <td>4</td>\n",
              "      <td>oct</td>\n",
              "      <td>sat</td>\n",
              "      <td>90.6</td>\n",
              "      <td>43.7</td>\n",
              "      <td>686.9</td>\n",
              "      <td>6.7</td>\n",
              "      <td>14.6</td>\n",
              "      <td>33</td>\n",
              "      <td>1.3</td>\n",
              "      <td>0.0</td>\n",
              "      <td>0.0</td>\n",
              "    </tr>\n",
              "    <tr>\n",
              "      <th>3</th>\n",
              "      <td>8</td>\n",
              "      <td>6</td>\n",
              "      <td>mar</td>\n",
              "      <td>fri</td>\n",
              "      <td>91.7</td>\n",
              "      <td>33.3</td>\n",
              "      <td>77.5</td>\n",
              "      <td>9.0</td>\n",
              "      <td>8.3</td>\n",
              "      <td>97</td>\n",
              "      <td>4.0</td>\n",
              "      <td>0.2</td>\n",
              "      <td>0.0</td>\n",
              "    </tr>\n",
              "    <tr>\n",
              "      <th>4</th>\n",
              "      <td>8</td>\n",
              "      <td>6</td>\n",
              "      <td>mar</td>\n",
              "      <td>sun</td>\n",
              "      <td>89.3</td>\n",
              "      <td>51.3</td>\n",
              "      <td>102.2</td>\n",
              "      <td>9.6</td>\n",
              "      <td>11.4</td>\n",
              "      <td>99</td>\n",
              "      <td>1.8</td>\n",
              "      <td>0.0</td>\n",
              "      <td>0.0</td>\n",
              "    </tr>\n",
              "  </tbody>\n",
              "</table>\n",
              "</div>\n",
              "      <button class=\"colab-df-convert\" onclick=\"convertToInteractive('df-d8e38490-4a7c-4817-9746-dde459ce0d35')\"\n",
              "              title=\"Convert this dataframe to an interactive table.\"\n",
              "              style=\"display:none;\">\n",
              "        \n",
              "  <svg xmlns=\"http://www.w3.org/2000/svg\" height=\"24px\"viewBox=\"0 0 24 24\"\n",
              "       width=\"24px\">\n",
              "    <path d=\"M0 0h24v24H0V0z\" fill=\"none\"/>\n",
              "    <path d=\"M18.56 5.44l.94 2.06.94-2.06 2.06-.94-2.06-.94-.94-2.06-.94 2.06-2.06.94zm-11 1L8.5 8.5l.94-2.06 2.06-.94-2.06-.94L8.5 2.5l-.94 2.06-2.06.94zm10 10l.94 2.06.94-2.06 2.06-.94-2.06-.94-.94-2.06-.94 2.06-2.06.94z\"/><path d=\"M17.41 7.96l-1.37-1.37c-.4-.4-.92-.59-1.43-.59-.52 0-1.04.2-1.43.59L10.3 9.45l-7.72 7.72c-.78.78-.78 2.05 0 2.83L4 21.41c.39.39.9.59 1.41.59.51 0 1.02-.2 1.41-.59l7.78-7.78 2.81-2.81c.8-.78.8-2.07 0-2.86zM5.41 20L4 18.59l7.72-7.72 1.47 1.35L5.41 20z\"/>\n",
              "  </svg>\n",
              "      </button>\n",
              "      \n",
              "  <style>\n",
              "    .colab-df-container {\n",
              "      display:flex;\n",
              "      flex-wrap:wrap;\n",
              "      gap: 12px;\n",
              "    }\n",
              "\n",
              "    .colab-df-convert {\n",
              "      background-color: #E8F0FE;\n",
              "      border: none;\n",
              "      border-radius: 50%;\n",
              "      cursor: pointer;\n",
              "      display: none;\n",
              "      fill: #1967D2;\n",
              "      height: 32px;\n",
              "      padding: 0 0 0 0;\n",
              "      width: 32px;\n",
              "    }\n",
              "\n",
              "    .colab-df-convert:hover {\n",
              "      background-color: #E2EBFA;\n",
              "      box-shadow: 0px 1px 2px rgba(60, 64, 67, 0.3), 0px 1px 3px 1px rgba(60, 64, 67, 0.15);\n",
              "      fill: #174EA6;\n",
              "    }\n",
              "\n",
              "    [theme=dark] .colab-df-convert {\n",
              "      background-color: #3B4455;\n",
              "      fill: #D2E3FC;\n",
              "    }\n",
              "\n",
              "    [theme=dark] .colab-df-convert:hover {\n",
              "      background-color: #434B5C;\n",
              "      box-shadow: 0px 1px 3px 1px rgba(0, 0, 0, 0.15);\n",
              "      filter: drop-shadow(0px 1px 2px rgba(0, 0, 0, 0.3));\n",
              "      fill: #FFFFFF;\n",
              "    }\n",
              "  </style>\n",
              "\n",
              "      <script>\n",
              "        const buttonEl =\n",
              "          document.querySelector('#df-d8e38490-4a7c-4817-9746-dde459ce0d35 button.colab-df-convert');\n",
              "        buttonEl.style.display =\n",
              "          google.colab.kernel.accessAllowed ? 'block' : 'none';\n",
              "\n",
              "        async function convertToInteractive(key) {\n",
              "          const element = document.querySelector('#df-d8e38490-4a7c-4817-9746-dde459ce0d35');\n",
              "          const dataTable =\n",
              "            await google.colab.kernel.invokeFunction('convertToInteractive',\n",
              "                                                     [key], {});\n",
              "          if (!dataTable) return;\n",
              "\n",
              "          const docLinkHtml = 'Like what you see? Visit the ' +\n",
              "            '<a target=\"_blank\" href=https://colab.research.google.com/notebooks/data_table.ipynb>data table notebook</a>'\n",
              "            + ' to learn more about interactive tables.';\n",
              "          element.innerHTML = '';\n",
              "          dataTable['output_type'] = 'display_data';\n",
              "          await google.colab.output.renderOutput(dataTable, element);\n",
              "          const docLink = document.createElement('div');\n",
              "          docLink.innerHTML = docLinkHtml;\n",
              "          element.appendChild(docLink);\n",
              "        }\n",
              "      </script>\n",
              "    </div>\n",
              "  </div>\n",
              "  "
            ]
          },
          "metadata": {},
          "execution_count": 5
        }
      ]
    },
    {
      "cell_type": "code",
      "source": [
        "plt.subplots(figsize=(20, 8))\n",
        "plt.scatter(dataset['FFMC'], dataset['temp'])\n",
        "plt.xlabel(COLUMN_DESCRIPTIONS.get('FFMC'))\n",
        "plt.ylabel(COLUMN_DESCRIPTIONS.get('temp'))\n"
      ],
      "metadata": {
        "colab": {
          "base_uri": "https://localhost:8080/",
          "height": 514
        },
        "id": "KeXBwdgGjWOi",
        "outputId": "1767b126-e462-4752-a0f3-66873b83ffb3"
      },
      "execution_count": 6,
      "outputs": [
        {
          "output_type": "execute_result",
          "data": {
            "text/plain": [
              "Text(0, 0.5, 'Temperature in Celsius degrees')"
            ]
          },
          "metadata": {},
          "execution_count": 6
        },
        {
          "output_type": "display_data",
          "data": {
            "text/plain": [
              "<Figure size 1440x576 with 1 Axes>"
            ],
            "image/png": "[encoded data removed]"
          },
          "metadata": {
            "needs_background": "light"
          }
        }
      ]
    },
    {
      "cell_type": "code",
      "source": [
        "plt.subplots(figsize=(20, 8))\n",
        "plt.scatter(dataset['RH'], dataset['temp'])\n",
        "plt.xlabel(COLUMN_DESCRIPTIONS.get('RH'))\n",
        "plt.ylabel(COLUMN_DESCRIPTIONS.get('temp'))\n"
      ],
      "metadata": {
        "colab": {
          "base_uri": "https://localhost:8080/",
          "height": 514
        },
        "id": "tJGOBXL5jXwW",
        "outputId": "c895fae4-e798-41b1-d8bb-e201b87c1d71"
      },
      "execution_count": 7,
      "outputs": [
        {
          "output_type": "execute_result",
          "data": {
            "text/plain": [
              "Text(0, 0.5, 'Temperature in Celsius degrees')"
            ]
          },
          "metadata": {},
          "execution_count": 7
        },
        {
          "output_type": "display_data",
          "data": {
            "text/plain": [
              "<Figure size 1440x576 with 1 Axes>"
            ],
            "image/png": "[encoded data removed]"
          },
          "metadata": {
            "needs_background": "light"
          }
        }
      ]
    },
    {
      "cell_type": "code",
      "source": [
        "sns.scatterplot( x = dataset[\"RH\"], y = dataset[\"FFMC\"])\n",
        "\n",
        "# independent variables are uniformly distributed"
      ],
      "metadata": {
        "colab": {
          "base_uri": "https://localhost:8080/",
          "height": 300
        },
        "id": "r3QgKrgYjZcJ",
        "outputId": "af613ce6-c8b7-4f47-9568-c2048775089f"
      },
      "execution_count": 8,
      "outputs": [
        {
          "output_type": "execute_result",
          "data": {
            "text/plain": [
              "<matplotlib.axes._subplots.AxesSubplot at 0x7fbb288ee6d0>"
            ]
          },
          "metadata": {},
          "execution_count": 8
        },
        {
          "output_type": "display_data",
          "data": {
            "text/plain": [
              "<Figure size 432x288 with 1 Axes>"
            ],
            "image/png": "[encoded data removed]"
          },
          "metadata": {
            "needs_background": "light"
          }
        }
      ]
    },
    {
      "cell_type": "code",
      "source": [
        "# Creating training models"
      ],
      "metadata": {
        "id": "7i6e1zETjbJW"
      },
      "execution_count": 9,
      "outputs": []
    },
    {
      "cell_type": "code",
      "source": [
        "### Identifying dependent and independent feature\n",
        "\n",
        "X = dataset[['FFMC', 'RH']]\n",
        "y = dataset['temp']"
      ],
      "metadata": {
        "id": "JkVWqcavjdF1"
      },
      "execution_count": 10,
      "outputs": []
    },
    {
      "cell_type": "code",
      "source": [
        "# Model selection"
      ],
      "metadata": {
        "id": "5Cf1AxR2jfCC"
      },
      "execution_count": 11,
      "outputs": []
    },
    {
      "cell_type": "code",
      "source": [
        "from sklearn.model_selection import train_test_split"
      ],
      "metadata": {
        "id": "OgJVJryujiXA"
      },
      "execution_count": 12,
      "outputs": []
    },
    {
      "cell_type": "code",
      "source": [
        "X_train, X_test, y_train, y_test = train_test_split(X, y, test_size=0.33, random_state=10)"
      ],
      "metadata": {
        "id": "InDpxXVXjjTw"
      },
      "execution_count": 13,
      "outputs": []
    },
    {
      "cell_type": "code",
      "source": [
        "# Standardize the dataset"
      ],
      "metadata": {
        "id": "nxJc6dPrjk_c"
      },
      "execution_count": 14,
      "outputs": []
    },
    {
      "cell_type": "code",
      "source": [
        "from sklearn.preprocessing import StandardScaler"
      ],
      "metadata": {
        "id": "ssm9yrMXjmaR"
      },
      "execution_count": 15,
      "outputs": []
    },
    {
      "cell_type": "code",
      "source": [
        "scaler = StandardScaler()"
      ],
      "metadata": {
        "id": "YRbfP7AcjnsK"
      },
      "execution_count": 16,
      "outputs": []
    },
    {
      "cell_type": "code",
      "source": [
        "# Performing fit and transformation on train and test data\n",
        "\n",
        "X_train = scaler.fit_transform(X_train)\n",
        "X_test = scaler.transform(X_test)"
      ],
      "metadata": {
        "id": "Ue9pbpyJjow1"
      },
      "execution_count": 17,
      "outputs": []
    },
    {
      "cell_type": "code",
      "source": [
        "## Model training"
      ],
      "metadata": {
        "id": "3n3CKFyvjp9W"
      },
      "execution_count": 18,
      "outputs": []
    },
    {
      "cell_type": "code",
      "source": [
        "from sklearn.linear_model import ElasticNet"
      ],
      "metadata": {
        "id": "-bXPob_wjrU7"
      },
      "execution_count": 19,
      "outputs": []
    },
    {
      "cell_type": "code",
      "source": [
        "elasticnet = ElasticNet()"
      ],
      "metadata": {
        "id": "9c3zAtqwjtW8"
      },
      "execution_count": 20,
      "outputs": []
    },
    {
      "cell_type": "code",
      "source": [
        "elasticnet.fit(X_train, y_train)"
      ],
      "metadata": {
        "colab": {
          "base_uri": "https://localhost:8080/"
        },
        "id": "4exrQzfNjxmk",
        "outputId": "ca5ebc47-4041-4d49-b6d3-8bf809922202"
      },
      "execution_count": 21,
      "outputs": [
        {
          "output_type": "execute_result",
          "data": {
            "text/plain": [
              "ElasticNet()"
            ]
          },
          "metadata": {},
          "execution_count": 21
        }
      ]
    },
    {
      "cell_type": "code",
      "source": [
        "## print cofficient and intercept\n",
        "\n",
        "print(\"Coefficient: \", elasticnet.coef_)\n",
        "print(\"Intercept: \", elasticnet.intercept_)"
      ],
      "metadata": {
        "colab": {
          "base_uri": "https://localhost:8080/"
        },
        "id": "vEwMgbQej4Yt",
        "outputId": "81249f46-22e5-46b3-e3f0-4bfc57bc5aec"
      },
      "execution_count": 22,
      "outputs": [
        {
          "output_type": "stream",
          "name": "stdout",
          "text": [
            "Coefficient:  [ 0.98120312 -1.70985693]\n",
            "Intercept:  19.002601156069364\n"
          ]
        }
      ]
    },
    {
      "cell_type": "code",
      "source": [
        "#Prediction for test data\n",
        "elasticnet_prediction = elasticnet.predict(X_test)"
      ],
      "metadata": {
        "id": "LiBbXCzIj6a-"
      },
      "execution_count": 23,
      "outputs": []
    },
    {
      "cell_type": "code",
      "source": [
        "elasticnet_prediction"
      ],
      "metadata": {
        "colab": {
          "base_uri": "https://localhost:8080/"
        },
        "id": "34-i35e9j_IO",
        "outputId": "d85af1b1-035e-46f4-db11-02b785fe9834"
      },
      "execution_count": 24,
      "outputs": [
        {
          "output_type": "execute_result",
          "data": {
            "text/plain": [
              "array([21.24962062, 19.22245352, 19.43888854, 18.33172271, 16.35598955,\n",
              "       14.48595154, 20.96891258, 19.24102474, 19.76675083, 15.7338151 ,\n",
              "       20.24822756, 20.90960665, 20.88675575, 21.54248034, 20.58464924,\n",
              "       16.16240544, 21.07606017, 19.29245868, 20.4303474 , 19.76889068,\n",
              "       21.24174864, 18.51315514, 14.61381019, 19.38103505, 15.50454101,\n",
              "       17.97886966, 20.58464924, 18.26103014, 20.21887949, 20.57318497,\n",
              "       17.97672981, 21.41462169, 17.98169691, 14.99027918, 21.30319442,\n",
              "       19.9360316 , 14.78454339, 14.6323814 , 18.65530531, 18.659585  ,\n",
              "       17.78887784, 15.94169073, 19.5088937 , 17.42670037, 19.24102474,\n",
              "       16.34957001, 21.29104274, 19.17101958, 18.43887029, 19.28963143,\n",
              "       14.52385901, 19.20602216, 18.95244471, 22.51605539, 20.04959872,\n",
              "       21.97749022, 21.24748078, 20.57960451, 20.31318799, 21.21033835,\n",
              "       20.95462106, 20.77104878, 21.55677186, 19.44102839, 19.93389175,\n",
              "       20.35674996, 19.06387199, 21.09891107, 19.97317402, 21.19176714,\n",
              "       17.26101189, 19.60174976, 21.31748594, 21.03318561, 21.42677337,\n",
              "       18.17887331, 17.91100435, 21.22890956,  7.8553411 , 20.42675512,\n",
              "       18.33172271, 15.33602528, 20.44960602, 19.63889219, 21.69318989,\n",
              "       20.35033042, 12.5509531 , 22.02533188, 17.21317023, 19.73174826,\n",
              "       18.9110226 , 19.91532054, 20.25678695, 19.34175278, 15.33953994,\n",
              "       21.21033835, 14.85095626, 19.05317276, 21.11962213, 17.30098157,\n",
              "       18.52171453, 21.11320259, 20.16461829, 20.09675298, 21.54034049,\n",
              "       19.39601398, 18.22243527, 20.23890314, 21.91176475, 17.15600415,\n",
              "       18.62458242, 20.25388207, 18.96245654, 19.73174826, 22.63321481,\n",
              "       19.96102235, 19.70530506, 19.34458003, 22.41463994, 20.58464924,\n",
              "       20.57104513, 19.28030701, 16.53956184, 19.13173731, 21.19390698,\n",
              "       18.95175731, 17.81600843, 16.40528365, 20.39175254, 22.08249796,\n",
              "       17.01385399, 21.92391642, 16.92168533, 15.92739921, 20.09461313,\n",
              "       20.46389754, 20.74246574, 18.74028939, 18.4574415 , 19.73174826,\n",
              "       20.5831968 , 17.12956096, 20.67819271, 20.12174373, 21.55677186,\n",
              "       21.00605501, 18.07814526, 20.92389817, 16.83884109, 22.22105583,\n",
              "       19.73174826, 16.90884625, 19.34244019, 20.54032224,  7.10102831,\n",
              "       17.93316785, 15.49598162, 16.90456656, 17.17671521, 20.13603525,\n",
              "       21.87890202, 10.94389459, 17.21110802, 15.31393941, 18.34242194,\n",
              "       20.58464924, 19.13173731, 19.62819296, 21.6889102 , 16.29813607,\n",
              "       17.58314205])"
            ]
          },
          "metadata": {},
          "execution_count": 24
        }
      ]
    },
    {
      "cell_type": "code",
      "source": [
        "# Assumptions"
      ],
      "metadata": {
        "id": "IZQrg_n0kINE"
      },
      "execution_count": 25,
      "outputs": []
    },
    {
      "cell_type": "code",
      "source": [
        "plt.scatter(y_test, elasticnet_prediction)\n",
        "plt.xlabel('Test truth data')\n",
        "plt.ylabel('Test predicted data')"
      ],
      "metadata": {
        "colab": {
          "base_uri": "https://localhost:8080/",
          "height": 296
        },
        "id": "76tPs4RbkKPW",
        "outputId": "33b9ee6d-7756-47c7-dcdc-25d537650295"
      },
      "execution_count": 26,
      "outputs": [
        {
          "output_type": "execute_result",
          "data": {
            "text/plain": [
              "Text(0, 0.5, 'Test predicted data')"
            ]
          },
          "metadata": {},
          "execution_count": 26
        },
        {
          "output_type": "display_data",
          "data": {
            "text/plain": [
              "<Figure size 432x288 with 1 Axes>"
            ],
            "image/png": "[encoded data removed]"
          },
          "metadata": {
            "needs_background": "light"
          }
        }
      ]
    },
    {
      "cell_type": "code",
      "source": [
        "sns.regplot(x = y_test, y = elasticnet_prediction)\n",
        "plt.xlabel('Test truth data')\n",
        "plt.ylabel('Test predicted data')"
      ],
      "metadata": {
        "colab": {
          "base_uri": "https://localhost:8080/",
          "height": 296
        },
        "id": "WpYmQ4xckN7o",
        "outputId": "b4fde2bf-a9b9-4579-d415-844f1a6f4a88"
      },
      "execution_count": 27,
      "outputs": [
        {
          "output_type": "execute_result",
          "data": {
            "text/plain": [
              "Text(0, 0.5, 'Test predicted data')"
            ]
          },
          "metadata": {},
          "execution_count": 27
        },
        {
          "output_type": "display_data",
          "data": {
            "text/plain": [
              "<Figure size 432x288 with 1 Axes>"
            ],
            "image/png": "[encoded data removed]"
          },
          "metadata": {
            "needs_background": "light"
          }
        }
      ]
    },
    {
      "cell_type": "code",
      "source": [
        "# residuals\n",
        "\n",
        "residuals = y_test - elasticnet_prediction"
      ],
      "metadata": {
        "id": "HGHXWlcRkQm8"
      },
      "execution_count": 28,
      "outputs": []
    },
    {
      "cell_type": "code",
      "source": [
        "sns.displot(residuals, kind=\"kde\")"
      ],
      "metadata": {
        "colab": {
          "base_uri": "https://localhost:8080/",
          "height": 386
        },
        "id": "HqX-L2nHkWrk",
        "outputId": "b62cfb71-ea39-45e6-ef07-cf72aaf36943"
      },
      "execution_count": 29,
      "outputs": [
        {
          "output_type": "execute_result",
          "data": {
            "text/plain": [
              "<seaborn.axisgrid.FacetGrid at 0x7fbb28e37510>"
            ]
          },
          "metadata": {},
          "execution_count": 29
        },
        {
          "output_type": "display_data",
          "data": {
            "text/plain": [
              "<Figure size 360x360 with 1 Axes>"
            ],
            "image/png": "[encoded data removed]"
          },
          "metadata": {
            "needs_background": "light"
          }
        }
      ]
    },
    {
      "cell_type": "code",
      "source": [
        "plt.scatter(elasticnet_prediction, residuals)"
      ],
      "metadata": {
        "colab": {
          "base_uri": "https://localhost:8080/",
          "height": 282
        },
        "id": "hOpNR2hDkeJb",
        "outputId": "03ff084f-105b-4a29-c048-102073821bac"
      },
      "execution_count": 30,
      "outputs": [
        {
          "output_type": "execute_result",
          "data": {
            "text/plain": [
              "<matplotlib.collections.PathCollection at 0x7fbb25b95290>"
            ]
          },
          "metadata": {},
          "execution_count": 30
        },
        {
          "output_type": "display_data",
          "data": {
            "text/plain": [
              "<Figure size 432x288 with 1 Axes>"
            ],
            "image/png": "[encoded data removed]"
          },
          "metadata": {
            "needs_background": "light"
          }
        }
      ]
    },
    {
      "cell_type": "code",
      "source": [
        "# Cost function analysis"
      ],
      "metadata": {
        "id": "ZBXbpmCTkhJ8"
      },
      "execution_count": 31,
      "outputs": []
    },
    {
      "cell_type": "code",
      "source": [
        "from sklearn.metrics import mean_squared_error, mean_absolute_error"
      ],
      "metadata": {
        "id": "Ft67387Skj7g"
      },
      "execution_count": 32,
      "outputs": []
    },
    {
      "cell_type": "code",
      "source": [
        "MSE = mean_squared_error(y_test, elasticnet_prediction)\n",
        "MAE = mean_squared_error(y_test, elasticnet_prediction)\n",
        "print(\"Mean Squared Error\", MSE)\n",
        "print(\"Mean Absolute Error\", MAE)\n",
        "print(\"Root Mean Square Error\", np.sqrt(MSE))"
      ],
      "metadata": {
        "colab": {
          "base_uri": "https://localhost:8080/"
        },
        "id": "BNk3DYfpkl7W",
        "outputId": "10e431a8-aeeb-4593-e8b2-251d10b10e24"
      },
      "execution_count": 33,
      "outputs": [
        {
          "output_type": "stream",
          "name": "stdout",
          "text": [
            "Mean Squared Error 27.460634545630747\n",
            "Mean Absolute Error 27.460634545630747\n",
            "Root Mean Square Error 5.240289547880989\n"
          ]
        }
      ]
    },
    {
      "cell_type": "code",
      "source": [
        "# Performance metrics"
      ],
      "metadata": {
        "id": "19SQAwdMkpMA"
      },
      "execution_count": 34,
      "outputs": []
    },
    {
      "cell_type": "code",
      "source": [
        "from sklearn.metrics import r2_score"
      ],
      "metadata": {
        "id": "Mlfwvtg4kq9C"
      },
      "execution_count": 35,
      "outputs": []
    },
    {
      "cell_type": "code",
      "source": [
        "score = r2_score(y_test, elasticnet_prediction)\n",
        "adj_score = 1 - (1-score)*(len(y_test)-1)/(len(y_test)-X_test.shape[1]-1)"
      ],
      "metadata": {
        "id": "7wPynKLLktZr"
      },
      "execution_count": 36,
      "outputs": []
    },
    {
      "cell_type": "code",
      "source": [
        "print(\"R Squared: \", score)\n",
        "print(\"Adjusted R Sqaured: \", adj_score)"
      ],
      "metadata": {
        "colab": {
          "base_uri": "https://localhost:8080/"
        },
        "id": "P2m3_i30kuq8",
        "outputId": "31552d2b-b129-4c6d-d50a-0c7e4daadbde"
      },
      "execution_count": 37,
      "outputs": [
        {
          "output_type": "stream",
          "name": "stdout",
          "text": [
            "R Squared:  0.2438463151983814\n",
            "Adjusted R Sqaured:  0.23484448561740967\n"
          ]
        }
      ]
    },
    {
      "cell_type": "code",
      "source": [],
      "metadata": {
        "id": "gnnOFl_ckz9u"
      },
      "execution_count": 37,
      "outputs": []
    }
  ]
}