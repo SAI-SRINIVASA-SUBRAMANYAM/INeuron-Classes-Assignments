{
  "nbformat": 4,
  "nbformat_minor": 0,
  "metadata": {
    "colab": {
      "provenance": []
    },
    "kernelspec": {
      "name": "python3",
      "display_name": "Python 3"
    },
    "language_info": {
      "name": "python"
    }
  },
  "cells": [
    {
      "cell_type": "markdown",
      "source": [
        "<h1>This task is to understand algerian forest fire dataset using <b>Lasso Regression</b> model</h1>"
      ],
      "metadata": {
        "id": "ieOdbD_mgnEU"
      }
    },
    {
      "cell_type": "code",
      "execution_count": 1,
      "metadata": {
        "id": "omIY7swEgaX7"
      },
      "outputs": [],
      "source": [
        "# import statements\n",
        "\n",
        "import pandas as pd\n",
        "import numpy as np\n",
        "import seaborn as sns\n",
        "import matplotlib.pyplot as plt\n",
        "%matplotlib inline\n",
        "from sklearn.model_selection import train_test_split\n"
      ]
    },
    {
      "cell_type": "code",
      "source": [
        "# Initializing the dataset \n",
        "\n",
        "DATA = \"https://raw.githubusercontent.com/SAI-SRINIVASA-SUBRAMANYAM/INeuron-Classes-Assignments/main/Assignments/151022/forestfires.csv\""
      ],
      "metadata": {
        "id": "q2pPRNn7gtFq"
      },
      "execution_count": 2,
      "outputs": []
    },
    {
      "cell_type": "code",
      "source": [
        "# Reading the dataset using read csv function\n",
        "\n",
        "dataset = pd.read_csv(DATA)"
      ],
      "metadata": {
        "id": "iJU9laSfg8q4"
      },
      "execution_count": 3,
      "outputs": []
    },
    {
      "cell_type": "code",
      "source": [
        "COLUMN_DESCRIPTIONS = {\n",
        "    \"FFMC\": \"Fine Fuel Moisture Code\", \n",
        "    \"DMC\": \"Duff Moisture Code\",\n",
        "    \"DC\": \"Drought Code\",\n",
        "    \"ISI\": \"The ISI is a score that correlates with fire velocity spread\",\n",
        "    \"temp\": \"Temperature in Celsius degrees\",\n",
        "    \"RH\": \"Relative humidity in %\",\n",
        "    \"wind\": \"Wind speed in km/h\",\n",
        "    \"rain\": \"Outside rain in mm/m2\",\n",
        "    \"area\": \"The burned area of the forest in ha\"\n",
        "}"
      ],
      "metadata": {
        "id": "4d11-SaMg-OW"
      },
      "execution_count": 4,
      "outputs": []
    },
    {
      "cell_type": "code",
      "source": [
        "# Data preview\n",
        "\n",
        "dataset.head()"
      ],
      "metadata": {
        "colab": {
          "base_uri": "https://localhost:8080/",
          "height": 206
        },
        "id": "Dap8LSVghAUx",
        "outputId": "a8e44c08-531a-4a06-ef2c-b0299eceabae"
      },
      "execution_count": 5,
      "outputs": [
        {
          "output_type": "execute_result",
          "data": {
            "text/plain": [
              "   X  Y month  day  FFMC   DMC     DC  ISI  temp  RH  wind  rain  area\n",
              "0  7  5   mar  fri  86.2  26.2   94.3  5.1   8.2  51   6.7   0.0   0.0\n",
              "1  7  4   oct  tue  90.6  35.4  669.1  6.7  18.0  33   0.9   0.0   0.0\n",
              "2  7  4   oct  sat  90.6  43.7  686.9  6.7  14.6  33   1.3   0.0   0.0\n",
              "3  8  6   mar  fri  91.7  33.3   77.5  9.0   8.3  97   4.0   0.2   0.0\n",
              "4  8  6   mar  sun  89.3  51.3  102.2  9.6  11.4  99   1.8   0.0   0.0"
            ],
            "text/html": [
              "\n",
              "  <div id=\"df-fa40ff30-01d2-4688-9ddc-6381b6e741a5\">\n",
              "    <div class=\"colab-df-container\">\n",
              "      <div>\n",
              "<style scoped>\n",
              "    .dataframe tbody tr th:only-of-type {\n",
              "        vertical-align: middle;\n",
              "    }\n",
              "\n",
              "    .dataframe tbody tr th {\n",
              "        vertical-align: top;\n",
              "    }\n",
              "\n",
              "    .dataframe thead th {\n",
              "        text-align: right;\n",
              "    }\n",
              "</style>\n",
              "<table border=\"1\" class=\"dataframe\">\n",
              "  <thead>\n",
              "    <tr style=\"text-align: right;\">\n",
              "      <th></th>\n",
              "      <th>X</th>\n",
              "      <th>Y</th>\n",
              "      <th>month</th>\n",
              "      <th>day</th>\n",
              "      <th>FFMC</th>\n",
              "      <th>DMC</th>\n",
              "      <th>DC</th>\n",
              "      <th>ISI</th>\n",
              "      <th>temp</th>\n",
              "      <th>RH</th>\n",
              "      <th>wind</th>\n",
              "      <th>rain</th>\n",
              "      <th>area</th>\n",
              "    </tr>\n",
              "  </thead>\n",
              "  <tbody>\n",
              "    <tr>\n",
              "      <th>0</th>\n",
              "      <td>7</td>\n",
              "      <td>5</td>\n",
              "      <td>mar</td>\n",
              "      <td>fri</td>\n",
              "      <td>86.2</td>\n",
              "      <td>26.2</td>\n",
              "      <td>94.3</td>\n",
              "      <td>5.1</td>\n",
              "      <td>8.2</td>\n",
              "      <td>51</td>\n",
              "      <td>6.7</td>\n",
              "      <td>0.0</td>\n",
              "      <td>0.0</td>\n",
              "    </tr>\n",
              "    <tr>\n",
              "      <th>1</th>\n",
              "      <td>7</td>\n",
              "      <td>4</td>\n",
              "      <td>oct</td>\n",
              "      <td>tue</td>\n",
              "      <td>90.6</td>\n",
              "      <td>35.4</td>\n",
              "      <td>669.1</td>\n",
              "      <td>6.7</td>\n",
              "      <td>18.0</td>\n",
              "      <td>33</td>\n",
              "      <td>0.9</td>\n",
              "      <td>0.0</td>\n",
              "      <td>0.0</td>\n",
              "    </tr>\n",
              "    <tr>\n",
              "      <th>2</th>\n",
              "      <td>7</td>\n",
              "      <td>4</td>\n",
              "      <td>oct</td>\n",
              "      <td>sat</td>\n",
              "      <td>90.6</td>\n",
              "      <td>43.7</td>\n",
              "      <td>686.9</td>\n",
              "      <td>6.7</td>\n",
              "      <td>14.6</td>\n",
              "      <td>33</td>\n",
              "      <td>1.3</td>\n",
              "      <td>0.0</td>\n",
              "      <td>0.0</td>\n",
              "    </tr>\n",
              "    <tr>\n",
              "      <th>3</th>\n",
              "      <td>8</td>\n",
              "      <td>6</td>\n",
              "      <td>mar</td>\n",
              "      <td>fri</td>\n",
              "      <td>91.7</td>\n",
              "      <td>33.3</td>\n",
              "      <td>77.5</td>\n",
              "      <td>9.0</td>\n",
              "      <td>8.3</td>\n",
              "      <td>97</td>\n",
              "      <td>4.0</td>\n",
              "      <td>0.2</td>\n",
              "      <td>0.0</td>\n",
              "    </tr>\n",
              "    <tr>\n",
              "      <th>4</th>\n",
              "      <td>8</td>\n",
              "      <td>6</td>\n",
              "      <td>mar</td>\n",
              "      <td>sun</td>\n",
              "      <td>89.3</td>\n",
              "      <td>51.3</td>\n",
              "      <td>102.2</td>\n",
              "      <td>9.6</td>\n",
              "      <td>11.4</td>\n",
              "      <td>99</td>\n",
              "      <td>1.8</td>\n",
              "      <td>0.0</td>\n",
              "      <td>0.0</td>\n",
              "    </tr>\n",
              "  </tbody>\n",
              "</table>\n",
              "</div>\n",
              "      <button class=\"colab-df-convert\" onclick=\"convertToInteractive('df-fa40ff30-01d2-4688-9ddc-6381b6e741a5')\"\n",
              "              title=\"Convert this dataframe to an interactive table.\"\n",
              "              style=\"display:none;\">\n",
              "        \n",
              "  <svg xmlns=\"http://www.w3.org/2000/svg\" height=\"24px\"viewBox=\"0 0 24 24\"\n",
              "       width=\"24px\">\n",
              "    <path d=\"M0 0h24v24H0V0z\" fill=\"none\"/>\n",
              "    <path d=\"M18.56 5.44l.94 2.06.94-2.06 2.06-.94-2.06-.94-.94-2.06-.94 2.06-2.06.94zm-11 1L8.5 8.5l.94-2.06 2.06-.94-2.06-.94L8.5 2.5l-.94 2.06-2.06.94zm10 10l.94 2.06.94-2.06 2.06-.94-2.06-.94-.94-2.06-.94 2.06-2.06.94z\"/><path d=\"M17.41 7.96l-1.37-1.37c-.4-.4-.92-.59-1.43-.59-.52 0-1.04.2-1.43.59L10.3 9.45l-7.72 7.72c-.78.78-.78 2.05 0 2.83L4 21.41c.39.39.9.59 1.41.59.51 0 1.02-.2 1.41-.59l7.78-7.78 2.81-2.81c.8-.78.8-2.07 0-2.86zM5.41 20L4 18.59l7.72-7.72 1.47 1.35L5.41 20z\"/>\n",
              "  </svg>\n",
              "      </button>\n",
              "      \n",
              "  <style>\n",
              "    .colab-df-container {\n",
              "      display:flex;\n",
              "      flex-wrap:wrap;\n",
              "      gap: 12px;\n",
              "    }\n",
              "\n",
              "    .colab-df-convert {\n",
              "      background-color: #E8F0FE;\n",
              "      border: none;\n",
              "      border-radius: 50%;\n",
              "      cursor: pointer;\n",
              "      display: none;\n",
              "      fill: #1967D2;\n",
              "      height: 32px;\n",
              "      padding: 0 0 0 0;\n",
              "      width: 32px;\n",
              "    }\n",
              "\n",
              "    .colab-df-convert:hover {\n",
              "      background-color: #E2EBFA;\n",
              "      box-shadow: 0px 1px 2px rgba(60, 64, 67, 0.3), 0px 1px 3px 1px rgba(60, 64, 67, 0.15);\n",
              "      fill: #174EA6;\n",
              "    }\n",
              "\n",
              "    [theme=dark] .colab-df-convert {\n",
              "      background-color: #3B4455;\n",
              "      fill: #D2E3FC;\n",
              "    }\n",
              "\n",
              "    [theme=dark] .colab-df-convert:hover {\n",
              "      background-color: #434B5C;\n",
              "      box-shadow: 0px 1px 3px 1px rgba(0, 0, 0, 0.15);\n",
              "      filter: drop-shadow(0px 1px 2px rgba(0, 0, 0, 0.3));\n",
              "      fill: #FFFFFF;\n",
              "    }\n",
              "  </style>\n",
              "\n",
              "      <script>\n",
              "        const buttonEl =\n",
              "          document.querySelector('#df-fa40ff30-01d2-4688-9ddc-6381b6e741a5 button.colab-df-convert');\n",
              "        buttonEl.style.display =\n",
              "          google.colab.kernel.accessAllowed ? 'block' : 'none';\n",
              "\n",
              "        async function convertToInteractive(key) {\n",
              "          const element = document.querySelector('#df-fa40ff30-01d2-4688-9ddc-6381b6e741a5');\n",
              "          const dataTable =\n",
              "            await google.colab.kernel.invokeFunction('convertToInteractive',\n",
              "                                                     [key], {});\n",
              "          if (!dataTable) return;\n",
              "\n",
              "          const docLinkHtml = 'Like what you see? Visit the ' +\n",
              "            '<a target=\"_blank\" href=https://colab.research.google.com/notebooks/data_table.ipynb>data table notebook</a>'\n",
              "            + ' to learn more about interactive tables.';\n",
              "          element.innerHTML = '';\n",
              "          dataTable['output_type'] = 'display_data';\n",
              "          await google.colab.output.renderOutput(dataTable, element);\n",
              "          const docLink = document.createElement('div');\n",
              "          docLink.innerHTML = docLinkHtml;\n",
              "          element.appendChild(docLink);\n",
              "        }\n",
              "      </script>\n",
              "    </div>\n",
              "  </div>\n",
              "  "
            ]
          },
          "metadata": {},
          "execution_count": 5
        }
      ]
    },
    {
      "cell_type": "code",
      "source": [
        "plt.subplots(figsize=(20, 8))\n",
        "plt.scatter(dataset['FFMC'], dataset['temp'])\n",
        "plt.xlabel(COLUMN_DESCRIPTIONS.get('FFMC'))\n",
        "plt.ylabel(COLUMN_DESCRIPTIONS.get('temp'))\n"
      ],
      "metadata": {
        "colab": {
          "base_uri": "https://localhost:8080/",
          "height": 514
        },
        "id": "BFE78cBZhC_X",
        "outputId": "1c04ae8a-4b60-4617-812f-c8b1241afc22"
      },
      "execution_count": 6,
      "outputs": [
        {
          "output_type": "execute_result",
          "data": {
            "text/plain": [
              "Text(0, 0.5, 'Temperature in Celsius degrees')"
            ]
          },
          "metadata": {},
          "execution_count": 6
        },
        {
          "output_type": "display_data",
          "data": {
            "text/plain": [
              "<Figure size 1440x576 with 1 Axes>"
            ],
            "image/png": "[encoded data removed]"
          },
          "metadata": {
            "needs_background": "light"
          }
        }
      ]
    },
    {
      "cell_type": "code",
      "source": [
        "plt.subplots(figsize=(20, 8))\n",
        "plt.scatter(dataset['RH'], dataset['temp'])\n",
        "plt.xlabel(COLUMN_DESCRIPTIONS.get('RH'))\n",
        "plt.ylabel(COLUMN_DESCRIPTIONS.get('temp'))\n"
      ],
      "metadata": {
        "colab": {
          "base_uri": "https://localhost:8080/",
          "height": 514
        },
        "id": "IQHgQOA3hFgg",
        "outputId": "157d98a7-acae-4e6e-bab5-f34ad91997e9"
      },
      "execution_count": 7,
      "outputs": [
        {
          "output_type": "execute_result",
          "data": {
            "text/plain": [
              "Text(0, 0.5, 'Temperature in Celsius degrees')"
            ]
          },
          "metadata": {},
          "execution_count": 7
        },
        {
          "output_type": "display_data",
          "data": {
            "text/plain": [
              "<Figure size 1440x576 with 1 Axes>"
            ],
            "image/png": "[encoded data removed]"
          },
          "metadata": {
            "needs_background": "light"
          }
        }
      ]
    },
    {
      "cell_type": "code",
      "source": [
        "sns.scatterplot( x = dataset[\"RH\"], y = dataset[\"FFMC\"])\n",
        "\n",
        "# independent variables are uniformly distributed"
      ],
      "metadata": {
        "colab": {
          "base_uri": "https://localhost:8080/",
          "height": 300
        },
        "id": "KmyKrERlhIUn",
        "outputId": "0df3bac6-7ac4-426a-a820-2fd01bb82d04"
      },
      "execution_count": 8,
      "outputs": [
        {
          "output_type": "execute_result",
          "data": {
            "text/plain": [
              "<matplotlib.axes._subplots.AxesSubplot at 0x7fbb762a7dd0>"
            ]
          },
          "metadata": {},
          "execution_count": 8
        },
        {
          "output_type": "display_data",
          "data": {
            "text/plain": [
              "<Figure size 432x288 with 1 Axes>"
            ],
            "image/png": "[encoded data removed]"
          },
          "metadata": {
            "needs_background": "light"
          }
        }
      ]
    },
    {
      "cell_type": "code",
      "source": [
        "# Creating training models"
      ],
      "metadata": {
        "id": "oFJxfwx-hRGb"
      },
      "execution_count": 9,
      "outputs": []
    },
    {
      "cell_type": "code",
      "source": [
        "### Identifying dependent and independent feature\n",
        "\n",
        "\n",
        "X = dataset[['FFMC', 'RH']]\n",
        "y = dataset['temp']"
      ],
      "metadata": {
        "id": "qS0xwZydhTd9"
      },
      "execution_count": 10,
      "outputs": []
    },
    {
      "cell_type": "code",
      "source": [
        "# Model selection"
      ],
      "metadata": {
        "id": "Uztp5yGahVN-"
      },
      "execution_count": 11,
      "outputs": []
    },
    {
      "cell_type": "code",
      "source": [
        "from sklearn.model_selection import train_test_split"
      ],
      "metadata": {
        "id": "5481_XSshXIg"
      },
      "execution_count": 12,
      "outputs": []
    },
    {
      "cell_type": "code",
      "source": [
        "X_train, X_test, y_train, y_test = train_test_split(X, y, test_size=0.33, random_state=10)"
      ],
      "metadata": {
        "id": "81seitbzhYfo"
      },
      "execution_count": 13,
      "outputs": []
    },
    {
      "cell_type": "code",
      "source": [
        "# Standardize the dataset"
      ],
      "metadata": {
        "id": "A7VnDMgdhZ_h"
      },
      "execution_count": 14,
      "outputs": []
    },
    {
      "cell_type": "code",
      "source": [
        "from sklearn.preprocessing import StandardScaler"
      ],
      "metadata": {
        "id": "FgdP4BcAhb1S"
      },
      "execution_count": 15,
      "outputs": []
    },
    {
      "cell_type": "code",
      "source": [
        "scaler = StandardScaler()"
      ],
      "metadata": {
        "id": "pfdgOLkYhfb-"
      },
      "execution_count": 16,
      "outputs": []
    },
    {
      "cell_type": "code",
      "source": [
        "# Performing fit and transformation on train and test data\n",
        "\n",
        "X_train = scaler.fit_transform(X_train)\n",
        "X_test = scaler.transform(X_test)"
      ],
      "metadata": {
        "id": "urQq0LEthg5u"
      },
      "execution_count": 17,
      "outputs": []
    },
    {
      "cell_type": "code",
      "source": [
        "## Model training"
      ],
      "metadata": {
        "id": "0E4VL3uBhiLJ"
      },
      "execution_count": 18,
      "outputs": []
    },
    {
      "cell_type": "code",
      "source": [
        "from sklearn.linear_model import Lasso"
      ],
      "metadata": {
        "id": "cd9CaPWkhk9l"
      },
      "execution_count": 19,
      "outputs": []
    },
    {
      "cell_type": "code",
      "source": [
        "lasso = Lasso()"
      ],
      "metadata": {
        "id": "BmrtvVVvhnnk"
      },
      "execution_count": 20,
      "outputs": []
    },
    {
      "cell_type": "code",
      "source": [
        "lasso.fit(X_train, y_train)"
      ],
      "metadata": {
        "colab": {
          "base_uri": "https://localhost:8080/"
        },
        "id": "2CIGSt9ehqDX",
        "outputId": "2136fe93-9923-457a-df7b-dc364fb77a99"
      },
      "execution_count": 21,
      "outputs": [
        {
          "output_type": "execute_result",
          "data": {
            "text/plain": [
              "Lasso()"
            ]
          },
          "metadata": {},
          "execution_count": 21
        }
      ]
    },
    {
      "cell_type": "code",
      "source": [
        "## print cofficient and intercept\n",
        "\n",
        "print(\"Coefficient: \", lasso.coef_)\n",
        "print(\"Intercept: \", lasso.intercept_)"
      ],
      "metadata": {
        "colab": {
          "base_uri": "https://localhost:8080/"
        },
        "id": "NXxB0aeXhrpo",
        "outputId": "0f947121-fb18-46d0-fc33-b1bd0b37751b"
      },
      "execution_count": 22,
      "outputs": [
        {
          "output_type": "stream",
          "name": "stdout",
          "text": [
            "Coefficient:  [ 0.84080142 -2.11067617]\n",
            "Intercept:  19.002601156069364\n"
          ]
        }
      ]
    },
    {
      "cell_type": "code",
      "source": [
        "#Prediction for test data\n",
        "lasso_prediction = lasso.predict(X_test)"
      ],
      "metadata": {
        "id": "ek1Kis_-humr"
      },
      "execution_count": 23,
      "outputs": []
    },
    {
      "cell_type": "code",
      "source": [
        "lasso_prediction"
      ],
      "metadata": {
        "colab": {
          "base_uri": "https://localhost:8080/"
        },
        "id": "8Fxw5mQUhwqP",
        "outputId": "2383c170-5e13-4c3f-a571-a646ab205855"
      },
      "execution_count": 24,
      "outputs": [
        {
          "output_type": "execute_result",
          "data": {
            "text/plain": [
              "array([21.6088304 , 19.211623  , 19.52085874, 18.07703596, 15.80641656,\n",
              "       13.37882682, 21.40954616, 19.22753683, 19.92557747, 14.73693019,\n",
              "       21.08078325, 21.06992809, 21.13286075, 21.94229822, 21.32780899,\n",
              "       15.43424816, 21.58387565, 19.35412483, 20.94804501, 19.88615422,\n",
              "       21.39580033, 18.31502079, 13.5296469 , 19.51254048, 14.66423394,\n",
              "       17.77467314, 21.32780899, 18.3052572 , 20.18923971, 20.82290235,\n",
              "       17.81409639, 21.79147814, 17.36452683, 14.47109994, 21.69599515,\n",
              "       20.02937872, 13.96474796, 13.54556073, 18.56060119, 18.4817547 ,\n",
              "       17.69438131, 15.20385891, 19.66336056, 16.8476886 , 19.22753683,\n",
              "       15.9246863 , 21.56181157, 19.085035  , 18.25136546, 19.76427114,\n",
              "       14.11267737, 19.15628592, 18.81522252, 22.98284759, 20.08543846,\n",
              "       22.52134644, 21.64825365, 20.7046326 , 20.60010869, 21.61642598,\n",
              "       21.31478583, 21.11622425, 22.03705855, 19.48143549, 20.06880196,\n",
              "       20.51366661, 18.91070551, 21.52094299, 20.06120638, 21.60051215,\n",
              "       17.03576392, 19.74292973, 21.79075547, 21.29959466, 21.92566172,\n",
              "       18.0285718 , 17.59274807, 21.63233981,  8.0683116 , 20.65616844,\n",
              "       18.07703596, 15.26245557, 20.59323578, 19.77475739, 22.03018563,\n",
              "       20.63193636, 11.43191165, 22.35605787, 17.20105249, 19.85432655,\n",
              "       18.86224135, 20.05288813, 20.92309026, 19.52013607, 14.48158619,\n",
              "       21.61642598, 13.81537322, 19.10782175, 21.49743357, 16.65744527,\n",
              "       18.15732779, 21.61570331, 20.47279803, 20.29087295, 21.98172147,\n",
              "       19.23657775, 17.94212972, 20.53645336, 22.29999812, 16.82201118,\n",
              "       18.41050378, 20.26049062, 18.98882934, 19.85432655, 23.33078391,\n",
              "       19.9270228 , 19.62538265, 19.10998976, 23.06097142, 21.32780899,\n",
              "       20.8623256 , 19.21994125, 16.00497813, 19.09263059, 21.5610889 ,\n",
              "       19.18594558, 17.55260215, 15.9724278 , 20.58491753, 22.73509919,\n",
              "       16.57643077, 22.4341817 , 16.12613855, 15.10909859, 20.3302962 ,\n",
              "       20.6879961 , 20.9267036 , 18.42714028, 18.26727929, 19.85432655,\n",
              "       20.99650917, 16.59306727, 21.03665509, 20.18851704, 22.03705855,\n",
              "       21.44137382, 17.73597256, 21.16468842, 16.22017621, 22.68880302,\n",
              "       19.85432655, 16.36267803, 19.149413  , 20.71222819,  6.92685165,\n",
              "       17.90053847, 14.82192693, 16.44152453, 16.79850176, 20.28327737,\n",
              "       22.18932396, 10.96246116, 18.31322169, 16.02741111, 17.87991972,\n",
              "       21.32780899, 19.09263059, 19.97187363, 22.10903213, 15.79809831,\n",
              "       17.18802933])"
            ]
          },
          "metadata": {},
          "execution_count": 24
        }
      ]
    },
    {
      "cell_type": "code",
      "source": [
        "# Assumptions"
      ],
      "metadata": {
        "id": "nh1wNcPkh_pt"
      },
      "execution_count": 25,
      "outputs": []
    },
    {
      "cell_type": "code",
      "source": [
        "plt.scatter(y_test, lasso_prediction)\n",
        "plt.xlabel('Test truth data')\n",
        "plt.ylabel('Test predicted data')"
      ],
      "metadata": {
        "colab": {
          "base_uri": "https://localhost:8080/",
          "height": 296
        },
        "id": "CHoO9gdsiCcN",
        "outputId": "e7390629-5af9-4a13-8713-a1923e9a9c00"
      },
      "execution_count": 26,
      "outputs": [
        {
          "output_type": "execute_result",
          "data": {
            "text/plain": [
              "Text(0, 0.5, 'Test predicted data')"
            ]
          },
          "metadata": {},
          "execution_count": 26
        },
        {
          "output_type": "display_data",
          "data": {
            "text/plain": [
              "<Figure size 432x288 with 1 Axes>"
            ],
            "image/png": "[encoded data removed]"
          },
          "metadata": {
            "needs_background": "light"
          }
        }
      ]
    },
    {
      "cell_type": "code",
      "source": [
        "sns.regplot(x = y_test, y = lasso_prediction)\n",
        "plt.xlabel('Test truth data')\n",
        "plt.ylabel('Test predicted data')"
      ],
      "metadata": {
        "colab": {
          "base_uri": "https://localhost:8080/",
          "height": 296
        },
        "id": "Tw1xzreIiGVX",
        "outputId": "a08ae092-9d01-4fb4-c976-f550bdcaab36"
      },
      "execution_count": 27,
      "outputs": [
        {
          "output_type": "execute_result",
          "data": {
            "text/plain": [
              "Text(0, 0.5, 'Test predicted data')"
            ]
          },
          "metadata": {},
          "execution_count": 27
        },
        {
          "output_type": "display_data",
          "data": {
            "text/plain": [
              "<Figure size 432x288 with 1 Axes>"
            ],
            "image/png": "[encoded data removed]"
          },
          "metadata": {
            "needs_background": "light"
          }
        }
      ]
    },
    {
      "cell_type": "code",
      "source": [
        "# residuals\n",
        "\n",
        "residuals = y_test - lasso_prediction"
      ],
      "metadata": {
        "id": "9yRcn5p7iI_y"
      },
      "execution_count": 28,
      "outputs": []
    },
    {
      "cell_type": "code",
      "source": [
        "sns.displot(residuals, kind=\"kde\")"
      ],
      "metadata": {
        "colab": {
          "base_uri": "https://localhost:8080/",
          "height": 386
        },
        "id": "_YCXz2A9iNT5",
        "outputId": "6b842e94-071c-400e-a7bd-1f90b5ceb794"
      },
      "execution_count": 29,
      "outputs": [
        {
          "output_type": "execute_result",
          "data": {
            "text/plain": [
              "<seaborn.axisgrid.FacetGrid at 0x7fbb75d464d0>"
            ]
          },
          "metadata": {},
          "execution_count": 29
        },
        {
          "output_type": "display_data",
          "data": {
            "text/plain": [
              "<Figure size 360x360 with 1 Axes>"
            ],
            "image/png": "[encoded data removed]"
          },
          "metadata": {
            "needs_background": "light"
          }
        }
      ]
    },
    {
      "cell_type": "code",
      "source": [
        "plt.scatter(lasso_prediction, residuals)"
      ],
      "metadata": {
        "colab": {
          "base_uri": "https://localhost:8080/",
          "height": 282
        },
        "id": "T3yQLJpBiPh8",
        "outputId": "10447d7d-cac6-4750-e05c-598d67ed579d"
      },
      "execution_count": 30,
      "outputs": [
        {
          "output_type": "execute_result",
          "data": {
            "text/plain": [
              "<matplotlib.collections.PathCollection at 0x7fbb7347ed50>"
            ]
          },
          "metadata": {},
          "execution_count": 30
        },
        {
          "output_type": "display_data",
          "data": {
            "text/plain": [
              "<Figure size 432x288 with 1 Axes>"
            ],
            "image/png": "[encoded data removed]"
          },
          "metadata": {
            "needs_background": "light"
          }
        }
      ]
    },
    {
      "cell_type": "code",
      "source": [
        "# Cost function analysis"
      ],
      "metadata": {
        "id": "iuNzyjTliTEO"
      },
      "execution_count": 31,
      "outputs": []
    },
    {
      "cell_type": "code",
      "source": [
        "from sklearn.metrics import mean_squared_error, mean_absolute_error\n",
        "MSE = mean_squared_error(y_test, lasso_prediction)\n",
        "MAE = mean_squared_error(y_test, lasso_prediction)\n",
        "print(\"Mean Squared Error\", MSE)\n",
        "print(\"Mean Absolute Error\", MAE)\n",
        "print(\"Root Mean Square Error\", np.sqrt(MSE))"
      ],
      "metadata": {
        "colab": {
          "base_uri": "https://localhost:8080/"
        },
        "id": "uhJ2u9gLiWfa",
        "outputId": "b689c684-fb5b-4cd1-ab7f-870c685e6f83"
      },
      "execution_count": 32,
      "outputs": [
        {
          "output_type": "stream",
          "name": "stdout",
          "text": [
            "Mean Squared Error 27.678546053145713\n",
            "Mean Absolute Error 27.678546053145713\n",
            "Root Mean Square Error 5.2610403964563615\n"
          ]
        }
      ]
    },
    {
      "cell_type": "code",
      "source": [
        "# Performance metrics"
      ],
      "metadata": {
        "id": "FhPgFJ9jiZxd"
      },
      "execution_count": 33,
      "outputs": []
    },
    {
      "cell_type": "code",
      "source": [
        "from sklearn.metrics import r2_score\n",
        "score = r2_score(y_test, lasso_prediction)\n",
        "adj_score = 1 - (1-score)*(len(y_test)-1)/(len(y_test)-X_test.shape[1]-1)"
      ],
      "metadata": {
        "id": "a3MiwzJfiboO"
      },
      "execution_count": 34,
      "outputs": []
    },
    {
      "cell_type": "code",
      "source": [
        "print(\"R Squared: \", score)\n",
        "print(\"Adjusted R Sqaured: \", adj_score)"
      ],
      "metadata": {
        "colab": {
          "base_uri": "https://localhost:8080/"
        },
        "id": "YMZyDBnwidc4",
        "outputId": "105f1c9f-8f4e-4b0e-ae05-2acb9f1e2e37"
      },
      "execution_count": 35,
      "outputs": [
        {
          "output_type": "stream",
          "name": "stdout",
          "text": [
            "R Squared:  0.23784592256017367\n",
            "Adjusted R Sqaured:  0.22877265973350902\n"
          ]
        }
      ]
    },
    {
      "cell_type": "code",
      "source": [],
      "metadata": {
        "id": "NIWFmHyuihAJ"
      },
      "execution_count": 35,
      "outputs": []
    }
  ]
}