{
  "nbformat": 4,
  "nbformat_minor": 0,
  "metadata": {
    "colab": {
      "provenance": [],
      "collapsed_sections": [],
      "toc_visible": true
    },
    "kernelspec": {
      "name": "python3",
      "display_name": "Python 3"
    },
    "language_info": {
      "name": "python"
    }
  },
  "cells": [
    {
      "cell_type": "markdown",
      "source": [
        "# Gathering data"
      ],
      "metadata": {
        "id": "FkOe9w6-kpv9"
      }
    },
    {
      "cell_type": "code",
      "source": [
        "import zipfile\n",
        "from io import BytesIO\n",
        "from urllib.request import urlopen\n",
        "import glob\n",
        "import os"
      ],
      "metadata": {
        "id": "fuML5zfCkn3P"
      },
      "execution_count": 1,
      "outputs": []
    },
    {
      "cell_type": "code",
      "source": [
        "def reading_file_data_from_zip_url(URL, FILENAME):\n",
        "  data = BytesIO()\n",
        "  with urlopen(ZIP_FILE_PATH) as zip_file_ref:\n",
        "    with zipfile.ZipFile(BytesIO(zip_file_ref.read()), 'r') as zip_ref:\n",
        "      data = zip_ref.read(FILENAME)\n",
        "  return data"
      ],
      "metadata": {
        "id": "K2L759c-W58-"
      },
      "execution_count": 2,
      "outputs": []
    },
    {
      "cell_type": "code",
      "source": [
        "ZIP_FILE_PATH = \"https://archive.ics.uci.edu/ml/machine-learning-databases/00235/household_power_consumption.zip\"\n",
        "RAW_FILENAME = \"household_power_consumption.txt\"\n",
        "rawdata = reading_file_data_from_zip_url(ZIP_FILE_PATH, RAW_FILENAME)\n",
        "print(type(rawdata))\n",
        "FILENAME = 'temp.csv' \n",
        "with open(FILENAME, 'w') as fptr:\n",
        "  fptr.writelines(rawdata.decode())"
      ],
      "metadata": {
        "colab": {
          "base_uri": "https://localhost:8080/"
        },
        "id": "Mjn0qO7hXDe7",
        "outputId": "332afc9d-0d12-444b-c8bb-76ba48b16d13"
      },
      "execution_count": 3,
      "outputs": [
        {
          "output_type": "stream",
          "name": "stdout",
          "text": [
            "<class 'bytes'>\n"
          ]
        }
      ]
    },
    {
      "cell_type": "markdown",
      "source": [
        "# Data Ingestion"
      ],
      "metadata": {
        "id": "kjmfF31qfWJV"
      }
    },
    {
      "cell_type": "code",
      "source": [
        "import pandas as pd\n",
        "import numpy as np"
      ],
      "metadata": {
        "id": "P4SQ5DBSXEPb"
      },
      "execution_count": 4,
      "outputs": []
    },
    {
      "cell_type": "code",
      "source": [
        "df = pd.read_csv(FILENAME, sep=';', na_values='?')"
      ],
      "metadata": {
        "id": "hmeFcPnkXILO"
      },
      "execution_count": 5,
      "outputs": []
    },
    {
      "cell_type": "code",
      "source": [
        "# DATA CLEANUP\n",
        "os.remove(FILENAME)"
      ],
      "metadata": {
        "id": "ZfUilrw2Xd50"
      },
      "execution_count": 6,
      "outputs": []
    },
    {
      "cell_type": "code",
      "source": [
        "df = df.sample(frac=0.1)"
      ],
      "metadata": {
        "id": "IEWUc4i5oTKh"
      },
      "execution_count": 7,
      "outputs": []
    },
    {
      "cell_type": "markdown",
      "source": [
        "# Explorative Data Analysis (EDA)"
      ],
      "metadata": {
        "id": "f5GWLvtgrLm2"
      }
    },
    {
      "cell_type": "code",
      "source": [
        "df.head()"
      ],
      "metadata": {
        "colab": {
          "base_uri": "https://localhost:8080/",
          "height": 270
        },
        "id": "zzOidY7RjyHr",
        "outputId": "2bd76ee8-4b8c-4c26-8099-246ebcd54072"
      },
      "execution_count": 8,
      "outputs": [
        {
          "output_type": "execute_result",
          "data": {
            "text/plain": [
              "              Date      Time  Global_active_power  Global_reactive_power  \\\n",
              "1327914  25/6/2009  21:18:00                0.376                  0.238   \n",
              "342260   11/8/2007  09:44:00                1.358                  0.000   \n",
              "25459     3/1/2007  09:43:00                0.776                  0.080   \n",
              "834737   18/7/2008  09:41:00                0.200                  0.000   \n",
              "1440837  12/9/2009  07:21:00                2.342                  0.228   \n",
              "\n",
              "         Voltage  Global_intensity  Sub_metering_1  Sub_metering_2  \\\n",
              "1327914   242.91               1.8             0.0             0.0   \n",
              "342260    235.73               5.8             0.0             0.0   \n",
              "25459     239.53               3.4             0.0             0.0   \n",
              "834737    237.44               0.8             0.0             0.0   \n",
              "1440837   236.22               9.8             0.0             0.0   \n",
              "\n",
              "         Sub_metering_3  \n",
              "1327914             0.0  \n",
              "342260             17.0  \n",
              "25459               0.0  \n",
              "834737              1.0  \n",
              "1440837            28.0  "
            ],
            "text/html": [
              "\n",
              "  <div id=\"df-8b4f5cd1-f760-4ef8-a77f-440492e2911d\">\n",
              "    <div class=\"colab-df-container\">\n",
              "      <div>\n",
              "<style scoped>\n",
              "    .dataframe tbody tr th:only-of-type {\n",
              "        vertical-align: middle;\n",
              "    }\n",
              "\n",
              "    .dataframe tbody tr th {\n",
              "        vertical-align: top;\n",
              "    }\n",
              "\n",
              "    .dataframe thead th {\n",
              "        text-align: right;\n",
              "    }\n",
              "</style>\n",
              "<table border=\"1\" class=\"dataframe\">\n",
              "  <thead>\n",
              "    <tr style=\"text-align: right;\">\n",
              "      <th></th>\n",
              "      <th>Date</th>\n",
              "      <th>Time</th>\n",
              "      <th>Global_active_power</th>\n",
              "      <th>Global_reactive_power</th>\n",
              "      <th>Voltage</th>\n",
              "      <th>Global_intensity</th>\n",
              "      <th>Sub_metering_1</th>\n",
              "      <th>Sub_metering_2</th>\n",
              "      <th>Sub_metering_3</th>\n",
              "    </tr>\n",
              "  </thead>\n",
              "  <tbody>\n",
              "    <tr>\n",
              "      <th>1327914</th>\n",
              "      <td>25/6/2009</td>\n",
              "      <td>21:18:00</td>\n",
              "      <td>0.376</td>\n",
              "      <td>0.238</td>\n",
              "      <td>242.91</td>\n",
              "      <td>1.8</td>\n",
              "      <td>0.0</td>\n",
              "      <td>0.0</td>\n",
              "      <td>0.0</td>\n",
              "    </tr>\n",
              "    <tr>\n",
              "      <th>342260</th>\n",
              "      <td>11/8/2007</td>\n",
              "      <td>09:44:00</td>\n",
              "      <td>1.358</td>\n",
              "      <td>0.000</td>\n",
              "      <td>235.73</td>\n",
              "      <td>5.8</td>\n",
              "      <td>0.0</td>\n",
              "      <td>0.0</td>\n",
              "      <td>17.0</td>\n",
              "    </tr>\n",
              "    <tr>\n",
              "      <th>25459</th>\n",
              "      <td>3/1/2007</td>\n",
              "      <td>09:43:00</td>\n",
              "      <td>0.776</td>\n",
              "      <td>0.080</td>\n",
              "      <td>239.53</td>\n",
              "      <td>3.4</td>\n",
              "      <td>0.0</td>\n",
              "      <td>0.0</td>\n",
              "      <td>0.0</td>\n",
              "    </tr>\n",
              "    <tr>\n",
              "      <th>834737</th>\n",
              "      <td>18/7/2008</td>\n",
              "      <td>09:41:00</td>\n",
              "      <td>0.200</td>\n",
              "      <td>0.000</td>\n",
              "      <td>237.44</td>\n",
              "      <td>0.8</td>\n",
              "      <td>0.0</td>\n",
              "      <td>0.0</td>\n",
              "      <td>1.0</td>\n",
              "    </tr>\n",
              "    <tr>\n",
              "      <th>1440837</th>\n",
              "      <td>12/9/2009</td>\n",
              "      <td>07:21:00</td>\n",
              "      <td>2.342</td>\n",
              "      <td>0.228</td>\n",
              "      <td>236.22</td>\n",
              "      <td>9.8</td>\n",
              "      <td>0.0</td>\n",
              "      <td>0.0</td>\n",
              "      <td>28.0</td>\n",
              "    </tr>\n",
              "  </tbody>\n",
              "</table>\n",
              "</div>\n",
              "      <button class=\"colab-df-convert\" onclick=\"convertToInteractive('df-8b4f5cd1-f760-4ef8-a77f-440492e2911d')\"\n",
              "              title=\"Convert this dataframe to an interactive table.\"\n",
              "              style=\"display:none;\">\n",
              "        \n",
              "  <svg xmlns=\"http://www.w3.org/2000/svg\" height=\"24px\"viewBox=\"0 0 24 24\"\n",
              "       width=\"24px\">\n",
              "    <path d=\"M0 0h24v24H0V0z\" fill=\"none\"/>\n",
              "    <path d=\"M18.56 5.44l.94 2.06.94-2.06 2.06-.94-2.06-.94-.94-2.06-.94 2.06-2.06.94zm-11 1L8.5 8.5l.94-2.06 2.06-.94-2.06-.94L8.5 2.5l-.94 2.06-2.06.94zm10 10l.94 2.06.94-2.06 2.06-.94-2.06-.94-.94-2.06-.94 2.06-2.06.94z\"/><path d=\"M17.41 7.96l-1.37-1.37c-.4-.4-.92-.59-1.43-.59-.52 0-1.04.2-1.43.59L10.3 9.45l-7.72 7.72c-.78.78-.78 2.05 0 2.83L4 21.41c.39.39.9.59 1.41.59.51 0 1.02-.2 1.41-.59l7.78-7.78 2.81-2.81c.8-.78.8-2.07 0-2.86zM5.41 20L4 18.59l7.72-7.72 1.47 1.35L5.41 20z\"/>\n",
              "  </svg>\n",
              "      </button>\n",
              "      \n",
              "  <style>\n",
              "    .colab-df-container {\n",
              "      display:flex;\n",
              "      flex-wrap:wrap;\n",
              "      gap: 12px;\n",
              "    }\n",
              "\n",
              "    .colab-df-convert {\n",
              "      background-color: #E8F0FE;\n",
              "      border: none;\n",
              "      border-radius: 50%;\n",
              "      cursor: pointer;\n",
              "      display: none;\n",
              "      fill: #1967D2;\n",
              "      height: 32px;\n",
              "      padding: 0 0 0 0;\n",
              "      width: 32px;\n",
              "    }\n",
              "\n",
              "    .colab-df-convert:hover {\n",
              "      background-color: #E2EBFA;\n",
              "      box-shadow: 0px 1px 2px rgba(60, 64, 67, 0.3), 0px 1px 3px 1px rgba(60, 64, 67, 0.15);\n",
              "      fill: #174EA6;\n",
              "    }\n",
              "\n",
              "    [theme=dark] .colab-df-convert {\n",
              "      background-color: #3B4455;\n",
              "      fill: #D2E3FC;\n",
              "    }\n",
              "\n",
              "    [theme=dark] .colab-df-convert:hover {\n",
              "      background-color: #434B5C;\n",
              "      box-shadow: 0px 1px 3px 1px rgba(0, 0, 0, 0.15);\n",
              "      filter: drop-shadow(0px 1px 2px rgba(0, 0, 0, 0.3));\n",
              "      fill: #FFFFFF;\n",
              "    }\n",
              "  </style>\n",
              "\n",
              "      <script>\n",
              "        const buttonEl =\n",
              "          document.querySelector('#df-8b4f5cd1-f760-4ef8-a77f-440492e2911d button.colab-df-convert');\n",
              "        buttonEl.style.display =\n",
              "          google.colab.kernel.accessAllowed ? 'block' : 'none';\n",
              "\n",
              "        async function convertToInteractive(key) {\n",
              "          const element = document.querySelector('#df-8b4f5cd1-f760-4ef8-a77f-440492e2911d');\n",
              "          const dataTable =\n",
              "            await google.colab.kernel.invokeFunction('convertToInteractive',\n",
              "                                                     [key], {});\n",
              "          if (!dataTable) return;\n",
              "\n",
              "          const docLinkHtml = 'Like what you see? Visit the ' +\n",
              "            '<a target=\"_blank\" href=https://colab.research.google.com/notebooks/data_table.ipynb>data table notebook</a>'\n",
              "            + ' to learn more about interactive tables.';\n",
              "          element.innerHTML = '';\n",
              "          dataTable['output_type'] = 'display_data';\n",
              "          await google.colab.output.renderOutput(dataTable, element);\n",
              "          const docLink = document.createElement('div');\n",
              "          docLink.innerHTML = docLinkHtml;\n",
              "          element.appendChild(docLink);\n",
              "        }\n",
              "      </script>\n",
              "    </div>\n",
              "  </div>\n",
              "  "
            ]
          },
          "metadata": {},
          "execution_count": 8
        }
      ]
    },
    {
      "cell_type": "code",
      "source": [
        "df.shape"
      ],
      "metadata": {
        "colab": {
          "base_uri": "https://localhost:8080/"
        },
        "id": "NYR8qQQLj4NJ",
        "outputId": "642aae93-24f1-4fb3-bf0a-b7941e5314cb"
      },
      "execution_count": 9,
      "outputs": [
        {
          "output_type": "execute_result",
          "data": {
            "text/plain": [
              "(207526, 9)"
            ]
          },
          "metadata": {},
          "execution_count": 9
        }
      ]
    },
    {
      "cell_type": "code",
      "source": [
        "df.info()"
      ],
      "metadata": {
        "colab": {
          "base_uri": "https://localhost:8080/"
        },
        "id": "uO2Dde3wj6Lc",
        "outputId": "4423cdd0-00db-4612-99da-4f9ab9676713"
      },
      "execution_count": 10,
      "outputs": [
        {
          "output_type": "stream",
          "name": "stdout",
          "text": [
            "<class 'pandas.core.frame.DataFrame'>\n",
            "Int64Index: 207526 entries, 1327914 to 486019\n",
            "Data columns (total 9 columns):\n",
            " #   Column                 Non-Null Count   Dtype  \n",
            "---  ------                 --------------   -----  \n",
            " 0   Date                   207526 non-null  object \n",
            " 1   Time                   207526 non-null  object \n",
            " 2   Global_active_power    204923 non-null  float64\n",
            " 3   Global_reactive_power  204923 non-null  float64\n",
            " 4   Voltage                204923 non-null  float64\n",
            " 5   Global_intensity       204923 non-null  float64\n",
            " 6   Sub_metering_1         204923 non-null  float64\n",
            " 7   Sub_metering_2         204923 non-null  float64\n",
            " 8   Sub_metering_3         204923 non-null  float64\n",
            "dtypes: float64(7), object(2)\n",
            "memory usage: 15.8+ MB\n"
          ]
        }
      ]
    },
    {
      "cell_type": "code",
      "source": [
        "df.describe()"
      ],
      "metadata": {
        "colab": {
          "base_uri": "https://localhost:8080/",
          "height": 364
        },
        "id": "Tbecs-Dkj74e",
        "outputId": "70bf0501-b654-4f75-c4f5-8d1bcab0ead5"
      },
      "execution_count": 11,
      "outputs": [
        {
          "output_type": "execute_result",
          "data": {
            "text/plain": [
              "       Global_active_power  Global_reactive_power        Voltage  \\\n",
              "count        204923.000000          204923.000000  204923.000000   \n",
              "mean              1.092467               0.123563     240.837395   \n",
              "std               1.058570               0.112725       3.239820   \n",
              "min               0.076000               0.000000     223.490000   \n",
              "25%               0.308000               0.048000     238.990000   \n",
              "50%               0.602000               0.100000     241.000000   \n",
              "75%               1.526000               0.194000     242.880000   \n",
              "max               9.938000               1.222000     253.260000   \n",
              "\n",
              "       Global_intensity  Sub_metering_1  Sub_metering_2  Sub_metering_3  \n",
              "count     204923.000000   204923.000000   204923.000000   204923.000000  \n",
              "mean           4.631154        1.132699        1.300376        6.443811  \n",
              "std            4.449912        6.176174        5.833559        8.430795  \n",
              "min            0.200000        0.000000        0.000000        0.000000  \n",
              "25%            1.400000        0.000000        0.000000        0.000000  \n",
              "50%            2.600000        0.000000        0.000000        1.000000  \n",
              "75%            6.400000        0.000000        1.000000       17.000000  \n",
              "max           43.400000       86.000000       79.000000       31.000000  "
            ],
            "text/html": [
              "\n",
              "  <div id=\"df-cbf9de06-3406-4daf-a585-76cd4254f074\">\n",
              "    <div class=\"colab-df-container\">\n",
              "      <div>\n",
              "<style scoped>\n",
              "    .dataframe tbody tr th:only-of-type {\n",
              "        vertical-align: middle;\n",
              "    }\n",
              "\n",
              "    .dataframe tbody tr th {\n",
              "        vertical-align: top;\n",
              "    }\n",
              "\n",
              "    .dataframe thead th {\n",
              "        text-align: right;\n",
              "    }\n",
              "</style>\n",
              "<table border=\"1\" class=\"dataframe\">\n",
              "  <thead>\n",
              "    <tr style=\"text-align: right;\">\n",
              "      <th></th>\n",
              "      <th>Global_active_power</th>\n",
              "      <th>Global_reactive_power</th>\n",
              "      <th>Voltage</th>\n",
              "      <th>Global_intensity</th>\n",
              "      <th>Sub_metering_1</th>\n",
              "      <th>Sub_metering_2</th>\n",
              "      <th>Sub_metering_3</th>\n",
              "    </tr>\n",
              "  </thead>\n",
              "  <tbody>\n",
              "    <tr>\n",
              "      <th>count</th>\n",
              "      <td>204923.000000</td>\n",
              "      <td>204923.000000</td>\n",
              "      <td>204923.000000</td>\n",
              "      <td>204923.000000</td>\n",
              "      <td>204923.000000</td>\n",
              "      <td>204923.000000</td>\n",
              "      <td>204923.000000</td>\n",
              "    </tr>\n",
              "    <tr>\n",
              "      <th>mean</th>\n",
              "      <td>1.092467</td>\n",
              "      <td>0.123563</td>\n",
              "      <td>240.837395</td>\n",
              "      <td>4.631154</td>\n",
              "      <td>1.132699</td>\n",
              "      <td>1.300376</td>\n",
              "      <td>6.443811</td>\n",
              "    </tr>\n",
              "    <tr>\n",
              "      <th>std</th>\n",
              "      <td>1.058570</td>\n",
              "      <td>0.112725</td>\n",
              "      <td>3.239820</td>\n",
              "      <td>4.449912</td>\n",
              "      <td>6.176174</td>\n",
              "      <td>5.833559</td>\n",
              "      <td>8.430795</td>\n",
              "    </tr>\n",
              "    <tr>\n",
              "      <th>min</th>\n",
              "      <td>0.076000</td>\n",
              "      <td>0.000000</td>\n",
              "      <td>223.490000</td>\n",
              "      <td>0.200000</td>\n",
              "      <td>0.000000</td>\n",
              "      <td>0.000000</td>\n",
              "      <td>0.000000</td>\n",
              "    </tr>\n",
              "    <tr>\n",
              "      <th>25%</th>\n",
              "      <td>0.308000</td>\n",
              "      <td>0.048000</td>\n",
              "      <td>238.990000</td>\n",
              "      <td>1.400000</td>\n",
              "      <td>0.000000</td>\n",
              "      <td>0.000000</td>\n",
              "      <td>0.000000</td>\n",
              "    </tr>\n",
              "    <tr>\n",
              "      <th>50%</th>\n",
              "      <td>0.602000</td>\n",
              "      <td>0.100000</td>\n",
              "      <td>241.000000</td>\n",
              "      <td>2.600000</td>\n",
              "      <td>0.000000</td>\n",
              "      <td>0.000000</td>\n",
              "      <td>1.000000</td>\n",
              "    </tr>\n",
              "    <tr>\n",
              "      <th>75%</th>\n",
              "      <td>1.526000</td>\n",
              "      <td>0.194000</td>\n",
              "      <td>242.880000</td>\n",
              "      <td>6.400000</td>\n",
              "      <td>0.000000</td>\n",
              "      <td>1.000000</td>\n",
              "      <td>17.000000</td>\n",
              "    </tr>\n",
              "    <tr>\n",
              "      <th>max</th>\n",
              "      <td>9.938000</td>\n",
              "      <td>1.222000</td>\n",
              "      <td>253.260000</td>\n",
              "      <td>43.400000</td>\n",
              "      <td>86.000000</td>\n",
              "      <td>79.000000</td>\n",
              "      <td>31.000000</td>\n",
              "    </tr>\n",
              "  </tbody>\n",
              "</table>\n",
              "</div>\n",
              "      <button class=\"colab-df-convert\" onclick=\"convertToInteractive('df-cbf9de06-3406-4daf-a585-76cd4254f074')\"\n",
              "              title=\"Convert this dataframe to an interactive table.\"\n",
              "              style=\"display:none;\">\n",
              "        \n",
              "  <svg xmlns=\"http://www.w3.org/2000/svg\" height=\"24px\"viewBox=\"0 0 24 24\"\n",
              "       width=\"24px\">\n",
              "    <path d=\"M0 0h24v24H0V0z\" fill=\"none\"/>\n",
              "    <path d=\"M18.56 5.44l.94 2.06.94-2.06 2.06-.94-2.06-.94-.94-2.06-.94 2.06-2.06.94zm-11 1L8.5 8.5l.94-2.06 2.06-.94-2.06-.94L8.5 2.5l-.94 2.06-2.06.94zm10 10l.94 2.06.94-2.06 2.06-.94-2.06-.94-.94-2.06-.94 2.06-2.06.94z\"/><path d=\"M17.41 7.96l-1.37-1.37c-.4-.4-.92-.59-1.43-.59-.52 0-1.04.2-1.43.59L10.3 9.45l-7.72 7.72c-.78.78-.78 2.05 0 2.83L4 21.41c.39.39.9.59 1.41.59.51 0 1.02-.2 1.41-.59l7.78-7.78 2.81-2.81c.8-.78.8-2.07 0-2.86zM5.41 20L4 18.59l7.72-7.72 1.47 1.35L5.41 20z\"/>\n",
              "  </svg>\n",
              "      </button>\n",
              "      \n",
              "  <style>\n",
              "    .colab-df-container {\n",
              "      display:flex;\n",
              "      flex-wrap:wrap;\n",
              "      gap: 12px;\n",
              "    }\n",
              "\n",
              "    .colab-df-convert {\n",
              "      background-color: #E8F0FE;\n",
              "      border: none;\n",
              "      border-radius: 50%;\n",
              "      cursor: pointer;\n",
              "      display: none;\n",
              "      fill: #1967D2;\n",
              "      height: 32px;\n",
              "      padding: 0 0 0 0;\n",
              "      width: 32px;\n",
              "    }\n",
              "\n",
              "    .colab-df-convert:hover {\n",
              "      background-color: #E2EBFA;\n",
              "      box-shadow: 0px 1px 2px rgba(60, 64, 67, 0.3), 0px 1px 3px 1px rgba(60, 64, 67, 0.15);\n",
              "      fill: #174EA6;\n",
              "    }\n",
              "\n",
              "    [theme=dark] .colab-df-convert {\n",
              "      background-color: #3B4455;\n",
              "      fill: #D2E3FC;\n",
              "    }\n",
              "\n",
              "    [theme=dark] .colab-df-convert:hover {\n",
              "      background-color: #434B5C;\n",
              "      box-shadow: 0px 1px 3px 1px rgba(0, 0, 0, 0.15);\n",
              "      filter: drop-shadow(0px 1px 2px rgba(0, 0, 0, 0.3));\n",
              "      fill: #FFFFFF;\n",
              "    }\n",
              "  </style>\n",
              "\n",
              "      <script>\n",
              "        const buttonEl =\n",
              "          document.querySelector('#df-cbf9de06-3406-4daf-a585-76cd4254f074 button.colab-df-convert');\n",
              "        buttonEl.style.display =\n",
              "          google.colab.kernel.accessAllowed ? 'block' : 'none';\n",
              "\n",
              "        async function convertToInteractive(key) {\n",
              "          const element = document.querySelector('#df-cbf9de06-3406-4daf-a585-76cd4254f074');\n",
              "          const dataTable =\n",
              "            await google.colab.kernel.invokeFunction('convertToInteractive',\n",
              "                                                     [key], {});\n",
              "          if (!dataTable) return;\n",
              "\n",
              "          const docLinkHtml = 'Like what you see? Visit the ' +\n",
              "            '<a target=\"_blank\" href=https://colab.research.google.com/notebooks/data_table.ipynb>data table notebook</a>'\n",
              "            + ' to learn more about interactive tables.';\n",
              "          element.innerHTML = '';\n",
              "          dataTable['output_type'] = 'display_data';\n",
              "          await google.colab.output.renderOutput(dataTable, element);\n",
              "          const docLink = document.createElement('div');\n",
              "          docLink.innerHTML = docLinkHtml;\n",
              "          element.appendChild(docLink);\n",
              "        }\n",
              "      </script>\n",
              "    </div>\n",
              "  </div>\n",
              "  "
            ]
          },
          "metadata": {},
          "execution_count": 11
        }
      ]
    },
    {
      "cell_type": "code",
      "source": [
        "df.duplicated().sum()"
      ],
      "metadata": {
        "colab": {
          "base_uri": "https://localhost:8080/"
        },
        "id": "OWKwhUbPj80M",
        "outputId": "1a8355e3-f3f8-4cd5-87f2-6ea1eb9d2ec5"
      },
      "execution_count": 12,
      "outputs": [
        {
          "output_type": "execute_result",
          "data": {
            "text/plain": [
              "0"
            ]
          },
          "metadata": {},
          "execution_count": 12
        }
      ]
    },
    {
      "cell_type": "code",
      "source": [
        "df.isna().sum()"
      ],
      "metadata": {
        "colab": {
          "base_uri": "https://localhost:8080/"
        },
        "id": "ReCVzyUwlCUD",
        "outputId": "e740c5c8-afe5-40d0-8fdc-d4ee8f1f8b42"
      },
      "execution_count": 13,
      "outputs": [
        {
          "output_type": "execute_result",
          "data": {
            "text/plain": [
              "Date                        0\n",
              "Time                        0\n",
              "Global_active_power      2603\n",
              "Global_reactive_power    2603\n",
              "Voltage                  2603\n",
              "Global_intensity         2603\n",
              "Sub_metering_1           2603\n",
              "Sub_metering_2           2603\n",
              "Sub_metering_3           2603\n",
              "dtype: int64"
            ]
          },
          "metadata": {},
          "execution_count": 13
        }
      ]
    },
    {
      "cell_type": "markdown",
      "source": [
        "## Summary\n",
        "\n",
        "1. No Duplicates found\n",
        "2. Found null values"
      ],
      "metadata": {
        "id": "SmFm3GF6rRF_"
      }
    },
    {
      "cell_type": "markdown",
      "source": [
        "## Dropping null values"
      ],
      "metadata": {
        "id": "ZKQzwy_sot6G"
      }
    },
    {
      "cell_type": "code",
      "source": [
        "df.dropna(inplace=True)"
      ],
      "metadata": {
        "id": "luZQyXCQlSqu"
      },
      "execution_count": 14,
      "outputs": []
    },
    {
      "cell_type": "code",
      "source": [
        "df.isna().sum()"
      ],
      "metadata": {
        "colab": {
          "base_uri": "https://localhost:8080/"
        },
        "id": "WBY-KPcQlpke",
        "outputId": "e8dc27b2-60b2-42d7-ea21-bd3d5248bba1"
      },
      "execution_count": 15,
      "outputs": [
        {
          "output_type": "execute_result",
          "data": {
            "text/plain": [
              "Date                     0\n",
              "Time                     0\n",
              "Global_active_power      0\n",
              "Global_reactive_power    0\n",
              "Voltage                  0\n",
              "Global_intensity         0\n",
              "Sub_metering_1           0\n",
              "Sub_metering_2           0\n",
              "Sub_metering_3           0\n",
              "dtype: int64"
            ]
          },
          "metadata": {},
          "execution_count": 15
        }
      ]
    },
    {
      "cell_type": "code",
      "source": [
        "df.shape"
      ],
      "metadata": {
        "colab": {
          "base_uri": "https://localhost:8080/"
        },
        "id": "Xt_pR2_Nozmx",
        "outputId": "c1ceb25e-099c-4722-fa6e-a0fc12d14d41"
      },
      "execution_count": 16,
      "outputs": [
        {
          "output_type": "execute_result",
          "data": {
            "text/plain": [
              "(204923, 9)"
            ]
          },
          "metadata": {},
          "execution_count": 16
        }
      ]
    },
    {
      "cell_type": "code",
      "source": [
        "df.describe()"
      ],
      "metadata": {
        "colab": {
          "base_uri": "https://localhost:8080/",
          "height": 364
        },
        "id": "qb-njg8Eo5F3",
        "outputId": "b52e5ddf-d17b-4028-9592-d3dfaa088d0f"
      },
      "execution_count": 17,
      "outputs": [
        {
          "output_type": "execute_result",
          "data": {
            "text/plain": [
              "       Global_active_power  Global_reactive_power        Voltage  \\\n",
              "count        204923.000000          204923.000000  204923.000000   \n",
              "mean              1.092467               0.123563     240.837395   \n",
              "std               1.058570               0.112725       3.239820   \n",
              "min               0.076000               0.000000     223.490000   \n",
              "25%               0.308000               0.048000     238.990000   \n",
              "50%               0.602000               0.100000     241.000000   \n",
              "75%               1.526000               0.194000     242.880000   \n",
              "max               9.938000               1.222000     253.260000   \n",
              "\n",
              "       Global_intensity  Sub_metering_1  Sub_metering_2  Sub_metering_3  \n",
              "count     204923.000000   204923.000000   204923.000000   204923.000000  \n",
              "mean           4.631154        1.132699        1.300376        6.443811  \n",
              "std            4.449912        6.176174        5.833559        8.430795  \n",
              "min            0.200000        0.000000        0.000000        0.000000  \n",
              "25%            1.400000        0.000000        0.000000        0.000000  \n",
              "50%            2.600000        0.000000        0.000000        1.000000  \n",
              "75%            6.400000        0.000000        1.000000       17.000000  \n",
              "max           43.400000       86.000000       79.000000       31.000000  "
            ],
            "text/html": [
              "\n",
              "  <div id=\"df-9c15f0e0-7e13-4bfa-943c-33e1540036be\">\n",
              "    <div class=\"colab-df-container\">\n",
              "      <div>\n",
              "<style scoped>\n",
              "    .dataframe tbody tr th:only-of-type {\n",
              "        vertical-align: middle;\n",
              "    }\n",
              "\n",
              "    .dataframe tbody tr th {\n",
              "        vertical-align: top;\n",
              "    }\n",
              "\n",
              "    .dataframe thead th {\n",
              "        text-align: right;\n",
              "    }\n",
              "</style>\n",
              "<table border=\"1\" class=\"dataframe\">\n",
              "  <thead>\n",
              "    <tr style=\"text-align: right;\">\n",
              "      <th></th>\n",
              "      <th>Global_active_power</th>\n",
              "      <th>Global_reactive_power</th>\n",
              "      <th>Voltage</th>\n",
              "      <th>Global_intensity</th>\n",
              "      <th>Sub_metering_1</th>\n",
              "      <th>Sub_metering_2</th>\n",
              "      <th>Sub_metering_3</th>\n",
              "    </tr>\n",
              "  </thead>\n",
              "  <tbody>\n",
              "    <tr>\n",
              "      <th>count</th>\n",
              "      <td>204923.000000</td>\n",
              "      <td>204923.000000</td>\n",
              "      <td>204923.000000</td>\n",
              "      <td>204923.000000</td>\n",
              "      <td>204923.000000</td>\n",
              "      <td>204923.000000</td>\n",
              "      <td>204923.000000</td>\n",
              "    </tr>\n",
              "    <tr>\n",
              "      <th>mean</th>\n",
              "      <td>1.092467</td>\n",
              "      <td>0.123563</td>\n",
              "      <td>240.837395</td>\n",
              "      <td>4.631154</td>\n",
              "      <td>1.132699</td>\n",
              "      <td>1.300376</td>\n",
              "      <td>6.443811</td>\n",
              "    </tr>\n",
              "    <tr>\n",
              "      <th>std</th>\n",
              "      <td>1.058570</td>\n",
              "      <td>0.112725</td>\n",
              "      <td>3.239820</td>\n",
              "      <td>4.449912</td>\n",
              "      <td>6.176174</td>\n",
              "      <td>5.833559</td>\n",
              "      <td>8.430795</td>\n",
              "    </tr>\n",
              "    <tr>\n",
              "      <th>min</th>\n",
              "      <td>0.076000</td>\n",
              "      <td>0.000000</td>\n",
              "      <td>223.490000</td>\n",
              "      <td>0.200000</td>\n",
              "      <td>0.000000</td>\n",
              "      <td>0.000000</td>\n",
              "      <td>0.000000</td>\n",
              "    </tr>\n",
              "    <tr>\n",
              "      <th>25%</th>\n",
              "      <td>0.308000</td>\n",
              "      <td>0.048000</td>\n",
              "      <td>238.990000</td>\n",
              "      <td>1.400000</td>\n",
              "      <td>0.000000</td>\n",
              "      <td>0.000000</td>\n",
              "      <td>0.000000</td>\n",
              "    </tr>\n",
              "    <tr>\n",
              "      <th>50%</th>\n",
              "      <td>0.602000</td>\n",
              "      <td>0.100000</td>\n",
              "      <td>241.000000</td>\n",
              "      <td>2.600000</td>\n",
              "      <td>0.000000</td>\n",
              "      <td>0.000000</td>\n",
              "      <td>1.000000</td>\n",
              "    </tr>\n",
              "    <tr>\n",
              "      <th>75%</th>\n",
              "      <td>1.526000</td>\n",
              "      <td>0.194000</td>\n",
              "      <td>242.880000</td>\n",
              "      <td>6.400000</td>\n",
              "      <td>0.000000</td>\n",
              "      <td>1.000000</td>\n",
              "      <td>17.000000</td>\n",
              "    </tr>\n",
              "    <tr>\n",
              "      <th>max</th>\n",
              "      <td>9.938000</td>\n",
              "      <td>1.222000</td>\n",
              "      <td>253.260000</td>\n",
              "      <td>43.400000</td>\n",
              "      <td>86.000000</td>\n",
              "      <td>79.000000</td>\n",
              "      <td>31.000000</td>\n",
              "    </tr>\n",
              "  </tbody>\n",
              "</table>\n",
              "</div>\n",
              "      <button class=\"colab-df-convert\" onclick=\"convertToInteractive('df-9c15f0e0-7e13-4bfa-943c-33e1540036be')\"\n",
              "              title=\"Convert this dataframe to an interactive table.\"\n",
              "              style=\"display:none;\">\n",
              "        \n",
              "  <svg xmlns=\"http://www.w3.org/2000/svg\" height=\"24px\"viewBox=\"0 0 24 24\"\n",
              "       width=\"24px\">\n",
              "    <path d=\"M0 0h24v24H0V0z\" fill=\"none\"/>\n",
              "    <path d=\"M18.56 5.44l.94 2.06.94-2.06 2.06-.94-2.06-.94-.94-2.06-.94 2.06-2.06.94zm-11 1L8.5 8.5l.94-2.06 2.06-.94-2.06-.94L8.5 2.5l-.94 2.06-2.06.94zm10 10l.94 2.06.94-2.06 2.06-.94-2.06-.94-.94-2.06-.94 2.06-2.06.94z\"/><path d=\"M17.41 7.96l-1.37-1.37c-.4-.4-.92-.59-1.43-.59-.52 0-1.04.2-1.43.59L10.3 9.45l-7.72 7.72c-.78.78-.78 2.05 0 2.83L4 21.41c.39.39.9.59 1.41.59.51 0 1.02-.2 1.41-.59l7.78-7.78 2.81-2.81c.8-.78.8-2.07 0-2.86zM5.41 20L4 18.59l7.72-7.72 1.47 1.35L5.41 20z\"/>\n",
              "  </svg>\n",
              "      </button>\n",
              "      \n",
              "  <style>\n",
              "    .colab-df-container {\n",
              "      display:flex;\n",
              "      flex-wrap:wrap;\n",
              "      gap: 12px;\n",
              "    }\n",
              "\n",
              "    .colab-df-convert {\n",
              "      background-color: #E8F0FE;\n",
              "      border: none;\n",
              "      border-radius: 50%;\n",
              "      cursor: pointer;\n",
              "      display: none;\n",
              "      fill: #1967D2;\n",
              "      height: 32px;\n",
              "      padding: 0 0 0 0;\n",
              "      width: 32px;\n",
              "    }\n",
              "\n",
              "    .colab-df-convert:hover {\n",
              "      background-color: #E2EBFA;\n",
              "      box-shadow: 0px 1px 2px rgba(60, 64, 67, 0.3), 0px 1px 3px 1px rgba(60, 64, 67, 0.15);\n",
              "      fill: #174EA6;\n",
              "    }\n",
              "\n",
              "    [theme=dark] .colab-df-convert {\n",
              "      background-color: #3B4455;\n",
              "      fill: #D2E3FC;\n",
              "    }\n",
              "\n",
              "    [theme=dark] .colab-df-convert:hover {\n",
              "      background-color: #434B5C;\n",
              "      box-shadow: 0px 1px 3px 1px rgba(0, 0, 0, 0.15);\n",
              "      filter: drop-shadow(0px 1px 2px rgba(0, 0, 0, 0.3));\n",
              "      fill: #FFFFFF;\n",
              "    }\n",
              "  </style>\n",
              "\n",
              "      <script>\n",
              "        const buttonEl =\n",
              "          document.querySelector('#df-9c15f0e0-7e13-4bfa-943c-33e1540036be button.colab-df-convert');\n",
              "        buttonEl.style.display =\n",
              "          google.colab.kernel.accessAllowed ? 'block' : 'none';\n",
              "\n",
              "        async function convertToInteractive(key) {\n",
              "          const element = document.querySelector('#df-9c15f0e0-7e13-4bfa-943c-33e1540036be');\n",
              "          const dataTable =\n",
              "            await google.colab.kernel.invokeFunction('convertToInteractive',\n",
              "                                                     [key], {});\n",
              "          if (!dataTable) return;\n",
              "\n",
              "          const docLinkHtml = 'Like what you see? Visit the ' +\n",
              "            '<a target=\"_blank\" href=https://colab.research.google.com/notebooks/data_table.ipynb>data table notebook</a>'\n",
              "            + ' to learn more about interactive tables.';\n",
              "          element.innerHTML = '';\n",
              "          dataTable['output_type'] = 'display_data';\n",
              "          await google.colab.output.renderOutput(dataTable, element);\n",
              "          const docLink = document.createElement('div');\n",
              "          docLink.innerHTML = docLinkHtml;\n",
              "          element.appendChild(docLink);\n",
              "        }\n",
              "      </script>\n",
              "    </div>\n",
              "  </div>\n",
              "  "
            ]
          },
          "metadata": {},
          "execution_count": 17
        }
      ]
    },
    {
      "cell_type": "code",
      "source": [
        "df['Total_Sub_metering'] = df['Sub_metering_1'] + df['Sub_metering_2'] + df['Sub_metering_3']"
      ],
      "metadata": {
        "id": "cQS_idb5o6Sv"
      },
      "execution_count": 18,
      "outputs": []
    },
    {
      "cell_type": "code",
      "source": [
        "df.columns"
      ],
      "metadata": {
        "colab": {
          "base_uri": "https://localhost:8080/"
        },
        "id": "KeFXHw4HpCvv",
        "outputId": "d12d7529-ff87-40b4-cd3e-7903644ae1b1"
      },
      "execution_count": 19,
      "outputs": [
        {
          "output_type": "execute_result",
          "data": {
            "text/plain": [
              "Index(['Date', 'Time', 'Global_active_power', 'Global_reactive_power',\n",
              "       'Voltage', 'Global_intensity', 'Sub_metering_1', 'Sub_metering_2',\n",
              "       'Sub_metering_3', 'Total_Sub_metering'],\n",
              "      dtype='object')"
            ]
          },
          "metadata": {},
          "execution_count": 19
        }
      ]
    },
    {
      "cell_type": "code",
      "source": [
        "df.corr()"
      ],
      "metadata": {
        "colab": {
          "base_uri": "https://localhost:8080/",
          "height": 364
        },
        "id": "ZGFpY32wpHDY",
        "outputId": "2ee249e3-0ffa-4320-e80f-40f07ff31d8a"
      },
      "execution_count": 20,
      "outputs": [
        {
          "output_type": "execute_result",
          "data": {
            "text/plain": [
              "                       Global_active_power  Global_reactive_power   Voltage  \\\n",
              "Global_active_power               1.000000               0.244236 -0.398892   \n",
              "Global_reactive_power             0.244236               1.000000 -0.107221   \n",
              "Voltage                          -0.398892              -0.107221  1.000000   \n",
              "Global_intensity                  0.998886               0.263230 -0.410603   \n",
              "Sub_metering_1                    0.483529               0.115854 -0.194170   \n",
              "Sub_metering_2                    0.434542               0.135038 -0.167341   \n",
              "Sub_metering_3                    0.636991               0.088421 -0.265883   \n",
              "Total_Sub_metering                0.846014               0.174673 -0.343096   \n",
              "\n",
              "                       Global_intensity  Sub_metering_1  Sub_metering_2  \\\n",
              "Global_active_power            0.998886        0.483529        0.434542   \n",
              "Global_reactive_power          0.263230        0.115854        0.135038   \n",
              "Voltage                       -0.410603       -0.194170       -0.167341   \n",
              "Global_intensity               1.000000        0.488069        0.440304   \n",
              "Sub_metering_1                 0.488069        1.000000        0.053676   \n",
              "Sub_metering_2                 0.440304        0.053676        1.000000   \n",
              "Sub_metering_3                 0.625034        0.100036        0.083383   \n",
              "Total_Sub_metering             0.842973        0.569570        0.533481   \n",
              "\n",
              "                       Sub_metering_3  Total_Sub_metering  \n",
              "Global_active_power          0.636991            0.846014  \n",
              "Global_reactive_power        0.088421            0.174673  \n",
              "Voltage                     -0.265883           -0.343096  \n",
              "Global_intensity             0.625034            0.842973  \n",
              "Sub_metering_1               0.100036            0.569570  \n",
              "Sub_metering_2               0.083383            0.533481  \n",
              "Sub_metering_3               1.000000            0.740641  \n",
              "Total_Sub_metering           0.740641            1.000000  "
            ],
            "text/html": [
              "\n",
              "  <div id=\"df-9f87cbd8-8303-4d9d-8910-8b790a6ec1b8\">\n",
              "    <div class=\"colab-df-container\">\n",
              "      <div>\n",
              "<style scoped>\n",
              "    .dataframe tbody tr th:only-of-type {\n",
              "        vertical-align: middle;\n",
              "    }\n",
              "\n",
              "    .dataframe tbody tr th {\n",
              "        vertical-align: top;\n",
              "    }\n",
              "\n",
              "    .dataframe thead th {\n",
              "        text-align: right;\n",
              "    }\n",
              "</style>\n",
              "<table border=\"1\" class=\"dataframe\">\n",
              "  <thead>\n",
              "    <tr style=\"text-align: right;\">\n",
              "      <th></th>\n",
              "      <th>Global_active_power</th>\n",
              "      <th>Global_reactive_power</th>\n",
              "      <th>Voltage</th>\n",
              "      <th>Global_intensity</th>\n",
              "      <th>Sub_metering_1</th>\n",
              "      <th>Sub_metering_2</th>\n",
              "      <th>Sub_metering_3</th>\n",
              "      <th>Total_Sub_metering</th>\n",
              "    </tr>\n",
              "  </thead>\n",
              "  <tbody>\n",
              "    <tr>\n",
              "      <th>Global_active_power</th>\n",
              "      <td>1.000000</td>\n",
              "      <td>0.244236</td>\n",
              "      <td>-0.398892</td>\n",
              "      <td>0.998886</td>\n",
              "      <td>0.483529</td>\n",
              "      <td>0.434542</td>\n",
              "      <td>0.636991</td>\n",
              "      <td>0.846014</td>\n",
              "    </tr>\n",
              "    <tr>\n",
              "      <th>Global_reactive_power</th>\n",
              "      <td>0.244236</td>\n",
              "      <td>1.000000</td>\n",
              "      <td>-0.107221</td>\n",
              "      <td>0.263230</td>\n",
              "      <td>0.115854</td>\n",
              "      <td>0.135038</td>\n",
              "      <td>0.088421</td>\n",
              "      <td>0.174673</td>\n",
              "    </tr>\n",
              "    <tr>\n",
              "      <th>Voltage</th>\n",
              "      <td>-0.398892</td>\n",
              "      <td>-0.107221</td>\n",
              "      <td>1.000000</td>\n",
              "      <td>-0.410603</td>\n",
              "      <td>-0.194170</td>\n",
              "      <td>-0.167341</td>\n",
              "      <td>-0.265883</td>\n",
              "      <td>-0.343096</td>\n",
              "    </tr>\n",
              "    <tr>\n",
              "      <th>Global_intensity</th>\n",
              "      <td>0.998886</td>\n",
              "      <td>0.263230</td>\n",
              "      <td>-0.410603</td>\n",
              "      <td>1.000000</td>\n",
              "      <td>0.488069</td>\n",
              "      <td>0.440304</td>\n",
              "      <td>0.625034</td>\n",
              "      <td>0.842973</td>\n",
              "    </tr>\n",
              "    <tr>\n",
              "      <th>Sub_metering_1</th>\n",
              "      <td>0.483529</td>\n",
              "      <td>0.115854</td>\n",
              "      <td>-0.194170</td>\n",
              "      <td>0.488069</td>\n",
              "      <td>1.000000</td>\n",
              "      <td>0.053676</td>\n",
              "      <td>0.100036</td>\n",
              "      <td>0.569570</td>\n",
              "    </tr>\n",
              "    <tr>\n",
              "      <th>Sub_metering_2</th>\n",
              "      <td>0.434542</td>\n",
              "      <td>0.135038</td>\n",
              "      <td>-0.167341</td>\n",
              "      <td>0.440304</td>\n",
              "      <td>0.053676</td>\n",
              "      <td>1.000000</td>\n",
              "      <td>0.083383</td>\n",
              "      <td>0.533481</td>\n",
              "    </tr>\n",
              "    <tr>\n",
              "      <th>Sub_metering_3</th>\n",
              "      <td>0.636991</td>\n",
              "      <td>0.088421</td>\n",
              "      <td>-0.265883</td>\n",
              "      <td>0.625034</td>\n",
              "      <td>0.100036</td>\n",
              "      <td>0.083383</td>\n",
              "      <td>1.000000</td>\n",
              "      <td>0.740641</td>\n",
              "    </tr>\n",
              "    <tr>\n",
              "      <th>Total_Sub_metering</th>\n",
              "      <td>0.846014</td>\n",
              "      <td>0.174673</td>\n",
              "      <td>-0.343096</td>\n",
              "      <td>0.842973</td>\n",
              "      <td>0.569570</td>\n",
              "      <td>0.533481</td>\n",
              "      <td>0.740641</td>\n",
              "      <td>1.000000</td>\n",
              "    </tr>\n",
              "  </tbody>\n",
              "</table>\n",
              "</div>\n",
              "      <button class=\"colab-df-convert\" onclick=\"convertToInteractive('df-9f87cbd8-8303-4d9d-8910-8b790a6ec1b8')\"\n",
              "              title=\"Convert this dataframe to an interactive table.\"\n",
              "              style=\"display:none;\">\n",
              "        \n",
              "  <svg xmlns=\"http://www.w3.org/2000/svg\" height=\"24px\"viewBox=\"0 0 24 24\"\n",
              "       width=\"24px\">\n",
              "    <path d=\"M0 0h24v24H0V0z\" fill=\"none\"/>\n",
              "    <path d=\"M18.56 5.44l.94 2.06.94-2.06 2.06-.94-2.06-.94-.94-2.06-.94 2.06-2.06.94zm-11 1L8.5 8.5l.94-2.06 2.06-.94-2.06-.94L8.5 2.5l-.94 2.06-2.06.94zm10 10l.94 2.06.94-2.06 2.06-.94-2.06-.94-.94-2.06-.94 2.06-2.06.94z\"/><path d=\"M17.41 7.96l-1.37-1.37c-.4-.4-.92-.59-1.43-.59-.52 0-1.04.2-1.43.59L10.3 9.45l-7.72 7.72c-.78.78-.78 2.05 0 2.83L4 21.41c.39.39.9.59 1.41.59.51 0 1.02-.2 1.41-.59l7.78-7.78 2.81-2.81c.8-.78.8-2.07 0-2.86zM5.41 20L4 18.59l7.72-7.72 1.47 1.35L5.41 20z\"/>\n",
              "  </svg>\n",
              "      </button>\n",
              "      \n",
              "  <style>\n",
              "    .colab-df-container {\n",
              "      display:flex;\n",
              "      flex-wrap:wrap;\n",
              "      gap: 12px;\n",
              "    }\n",
              "\n",
              "    .colab-df-convert {\n",
              "      background-color: #E8F0FE;\n",
              "      border: none;\n",
              "      border-radius: 50%;\n",
              "      cursor: pointer;\n",
              "      display: none;\n",
              "      fill: #1967D2;\n",
              "      height: 32px;\n",
              "      padding: 0 0 0 0;\n",
              "      width: 32px;\n",
              "    }\n",
              "\n",
              "    .colab-df-convert:hover {\n",
              "      background-color: #E2EBFA;\n",
              "      box-shadow: 0px 1px 2px rgba(60, 64, 67, 0.3), 0px 1px 3px 1px rgba(60, 64, 67, 0.15);\n",
              "      fill: #174EA6;\n",
              "    }\n",
              "\n",
              "    [theme=dark] .colab-df-convert {\n",
              "      background-color: #3B4455;\n",
              "      fill: #D2E3FC;\n",
              "    }\n",
              "\n",
              "    [theme=dark] .colab-df-convert:hover {\n",
              "      background-color: #434B5C;\n",
              "      box-shadow: 0px 1px 3px 1px rgba(0, 0, 0, 0.15);\n",
              "      filter: drop-shadow(0px 1px 2px rgba(0, 0, 0, 0.3));\n",
              "      fill: #FFFFFF;\n",
              "    }\n",
              "  </style>\n",
              "\n",
              "      <script>\n",
              "        const buttonEl =\n",
              "          document.querySelector('#df-9f87cbd8-8303-4d9d-8910-8b790a6ec1b8 button.colab-df-convert');\n",
              "        buttonEl.style.display =\n",
              "          google.colab.kernel.accessAllowed ? 'block' : 'none';\n",
              "\n",
              "        async function convertToInteractive(key) {\n",
              "          const element = document.querySelector('#df-9f87cbd8-8303-4d9d-8910-8b790a6ec1b8');\n",
              "          const dataTable =\n",
              "            await google.colab.kernel.invokeFunction('convertToInteractive',\n",
              "                                                     [key], {});\n",
              "          if (!dataTable) return;\n",
              "\n",
              "          const docLinkHtml = 'Like what you see? Visit the ' +\n",
              "            '<a target=\"_blank\" href=https://colab.research.google.com/notebooks/data_table.ipynb>data table notebook</a>'\n",
              "            + ' to learn more about interactive tables.';\n",
              "          element.innerHTML = '';\n",
              "          dataTable['output_type'] = 'display_data';\n",
              "          await google.colab.output.renderOutput(dataTable, element);\n",
              "          const docLink = document.createElement('div');\n",
              "          docLink.innerHTML = docLinkHtml;\n",
              "          element.appendChild(docLink);\n",
              "        }\n",
              "      </script>\n",
              "    </div>\n",
              "  </div>\n",
              "  "
            ]
          },
          "metadata": {},
          "execution_count": 20
        }
      ]
    },
    {
      "cell_type": "code",
      "source": [
        "df.columns"
      ],
      "metadata": {
        "colab": {
          "base_uri": "https://localhost:8080/"
        },
        "id": "XXmgp4hrpJDe",
        "outputId": "f36b059d-e4df-44a0-a0d5-b0d69930ceb5"
      },
      "execution_count": 21,
      "outputs": [
        {
          "output_type": "execute_result",
          "data": {
            "text/plain": [
              "Index(['Date', 'Time', 'Global_active_power', 'Global_reactive_power',\n",
              "       'Voltage', 'Global_intensity', 'Sub_metering_1', 'Sub_metering_2',\n",
              "       'Sub_metering_3', 'Total_Sub_metering'],\n",
              "      dtype='object')"
            ]
          },
          "metadata": {},
          "execution_count": 21
        }
      ]
    },
    {
      "cell_type": "markdown",
      "source": [
        "# Model - Train & Test data "
      ],
      "metadata": {
        "id": "hRWK-vp_rhqg"
      }
    },
    {
      "cell_type": "code",
      "source": [
        "from sklearn.model_selection import train_test_split"
      ],
      "metadata": {
        "id": "9ljHPFHW8-KJ"
      },
      "execution_count": 22,
      "outputs": []
    },
    {
      "cell_type": "code",
      "source": [
        "df_frac = df.sample(frac = 0.15)"
      ],
      "metadata": {
        "id": "ZjxMaZbomsJd"
      },
      "execution_count": 23,
      "outputs": []
    },
    {
      "cell_type": "code",
      "source": [
        "df_frac.shape"
      ],
      "metadata": {
        "colab": {
          "base_uri": "https://localhost:8080/"
        },
        "id": "wR7yO0tCm2Mq",
        "outputId": "0608d2da-b60b-4b05-bd82-cbb5ffadd02a"
      },
      "execution_count": 24,
      "outputs": [
        {
          "output_type": "execute_result",
          "data": {
            "text/plain": [
              "(30738, 10)"
            ]
          },
          "metadata": {},
          "execution_count": 24
        }
      ]
    },
    {
      "cell_type": "code",
      "source": [
        "X = df_frac.iloc[:, 2:6]"
      ],
      "metadata": {
        "id": "e1J2lhWH9yWI"
      },
      "execution_count": 25,
      "outputs": []
    },
    {
      "cell_type": "code",
      "source": [
        "y = df_frac.iloc[:, -1]"
      ],
      "metadata": {
        "id": "xAV7srn396C6"
      },
      "execution_count": 26,
      "outputs": []
    },
    {
      "cell_type": "code",
      "source": [
        "X_train, X_test, y_train, y_test = train_test_split(X, y, random_state=0, test_size=0.1, shuffle=True)"
      ],
      "metadata": {
        "id": "BZ-bzUjK-E2K"
      },
      "execution_count": 27,
      "outputs": []
    },
    {
      "cell_type": "code",
      "source": [
        "print(\"X:\", X_train.shape, X_test.shape)\n",
        "print(\"y:\", y_train.shape, y_test.shape)"
      ],
      "metadata": {
        "colab": {
          "base_uri": "https://localhost:8080/"
        },
        "id": "NTuU_W-UFcET",
        "outputId": "1605aa4c-4d54-49cf-aabb-7a2207ba72e2"
      },
      "execution_count": 28,
      "outputs": [
        {
          "output_type": "stream",
          "name": "stdout",
          "text": [
            "X: (27664, 4) (3074, 4)\n",
            "y: (27664,) (3074,)\n"
          ]
        }
      ]
    },
    {
      "cell_type": "markdown",
      "source": [
        "# Learning - Decision Tree Regression"
      ],
      "metadata": {
        "id": "f5AHMgfNrpH9"
      }
    },
    {
      "cell_type": "code",
      "source": [
        "from sklearn.tree import DecisionTreeRegressor"
      ],
      "metadata": {
        "id": "4vZ3Hakg-qTn"
      },
      "execution_count": 29,
      "outputs": []
    },
    {
      "cell_type": "code",
      "source": [
        "dt_r = DecisionTreeRegressor(max_depth=4,\n",
        "                           min_samples_split=5,\n",
        "                           max_leaf_nodes=10)"
      ],
      "metadata": {
        "id": "AnfUoiEjA5YZ"
      },
      "execution_count": 30,
      "outputs": []
    },
    {
      "cell_type": "code",
      "source": [
        "dt_r.fit(X,y)\n",
        "print(\"R-Squared on train dataset={}\".format(dt_r.score(X_test,y_test)))"
      ],
      "metadata": {
        "colab": {
          "base_uri": "https://localhost:8080/"
        },
        "id": "XWoA8WfjBFSS",
        "outputId": "86a3aa81-66e1-4231-8061-a6609c406532"
      },
      "execution_count": 31,
      "outputs": [
        {
          "output_type": "stream",
          "name": "stdout",
          "text": [
            "R-Squared on train dataset=0.7728073234852507\n"
          ]
        }
      ]
    },
    {
      "cell_type": "code",
      "source": [
        "dt_r.fit(X_test,y_test)   \n",
        "print(\"R-Squaredon test dataset={}\".format(dt_r.score(X_test,y_test)))"
      ],
      "metadata": {
        "colab": {
          "base_uri": "https://localhost:8080/"
        },
        "id": "alSIMqZ0BHub",
        "outputId": "e8b69d9c-f3cd-4705-e5e2-cb0623c6ad02"
      },
      "execution_count": 32,
      "outputs": [
        {
          "output_type": "stream",
          "name": "stdout",
          "text": [
            "R-Squaredon test dataset=0.7844985668538899\n"
          ]
        }
      ]
    },
    {
      "cell_type": "markdown",
      "source": [
        "# Hyperparameter tuning"
      ],
      "metadata": {
        "id": "8xJgBgJdr9b9"
      }
    },
    {
      "cell_type": "code",
      "source": [
        "param_grid = {\"criterion\": [\"absolute_error\", \"squared_error\", \"friedman_mse\"],\n",
        "              \"min_samples_split\": [10, 20, 40],\n",
        "              \"max_depth\": [2, 6, 8],\n",
        "              \"min_samples_leaf\": [20, 40, 100],\n",
        "              \"max_leaf_nodes\": [5, 20, 100]\n",
        "              }"
      ],
      "metadata": {
        "id": "9pRnEmeXINp5"
      },
      "execution_count": 33,
      "outputs": []
    },
    {
      "cell_type": "code",
      "source": [
        "from sklearn.model_selection import GridSearchCV"
      ],
      "metadata": {
        "id": "JpaqOx-EIR1F"
      },
      "execution_count": 34,
      "outputs": []
    },
    {
      "cell_type": "code",
      "source": [
        "grid_cv_dtm = GridSearchCV(dt_r, param_grid, cv=2)\n",
        "grid_cv_dtm.fit(X_train, y_train)"
      ],
      "metadata": {
        "colab": {
          "base_uri": "https://localhost:8080/"
        },
        "id": "pALa7BjpIOIh",
        "outputId": "4867dee7-b788-45a3-c287-c743b56b0ba5"
      },
      "execution_count": 35,
      "outputs": [
        {
          "output_type": "execute_result",
          "data": {
            "text/plain": [
              "GridSearchCV(cv=2,\n",
              "             estimator=DecisionTreeRegressor(max_depth=4, max_leaf_nodes=10,\n",
              "                                             min_samples_split=5),\n",
              "             param_grid={'criterion': ['absolute_error', 'squared_error',\n",
              "                                       'friedman_mse'],\n",
              "                         'max_depth': [2, 6, 8], 'max_leaf_nodes': [5, 20, 100],\n",
              "                         'min_samples_leaf': [20, 40, 100],\n",
              "                         'min_samples_split': [10, 20, 40]})"
            ]
          },
          "metadata": {},
          "execution_count": 35
        }
      ]
    },
    {
      "cell_type": "code",
      "source": [
        "print(\"R-Squared::{}\".format(grid_cv_dtm.best_score_))\n",
        "\n",
        "print(\"Best Hyperparameters::\\n{}\".format(grid_cv_dtm.best_params_))"
      ],
      "metadata": {
        "colab": {
          "base_uri": "https://localhost:8080/"
        },
        "id": "qgC7HDRlVv9k",
        "outputId": "4a844533-c076-4aa8-dfee-7293df488704"
      },
      "execution_count": 36,
      "outputs": [
        {
          "output_type": "stream",
          "name": "stdout",
          "text": [
            "R-Squared::0.7521042602680457\n",
            "Best Hyperparameters::\n",
            "{'criterion': 'squared_error', 'max_depth': 6, 'max_leaf_nodes': 100, 'min_samples_leaf': 20, 'min_samples_split': 10}\n"
          ]
        }
      ]
    },
    {
      "cell_type": "code",
      "source": [
        "hp_df = pd.DataFrame(data=grid_cv_dtm.cv_results_)"
      ],
      "metadata": {
        "id": "QTKOdhlnpNQE"
      },
      "execution_count": 37,
      "outputs": []
    },
    {
      "cell_type": "markdown",
      "source": [
        "# Post training Visualization "
      ],
      "metadata": {
        "id": "-3y4CUFSto4K"
      }
    },
    {
      "cell_type": "code",
      "source": [
        "import matplotlib.pyplot as plt\n",
        "import seaborn as sns"
      ],
      "metadata": {
        "id": "bAMZRp1qpj6E"
      },
      "execution_count": 38,
      "outputs": []
    },
    {
      "cell_type": "code",
      "source": [
        "from sklearn import tree\n",
        "\n",
        "fig = plt.figure(figsize=(25, 15))\n",
        "tree.plot_tree(dt_r, filled=True, fontsize=14)"
      ],
      "metadata": {
        "colab": {
          "base_uri": "https://localhost:8080/",
          "height": 901
        },
        "id": "m_Z_luWevv_4",
        "outputId": "af53abc9-b851-40b0-c251-5c00d50dd4c1"
      },
      "execution_count": 40,
      "outputs": [
        {
          "output_type": "execute_result",
          "data": {
            "text/plain": [
              "[Text(0.3472222222222222, 0.9, 'X[0] <= 1.212\\nsquared_error = 156.515\\nsamples = 3074\\nvalue = 8.783'),\n",
              " Text(0.1111111111111111, 0.7, 'X[0] <= 0.794\\nsquared_error = 6.128\\nsamples = 1845\\nvalue = 1.234'),\n",
              " Text(0.05555555555555555, 0.5, 'squared_error = 1.118\\nsamples = 1655\\nvalue = 0.795'),\n",
              " Text(0.16666666666666666, 0.5, 'X[2] <= 236.31\\nsquared_error = 33.465\\nsamples = 190\\nvalue = 5.058'),\n",
              " Text(0.1111111111111111, 0.3, 'squared_error = 30.354\\nsamples = 12\\nvalue = 14.25'),\n",
              " Text(0.2222222222222222, 0.3, 'squared_error = 27.594\\nsamples = 178\\nvalue = 4.438'),\n",
              " Text(0.5833333333333334, 0.7, 'X[3] <= 14.3\\nsquared_error = 168.293\\nsamples = 1229\\nvalue = 20.116'),\n",
              " Text(0.3888888888888889, 0.5, 'X[0] <= 2.548\\nsquared_error = 66.215\\nsamples = 1099\\nvalue = 17.156'),\n",
              " Text(0.3333333333333333, 0.3, 'squared_error = 52.148\\nsamples = 962\\nvalue = 16.181'),\n",
              " Text(0.4444444444444444, 0.3, 'X[1] <= 0.111\\nsquared_error = 111.474\\nsamples = 137\\nvalue = 24.0'),\n",
              " Text(0.3888888888888889, 0.1, 'squared_error = 93.892\\nsamples = 68\\nvalue = 20.574'),\n",
              " Text(0.5, 0.1, 'squared_error = 105.829\\nsamples = 69\\nvalue = 27.377'),\n",
              " Text(0.7777777777777778, 0.5, 'X[3] <= 23.0\\nsquared_error = 331.027\\nsamples = 130\\nvalue = 45.138'),\n",
              " Text(0.6666666666666666, 0.3, 'X[1] <= 0.317\\nsquared_error = 223.37\\nsamples = 110\\nvalue = 42.109'),\n",
              " Text(0.6111111111111112, 0.1, 'squared_error = 221.056\\nsamples = 79\\nvalue = 44.671'),\n",
              " Text(0.7222222222222222, 0.1, 'squared_error = 169.921\\nsamples = 31\\nvalue = 35.581'),\n",
              " Text(0.8888888888888888, 0.3, 'X[2] <= 239.18\\nsquared_error = 595.06\\nsamples = 20\\nvalue = 61.8'),\n",
              " Text(0.8333333333333334, 0.1, 'squared_error = 524.892\\nsamples = 19\\nvalue = 64.053'),\n",
              " Text(0.9444444444444444, 0.1, 'squared_error = 0.0\\nsamples = 1\\nvalue = 19.0')]"
            ]
          },
          "metadata": {},
          "execution_count": 40
        },
        {
          "output_type": "display_data",
          "data": {
            "text/plain": [
              "<Figure size 1800x1080 with 1 Axes>"
            ],
            "image/png": "[encoded data removed]"
          },
          "metadata": {
            "needs_background": "light"
          }
        }
      ]
    },
    {
      "cell_type": "code",
      "source": [
        "fig,ax = plt.subplots()\n",
        "sns.pointplot(data=hp_df[[\n",
        "    'mean_test_score',\n",
        "    'param_max_leaf_nodes',\n",
        "    'param_max_depth']],\n",
        "    y='mean_test_score',\n",
        "    x='param_max_depth',\n",
        "    hue='param_max_leaf_nodes',\n",
        "    ax=ax)\n",
        "ax.set(title=\"Effect of Depth and Leaf Nodes on Model Performance\")"
      ],
      "metadata": {
        "colab": {
          "base_uri": "https://localhost:8080/",
          "height": 313
        },
        "id": "PiMdfRThpUJD",
        "outputId": "6e17a57d-4277-4b79-949a-d337a72decba"
      },
      "execution_count": 41,
      "outputs": [
        {
          "output_type": "execute_result",
          "data": {
            "text/plain": [
              "[Text(0.5, 1.0, 'Effect of Depth and Leaf Nodes on Model Performance')]"
            ]
          },
          "metadata": {},
          "execution_count": 41
        },
        {
          "output_type": "display_data",
          "data": {
            "text/plain": [
              "<Figure size 432x288 with 1 Axes>"
            ],
            "image/png": "[encoded data removed]"
          },
          "metadata": {
            "needs_background": "light"
          }
        }
      ]
    },
    {
      "cell_type": "code",
      "source": [
        "predicted = grid_cv_dtm.best_estimator_.predict(X_train)\n",
        "residuals = y_train-predicted\n",
        "\n",
        "fig, ax = plt.subplots()\n",
        "ax.scatter(y_train, residuals)\n",
        "ax.axhline(lw=2,color='black')\n",
        "ax.set_xlabel('Observed')\n",
        "ax.set_ylabel('Residual')\n",
        "plt.show()"
      ],
      "metadata": {
        "colab": {
          "base_uri": "https://localhost:8080/",
          "height": 279
        },
        "id": "jTekMqfvp-e-",
        "outputId": "4e27a135-d9df-4b2d-d844-e0bbf4101c4a"
      },
      "execution_count": 42,
      "outputs": [
        {
          "output_type": "display_data",
          "data": {
            "text/plain": [
              "<Figure size 432x288 with 1 Axes>"
            ],
            "image/png": "[encoded data removed]"
          },
          "metadata": {
            "needs_background": "light"
          }
        }
      ]
    },
    {
      "cell_type": "markdown",
      "source": [
        "# Cross Validation of the model"
      ],
      "metadata": {
        "id": "NWxhndBmtj-W"
      }
    },
    {
      "cell_type": "code",
      "source": [
        "from sklearn.model_selection import cross_val_score"
      ],
      "metadata": {
        "id": "smNUtrUwqJ81"
      },
      "execution_count": 43,
      "outputs": []
    },
    {
      "cell_type": "code",
      "source": [
        "r2_scores = cross_val_score(grid_cv_dtm.best_estimator_, X, y, cv=10)\n",
        "mse_scores = cross_val_score(grid_cv_dtm.best_estimator_, X, y, cv=10,scoring='neg_mean_squared_error')\n",
        "\n",
        "print(\"avg R-squared::{:.3f}\".format(np.mean(r2_scores)))\n",
        "print(\"MSE::{:.3f}\".format(np.mean(mse_scores)))"
      ],
      "metadata": {
        "colab": {
          "base_uri": "https://localhost:8080/"
        },
        "id": "L4epCCTPqpVF",
        "outputId": "2a31e788-217e-4689-9942-4c25f4cdea9e"
      },
      "execution_count": 44,
      "outputs": [
        {
          "output_type": "stream",
          "name": "stdout",
          "text": [
            "avg R-squared::0.758\n",
            "MSE::-38.978\n"
          ]
        }
      ]
    },
    {
      "cell_type": "markdown",
      "source": [
        "# Performance Metrics "
      ],
      "metadata": {
        "id": "3cThAoifx1cm"
      }
    },
    {
      "cell_type": "code",
      "source": [
        "from sklearn.metrics import mean_squared_error"
      ],
      "metadata": {
        "id": "3pOXUCjBq3gI"
      },
      "execution_count": 45,
      "outputs": []
    },
    {
      "cell_type": "code",
      "source": [
        "best_dtm_model = grid_cv_dtm.best_estimator_\n",
        "\n",
        "y_pred = best_dtm_model.predict(X_test)\n",
        "residuals = y_test - y_pred\n",
        "\n",
        "\n",
        "r2_score = best_dtm_model.score(X_test,y_test)\n",
        "print(\"R-squared:{:.3f}\".format(r2_score))\n",
        "print(\"MSE: %.2f\" % mean_squared_error(y_test, y_pred))"
      ],
      "metadata": {
        "colab": {
          "base_uri": "https://localhost:8080/"
        },
        "id": "VZoiplspqt-U",
        "outputId": "01ece862-c0e0-41e9-80d9-7087b72f6064"
      },
      "execution_count": 46,
      "outputs": [
        {
          "output_type": "stream",
          "name": "stdout",
          "text": [
            "R-squared:0.774\n",
            "MSE: 35.38\n"
          ]
        }
      ]
    },
    {
      "cell_type": "code",
      "source": [],
      "metadata": {
        "id": "G76ScFb-q9G9"
      },
      "execution_count": null,
      "outputs": []
    }
  ]
}