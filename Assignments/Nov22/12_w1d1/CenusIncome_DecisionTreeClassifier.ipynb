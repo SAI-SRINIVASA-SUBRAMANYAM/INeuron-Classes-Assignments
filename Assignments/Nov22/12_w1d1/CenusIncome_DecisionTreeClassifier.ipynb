{
  "nbformat": 4,
  "nbformat_minor": 0,
  "metadata": {
    "colab": {
      "provenance": [],
      "collapsed_sections": []
    },
    "kernelspec": {
      "name": "python3",
      "display_name": "Python 3"
    },
    "language_info": {
      "name": "python"
    }
  },
  "cells": [
    {
      "cell_type": "markdown",
      "source": [
        "**Cencus Income - Decision Tree Classifier**"
      ],
      "metadata": {
        "id": "_1iRbXb466gv"
      }
    },
    {
      "cell_type": "markdown",
      "source": [
        "# Data Gathering"
      ],
      "metadata": {
        "id": "LRvzmGpM7C8J"
      }
    },
    {
      "cell_type": "code",
      "execution_count": 1,
      "metadata": {
        "id": "Ycc_ulEx6j0X"
      },
      "outputs": [],
      "source": [
        "from urllib.request import urlopen\n",
        "from io import BytesIO"
      ]
    },
    {
      "cell_type": "code",
      "source": [
        "def parse_binary_data_uci_repo(URL):\n",
        "  with urlopen(URL) as fptr:\n",
        "    return BytesIO(fptr.read())"
      ],
      "metadata": {
        "id": "CQiyTwCi7Me4"
      },
      "execution_count": 2,
      "outputs": []
    },
    {
      "cell_type": "code",
      "source": [
        "DATA_URL = \"https://archive.ics.uci.edu/ml/machine-learning-databases/adult/adult.data\"\n",
        "data = parse_binary_data_uci_repo(DATA_URL)\n"
      ],
      "metadata": {
        "id": "qkdCICmH7P6B"
      },
      "execution_count": 3,
      "outputs": []
    },
    {
      "cell_type": "code",
      "source": [
        "TEST_DATA_URL = \"https://archive.ics.uci.edu/ml/machine-learning-databases/adult/adult.test\"\n",
        "test_data = parse_binary_data_uci_repo(TEST_DATA_URL)\n"
      ],
      "metadata": {
        "id": "HXWKLF5J7RCO"
      },
      "execution_count": 4,
      "outputs": []
    },
    {
      "cell_type": "code",
      "source": [
        "HEADER_URL = \"https://archive.ics.uci.edu/ml/machine-learning-databases/adult/adult.names\"\n",
        "data_info = parse_binary_data_uci_repo(HEADER_URL)\n",
        "header_info = data_info.readlines()[-1:-15:-1]\n"
      ],
      "metadata": {
        "id": "VX8bDdZM7SQi"
      },
      "execution_count": 5,
      "outputs": []
    },
    {
      "cell_type": "code",
      "source": [
        "columns = []\n",
        "for header in header_info[::-1]:\n",
        "  columns.append(header.decode().split(':')[0])\n",
        "columns.append(\"Income\")\n"
      ],
      "metadata": {
        "id": "SvoGLxCv7TZa"
      },
      "execution_count": 6,
      "outputs": []
    },
    {
      "cell_type": "markdown",
      "source": [
        "# Data Ingestion"
      ],
      "metadata": {
        "id": "8keZswkz7ePS"
      }
    },
    {
      "cell_type": "code",
      "source": [
        "import pandas as pd\n",
        "import numpy as np"
      ],
      "metadata": {
        "id": "tF4z2wOY7ayF"
      },
      "execution_count": 7,
      "outputs": []
    },
    {
      "cell_type": "code",
      "source": [
        "data.seek(0)\n",
        "df = pd.read_csv(data, skip_blank_lines=True, header=None, names=columns, sep=' *, *', na_values='?')"
      ],
      "metadata": {
        "colab": {
          "base_uri": "https://localhost:8080/"
        },
        "id": "8Ds4P7fE78EW",
        "outputId": "e732637c-3369-4839-c109-64efc19345f5"
      },
      "execution_count": 8,
      "outputs": [
        {
          "output_type": "stream",
          "name": "stderr",
          "text": [
            "/usr/local/lib/python3.7/dist-packages/pandas/util/_decorators.py:311: ParserWarning: Falling back to the 'python' engine because the 'c' engine does not support regex separators (separators > 1 char and different from '\\s+' are interpreted as regex); you can avoid this warning by specifying engine='python'.\n",
            "  return func(*args, **kwargs)\n"
          ]
        }
      ]
    },
    {
      "cell_type": "code",
      "source": [
        "test_data.seek(0)\n",
        "test_df = pd.read_csv(test_data, skip_blank_lines=True, header=None, skiprows=1, names=columns, sep=' *, *', na_values='?')"
      ],
      "metadata": {
        "id": "dWBa9Adv79xL"
      },
      "execution_count": 9,
      "outputs": []
    },
    {
      "cell_type": "code",
      "source": [
        "df = df.sample(frac=0.3)"
      ],
      "metadata": {
        "id": "JHhUVeCY8SkZ"
      },
      "execution_count": 10,
      "outputs": []
    },
    {
      "cell_type": "code",
      "source": [
        "df.shape"
      ],
      "metadata": {
        "colab": {
          "base_uri": "https://localhost:8080/"
        },
        "id": "euMuNsGE8PKF",
        "outputId": "ee64d131-b00f-4e79-c554-fa160c5e44f8"
      },
      "execution_count": 11,
      "outputs": [
        {
          "output_type": "execute_result",
          "data": {
            "text/plain": [
              "(9768, 15)"
            ]
          },
          "metadata": {},
          "execution_count": 11
        }
      ]
    },
    {
      "cell_type": "code",
      "source": [
        "test_df = test_df.sample(frac=0.3) "
      ],
      "metadata": {
        "id": "lK3xi0T_8YrR"
      },
      "execution_count": 12,
      "outputs": []
    },
    {
      "cell_type": "markdown",
      "source": [
        "# EDA"
      ],
      "metadata": {
        "id": "oD9mjaOu93M6"
      }
    },
    {
      "cell_type": "markdown",
      "source": [
        "## Dropping null values"
      ],
      "metadata": {
        "id": "lveHMAqr98Zq"
      }
    },
    {
      "cell_type": "code",
      "source": [
        "test_df.shape"
      ],
      "metadata": {
        "colab": {
          "base_uri": "https://localhost:8080/"
        },
        "id": "ikhQcPab8gZj",
        "outputId": "8626048e-9339-4d79-9171-9c3fa76c820e"
      },
      "execution_count": 13,
      "outputs": [
        {
          "output_type": "execute_result",
          "data": {
            "text/plain": [
              "(4884, 15)"
            ]
          },
          "metadata": {},
          "execution_count": 13
        }
      ]
    },
    {
      "cell_type": "code",
      "source": [
        "df.isna().sum()"
      ],
      "metadata": {
        "colab": {
          "base_uri": "https://localhost:8080/"
        },
        "id": "5lH7mFTi8InZ",
        "outputId": "d0a1faf5-cfc1-4eef-9909-1062d2fc78d4"
      },
      "execution_count": 14,
      "outputs": [
        {
          "output_type": "execute_result",
          "data": {
            "text/plain": [
              "age                 0\n",
              "workclass         526\n",
              "fnlwgt              0\n",
              "education           0\n",
              "education-num       0\n",
              "marital-status      0\n",
              "occupation        530\n",
              "relationship        0\n",
              "race                0\n",
              "sex                 0\n",
              "capital-gain        0\n",
              "capital-loss        0\n",
              "hours-per-week      0\n",
              "native-country    174\n",
              "Income              0\n",
              "dtype: int64"
            ]
          },
          "metadata": {},
          "execution_count": 14
        }
      ]
    },
    {
      "cell_type": "code",
      "source": [
        "test_df.isna().sum()"
      ],
      "metadata": {
        "colab": {
          "base_uri": "https://localhost:8080/"
        },
        "id": "sYhHp-tp8Ndw",
        "outputId": "b4b7f598-1980-4c6c-d6d3-d6e21616f014"
      },
      "execution_count": 15,
      "outputs": [
        {
          "output_type": "execute_result",
          "data": {
            "text/plain": [
              "age                 0\n",
              "workclass         282\n",
              "fnlwgt              0\n",
              "education           0\n",
              "education-num       0\n",
              "marital-status      0\n",
              "occupation        285\n",
              "relationship        0\n",
              "race                0\n",
              "sex                 0\n",
              "capital-gain        0\n",
              "capital-loss        0\n",
              "hours-per-week      0\n",
              "native-country     66\n",
              "Income              0\n",
              "dtype: int64"
            ]
          },
          "metadata": {},
          "execution_count": 15
        }
      ]
    },
    {
      "cell_type": "code",
      "source": [
        "df.dropna(inplace=True)"
      ],
      "metadata": {
        "id": "tQ8TwuNf8nw3"
      },
      "execution_count": 16,
      "outputs": []
    },
    {
      "cell_type": "code",
      "source": [
        "df.isna().sum()"
      ],
      "metadata": {
        "colab": {
          "base_uri": "https://localhost:8080/"
        },
        "id": "iKnEv01d8w6T",
        "outputId": "cc1024d2-d485-400c-8ac1-3ea09105db32"
      },
      "execution_count": 17,
      "outputs": [
        {
          "output_type": "execute_result",
          "data": {
            "text/plain": [
              "age               0\n",
              "workclass         0\n",
              "fnlwgt            0\n",
              "education         0\n",
              "education-num     0\n",
              "marital-status    0\n",
              "occupation        0\n",
              "relationship      0\n",
              "race              0\n",
              "sex               0\n",
              "capital-gain      0\n",
              "capital-loss      0\n",
              "hours-per-week    0\n",
              "native-country    0\n",
              "Income            0\n",
              "dtype: int64"
            ]
          },
          "metadata": {},
          "execution_count": 17
        }
      ]
    },
    {
      "cell_type": "code",
      "source": [
        "df.shape"
      ],
      "metadata": {
        "colab": {
          "base_uri": "https://localhost:8080/"
        },
        "id": "lYyH9GjM806q",
        "outputId": "815f4461-8646-467f-d778-84910e28be48"
      },
      "execution_count": 18,
      "outputs": [
        {
          "output_type": "execute_result",
          "data": {
            "text/plain": [
              "(9071, 15)"
            ]
          },
          "metadata": {},
          "execution_count": 18
        }
      ]
    },
    {
      "cell_type": "code",
      "source": [
        "test_df.dropna(inplace=True)"
      ],
      "metadata": {
        "id": "vHAqc2oP820n"
      },
      "execution_count": 19,
      "outputs": []
    },
    {
      "cell_type": "code",
      "source": [
        "test_df.isna().sum()"
      ],
      "metadata": {
        "colab": {
          "base_uri": "https://localhost:8080/"
        },
        "id": "sqUB16sf8-g1",
        "outputId": "5cd64832-09d0-46fb-9cde-91ac91de9720"
      },
      "execution_count": 20,
      "outputs": [
        {
          "output_type": "execute_result",
          "data": {
            "text/plain": [
              "age               0\n",
              "workclass         0\n",
              "fnlwgt            0\n",
              "education         0\n",
              "education-num     0\n",
              "marital-status    0\n",
              "occupation        0\n",
              "relationship      0\n",
              "race              0\n",
              "sex               0\n",
              "capital-gain      0\n",
              "capital-loss      0\n",
              "hours-per-week    0\n",
              "native-country    0\n",
              "Income            0\n",
              "dtype: int64"
            ]
          },
          "metadata": {},
          "execution_count": 20
        }
      ]
    },
    {
      "cell_type": "code",
      "source": [
        "test_df.shape"
      ],
      "metadata": {
        "colab": {
          "base_uri": "https://localhost:8080/"
        },
        "id": "pwdnR9pz9Akf",
        "outputId": "c00d4f4d-9e08-4d3f-ad63-3f557aefc7b7"
      },
      "execution_count": 21,
      "outputs": [
        {
          "output_type": "execute_result",
          "data": {
            "text/plain": [
              "(4536, 15)"
            ]
          },
          "metadata": {},
          "execution_count": 21
        }
      ]
    },
    {
      "cell_type": "markdown",
      "source": [
        "## Dropping duplicate values"
      ],
      "metadata": {
        "id": "x2iYblfu-AGQ"
      }
    },
    {
      "cell_type": "code",
      "source": [
        "df.duplicated().sum()"
      ],
      "metadata": {
        "colab": {
          "base_uri": "https://localhost:8080/"
        },
        "id": "Ew0S1SfC9KV7",
        "outputId": "8ff22731-6e87-440a-fc47-0cc491c4a72e"
      },
      "execution_count": 22,
      "outputs": [
        {
          "output_type": "execute_result",
          "data": {
            "text/plain": [
              "2"
            ]
          },
          "metadata": {},
          "execution_count": 22
        }
      ]
    },
    {
      "cell_type": "code",
      "source": [
        "test_df.duplicated().sum()"
      ],
      "metadata": {
        "colab": {
          "base_uri": "https://localhost:8080/"
        },
        "id": "ezusfzywL5LZ",
        "outputId": "1abe3476-25cb-4f6d-aaa0-27c815b7269d"
      },
      "execution_count": 23,
      "outputs": [
        {
          "output_type": "execute_result",
          "data": {
            "text/plain": [
              "1"
            ]
          },
          "metadata": {},
          "execution_count": 23
        }
      ]
    },
    {
      "cell_type": "code",
      "source": [
        "df.drop_duplicates(inplace=True)"
      ],
      "metadata": {
        "id": "jv9puYgPMDSp"
      },
      "execution_count": 24,
      "outputs": []
    },
    {
      "cell_type": "code",
      "source": [
        "test_df.drop_duplicates(inplace=True)"
      ],
      "metadata": {
        "id": "JtX0PplCMO5D"
      },
      "execution_count": 25,
      "outputs": []
    },
    {
      "cell_type": "code",
      "source": [
        "df.duplicated().sum()"
      ],
      "metadata": {
        "colab": {
          "base_uri": "https://localhost:8080/"
        },
        "id": "OEfd7pGyMP3a",
        "outputId": "6ba394e1-f5f4-48bb-a6dd-9a9c57c1a3fc"
      },
      "execution_count": 26,
      "outputs": [
        {
          "output_type": "execute_result",
          "data": {
            "text/plain": [
              "0"
            ]
          },
          "metadata": {},
          "execution_count": 26
        }
      ]
    },
    {
      "cell_type": "code",
      "source": [
        "test_df.duplicated().sum()"
      ],
      "metadata": {
        "colab": {
          "base_uri": "https://localhost:8080/"
        },
        "id": "wYvQQQOSMSC6",
        "outputId": "9c69e27f-28c1-4142-9c6b-e2b52cea6416"
      },
      "execution_count": 27,
      "outputs": [
        {
          "output_type": "execute_result",
          "data": {
            "text/plain": [
              "0"
            ]
          },
          "metadata": {},
          "execution_count": 27
        }
      ]
    },
    {
      "cell_type": "code",
      "source": [
        "df.shape"
      ],
      "metadata": {
        "colab": {
          "base_uri": "https://localhost:8080/"
        },
        "id": "G5T-0dTvMTLT",
        "outputId": "a7f05dc2-c496-46fd-cbd2-9c007dfb9ed1"
      },
      "execution_count": 28,
      "outputs": [
        {
          "output_type": "execute_result",
          "data": {
            "text/plain": [
              "(9069, 15)"
            ]
          },
          "metadata": {},
          "execution_count": 28
        }
      ]
    },
    {
      "cell_type": "code",
      "source": [
        "test_df.shape"
      ],
      "metadata": {
        "colab": {
          "base_uri": "https://localhost:8080/"
        },
        "id": "qPhQo06qMUxq",
        "outputId": "b06aea06-3db4-4429-96d1-8fe98c18863e"
      },
      "execution_count": 29,
      "outputs": [
        {
          "output_type": "execute_result",
          "data": {
            "text/plain": [
              "(4535, 15)"
            ]
          },
          "metadata": {},
          "execution_count": 29
        }
      ]
    },
    {
      "cell_type": "markdown",
      "source": [
        "## Drop irrelavant columns"
      ],
      "metadata": {
        "id": "TWu18iShNU6Y"
      }
    },
    {
      "cell_type": "code",
      "source": [
        "df = df.drop(labels=['education', 'fnlwgt'], axis=1)\n",
        "test_df = test_df.drop(labels=['education', 'fnlwgt'], axis=1)"
      ],
      "metadata": {
        "id": "03E5khhTNUnc"
      },
      "execution_count": 30,
      "outputs": []
    },
    {
      "cell_type": "code",
      "source": [
        "df.shape"
      ],
      "metadata": {
        "colab": {
          "base_uri": "https://localhost:8080/"
        },
        "id": "4jvz_eXKNb68",
        "outputId": "2171635e-2012-4d63-ab97-5dd1b64d93ed"
      },
      "execution_count": 31,
      "outputs": [
        {
          "output_type": "execute_result",
          "data": {
            "text/plain": [
              "(9069, 13)"
            ]
          },
          "metadata": {},
          "execution_count": 31
        }
      ]
    },
    {
      "cell_type": "code",
      "source": [
        "test_df.shape"
      ],
      "metadata": {
        "colab": {
          "base_uri": "https://localhost:8080/"
        },
        "id": "MF7PKQ1UNb2W",
        "outputId": "8f38f957-9bb6-4415-a7d3-2c51c6da8d5a"
      },
      "execution_count": 32,
      "outputs": [
        {
          "output_type": "execute_result",
          "data": {
            "text/plain": [
              "(4535, 13)"
            ]
          },
          "metadata": {},
          "execution_count": 32
        }
      ]
    },
    {
      "cell_type": "markdown",
      "source": [
        "## Conversion of Income Label to Classifier"
      ],
      "metadata": {
        "id": "8nPDYLIyNuYW"
      }
    },
    {
      "cell_type": "code",
      "source": [
        "df.groupby(['Income'])[['Income']].count()"
      ],
      "metadata": {
        "colab": {
          "base_uri": "https://localhost:8080/",
          "height": 143
        },
        "id": "71Ehvb42OdcM",
        "outputId": "d53f435e-9709-4f4a-dde6-89ff2f4932f4"
      },
      "execution_count": 33,
      "outputs": [
        {
          "output_type": "execute_result",
          "data": {
            "text/plain": [
              "        Income\n",
              "Income        \n",
              "<=50K     6813\n",
              ">50K      2256"
            ],
            "text/html": [
              "\n",
              "  <div id=\"df-76ec71d5-9c67-4e6f-a954-1781dff2f2f9\">\n",
              "    <div class=\"colab-df-container\">\n",
              "      <div>\n",
              "<style scoped>\n",
              "    .dataframe tbody tr th:only-of-type {\n",
              "        vertical-align: middle;\n",
              "    }\n",
              "\n",
              "    .dataframe tbody tr th {\n",
              "        vertical-align: top;\n",
              "    }\n",
              "\n",
              "    .dataframe thead th {\n",
              "        text-align: right;\n",
              "    }\n",
              "</style>\n",
              "<table border=\"1\" class=\"dataframe\">\n",
              "  <thead>\n",
              "    <tr style=\"text-align: right;\">\n",
              "      <th></th>\n",
              "      <th>Income</th>\n",
              "    </tr>\n",
              "    <tr>\n",
              "      <th>Income</th>\n",
              "      <th></th>\n",
              "    </tr>\n",
              "  </thead>\n",
              "  <tbody>\n",
              "    <tr>\n",
              "      <th>&lt;=50K</th>\n",
              "      <td>6813</td>\n",
              "    </tr>\n",
              "    <tr>\n",
              "      <th>&gt;50K</th>\n",
              "      <td>2256</td>\n",
              "    </tr>\n",
              "  </tbody>\n",
              "</table>\n",
              "</div>\n",
              "      <button class=\"colab-df-convert\" onclick=\"convertToInteractive('df-76ec71d5-9c67-4e6f-a954-1781dff2f2f9')\"\n",
              "              title=\"Convert this dataframe to an interactive table.\"\n",
              "              style=\"display:none;\">\n",
              "        \n",
              "  <svg xmlns=\"http://www.w3.org/2000/svg\" height=\"24px\"viewBox=\"0 0 24 24\"\n",
              "       width=\"24px\">\n",
              "    <path d=\"M0 0h24v24H0V0z\" fill=\"none\"/>\n",
              "    <path d=\"M18.56 5.44l.94 2.06.94-2.06 2.06-.94-2.06-.94-.94-2.06-.94 2.06-2.06.94zm-11 1L8.5 8.5l.94-2.06 2.06-.94-2.06-.94L8.5 2.5l-.94 2.06-2.06.94zm10 10l.94 2.06.94-2.06 2.06-.94-2.06-.94-.94-2.06-.94 2.06-2.06.94z\"/><path d=\"M17.41 7.96l-1.37-1.37c-.4-.4-.92-.59-1.43-.59-.52 0-1.04.2-1.43.59L10.3 9.45l-7.72 7.72c-.78.78-.78 2.05 0 2.83L4 21.41c.39.39.9.59 1.41.59.51 0 1.02-.2 1.41-.59l7.78-7.78 2.81-2.81c.8-.78.8-2.07 0-2.86zM5.41 20L4 18.59l7.72-7.72 1.47 1.35L5.41 20z\"/>\n",
              "  </svg>\n",
              "      </button>\n",
              "      \n",
              "  <style>\n",
              "    .colab-df-container {\n",
              "      display:flex;\n",
              "      flex-wrap:wrap;\n",
              "      gap: 12px;\n",
              "    }\n",
              "\n",
              "    .colab-df-convert {\n",
              "      background-color: #E8F0FE;\n",
              "      border: none;\n",
              "      border-radius: 50%;\n",
              "      cursor: pointer;\n",
              "      display: none;\n",
              "      fill: #1967D2;\n",
              "      height: 32px;\n",
              "      padding: 0 0 0 0;\n",
              "      width: 32px;\n",
              "    }\n",
              "\n",
              "    .colab-df-convert:hover {\n",
              "      background-color: #E2EBFA;\n",
              "      box-shadow: 0px 1px 2px rgba(60, 64, 67, 0.3), 0px 1px 3px 1px rgba(60, 64, 67, 0.15);\n",
              "      fill: #174EA6;\n",
              "    }\n",
              "\n",
              "    [theme=dark] .colab-df-convert {\n",
              "      background-color: #3B4455;\n",
              "      fill: #D2E3FC;\n",
              "    }\n",
              "\n",
              "    [theme=dark] .colab-df-convert:hover {\n",
              "      background-color: #434B5C;\n",
              "      box-shadow: 0px 1px 3px 1px rgba(0, 0, 0, 0.15);\n",
              "      filter: drop-shadow(0px 1px 2px rgba(0, 0, 0, 0.3));\n",
              "      fill: #FFFFFF;\n",
              "    }\n",
              "  </style>\n",
              "\n",
              "      <script>\n",
              "        const buttonEl =\n",
              "          document.querySelector('#df-76ec71d5-9c67-4e6f-a954-1781dff2f2f9 button.colab-df-convert');\n",
              "        buttonEl.style.display =\n",
              "          google.colab.kernel.accessAllowed ? 'block' : 'none';\n",
              "\n",
              "        async function convertToInteractive(key) {\n",
              "          const element = document.querySelector('#df-76ec71d5-9c67-4e6f-a954-1781dff2f2f9');\n",
              "          const dataTable =\n",
              "            await google.colab.kernel.invokeFunction('convertToInteractive',\n",
              "                                                     [key], {});\n",
              "          if (!dataTable) return;\n",
              "\n",
              "          const docLinkHtml = 'Like what you see? Visit the ' +\n",
              "            '<a target=\"_blank\" href=https://colab.research.google.com/notebooks/data_table.ipynb>data table notebook</a>'\n",
              "            + ' to learn more about interactive tables.';\n",
              "          element.innerHTML = '';\n",
              "          dataTable['output_type'] = 'display_data';\n",
              "          await google.colab.output.renderOutput(dataTable, element);\n",
              "          const docLink = document.createElement('div');\n",
              "          docLink.innerHTML = docLinkHtml;\n",
              "          element.appendChild(docLink);\n",
              "        }\n",
              "      </script>\n",
              "    </div>\n",
              "  </div>\n",
              "  "
            ]
          },
          "metadata": {},
          "execution_count": 33
        }
      ]
    },
    {
      "cell_type": "code",
      "source": [
        "test_df.groupby(['Income'])[['Income']].count()"
      ],
      "metadata": {
        "colab": {
          "base_uri": "https://localhost:8080/",
          "height": 143
        },
        "id": "FVlSmcAOOtHl",
        "outputId": "ddabf89b-40d5-424c-f2cd-2eb56c5e1850"
      },
      "execution_count": 34,
      "outputs": [
        {
          "output_type": "execute_result",
          "data": {
            "text/plain": [
              "        Income\n",
              "Income        \n",
              "<=50K.    3407\n",
              ">50K.     1128"
            ],
            "text/html": [
              "\n",
              "  <div id=\"df-cea516b9-c006-4ed2-9a70-978869537d3a\">\n",
              "    <div class=\"colab-df-container\">\n",
              "      <div>\n",
              "<style scoped>\n",
              "    .dataframe tbody tr th:only-of-type {\n",
              "        vertical-align: middle;\n",
              "    }\n",
              "\n",
              "    .dataframe tbody tr th {\n",
              "        vertical-align: top;\n",
              "    }\n",
              "\n",
              "    .dataframe thead th {\n",
              "        text-align: right;\n",
              "    }\n",
              "</style>\n",
              "<table border=\"1\" class=\"dataframe\">\n",
              "  <thead>\n",
              "    <tr style=\"text-align: right;\">\n",
              "      <th></th>\n",
              "      <th>Income</th>\n",
              "    </tr>\n",
              "    <tr>\n",
              "      <th>Income</th>\n",
              "      <th></th>\n",
              "    </tr>\n",
              "  </thead>\n",
              "  <tbody>\n",
              "    <tr>\n",
              "      <th>&lt;=50K.</th>\n",
              "      <td>3407</td>\n",
              "    </tr>\n",
              "    <tr>\n",
              "      <th>&gt;50K.</th>\n",
              "      <td>1128</td>\n",
              "    </tr>\n",
              "  </tbody>\n",
              "</table>\n",
              "</div>\n",
              "      <button class=\"colab-df-convert\" onclick=\"convertToInteractive('df-cea516b9-c006-4ed2-9a70-978869537d3a')\"\n",
              "              title=\"Convert this dataframe to an interactive table.\"\n",
              "              style=\"display:none;\">\n",
              "        \n",
              "  <svg xmlns=\"http://www.w3.org/2000/svg\" height=\"24px\"viewBox=\"0 0 24 24\"\n",
              "       width=\"24px\">\n",
              "    <path d=\"M0 0h24v24H0V0z\" fill=\"none\"/>\n",
              "    <path d=\"M18.56 5.44l.94 2.06.94-2.06 2.06-.94-2.06-.94-.94-2.06-.94 2.06-2.06.94zm-11 1L8.5 8.5l.94-2.06 2.06-.94-2.06-.94L8.5 2.5l-.94 2.06-2.06.94zm10 10l.94 2.06.94-2.06 2.06-.94-2.06-.94-.94-2.06-.94 2.06-2.06.94z\"/><path d=\"M17.41 7.96l-1.37-1.37c-.4-.4-.92-.59-1.43-.59-.52 0-1.04.2-1.43.59L10.3 9.45l-7.72 7.72c-.78.78-.78 2.05 0 2.83L4 21.41c.39.39.9.59 1.41.59.51 0 1.02-.2 1.41-.59l7.78-7.78 2.81-2.81c.8-.78.8-2.07 0-2.86zM5.41 20L4 18.59l7.72-7.72 1.47 1.35L5.41 20z\"/>\n",
              "  </svg>\n",
              "      </button>\n",
              "      \n",
              "  <style>\n",
              "    .colab-df-container {\n",
              "      display:flex;\n",
              "      flex-wrap:wrap;\n",
              "      gap: 12px;\n",
              "    }\n",
              "\n",
              "    .colab-df-convert {\n",
              "      background-color: #E8F0FE;\n",
              "      border: none;\n",
              "      border-radius: 50%;\n",
              "      cursor: pointer;\n",
              "      display: none;\n",
              "      fill: #1967D2;\n",
              "      height: 32px;\n",
              "      padding: 0 0 0 0;\n",
              "      width: 32px;\n",
              "    }\n",
              "\n",
              "    .colab-df-convert:hover {\n",
              "      background-color: #E2EBFA;\n",
              "      box-shadow: 0px 1px 2px rgba(60, 64, 67, 0.3), 0px 1px 3px 1px rgba(60, 64, 67, 0.15);\n",
              "      fill: #174EA6;\n",
              "    }\n",
              "\n",
              "    [theme=dark] .colab-df-convert {\n",
              "      background-color: #3B4455;\n",
              "      fill: #D2E3FC;\n",
              "    }\n",
              "\n",
              "    [theme=dark] .colab-df-convert:hover {\n",
              "      background-color: #434B5C;\n",
              "      box-shadow: 0px 1px 3px 1px rgba(0, 0, 0, 0.15);\n",
              "      filter: drop-shadow(0px 1px 2px rgba(0, 0, 0, 0.3));\n",
              "      fill: #FFFFFF;\n",
              "    }\n",
              "  </style>\n",
              "\n",
              "      <script>\n",
              "        const buttonEl =\n",
              "          document.querySelector('#df-cea516b9-c006-4ed2-9a70-978869537d3a button.colab-df-convert');\n",
              "        buttonEl.style.display =\n",
              "          google.colab.kernel.accessAllowed ? 'block' : 'none';\n",
              "\n",
              "        async function convertToInteractive(key) {\n",
              "          const element = document.querySelector('#df-cea516b9-c006-4ed2-9a70-978869537d3a');\n",
              "          const dataTable =\n",
              "            await google.colab.kernel.invokeFunction('convertToInteractive',\n",
              "                                                     [key], {});\n",
              "          if (!dataTable) return;\n",
              "\n",
              "          const docLinkHtml = 'Like what you see? Visit the ' +\n",
              "            '<a target=\"_blank\" href=https://colab.research.google.com/notebooks/data_table.ipynb>data table notebook</a>'\n",
              "            + ' to learn more about interactive tables.';\n",
              "          element.innerHTML = '';\n",
              "          dataTable['output_type'] = 'display_data';\n",
              "          await google.colab.output.renderOutput(dataTable, element);\n",
              "          const docLink = document.createElement('div');\n",
              "          docLink.innerHTML = docLinkHtml;\n",
              "          element.appendChild(docLink);\n",
              "        }\n",
              "      </script>\n",
              "    </div>\n",
              "  </div>\n",
              "  "
            ]
          },
          "metadata": {},
          "execution_count": 34
        }
      ]
    },
    {
      "cell_type": "code",
      "source": [
        "df['Income'] = df['Income'].apply(lambda x: 1 if x == \">50K\" else 0)"
      ],
      "metadata": {
        "id": "7zd0c1UIOQER"
      },
      "execution_count": 35,
      "outputs": []
    },
    {
      "cell_type": "code",
      "source": [
        "test_df['Income'] = test_df['Income'].apply(lambda x: 0 if x == \"<=50K.\" else 1)"
      ],
      "metadata": {
        "id": "M3OLm062OP3F"
      },
      "execution_count": 36,
      "outputs": []
    },
    {
      "cell_type": "code",
      "source": [
        "df.groupby(['Income'])[['Income']].count()"
      ],
      "metadata": {
        "colab": {
          "base_uri": "https://localhost:8080/",
          "height": 143
        },
        "id": "q-ghqS1xPEqU",
        "outputId": "a72a0ec3-712b-4a47-c8c7-5c7dd38776a9"
      },
      "execution_count": 37,
      "outputs": [
        {
          "output_type": "execute_result",
          "data": {
            "text/plain": [
              "        Income\n",
              "Income        \n",
              "0         6813\n",
              "1         2256"
            ],
            "text/html": [
              "\n",
              "  <div id=\"df-89caea06-e035-45b5-95ef-724cadbc8187\">\n",
              "    <div class=\"colab-df-container\">\n",
              "      <div>\n",
              "<style scoped>\n",
              "    .dataframe tbody tr th:only-of-type {\n",
              "        vertical-align: middle;\n",
              "    }\n",
              "\n",
              "    .dataframe tbody tr th {\n",
              "        vertical-align: top;\n",
              "    }\n",
              "\n",
              "    .dataframe thead th {\n",
              "        text-align: right;\n",
              "    }\n",
              "</style>\n",
              "<table border=\"1\" class=\"dataframe\">\n",
              "  <thead>\n",
              "    <tr style=\"text-align: right;\">\n",
              "      <th></th>\n",
              "      <th>Income</th>\n",
              "    </tr>\n",
              "    <tr>\n",
              "      <th>Income</th>\n",
              "      <th></th>\n",
              "    </tr>\n",
              "  </thead>\n",
              "  <tbody>\n",
              "    <tr>\n",
              "      <th>0</th>\n",
              "      <td>6813</td>\n",
              "    </tr>\n",
              "    <tr>\n",
              "      <th>1</th>\n",
              "      <td>2256</td>\n",
              "    </tr>\n",
              "  </tbody>\n",
              "</table>\n",
              "</div>\n",
              "      <button class=\"colab-df-convert\" onclick=\"convertToInteractive('df-89caea06-e035-45b5-95ef-724cadbc8187')\"\n",
              "              title=\"Convert this dataframe to an interactive table.\"\n",
              "              style=\"display:none;\">\n",
              "        \n",
              "  <svg xmlns=\"http://www.w3.org/2000/svg\" height=\"24px\"viewBox=\"0 0 24 24\"\n",
              "       width=\"24px\">\n",
              "    <path d=\"M0 0h24v24H0V0z\" fill=\"none\"/>\n",
              "    <path d=\"M18.56 5.44l.94 2.06.94-2.06 2.06-.94-2.06-.94-.94-2.06-.94 2.06-2.06.94zm-11 1L8.5 8.5l.94-2.06 2.06-.94-2.06-.94L8.5 2.5l-.94 2.06-2.06.94zm10 10l.94 2.06.94-2.06 2.06-.94-2.06-.94-.94-2.06-.94 2.06-2.06.94z\"/><path d=\"M17.41 7.96l-1.37-1.37c-.4-.4-.92-.59-1.43-.59-.52 0-1.04.2-1.43.59L10.3 9.45l-7.72 7.72c-.78.78-.78 2.05 0 2.83L4 21.41c.39.39.9.59 1.41.59.51 0 1.02-.2 1.41-.59l7.78-7.78 2.81-2.81c.8-.78.8-2.07 0-2.86zM5.41 20L4 18.59l7.72-7.72 1.47 1.35L5.41 20z\"/>\n",
              "  </svg>\n",
              "      </button>\n",
              "      \n",
              "  <style>\n",
              "    .colab-df-container {\n",
              "      display:flex;\n",
              "      flex-wrap:wrap;\n",
              "      gap: 12px;\n",
              "    }\n",
              "\n",
              "    .colab-df-convert {\n",
              "      background-color: #E8F0FE;\n",
              "      border: none;\n",
              "      border-radius: 50%;\n",
              "      cursor: pointer;\n",
              "      display: none;\n",
              "      fill: #1967D2;\n",
              "      height: 32px;\n",
              "      padding: 0 0 0 0;\n",
              "      width: 32px;\n",
              "    }\n",
              "\n",
              "    .colab-df-convert:hover {\n",
              "      background-color: #E2EBFA;\n",
              "      box-shadow: 0px 1px 2px rgba(60, 64, 67, 0.3), 0px 1px 3px 1px rgba(60, 64, 67, 0.15);\n",
              "      fill: #174EA6;\n",
              "    }\n",
              "\n",
              "    [theme=dark] .colab-df-convert {\n",
              "      background-color: #3B4455;\n",
              "      fill: #D2E3FC;\n",
              "    }\n",
              "\n",
              "    [theme=dark] .colab-df-convert:hover {\n",
              "      background-color: #434B5C;\n",
              "      box-shadow: 0px 1px 3px 1px rgba(0, 0, 0, 0.15);\n",
              "      filter: drop-shadow(0px 1px 2px rgba(0, 0, 0, 0.3));\n",
              "      fill: #FFFFFF;\n",
              "    }\n",
              "  </style>\n",
              "\n",
              "      <script>\n",
              "        const buttonEl =\n",
              "          document.querySelector('#df-89caea06-e035-45b5-95ef-724cadbc8187 button.colab-df-convert');\n",
              "        buttonEl.style.display =\n",
              "          google.colab.kernel.accessAllowed ? 'block' : 'none';\n",
              "\n",
              "        async function convertToInteractive(key) {\n",
              "          const element = document.querySelector('#df-89caea06-e035-45b5-95ef-724cadbc8187');\n",
              "          const dataTable =\n",
              "            await google.colab.kernel.invokeFunction('convertToInteractive',\n",
              "                                                     [key], {});\n",
              "          if (!dataTable) return;\n",
              "\n",
              "          const docLinkHtml = 'Like what you see? Visit the ' +\n",
              "            '<a target=\"_blank\" href=https://colab.research.google.com/notebooks/data_table.ipynb>data table notebook</a>'\n",
              "            + ' to learn more about interactive tables.';\n",
              "          element.innerHTML = '';\n",
              "          dataTable['output_type'] = 'display_data';\n",
              "          await google.colab.output.renderOutput(dataTable, element);\n",
              "          const docLink = document.createElement('div');\n",
              "          docLink.innerHTML = docLinkHtml;\n",
              "          element.appendChild(docLink);\n",
              "        }\n",
              "      </script>\n",
              "    </div>\n",
              "  </div>\n",
              "  "
            ]
          },
          "metadata": {},
          "execution_count": 37
        }
      ]
    },
    {
      "cell_type": "code",
      "source": [
        "test_df.groupby(['Income'])[['Income']].count()"
      ],
      "metadata": {
        "colab": {
          "base_uri": "https://localhost:8080/",
          "height": 143
        },
        "id": "QVDZTECFPEje",
        "outputId": "8e81804c-4aa9-44e0-9eec-73a446170fa3"
      },
      "execution_count": 38,
      "outputs": [
        {
          "output_type": "execute_result",
          "data": {
            "text/plain": [
              "        Income\n",
              "Income        \n",
              "0         3407\n",
              "1         1128"
            ],
            "text/html": [
              "\n",
              "  <div id=\"df-76d8ea7b-8e0b-45d9-85f1-119e27eb2302\">\n",
              "    <div class=\"colab-df-container\">\n",
              "      <div>\n",
              "<style scoped>\n",
              "    .dataframe tbody tr th:only-of-type {\n",
              "        vertical-align: middle;\n",
              "    }\n",
              "\n",
              "    .dataframe tbody tr th {\n",
              "        vertical-align: top;\n",
              "    }\n",
              "\n",
              "    .dataframe thead th {\n",
              "        text-align: right;\n",
              "    }\n",
              "</style>\n",
              "<table border=\"1\" class=\"dataframe\">\n",
              "  <thead>\n",
              "    <tr style=\"text-align: right;\">\n",
              "      <th></th>\n",
              "      <th>Income</th>\n",
              "    </tr>\n",
              "    <tr>\n",
              "      <th>Income</th>\n",
              "      <th></th>\n",
              "    </tr>\n",
              "  </thead>\n",
              "  <tbody>\n",
              "    <tr>\n",
              "      <th>0</th>\n",
              "      <td>3407</td>\n",
              "    </tr>\n",
              "    <tr>\n",
              "      <th>1</th>\n",
              "      <td>1128</td>\n",
              "    </tr>\n",
              "  </tbody>\n",
              "</table>\n",
              "</div>\n",
              "      <button class=\"colab-df-convert\" onclick=\"convertToInteractive('df-76d8ea7b-8e0b-45d9-85f1-119e27eb2302')\"\n",
              "              title=\"Convert this dataframe to an interactive table.\"\n",
              "              style=\"display:none;\">\n",
              "        \n",
              "  <svg xmlns=\"http://www.w3.org/2000/svg\" height=\"24px\"viewBox=\"0 0 24 24\"\n",
              "       width=\"24px\">\n",
              "    <path d=\"M0 0h24v24H0V0z\" fill=\"none\"/>\n",
              "    <path d=\"M18.56 5.44l.94 2.06.94-2.06 2.06-.94-2.06-.94-.94-2.06-.94 2.06-2.06.94zm-11 1L8.5 8.5l.94-2.06 2.06-.94-2.06-.94L8.5 2.5l-.94 2.06-2.06.94zm10 10l.94 2.06.94-2.06 2.06-.94-2.06-.94-.94-2.06-.94 2.06-2.06.94z\"/><path d=\"M17.41 7.96l-1.37-1.37c-.4-.4-.92-.59-1.43-.59-.52 0-1.04.2-1.43.59L10.3 9.45l-7.72 7.72c-.78.78-.78 2.05 0 2.83L4 21.41c.39.39.9.59 1.41.59.51 0 1.02-.2 1.41-.59l7.78-7.78 2.81-2.81c.8-.78.8-2.07 0-2.86zM5.41 20L4 18.59l7.72-7.72 1.47 1.35L5.41 20z\"/>\n",
              "  </svg>\n",
              "      </button>\n",
              "      \n",
              "  <style>\n",
              "    .colab-df-container {\n",
              "      display:flex;\n",
              "      flex-wrap:wrap;\n",
              "      gap: 12px;\n",
              "    }\n",
              "\n",
              "    .colab-df-convert {\n",
              "      background-color: #E8F0FE;\n",
              "      border: none;\n",
              "      border-radius: 50%;\n",
              "      cursor: pointer;\n",
              "      display: none;\n",
              "      fill: #1967D2;\n",
              "      height: 32px;\n",
              "      padding: 0 0 0 0;\n",
              "      width: 32px;\n",
              "    }\n",
              "\n",
              "    .colab-df-convert:hover {\n",
              "      background-color: #E2EBFA;\n",
              "      box-shadow: 0px 1px 2px rgba(60, 64, 67, 0.3), 0px 1px 3px 1px rgba(60, 64, 67, 0.15);\n",
              "      fill: #174EA6;\n",
              "    }\n",
              "\n",
              "    [theme=dark] .colab-df-convert {\n",
              "      background-color: #3B4455;\n",
              "      fill: #D2E3FC;\n",
              "    }\n",
              "\n",
              "    [theme=dark] .colab-df-convert:hover {\n",
              "      background-color: #434B5C;\n",
              "      box-shadow: 0px 1px 3px 1px rgba(0, 0, 0, 0.15);\n",
              "      filter: drop-shadow(0px 1px 2px rgba(0, 0, 0, 0.3));\n",
              "      fill: #FFFFFF;\n",
              "    }\n",
              "  </style>\n",
              "\n",
              "      <script>\n",
              "        const buttonEl =\n",
              "          document.querySelector('#df-76d8ea7b-8e0b-45d9-85f1-119e27eb2302 button.colab-df-convert');\n",
              "        buttonEl.style.display =\n",
              "          google.colab.kernel.accessAllowed ? 'block' : 'none';\n",
              "\n",
              "        async function convertToInteractive(key) {\n",
              "          const element = document.querySelector('#df-76d8ea7b-8e0b-45d9-85f1-119e27eb2302');\n",
              "          const dataTable =\n",
              "            await google.colab.kernel.invokeFunction('convertToInteractive',\n",
              "                                                     [key], {});\n",
              "          if (!dataTable) return;\n",
              "\n",
              "          const docLinkHtml = 'Like what you see? Visit the ' +\n",
              "            '<a target=\"_blank\" href=https://colab.research.google.com/notebooks/data_table.ipynb>data table notebook</a>'\n",
              "            + ' to learn more about interactive tables.';\n",
              "          element.innerHTML = '';\n",
              "          dataTable['output_type'] = 'display_data';\n",
              "          await google.colab.output.renderOutput(dataTable, element);\n",
              "          const docLink = document.createElement('div');\n",
              "          docLink.innerHTML = docLinkHtml;\n",
              "          element.appendChild(docLink);\n",
              "        }\n",
              "      </script>\n",
              "    </div>\n",
              "  </div>\n",
              "  "
            ]
          },
          "metadata": {},
          "execution_count": 38
        }
      ]
    },
    {
      "cell_type": "markdown",
      "source": [
        "## Head, Correlation, Describe, Info"
      ],
      "metadata": {
        "id": "XcYCo88jM3lu"
      }
    },
    {
      "cell_type": "code",
      "source": [
        "df.head()"
      ],
      "metadata": {
        "colab": {
          "base_uri": "https://localhost:8080/",
          "height": 337
        },
        "id": "alpAkAlQNmAk",
        "outputId": "69f8e82d-eb58-4e79-d89b-f8323d6168b4"
      },
      "execution_count": 39,
      "outputs": [
        {
          "output_type": "execute_result",
          "data": {
            "text/plain": [
              "       age         workclass  education-num      marital-status  \\\n",
              "21      54           Private              9           Separated   \n",
              "28571   45         Local-gov             12  Married-civ-spouse   \n",
              "13389   39  Self-emp-not-inc             10  Married-civ-spouse   \n",
              "25464   24           Private             10       Never-married   \n",
              "30906   39  Self-emp-not-inc              5  Married-civ-spouse   \n",
              "\n",
              "              occupation    relationship   race     sex  capital-gain  \\\n",
              "21         Other-service       Unmarried  Black  Female             0   \n",
              "28571  Handlers-cleaners         Husband  White    Male             0   \n",
              "13389    Farming-fishing         Husband  White    Male             0   \n",
              "25464  Handlers-cleaners   Not-in-family  White    Male             0   \n",
              "30906    Farming-fishing  Other-relative  White    Male             0   \n",
              "\n",
              "       capital-loss  hours-per-week native-country  Income  \n",
              "21                0              20  United-States       0  \n",
              "28571             0              40  United-States       0  \n",
              "13389             0              60  United-States       0  \n",
              "25464             0              40  United-States       0  \n",
              "30906             0              40           Cuba       0  "
            ],
            "text/html": [
              "\n",
              "  <div id=\"df-e59e45ec-80c9-4011-8c10-487410f44d75\">\n",
              "    <div class=\"colab-df-container\">\n",
              "      <div>\n",
              "<style scoped>\n",
              "    .dataframe tbody tr th:only-of-type {\n",
              "        vertical-align: middle;\n",
              "    }\n",
              "\n",
              "    .dataframe tbody tr th {\n",
              "        vertical-align: top;\n",
              "    }\n",
              "\n",
              "    .dataframe thead th {\n",
              "        text-align: right;\n",
              "    }\n",
              "</style>\n",
              "<table border=\"1\" class=\"dataframe\">\n",
              "  <thead>\n",
              "    <tr style=\"text-align: right;\">\n",
              "      <th></th>\n",
              "      <th>age</th>\n",
              "      <th>workclass</th>\n",
              "      <th>education-num</th>\n",
              "      <th>marital-status</th>\n",
              "      <th>occupation</th>\n",
              "      <th>relationship</th>\n",
              "      <th>race</th>\n",
              "      <th>sex</th>\n",
              "      <th>capital-gain</th>\n",
              "      <th>capital-loss</th>\n",
              "      <th>hours-per-week</th>\n",
              "      <th>native-country</th>\n",
              "      <th>Income</th>\n",
              "    </tr>\n",
              "  </thead>\n",
              "  <tbody>\n",
              "    <tr>\n",
              "      <th>21</th>\n",
              "      <td>54</td>\n",
              "      <td>Private</td>\n",
              "      <td>9</td>\n",
              "      <td>Separated</td>\n",
              "      <td>Other-service</td>\n",
              "      <td>Unmarried</td>\n",
              "      <td>Black</td>\n",
              "      <td>Female</td>\n",
              "      <td>0</td>\n",
              "      <td>0</td>\n",
              "      <td>20</td>\n",
              "      <td>United-States</td>\n",
              "      <td>0</td>\n",
              "    </tr>\n",
              "    <tr>\n",
              "      <th>28571</th>\n",
              "      <td>45</td>\n",
              "      <td>Local-gov</td>\n",
              "      <td>12</td>\n",
              "      <td>Married-civ-spouse</td>\n",
              "      <td>Handlers-cleaners</td>\n",
              "      <td>Husband</td>\n",
              "      <td>White</td>\n",
              "      <td>Male</td>\n",
              "      <td>0</td>\n",
              "      <td>0</td>\n",
              "      <td>40</td>\n",
              "      <td>United-States</td>\n",
              "      <td>0</td>\n",
              "    </tr>\n",
              "    <tr>\n",
              "      <th>13389</th>\n",
              "      <td>39</td>\n",
              "      <td>Self-emp-not-inc</td>\n",
              "      <td>10</td>\n",
              "      <td>Married-civ-spouse</td>\n",
              "      <td>Farming-fishing</td>\n",
              "      <td>Husband</td>\n",
              "      <td>White</td>\n",
              "      <td>Male</td>\n",
              "      <td>0</td>\n",
              "      <td>0</td>\n",
              "      <td>60</td>\n",
              "      <td>United-States</td>\n",
              "      <td>0</td>\n",
              "    </tr>\n",
              "    <tr>\n",
              "      <th>25464</th>\n",
              "      <td>24</td>\n",
              "      <td>Private</td>\n",
              "      <td>10</td>\n",
              "      <td>Never-married</td>\n",
              "      <td>Handlers-cleaners</td>\n",
              "      <td>Not-in-family</td>\n",
              "      <td>White</td>\n",
              "      <td>Male</td>\n",
              "      <td>0</td>\n",
              "      <td>0</td>\n",
              "      <td>40</td>\n",
              "      <td>United-States</td>\n",
              "      <td>0</td>\n",
              "    </tr>\n",
              "    <tr>\n",
              "      <th>30906</th>\n",
              "      <td>39</td>\n",
              "      <td>Self-emp-not-inc</td>\n",
              "      <td>5</td>\n",
              "      <td>Married-civ-spouse</td>\n",
              "      <td>Farming-fishing</td>\n",
              "      <td>Other-relative</td>\n",
              "      <td>White</td>\n",
              "      <td>Male</td>\n",
              "      <td>0</td>\n",
              "      <td>0</td>\n",
              "      <td>40</td>\n",
              "      <td>Cuba</td>\n",
              "      <td>0</td>\n",
              "    </tr>\n",
              "  </tbody>\n",
              "</table>\n",
              "</div>\n",
              "      <button class=\"colab-df-convert\" onclick=\"convertToInteractive('df-e59e45ec-80c9-4011-8c10-487410f44d75')\"\n",
              "              title=\"Convert this dataframe to an interactive table.\"\n",
              "              style=\"display:none;\">\n",
              "        \n",
              "  <svg xmlns=\"http://www.w3.org/2000/svg\" height=\"24px\"viewBox=\"0 0 24 24\"\n",
              "       width=\"24px\">\n",
              "    <path d=\"M0 0h24v24H0V0z\" fill=\"none\"/>\n",
              "    <path d=\"M18.56 5.44l.94 2.06.94-2.06 2.06-.94-2.06-.94-.94-2.06-.94 2.06-2.06.94zm-11 1L8.5 8.5l.94-2.06 2.06-.94-2.06-.94L8.5 2.5l-.94 2.06-2.06.94zm10 10l.94 2.06.94-2.06 2.06-.94-2.06-.94-.94-2.06-.94 2.06-2.06.94z\"/><path d=\"M17.41 7.96l-1.37-1.37c-.4-.4-.92-.59-1.43-.59-.52 0-1.04.2-1.43.59L10.3 9.45l-7.72 7.72c-.78.78-.78 2.05 0 2.83L4 21.41c.39.39.9.59 1.41.59.51 0 1.02-.2 1.41-.59l7.78-7.78 2.81-2.81c.8-.78.8-2.07 0-2.86zM5.41 20L4 18.59l7.72-7.72 1.47 1.35L5.41 20z\"/>\n",
              "  </svg>\n",
              "      </button>\n",
              "      \n",
              "  <style>\n",
              "    .colab-df-container {\n",
              "      display:flex;\n",
              "      flex-wrap:wrap;\n",
              "      gap: 12px;\n",
              "    }\n",
              "\n",
              "    .colab-df-convert {\n",
              "      background-color: #E8F0FE;\n",
              "      border: none;\n",
              "      border-radius: 50%;\n",
              "      cursor: pointer;\n",
              "      display: none;\n",
              "      fill: #1967D2;\n",
              "      height: 32px;\n",
              "      padding: 0 0 0 0;\n",
              "      width: 32px;\n",
              "    }\n",
              "\n",
              "    .colab-df-convert:hover {\n",
              "      background-color: #E2EBFA;\n",
              "      box-shadow: 0px 1px 2px rgba(60, 64, 67, 0.3), 0px 1px 3px 1px rgba(60, 64, 67, 0.15);\n",
              "      fill: #174EA6;\n",
              "    }\n",
              "\n",
              "    [theme=dark] .colab-df-convert {\n",
              "      background-color: #3B4455;\n",
              "      fill: #D2E3FC;\n",
              "    }\n",
              "\n",
              "    [theme=dark] .colab-df-convert:hover {\n",
              "      background-color: #434B5C;\n",
              "      box-shadow: 0px 1px 3px 1px rgba(0, 0, 0, 0.15);\n",
              "      filter: drop-shadow(0px 1px 2px rgba(0, 0, 0, 0.3));\n",
              "      fill: #FFFFFF;\n",
              "    }\n",
              "  </style>\n",
              "\n",
              "      <script>\n",
              "        const buttonEl =\n",
              "          document.querySelector('#df-e59e45ec-80c9-4011-8c10-487410f44d75 button.colab-df-convert');\n",
              "        buttonEl.style.display =\n",
              "          google.colab.kernel.accessAllowed ? 'block' : 'none';\n",
              "\n",
              "        async function convertToInteractive(key) {\n",
              "          const element = document.querySelector('#df-e59e45ec-80c9-4011-8c10-487410f44d75');\n",
              "          const dataTable =\n",
              "            await google.colab.kernel.invokeFunction('convertToInteractive',\n",
              "                                                     [key], {});\n",
              "          if (!dataTable) return;\n",
              "\n",
              "          const docLinkHtml = 'Like what you see? Visit the ' +\n",
              "            '<a target=\"_blank\" href=https://colab.research.google.com/notebooks/data_table.ipynb>data table notebook</a>'\n",
              "            + ' to learn more about interactive tables.';\n",
              "          element.innerHTML = '';\n",
              "          dataTable['output_type'] = 'display_data';\n",
              "          await google.colab.output.renderOutput(dataTable, element);\n",
              "          const docLink = document.createElement('div');\n",
              "          docLink.innerHTML = docLinkHtml;\n",
              "          element.appendChild(docLink);\n",
              "        }\n",
              "      </script>\n",
              "    </div>\n",
              "  </div>\n",
              "  "
            ]
          },
          "metadata": {},
          "execution_count": 39
        }
      ]
    },
    {
      "cell_type": "code",
      "source": [
        "test_df.head()"
      ],
      "metadata": {
        "colab": {
          "base_uri": "https://localhost:8080/",
          "height": 354
        },
        "id": "hpfbxdntOGhK",
        "outputId": "64275f97-f959-4e7d-9526-cce02c37b2ee"
      },
      "execution_count": 40,
      "outputs": [
        {
          "output_type": "execute_result",
          "data": {
            "text/plain": [
              "       age         workclass  education-num      marital-status  \\\n",
              "2137    44           Private              9            Divorced   \n",
              "11723   35           Private             10       Never-married   \n",
              "13350   53  Self-emp-not-inc             10  Married-civ-spouse   \n",
              "4430    33         State-gov             13  Married-civ-spouse   \n",
              "4289    72           Private              5  Married-civ-spouse   \n",
              "\n",
              "              occupation   relationship                race     sex  \\\n",
              "2137               Sales  Not-in-family  Asian-Pac-Islander  Female   \n",
              "11723   Transport-moving  Not-in-family               White    Male   \n",
              "13350  Machine-op-inspct        Husband               White    Male   \n",
              "4430     Exec-managerial        Husband  Asian-Pac-Islander    Male   \n",
              "4289               Sales        Husband               White    Male   \n",
              "\n",
              "       capital-gain  capital-loss  hours-per-week native-country  Income  \n",
              "2137              0             0              40  United-States       0  \n",
              "11723             0             0              40  United-States       0  \n",
              "13350             0             0              30  United-States       0  \n",
              "4430              0             0              40    Philippines       0  \n",
              "4289              0             0              16  United-States       0  "
            ],
            "text/html": [
              "\n",
              "  <div id=\"df-68230a16-1193-4651-933d-3f6d3683f0fe\">\n",
              "    <div class=\"colab-df-container\">\n",
              "      <div>\n",
              "<style scoped>\n",
              "    .dataframe tbody tr th:only-of-type {\n",
              "        vertical-align: middle;\n",
              "    }\n",
              "\n",
              "    .dataframe tbody tr th {\n",
              "        vertical-align: top;\n",
              "    }\n",
              "\n",
              "    .dataframe thead th {\n",
              "        text-align: right;\n",
              "    }\n",
              "</style>\n",
              "<table border=\"1\" class=\"dataframe\">\n",
              "  <thead>\n",
              "    <tr style=\"text-align: right;\">\n",
              "      <th></th>\n",
              "      <th>age</th>\n",
              "      <th>workclass</th>\n",
              "      <th>education-num</th>\n",
              "      <th>marital-status</th>\n",
              "      <th>occupation</th>\n",
              "      <th>relationship</th>\n",
              "      <th>race</th>\n",
              "      <th>sex</th>\n",
              "      <th>capital-gain</th>\n",
              "      <th>capital-loss</th>\n",
              "      <th>hours-per-week</th>\n",
              "      <th>native-country</th>\n",
              "      <th>Income</th>\n",
              "    </tr>\n",
              "  </thead>\n",
              "  <tbody>\n",
              "    <tr>\n",
              "      <th>2137</th>\n",
              "      <td>44</td>\n",
              "      <td>Private</td>\n",
              "      <td>9</td>\n",
              "      <td>Divorced</td>\n",
              "      <td>Sales</td>\n",
              "      <td>Not-in-family</td>\n",
              "      <td>Asian-Pac-Islander</td>\n",
              "      <td>Female</td>\n",
              "      <td>0</td>\n",
              "      <td>0</td>\n",
              "      <td>40</td>\n",
              "      <td>United-States</td>\n",
              "      <td>0</td>\n",
              "    </tr>\n",
              "    <tr>\n",
              "      <th>11723</th>\n",
              "      <td>35</td>\n",
              "      <td>Private</td>\n",
              "      <td>10</td>\n",
              "      <td>Never-married</td>\n",
              "      <td>Transport-moving</td>\n",
              "      <td>Not-in-family</td>\n",
              "      <td>White</td>\n",
              "      <td>Male</td>\n",
              "      <td>0</td>\n",
              "      <td>0</td>\n",
              "      <td>40</td>\n",
              "      <td>United-States</td>\n",
              "      <td>0</td>\n",
              "    </tr>\n",
              "    <tr>\n",
              "      <th>13350</th>\n",
              "      <td>53</td>\n",
              "      <td>Self-emp-not-inc</td>\n",
              "      <td>10</td>\n",
              "      <td>Married-civ-spouse</td>\n",
              "      <td>Machine-op-inspct</td>\n",
              "      <td>Husband</td>\n",
              "      <td>White</td>\n",
              "      <td>Male</td>\n",
              "      <td>0</td>\n",
              "      <td>0</td>\n",
              "      <td>30</td>\n",
              "      <td>United-States</td>\n",
              "      <td>0</td>\n",
              "    </tr>\n",
              "    <tr>\n",
              "      <th>4430</th>\n",
              "      <td>33</td>\n",
              "      <td>State-gov</td>\n",
              "      <td>13</td>\n",
              "      <td>Married-civ-spouse</td>\n",
              "      <td>Exec-managerial</td>\n",
              "      <td>Husband</td>\n",
              "      <td>Asian-Pac-Islander</td>\n",
              "      <td>Male</td>\n",
              "      <td>0</td>\n",
              "      <td>0</td>\n",
              "      <td>40</td>\n",
              "      <td>Philippines</td>\n",
              "      <td>0</td>\n",
              "    </tr>\n",
              "    <tr>\n",
              "      <th>4289</th>\n",
              "      <td>72</td>\n",
              "      <td>Private</td>\n",
              "      <td>5</td>\n",
              "      <td>Married-civ-spouse</td>\n",
              "      <td>Sales</td>\n",
              "      <td>Husband</td>\n",
              "      <td>White</td>\n",
              "      <td>Male</td>\n",
              "      <td>0</td>\n",
              "      <td>0</td>\n",
              "      <td>16</td>\n",
              "      <td>United-States</td>\n",
              "      <td>0</td>\n",
              "    </tr>\n",
              "  </tbody>\n",
              "</table>\n",
              "</div>\n",
              "      <button class=\"colab-df-convert\" onclick=\"convertToInteractive('df-68230a16-1193-4651-933d-3f6d3683f0fe')\"\n",
              "              title=\"Convert this dataframe to an interactive table.\"\n",
              "              style=\"display:none;\">\n",
              "        \n",
              "  <svg xmlns=\"http://www.w3.org/2000/svg\" height=\"24px\"viewBox=\"0 0 24 24\"\n",
              "       width=\"24px\">\n",
              "    <path d=\"M0 0h24v24H0V0z\" fill=\"none\"/>\n",
              "    <path d=\"M18.56 5.44l.94 2.06.94-2.06 2.06-.94-2.06-.94-.94-2.06-.94 2.06-2.06.94zm-11 1L8.5 8.5l.94-2.06 2.06-.94-2.06-.94L8.5 2.5l-.94 2.06-2.06.94zm10 10l.94 2.06.94-2.06 2.06-.94-2.06-.94-.94-2.06-.94 2.06-2.06.94z\"/><path d=\"M17.41 7.96l-1.37-1.37c-.4-.4-.92-.59-1.43-.59-.52 0-1.04.2-1.43.59L10.3 9.45l-7.72 7.72c-.78.78-.78 2.05 0 2.83L4 21.41c.39.39.9.59 1.41.59.51 0 1.02-.2 1.41-.59l7.78-7.78 2.81-2.81c.8-.78.8-2.07 0-2.86zM5.41 20L4 18.59l7.72-7.72 1.47 1.35L5.41 20z\"/>\n",
              "  </svg>\n",
              "      </button>\n",
              "      \n",
              "  <style>\n",
              "    .colab-df-container {\n",
              "      display:flex;\n",
              "      flex-wrap:wrap;\n",
              "      gap: 12px;\n",
              "    }\n",
              "\n",
              "    .colab-df-convert {\n",
              "      background-color: #E8F0FE;\n",
              "      border: none;\n",
              "      border-radius: 50%;\n",
              "      cursor: pointer;\n",
              "      display: none;\n",
              "      fill: #1967D2;\n",
              "      height: 32px;\n",
              "      padding: 0 0 0 0;\n",
              "      width: 32px;\n",
              "    }\n",
              "\n",
              "    .colab-df-convert:hover {\n",
              "      background-color: #E2EBFA;\n",
              "      box-shadow: 0px 1px 2px rgba(60, 64, 67, 0.3), 0px 1px 3px 1px rgba(60, 64, 67, 0.15);\n",
              "      fill: #174EA6;\n",
              "    }\n",
              "\n",
              "    [theme=dark] .colab-df-convert {\n",
              "      background-color: #3B4455;\n",
              "      fill: #D2E3FC;\n",
              "    }\n",
              "\n",
              "    [theme=dark] .colab-df-convert:hover {\n",
              "      background-color: #434B5C;\n",
              "      box-shadow: 0px 1px 3px 1px rgba(0, 0, 0, 0.15);\n",
              "      filter: drop-shadow(0px 1px 2px rgba(0, 0, 0, 0.3));\n",
              "      fill: #FFFFFF;\n",
              "    }\n",
              "  </style>\n",
              "\n",
              "      <script>\n",
              "        const buttonEl =\n",
              "          document.querySelector('#df-68230a16-1193-4651-933d-3f6d3683f0fe button.colab-df-convert');\n",
              "        buttonEl.style.display =\n",
              "          google.colab.kernel.accessAllowed ? 'block' : 'none';\n",
              "\n",
              "        async function convertToInteractive(key) {\n",
              "          const element = document.querySelector('#df-68230a16-1193-4651-933d-3f6d3683f0fe');\n",
              "          const dataTable =\n",
              "            await google.colab.kernel.invokeFunction('convertToInteractive',\n",
              "                                                     [key], {});\n",
              "          if (!dataTable) return;\n",
              "\n",
              "          const docLinkHtml = 'Like what you see? Visit the ' +\n",
              "            '<a target=\"_blank\" href=https://colab.research.google.com/notebooks/data_table.ipynb>data table notebook</a>'\n",
              "            + ' to learn more about interactive tables.';\n",
              "          element.innerHTML = '';\n",
              "          dataTable['output_type'] = 'display_data';\n",
              "          await google.colab.output.renderOutput(dataTable, element);\n",
              "          const docLink = document.createElement('div');\n",
              "          docLink.innerHTML = docLinkHtml;\n",
              "          element.appendChild(docLink);\n",
              "        }\n",
              "      </script>\n",
              "    </div>\n",
              "  </div>\n",
              "  "
            ]
          },
          "metadata": {},
          "execution_count": 40
        }
      ]
    },
    {
      "cell_type": "code",
      "source": [
        "df.corr()"
      ],
      "metadata": {
        "colab": {
          "base_uri": "https://localhost:8080/",
          "height": 238
        },
        "id": "jtxI-hEOMV8i",
        "outputId": "98b19f12-deaa-49f2-e3c9-c9d5b082551d"
      },
      "execution_count": 41,
      "outputs": [
        {
          "output_type": "execute_result",
          "data": {
            "text/plain": [
              "                     age  education-num  capital-gain  capital-loss  \\\n",
              "age             1.000000       0.046959      0.069586      0.057408   \n",
              "education-num   0.046959       1.000000      0.108430      0.079338   \n",
              "capital-gain    0.069586       0.108430      1.000000     -0.032516   \n",
              "capital-loss    0.057408       0.079338     -0.032516      1.000000   \n",
              "hours-per-week  0.090937       0.153791      0.078365      0.039800   \n",
              "Income          0.231057       0.326568      0.225386      0.156310   \n",
              "\n",
              "                hours-per-week    Income  \n",
              "age                   0.090937  0.231057  \n",
              "education-num         0.153791  0.326568  \n",
              "capital-gain          0.078365  0.225386  \n",
              "capital-loss          0.039800  0.156310  \n",
              "hours-per-week        1.000000  0.224838  \n",
              "Income                0.224838  1.000000  "
            ],
            "text/html": [
              "\n",
              "  <div id=\"df-09268b8d-921c-4e46-8b34-f2cf989ca37a\">\n",
              "    <div class=\"colab-df-container\">\n",
              "      <div>\n",
              "<style scoped>\n",
              "    .dataframe tbody tr th:only-of-type {\n",
              "        vertical-align: middle;\n",
              "    }\n",
              "\n",
              "    .dataframe tbody tr th {\n",
              "        vertical-align: top;\n",
              "    }\n",
              "\n",
              "    .dataframe thead th {\n",
              "        text-align: right;\n",
              "    }\n",
              "</style>\n",
              "<table border=\"1\" class=\"dataframe\">\n",
              "  <thead>\n",
              "    <tr style=\"text-align: right;\">\n",
              "      <th></th>\n",
              "      <th>age</th>\n",
              "      <th>education-num</th>\n",
              "      <th>capital-gain</th>\n",
              "      <th>capital-loss</th>\n",
              "      <th>hours-per-week</th>\n",
              "      <th>Income</th>\n",
              "    </tr>\n",
              "  </thead>\n",
              "  <tbody>\n",
              "    <tr>\n",
              "      <th>age</th>\n",
              "      <td>1.000000</td>\n",
              "      <td>0.046959</td>\n",
              "      <td>0.069586</td>\n",
              "      <td>0.057408</td>\n",
              "      <td>0.090937</td>\n",
              "      <td>0.231057</td>\n",
              "    </tr>\n",
              "    <tr>\n",
              "      <th>education-num</th>\n",
              "      <td>0.046959</td>\n",
              "      <td>1.000000</td>\n",
              "      <td>0.108430</td>\n",
              "      <td>0.079338</td>\n",
              "      <td>0.153791</td>\n",
              "      <td>0.326568</td>\n",
              "    </tr>\n",
              "    <tr>\n",
              "      <th>capital-gain</th>\n",
              "      <td>0.069586</td>\n",
              "      <td>0.108430</td>\n",
              "      <td>1.000000</td>\n",
              "      <td>-0.032516</td>\n",
              "      <td>0.078365</td>\n",
              "      <td>0.225386</td>\n",
              "    </tr>\n",
              "    <tr>\n",
              "      <th>capital-loss</th>\n",
              "      <td>0.057408</td>\n",
              "      <td>0.079338</td>\n",
              "      <td>-0.032516</td>\n",
              "      <td>1.000000</td>\n",
              "      <td>0.039800</td>\n",
              "      <td>0.156310</td>\n",
              "    </tr>\n",
              "    <tr>\n",
              "      <th>hours-per-week</th>\n",
              "      <td>0.090937</td>\n",
              "      <td>0.153791</td>\n",
              "      <td>0.078365</td>\n",
              "      <td>0.039800</td>\n",
              "      <td>1.000000</td>\n",
              "      <td>0.224838</td>\n",
              "    </tr>\n",
              "    <tr>\n",
              "      <th>Income</th>\n",
              "      <td>0.231057</td>\n",
              "      <td>0.326568</td>\n",
              "      <td>0.225386</td>\n",
              "      <td>0.156310</td>\n",
              "      <td>0.224838</td>\n",
              "      <td>1.000000</td>\n",
              "    </tr>\n",
              "  </tbody>\n",
              "</table>\n",
              "</div>\n",
              "      <button class=\"colab-df-convert\" onclick=\"convertToInteractive('df-09268b8d-921c-4e46-8b34-f2cf989ca37a')\"\n",
              "              title=\"Convert this dataframe to an interactive table.\"\n",
              "              style=\"display:none;\">\n",
              "        \n",
              "  <svg xmlns=\"http://www.w3.org/2000/svg\" height=\"24px\"viewBox=\"0 0 24 24\"\n",
              "       width=\"24px\">\n",
              "    <path d=\"M0 0h24v24H0V0z\" fill=\"none\"/>\n",
              "    <path d=\"M18.56 5.44l.94 2.06.94-2.06 2.06-.94-2.06-.94-.94-2.06-.94 2.06-2.06.94zm-11 1L8.5 8.5l.94-2.06 2.06-.94-2.06-.94L8.5 2.5l-.94 2.06-2.06.94zm10 10l.94 2.06.94-2.06 2.06-.94-2.06-.94-.94-2.06-.94 2.06-2.06.94z\"/><path d=\"M17.41 7.96l-1.37-1.37c-.4-.4-.92-.59-1.43-.59-.52 0-1.04.2-1.43.59L10.3 9.45l-7.72 7.72c-.78.78-.78 2.05 0 2.83L4 21.41c.39.39.9.59 1.41.59.51 0 1.02-.2 1.41-.59l7.78-7.78 2.81-2.81c.8-.78.8-2.07 0-2.86zM5.41 20L4 18.59l7.72-7.72 1.47 1.35L5.41 20z\"/>\n",
              "  </svg>\n",
              "      </button>\n",
              "      \n",
              "  <style>\n",
              "    .colab-df-container {\n",
              "      display:flex;\n",
              "      flex-wrap:wrap;\n",
              "      gap: 12px;\n",
              "    }\n",
              "\n",
              "    .colab-df-convert {\n",
              "      background-color: #E8F0FE;\n",
              "      border: none;\n",
              "      border-radius: 50%;\n",
              "      cursor: pointer;\n",
              "      display: none;\n",
              "      fill: #1967D2;\n",
              "      height: 32px;\n",
              "      padding: 0 0 0 0;\n",
              "      width: 32px;\n",
              "    }\n",
              "\n",
              "    .colab-df-convert:hover {\n",
              "      background-color: #E2EBFA;\n",
              "      box-shadow: 0px 1px 2px rgba(60, 64, 67, 0.3), 0px 1px 3px 1px rgba(60, 64, 67, 0.15);\n",
              "      fill: #174EA6;\n",
              "    }\n",
              "\n",
              "    [theme=dark] .colab-df-convert {\n",
              "      background-color: #3B4455;\n",
              "      fill: #D2E3FC;\n",
              "    }\n",
              "\n",
              "    [theme=dark] .colab-df-convert:hover {\n",
              "      background-color: #434B5C;\n",
              "      box-shadow: 0px 1px 3px 1px rgba(0, 0, 0, 0.15);\n",
              "      filter: drop-shadow(0px 1px 2px rgba(0, 0, 0, 0.3));\n",
              "      fill: #FFFFFF;\n",
              "    }\n",
              "  </style>\n",
              "\n",
              "      <script>\n",
              "        const buttonEl =\n",
              "          document.querySelector('#df-09268b8d-921c-4e46-8b34-f2cf989ca37a button.colab-df-convert');\n",
              "        buttonEl.style.display =\n",
              "          google.colab.kernel.accessAllowed ? 'block' : 'none';\n",
              "\n",
              "        async function convertToInteractive(key) {\n",
              "          const element = document.querySelector('#df-09268b8d-921c-4e46-8b34-f2cf989ca37a');\n",
              "          const dataTable =\n",
              "            await google.colab.kernel.invokeFunction('convertToInteractive',\n",
              "                                                     [key], {});\n",
              "          if (!dataTable) return;\n",
              "\n",
              "          const docLinkHtml = 'Like what you see? Visit the ' +\n",
              "            '<a target=\"_blank\" href=https://colab.research.google.com/notebooks/data_table.ipynb>data table notebook</a>'\n",
              "            + ' to learn more about interactive tables.';\n",
              "          element.innerHTML = '';\n",
              "          dataTable['output_type'] = 'display_data';\n",
              "          await google.colab.output.renderOutput(dataTable, element);\n",
              "          const docLink = document.createElement('div');\n",
              "          docLink.innerHTML = docLinkHtml;\n",
              "          element.appendChild(docLink);\n",
              "        }\n",
              "      </script>\n",
              "    </div>\n",
              "  </div>\n",
              "  "
            ]
          },
          "metadata": {},
          "execution_count": 41
        }
      ]
    },
    {
      "cell_type": "code",
      "source": [
        "test_df.corr()"
      ],
      "metadata": {
        "colab": {
          "base_uri": "https://localhost:8080/",
          "height": 238
        },
        "id": "JAA6NcS1M6YA",
        "outputId": "039fd10d-9fea-4126-bcdd-4795dca2b40f"
      },
      "execution_count": 42,
      "outputs": [
        {
          "output_type": "execute_result",
          "data": {
            "text/plain": [
              "                     age  education-num  capital-gain  capital-loss  \\\n",
              "age             1.000000       0.028230      0.079496      0.046508   \n",
              "education-num   0.028230       1.000000      0.131281      0.081895   \n",
              "capital-gain    0.079496       0.131281      1.000000     -0.029995   \n",
              "capital-loss    0.046508       0.081895     -0.029995      1.000000   \n",
              "hours-per-week  0.094740       0.123288      0.087000      0.050791   \n",
              "Income          0.220632       0.327272      0.209789      0.159785   \n",
              "\n",
              "                hours-per-week    Income  \n",
              "age                   0.094740  0.220632  \n",
              "education-num         0.123288  0.327272  \n",
              "capital-gain          0.087000  0.209789  \n",
              "capital-loss          0.050791  0.159785  \n",
              "hours-per-week        1.000000  0.221962  \n",
              "Income                0.221962  1.000000  "
            ],
            "text/html": [
              "\n",
              "  <div id=\"df-aaa01a34-ecae-49d4-b709-71944aa3f39c\">\n",
              "    <div class=\"colab-df-container\">\n",
              "      <div>\n",
              "<style scoped>\n",
              "    .dataframe tbody tr th:only-of-type {\n",
              "        vertical-align: middle;\n",
              "    }\n",
              "\n",
              "    .dataframe tbody tr th {\n",
              "        vertical-align: top;\n",
              "    }\n",
              "\n",
              "    .dataframe thead th {\n",
              "        text-align: right;\n",
              "    }\n",
              "</style>\n",
              "<table border=\"1\" class=\"dataframe\">\n",
              "  <thead>\n",
              "    <tr style=\"text-align: right;\">\n",
              "      <th></th>\n",
              "      <th>age</th>\n",
              "      <th>education-num</th>\n",
              "      <th>capital-gain</th>\n",
              "      <th>capital-loss</th>\n",
              "      <th>hours-per-week</th>\n",
              "      <th>Income</th>\n",
              "    </tr>\n",
              "  </thead>\n",
              "  <tbody>\n",
              "    <tr>\n",
              "      <th>age</th>\n",
              "      <td>1.000000</td>\n",
              "      <td>0.028230</td>\n",
              "      <td>0.079496</td>\n",
              "      <td>0.046508</td>\n",
              "      <td>0.094740</td>\n",
              "      <td>0.220632</td>\n",
              "    </tr>\n",
              "    <tr>\n",
              "      <th>education-num</th>\n",
              "      <td>0.028230</td>\n",
              "      <td>1.000000</td>\n",
              "      <td>0.131281</td>\n",
              "      <td>0.081895</td>\n",
              "      <td>0.123288</td>\n",
              "      <td>0.327272</td>\n",
              "    </tr>\n",
              "    <tr>\n",
              "      <th>capital-gain</th>\n",
              "      <td>0.079496</td>\n",
              "      <td>0.131281</td>\n",
              "      <td>1.000000</td>\n",
              "      <td>-0.029995</td>\n",
              "      <td>0.087000</td>\n",
              "      <td>0.209789</td>\n",
              "    </tr>\n",
              "    <tr>\n",
              "      <th>capital-loss</th>\n",
              "      <td>0.046508</td>\n",
              "      <td>0.081895</td>\n",
              "      <td>-0.029995</td>\n",
              "      <td>1.000000</td>\n",
              "      <td>0.050791</td>\n",
              "      <td>0.159785</td>\n",
              "    </tr>\n",
              "    <tr>\n",
              "      <th>hours-per-week</th>\n",
              "      <td>0.094740</td>\n",
              "      <td>0.123288</td>\n",
              "      <td>0.087000</td>\n",
              "      <td>0.050791</td>\n",
              "      <td>1.000000</td>\n",
              "      <td>0.221962</td>\n",
              "    </tr>\n",
              "    <tr>\n",
              "      <th>Income</th>\n",
              "      <td>0.220632</td>\n",
              "      <td>0.327272</td>\n",
              "      <td>0.209789</td>\n",
              "      <td>0.159785</td>\n",
              "      <td>0.221962</td>\n",
              "      <td>1.000000</td>\n",
              "    </tr>\n",
              "  </tbody>\n",
              "</table>\n",
              "</div>\n",
              "      <button class=\"colab-df-convert\" onclick=\"convertToInteractive('df-aaa01a34-ecae-49d4-b709-71944aa3f39c')\"\n",
              "              title=\"Convert this dataframe to an interactive table.\"\n",
              "              style=\"display:none;\">\n",
              "        \n",
              "  <svg xmlns=\"http://www.w3.org/2000/svg\" height=\"24px\"viewBox=\"0 0 24 24\"\n",
              "       width=\"24px\">\n",
              "    <path d=\"M0 0h24v24H0V0z\" fill=\"none\"/>\n",
              "    <path d=\"M18.56 5.44l.94 2.06.94-2.06 2.06-.94-2.06-.94-.94-2.06-.94 2.06-2.06.94zm-11 1L8.5 8.5l.94-2.06 2.06-.94-2.06-.94L8.5 2.5l-.94 2.06-2.06.94zm10 10l.94 2.06.94-2.06 2.06-.94-2.06-.94-.94-2.06-.94 2.06-2.06.94z\"/><path d=\"M17.41 7.96l-1.37-1.37c-.4-.4-.92-.59-1.43-.59-.52 0-1.04.2-1.43.59L10.3 9.45l-7.72 7.72c-.78.78-.78 2.05 0 2.83L4 21.41c.39.39.9.59 1.41.59.51 0 1.02-.2 1.41-.59l7.78-7.78 2.81-2.81c.8-.78.8-2.07 0-2.86zM5.41 20L4 18.59l7.72-7.72 1.47 1.35L5.41 20z\"/>\n",
              "  </svg>\n",
              "      </button>\n",
              "      \n",
              "  <style>\n",
              "    .colab-df-container {\n",
              "      display:flex;\n",
              "      flex-wrap:wrap;\n",
              "      gap: 12px;\n",
              "    }\n",
              "\n",
              "    .colab-df-convert {\n",
              "      background-color: #E8F0FE;\n",
              "      border: none;\n",
              "      border-radius: 50%;\n",
              "      cursor: pointer;\n",
              "      display: none;\n",
              "      fill: #1967D2;\n",
              "      height: 32px;\n",
              "      padding: 0 0 0 0;\n",
              "      width: 32px;\n",
              "    }\n",
              "\n",
              "    .colab-df-convert:hover {\n",
              "      background-color: #E2EBFA;\n",
              "      box-shadow: 0px 1px 2px rgba(60, 64, 67, 0.3), 0px 1px 3px 1px rgba(60, 64, 67, 0.15);\n",
              "      fill: #174EA6;\n",
              "    }\n",
              "\n",
              "    [theme=dark] .colab-df-convert {\n",
              "      background-color: #3B4455;\n",
              "      fill: #D2E3FC;\n",
              "    }\n",
              "\n",
              "    [theme=dark] .colab-df-convert:hover {\n",
              "      background-color: #434B5C;\n",
              "      box-shadow: 0px 1px 3px 1px rgba(0, 0, 0, 0.15);\n",
              "      filter: drop-shadow(0px 1px 2px rgba(0, 0, 0, 0.3));\n",
              "      fill: #FFFFFF;\n",
              "    }\n",
              "  </style>\n",
              "\n",
              "      <script>\n",
              "        const buttonEl =\n",
              "          document.querySelector('#df-aaa01a34-ecae-49d4-b709-71944aa3f39c button.colab-df-convert');\n",
              "        buttonEl.style.display =\n",
              "          google.colab.kernel.accessAllowed ? 'block' : 'none';\n",
              "\n",
              "        async function convertToInteractive(key) {\n",
              "          const element = document.querySelector('#df-aaa01a34-ecae-49d4-b709-71944aa3f39c');\n",
              "          const dataTable =\n",
              "            await google.colab.kernel.invokeFunction('convertToInteractive',\n",
              "                                                     [key], {});\n",
              "          if (!dataTable) return;\n",
              "\n",
              "          const docLinkHtml = 'Like what you see? Visit the ' +\n",
              "            '<a target=\"_blank\" href=https://colab.research.google.com/notebooks/data_table.ipynb>data table notebook</a>'\n",
              "            + ' to learn more about interactive tables.';\n",
              "          element.innerHTML = '';\n",
              "          dataTable['output_type'] = 'display_data';\n",
              "          await google.colab.output.renderOutput(dataTable, element);\n",
              "          const docLink = document.createElement('div');\n",
              "          docLink.innerHTML = docLinkHtml;\n",
              "          element.appendChild(docLink);\n",
              "        }\n",
              "      </script>\n",
              "    </div>\n",
              "  </div>\n",
              "  "
            ]
          },
          "metadata": {},
          "execution_count": 42
        }
      ]
    },
    {
      "cell_type": "code",
      "source": [
        "df.describe()"
      ],
      "metadata": {
        "colab": {
          "base_uri": "https://localhost:8080/",
          "height": 300
        },
        "id": "9as1G4LiM7pp",
        "outputId": "21428616-90d7-48d5-c8a0-a00b046a74d7"
      },
      "execution_count": 43,
      "outputs": [
        {
          "output_type": "execute_result",
          "data": {
            "text/plain": [
              "               age  education-num  capital-gain  capital-loss  hours-per-week  \\\n",
              "count  9069.000000    9069.000000   9069.000000   9069.000000     9069.000000   \n",
              "mean     38.531591      10.129011   1032.828868     89.218877       40.926784   \n",
              "std      13.197953       2.571369   6932.928096    408.813160       12.042095   \n",
              "min      17.000000       1.000000      0.000000      0.000000        1.000000   \n",
              "25%      28.000000       9.000000      0.000000      0.000000       40.000000   \n",
              "50%      37.000000      10.000000      0.000000      0.000000       40.000000   \n",
              "75%      47.000000      13.000000      0.000000      0.000000       45.000000   \n",
              "max      90.000000      16.000000  99999.000000   3900.000000       99.000000   \n",
              "\n",
              "            Income  \n",
              "count  9069.000000  \n",
              "mean      0.248760  \n",
              "std       0.432318  \n",
              "min       0.000000  \n",
              "25%       0.000000  \n",
              "50%       0.000000  \n",
              "75%       0.000000  \n",
              "max       1.000000  "
            ],
            "text/html": [
              "\n",
              "  <div id=\"df-59a0a11c-2b67-4be0-9e6e-761a2d841c7a\">\n",
              "    <div class=\"colab-df-container\">\n",
              "      <div>\n",
              "<style scoped>\n",
              "    .dataframe tbody tr th:only-of-type {\n",
              "        vertical-align: middle;\n",
              "    }\n",
              "\n",
              "    .dataframe tbody tr th {\n",
              "        vertical-align: top;\n",
              "    }\n",
              "\n",
              "    .dataframe thead th {\n",
              "        text-align: right;\n",
              "    }\n",
              "</style>\n",
              "<table border=\"1\" class=\"dataframe\">\n",
              "  <thead>\n",
              "    <tr style=\"text-align: right;\">\n",
              "      <th></th>\n",
              "      <th>age</th>\n",
              "      <th>education-num</th>\n",
              "      <th>capital-gain</th>\n",
              "      <th>capital-loss</th>\n",
              "      <th>hours-per-week</th>\n",
              "      <th>Income</th>\n",
              "    </tr>\n",
              "  </thead>\n",
              "  <tbody>\n",
              "    <tr>\n",
              "      <th>count</th>\n",
              "      <td>9069.000000</td>\n",
              "      <td>9069.000000</td>\n",
              "      <td>9069.000000</td>\n",
              "      <td>9069.000000</td>\n",
              "      <td>9069.000000</td>\n",
              "      <td>9069.000000</td>\n",
              "    </tr>\n",
              "    <tr>\n",
              "      <th>mean</th>\n",
              "      <td>38.531591</td>\n",
              "      <td>10.129011</td>\n",
              "      <td>1032.828868</td>\n",
              "      <td>89.218877</td>\n",
              "      <td>40.926784</td>\n",
              "      <td>0.248760</td>\n",
              "    </tr>\n",
              "    <tr>\n",
              "      <th>std</th>\n",
              "      <td>13.197953</td>\n",
              "      <td>2.571369</td>\n",
              "      <td>6932.928096</td>\n",
              "      <td>408.813160</td>\n",
              "      <td>12.042095</td>\n",
              "      <td>0.432318</td>\n",
              "    </tr>\n",
              "    <tr>\n",
              "      <th>min</th>\n",
              "      <td>17.000000</td>\n",
              "      <td>1.000000</td>\n",
              "      <td>0.000000</td>\n",
              "      <td>0.000000</td>\n",
              "      <td>1.000000</td>\n",
              "      <td>0.000000</td>\n",
              "    </tr>\n",
              "    <tr>\n",
              "      <th>25%</th>\n",
              "      <td>28.000000</td>\n",
              "      <td>9.000000</td>\n",
              "      <td>0.000000</td>\n",
              "      <td>0.000000</td>\n",
              "      <td>40.000000</td>\n",
              "      <td>0.000000</td>\n",
              "    </tr>\n",
              "    <tr>\n",
              "      <th>50%</th>\n",
              "      <td>37.000000</td>\n",
              "      <td>10.000000</td>\n",
              "      <td>0.000000</td>\n",
              "      <td>0.000000</td>\n",
              "      <td>40.000000</td>\n",
              "      <td>0.000000</td>\n",
              "    </tr>\n",
              "    <tr>\n",
              "      <th>75%</th>\n",
              "      <td>47.000000</td>\n",
              "      <td>13.000000</td>\n",
              "      <td>0.000000</td>\n",
              "      <td>0.000000</td>\n",
              "      <td>45.000000</td>\n",
              "      <td>0.000000</td>\n",
              "    </tr>\n",
              "    <tr>\n",
              "      <th>max</th>\n",
              "      <td>90.000000</td>\n",
              "      <td>16.000000</td>\n",
              "      <td>99999.000000</td>\n",
              "      <td>3900.000000</td>\n",
              "      <td>99.000000</td>\n",
              "      <td>1.000000</td>\n",
              "    </tr>\n",
              "  </tbody>\n",
              "</table>\n",
              "</div>\n",
              "      <button class=\"colab-df-convert\" onclick=\"convertToInteractive('df-59a0a11c-2b67-4be0-9e6e-761a2d841c7a')\"\n",
              "              title=\"Convert this dataframe to an interactive table.\"\n",
              "              style=\"display:none;\">\n",
              "        \n",
              "  <svg xmlns=\"http://www.w3.org/2000/svg\" height=\"24px\"viewBox=\"0 0 24 24\"\n",
              "       width=\"24px\">\n",
              "    <path d=\"M0 0h24v24H0V0z\" fill=\"none\"/>\n",
              "    <path d=\"M18.56 5.44l.94 2.06.94-2.06 2.06-.94-2.06-.94-.94-2.06-.94 2.06-2.06.94zm-11 1L8.5 8.5l.94-2.06 2.06-.94-2.06-.94L8.5 2.5l-.94 2.06-2.06.94zm10 10l.94 2.06.94-2.06 2.06-.94-2.06-.94-.94-2.06-.94 2.06-2.06.94z\"/><path d=\"M17.41 7.96l-1.37-1.37c-.4-.4-.92-.59-1.43-.59-.52 0-1.04.2-1.43.59L10.3 9.45l-7.72 7.72c-.78.78-.78 2.05 0 2.83L4 21.41c.39.39.9.59 1.41.59.51 0 1.02-.2 1.41-.59l7.78-7.78 2.81-2.81c.8-.78.8-2.07 0-2.86zM5.41 20L4 18.59l7.72-7.72 1.47 1.35L5.41 20z\"/>\n",
              "  </svg>\n",
              "      </button>\n",
              "      \n",
              "  <style>\n",
              "    .colab-df-container {\n",
              "      display:flex;\n",
              "      flex-wrap:wrap;\n",
              "      gap: 12px;\n",
              "    }\n",
              "\n",
              "    .colab-df-convert {\n",
              "      background-color: #E8F0FE;\n",
              "      border: none;\n",
              "      border-radius: 50%;\n",
              "      cursor: pointer;\n",
              "      display: none;\n",
              "      fill: #1967D2;\n",
              "      height: 32px;\n",
              "      padding: 0 0 0 0;\n",
              "      width: 32px;\n",
              "    }\n",
              "\n",
              "    .colab-df-convert:hover {\n",
              "      background-color: #E2EBFA;\n",
              "      box-shadow: 0px 1px 2px rgba(60, 64, 67, 0.3), 0px 1px 3px 1px rgba(60, 64, 67, 0.15);\n",
              "      fill: #174EA6;\n",
              "    }\n",
              "\n",
              "    [theme=dark] .colab-df-convert {\n",
              "      background-color: #3B4455;\n",
              "      fill: #D2E3FC;\n",
              "    }\n",
              "\n",
              "    [theme=dark] .colab-df-convert:hover {\n",
              "      background-color: #434B5C;\n",
              "      box-shadow: 0px 1px 3px 1px rgba(0, 0, 0, 0.15);\n",
              "      filter: drop-shadow(0px 1px 2px rgba(0, 0, 0, 0.3));\n",
              "      fill: #FFFFFF;\n",
              "    }\n",
              "  </style>\n",
              "\n",
              "      <script>\n",
              "        const buttonEl =\n",
              "          document.querySelector('#df-59a0a11c-2b67-4be0-9e6e-761a2d841c7a button.colab-df-convert');\n",
              "        buttonEl.style.display =\n",
              "          google.colab.kernel.accessAllowed ? 'block' : 'none';\n",
              "\n",
              "        async function convertToInteractive(key) {\n",
              "          const element = document.querySelector('#df-59a0a11c-2b67-4be0-9e6e-761a2d841c7a');\n",
              "          const dataTable =\n",
              "            await google.colab.kernel.invokeFunction('convertToInteractive',\n",
              "                                                     [key], {});\n",
              "          if (!dataTable) return;\n",
              "\n",
              "          const docLinkHtml = 'Like what you see? Visit the ' +\n",
              "            '<a target=\"_blank\" href=https://colab.research.google.com/notebooks/data_table.ipynb>data table notebook</a>'\n",
              "            + ' to learn more about interactive tables.';\n",
              "          element.innerHTML = '';\n",
              "          dataTable['output_type'] = 'display_data';\n",
              "          await google.colab.output.renderOutput(dataTable, element);\n",
              "          const docLink = document.createElement('div');\n",
              "          docLink.innerHTML = docLinkHtml;\n",
              "          element.appendChild(docLink);\n",
              "        }\n",
              "      </script>\n",
              "    </div>\n",
              "  </div>\n",
              "  "
            ]
          },
          "metadata": {},
          "execution_count": 43
        }
      ]
    },
    {
      "cell_type": "code",
      "source": [
        "df.info()"
      ],
      "metadata": {
        "colab": {
          "base_uri": "https://localhost:8080/"
        },
        "id": "lGTSSvwpNFPY",
        "outputId": "5ecb6c67-f5c2-4bb2-9d6b-8f05934510fd"
      },
      "execution_count": 44,
      "outputs": [
        {
          "output_type": "stream",
          "name": "stdout",
          "text": [
            "<class 'pandas.core.frame.DataFrame'>\n",
            "Int64Index: 9069 entries, 21 to 12572\n",
            "Data columns (total 13 columns):\n",
            " #   Column          Non-Null Count  Dtype \n",
            "---  ------          --------------  ----- \n",
            " 0   age             9069 non-null   int64 \n",
            " 1   workclass       9069 non-null   object\n",
            " 2   education-num   9069 non-null   int64 \n",
            " 3   marital-status  9069 non-null   object\n",
            " 4   occupation      9069 non-null   object\n",
            " 5   relationship    9069 non-null   object\n",
            " 6   race            9069 non-null   object\n",
            " 7   sex             9069 non-null   object\n",
            " 8   capital-gain    9069 non-null   int64 \n",
            " 9   capital-loss    9069 non-null   int64 \n",
            " 10  hours-per-week  9069 non-null   int64 \n",
            " 11  native-country  9069 non-null   object\n",
            " 12  Income          9069 non-null   int64 \n",
            "dtypes: int64(6), object(7)\n",
            "memory usage: 991.9+ KB\n"
          ]
        }
      ]
    },
    {
      "cell_type": "code",
      "source": [
        "test_df.info()"
      ],
      "metadata": {
        "colab": {
          "base_uri": "https://localhost:8080/"
        },
        "id": "pSWWzBQ-NIgy",
        "outputId": "7eb06bc7-c1ec-4418-e1d3-b11958629303"
      },
      "execution_count": 45,
      "outputs": [
        {
          "output_type": "stream",
          "name": "stdout",
          "text": [
            "<class 'pandas.core.frame.DataFrame'>\n",
            "Int64Index: 4535 entries, 2137 to 16118\n",
            "Data columns (total 13 columns):\n",
            " #   Column          Non-Null Count  Dtype \n",
            "---  ------          --------------  ----- \n",
            " 0   age             4535 non-null   int64 \n",
            " 1   workclass       4535 non-null   object\n",
            " 2   education-num   4535 non-null   int64 \n",
            " 3   marital-status  4535 non-null   object\n",
            " 4   occupation      4535 non-null   object\n",
            " 5   relationship    4535 non-null   object\n",
            " 6   race            4535 non-null   object\n",
            " 7   sex             4535 non-null   object\n",
            " 8   capital-gain    4535 non-null   int64 \n",
            " 9   capital-loss    4535 non-null   int64 \n",
            " 10  hours-per-week  4535 non-null   int64 \n",
            " 11  native-country  4535 non-null   object\n",
            " 12  Income          4535 non-null   int64 \n",
            "dtypes: int64(6), object(7)\n",
            "memory usage: 496.0+ KB\n"
          ]
        }
      ]
    },
    {
      "cell_type": "markdown",
      "source": [
        "# Label Encoding"
      ],
      "metadata": {
        "id": "cf56bQvBufHV"
      }
    },
    {
      "cell_type": "code",
      "source": [
        "from sklearn.preprocessing import LabelEncoder"
      ],
      "metadata": {
        "id": "JiwZ1TnCuih-"
      },
      "execution_count": 64,
      "outputs": []
    },
    {
      "cell_type": "code",
      "source": [
        "def Encoder(frame: pd.DataFrame) -> pd.DataFrame:\n",
        "  columnsToEncode = list(frame.select_dtypes(include=['object']))\n",
        "  le = LabelEncoder()\n",
        "  for feature in columnsToEncode:\n",
        "    try:\n",
        "      frame[feature] = le.fit_transform(frame[feature])\n",
        "    except:\n",
        "      print('Error at encoding feature: ', feature)\n",
        "  return frame"
      ],
      "metadata": {
        "id": "jS4zDZt6uhda"
      },
      "execution_count": 65,
      "outputs": []
    },
    {
      "cell_type": "code",
      "source": [
        "df = Encoder(df)"
      ],
      "metadata": {
        "id": "EOCVS9H3vc2b"
      },
      "execution_count": 67,
      "outputs": []
    },
    {
      "cell_type": "code",
      "source": [
        "test_df = Encoder(test_df)"
      ],
      "metadata": {
        "id": "nNqwSZ7tvnS7"
      },
      "execution_count": 68,
      "outputs": []
    },
    {
      "cell_type": "markdown",
      "source": [
        "\n",
        "\n",
        "# Creating train test split\n"
      ],
      "metadata": {
        "id": "C9p-PkgENORf"
      }
    },
    {
      "cell_type": "code",
      "source": [
        "X_train = df.iloc[:, :-1]\n",
        "y_train = df.iloc[:, -1]"
      ],
      "metadata": {
        "id": "xIWtJd2CNLmP"
      },
      "execution_count": 71,
      "outputs": []
    },
    {
      "cell_type": "code",
      "source": [
        "X_test = test_df.iloc[:, :-1]\n",
        "y_test = test_df.iloc[:, -1]"
      ],
      "metadata": {
        "id": "EN7PYjzoQ7f0"
      },
      "execution_count": 72,
      "outputs": []
    },
    {
      "cell_type": "code",
      "source": [
        "print(\"X: \", X_train.shape, y_train.shape)\n",
        "print(\"y: \", X_test.shape, y_test.shape)"
      ],
      "metadata": {
        "colab": {
          "base_uri": "https://localhost:8080/"
        },
        "id": "YjNRgeClRAmc",
        "outputId": "92f58b22-3e22-42fc-8987-f0a33a2c19ea"
      },
      "execution_count": 73,
      "outputs": [
        {
          "output_type": "stream",
          "name": "stdout",
          "text": [
            "X:  (9069, 12) (9069,)\n",
            "y:  (4535, 12) (4535,)\n"
          ]
        }
      ]
    },
    {
      "cell_type": "markdown",
      "source": [
        "# Decision  Tree Classifier"
      ],
      "metadata": {
        "id": "7fxUB3dcRenj"
      }
    },
    {
      "cell_type": "code",
      "source": [
        "from sklearn.tree import DecisionTreeClassifier"
      ],
      "metadata": {
        "id": "KtcR87RaRZ_v"
      },
      "execution_count": 52,
      "outputs": []
    },
    {
      "cell_type": "code",
      "source": [
        "dt_c = DecisionTreeClassifier()"
      ],
      "metadata": {
        "id": "PHJ_OmvXRoDV"
      },
      "execution_count": 74,
      "outputs": []
    },
    {
      "cell_type": "code",
      "source": [
        "dt_c.fit(X_train, y_train)"
      ],
      "metadata": {
        "colab": {
          "base_uri": "https://localhost:8080/"
        },
        "id": "3pncAwmxXZEF",
        "outputId": "277a9663-acad-4421-9aba-1cacb8b2a9a5"
      },
      "execution_count": 75,
      "outputs": [
        {
          "output_type": "execute_result",
          "data": {
            "text/plain": [
              "DecisionTreeClassifier()"
            ]
          },
          "metadata": {},
          "execution_count": 75
        }
      ]
    },
    {
      "cell_type": "code",
      "source": [
        "from sklearn import tree\n",
        "import matplotlib.pyplot as plt"
      ],
      "metadata": {
        "id": "tGdHoBzrtsuQ"
      },
      "execution_count": 76,
      "outputs": []
    },
    {
      "cell_type": "code",
      "source": [
        "fig=plt.figure(figsize=(25,15))\n",
        "tree.plot_tree(dt_c,filled=True,fontsize=14)"
      ],
      "metadata": {
        "colab": {
          "base_uri": "https://localhost:8080/",
          "height": 1000
        },
        "id": "0e0kckEVwZ51",
        "outputId": "33f4f1ee-50c0-4e63-f53e-12e0d1043672"
      },
      "execution_count": 77,
      "outputs": [
        {
          "output_type": "execute_result",
          "data": {
            "text/plain": [
              "[Text(0.6816929487277223, 0.9871794871794872, 'X[5] <= 0.5\\ngini = 0.374\\nsamples = 9069\\nvalue = [6813, 2256]'),\n",
              " Text(0.4182125459028104, 0.9615384615384616, 'X[2] <= 12.5\\ngini = 0.496\\nsamples = 3728\\nvalue = [2040, 1688]'),\n",
              " Text(0.26856341536482936, 0.9358974358974359, 'X[8] <= 5095.5\\ngini = 0.447\\nsamples = 2592\\nvalue = [1719, 873]'),\n",
              " Text(0.26771948152050673, 0.9102564102564102, 'X[2] <= 9.5\\ngini = 0.419\\nsamples = 2451\\nvalue = [1719, 732]'),\n",
              " Text(0.11118321029055349, 0.8846153846153846, 'X[2] <= 7.5\\ngini = 0.357\\nsamples = 1554\\nvalue = [1193, 361]'),\n",
              " Text(0.041161554610204966, 0.8589743589743589, 'X[9] <= 1779.5\\ngini = 0.17\\nsamples = 363\\nvalue = [329, 34]'),\n",
              " Text(0.02831134318376103, 0.8333333333333334, 'X[10] <= 49.5\\ngini = 0.156\\nsamples = 353\\nvalue = [323, 30]'),\n",
              " Text(0.009995341468696257, 0.8076923076923077, 'X[0] <= 39.5\\ngini = 0.125\\nsamples = 299\\nvalue = [279, 20]'),\n",
              " Text(0.0033757353772905564, 0.782051282051282, 'X[1] <= 1.5\\ngini = 0.035\\nsamples = 112\\nvalue = [110, 2]'),\n",
              " Text(0.0016878676886452782, 0.7564102564102564, 'X[11] <= 36.5\\ngini = 0.375\\nsamples = 4\\nvalue = [3, 1]'),\n",
              " Text(0.0008439338443226391, 0.7307692307692307, 'gini = 0.0\\nsamples = 1\\nvalue = [0, 1]'),\n",
              " Text(0.002531801532967917, 0.7307692307692307, 'gini = 0.0\\nsamples = 3\\nvalue = [3, 0]'),\n",
              " Text(0.005063603065935834, 0.7564102564102564, 'X[4] <= 11.5\\ngini = 0.018\\nsamples = 108\\nvalue = [107, 1]'),\n",
              " Text(0.004219669221613195, 0.7307692307692307, 'gini = 0.0\\nsamples = 94\\nvalue = [94, 0]'),\n",
              " Text(0.005907536910258473, 0.7307692307692307, 'X[4] <= 12.5\\ngini = 0.133\\nsamples = 14\\nvalue = [13, 1]'),\n",
              " Text(0.005063603065935834, 0.7051282051282052, 'X[2] <= 5.0\\ngini = 0.444\\nsamples = 3\\nvalue = [2, 1]'),\n",
              " Text(0.004219669221613195, 0.6794871794871795, 'gini = 0.0\\nsamples = 1\\nvalue = [1, 0]'),\n",
              " Text(0.005907536910258473, 0.6794871794871795, 'X[0] <= 28.0\\ngini = 0.5\\nsamples = 2\\nvalue = [1, 1]'),\n",
              " Text(0.005063603065935834, 0.6538461538461539, 'gini = 0.0\\nsamples = 1\\nvalue = [1, 0]'),\n",
              " Text(0.006751470754581113, 0.6538461538461539, 'gini = 0.0\\nsamples = 1\\nvalue = [0, 1]'),\n",
              " Text(0.006751470754581113, 0.7051282051282052, 'gini = 0.0\\nsamples = 11\\nvalue = [11, 0]'),\n",
              " Text(0.016614947560101956, 0.782051282051282, 'X[0] <= 40.5\\ngini = 0.174\\nsamples = 187\\nvalue = [169, 18]'),\n",
              " Text(0.00843933844322639, 0.7564102564102564, 'X[2] <= 3.5\\ngini = 0.5\\nsamples = 8\\nvalue = [4, 4]'),\n",
              " Text(0.007595404598903751, 0.7307692307692307, 'gini = 0.0\\nsamples = 2\\nvalue = [2, 0]'),\n",
              " Text(0.00928327228754903, 0.7307692307692307, 'X[4] <= 2.5\\ngini = 0.444\\nsamples = 6\\nvalue = [2, 4]'),\n",
              " Text(0.00843933844322639, 0.7051282051282052, 'gini = 0.0\\nsamples = 1\\nvalue = [1, 0]'),\n",
              " Text(0.010127206131871668, 0.7051282051282052, 'X[4] <= 4.5\\ngini = 0.32\\nsamples = 5\\nvalue = [1, 4]'),\n",
              " Text(0.00928327228754903, 0.6794871794871795, 'gini = 0.0\\nsamples = 2\\nvalue = [0, 2]'),\n",
              " Text(0.010971139976194307, 0.6794871794871795, 'X[11] <= 30.5\\ngini = 0.444\\nsamples = 3\\nvalue = [1, 2]'),\n",
              " Text(0.010127206131871668, 0.6538461538461539, 'gini = 0.0\\nsamples = 1\\nvalue = [0, 1]'),\n",
              " Text(0.011815073820516947, 0.6538461538461539, 'gini = 0.5\\nsamples = 2\\nvalue = [1, 1]'),\n",
              " Text(0.02479055667697752, 0.7564102564102564, 'X[2] <= 5.5\\ngini = 0.144\\nsamples = 179\\nvalue = [165, 14]'),\n",
              " Text(0.016456709964291463, 0.7307692307692307, 'X[2] <= 2.5\\ngini = 0.089\\nsamples = 107\\nvalue = [102, 5]'),\n",
              " Text(0.013502941509162225, 0.7051282051282052, 'X[4] <= 3.5\\ngini = 0.278\\nsamples = 12\\nvalue = [10, 2]'),\n",
              " Text(0.012659007664839586, 0.6794871794871795, 'gini = 0.0\\nsamples = 1\\nvalue = [0, 1]'),\n",
              " Text(0.014346875353484863, 0.6794871794871795, 'X[0] <= 41.5\\ngini = 0.165\\nsamples = 11\\nvalue = [10, 1]'),\n",
              " Text(0.013502941509162225, 0.6538461538461539, 'gini = 0.5\\nsamples = 2\\nvalue = [1, 1]'),\n",
              " Text(0.015190809197807503, 0.6538461538461539, 'gini = 0.0\\nsamples = 9\\nvalue = [9, 0]'),\n",
              " Text(0.019410478419420698, 0.7051282051282052, 'X[1] <= 2.5\\ngini = 0.061\\nsamples = 95\\nvalue = [92, 3]'),\n",
              " Text(0.01772261073077542, 0.6794871794871795, 'X[4] <= 3.5\\ngini = 0.026\\nsamples = 76\\nvalue = [75, 1]'),\n",
              " Text(0.01687867688645278, 0.6538461538461539, 'X[4] <= 2.5\\ngini = 0.069\\nsamples = 28\\nvalue = [27, 1]'),\n",
              " Text(0.01603474304213014, 0.6282051282051282, 'gini = 0.0\\nsamples = 26\\nvalue = [26, 0]'),\n",
              " Text(0.01772261073077542, 0.6282051282051282, 'X[0] <= 59.0\\ngini = 0.5\\nsamples = 2\\nvalue = [1, 1]'),\n",
              " Text(0.01687867688645278, 0.6025641025641025, 'gini = 0.0\\nsamples = 1\\nvalue = [0, 1]'),\n",
              " Text(0.01856654457509806, 0.6025641025641025, 'gini = 0.0\\nsamples = 1\\nvalue = [1, 0]'),\n",
              " Text(0.01856654457509806, 0.6538461538461539, 'gini = 0.0\\nsamples = 48\\nvalue = [48, 0]'),\n",
              " Text(0.021098346108065977, 0.6794871794871795, 'X[1] <= 3.5\\ngini = 0.188\\nsamples = 19\\nvalue = [17, 2]'),\n",
              " Text(0.020254412263743336, 0.6538461538461539, 'gini = 0.0\\nsamples = 1\\nvalue = [0, 1]'),\n",
              " Text(0.021942279952388614, 0.6538461538461539, 'X[4] <= 12.0\\ngini = 0.105\\nsamples = 18\\nvalue = [17, 1]'),\n",
              " Text(0.021098346108065977, 0.6282051282051282, 'gini = 0.0\\nsamples = 15\\nvalue = [15, 0]'),\n",
              " Text(0.022786213796711256, 0.6282051282051282, 'X[0] <= 59.0\\ngini = 0.444\\nsamples = 3\\nvalue = [2, 1]'),\n",
              " Text(0.021942279952388614, 0.6025641025641025, 'gini = 0.0\\nsamples = 2\\nvalue = [2, 0]'),\n",
              " Text(0.023630147641033893, 0.6025641025641025, 'gini = 0.0\\nsamples = 1\\nvalue = [0, 1]'),\n",
              " Text(0.03312440338966358, 0.7307692307692307, 'X[10] <= 43.5\\ngini = 0.219\\nsamples = 72\\nvalue = [63, 9]'),\n",
              " Text(0.029959651473453686, 0.7051282051282052, 'X[0] <= 60.5\\ngini = 0.172\\nsamples = 63\\nvalue = [57, 6]'),\n",
              " Text(0.02784981686264709, 0.6794871794871795, 'X[4] <= 2.5\\ngini = 0.127\\nsamples = 44\\nvalue = [41, 3]'),\n",
              " Text(0.02700588301832445, 0.6538461538461539, 'X[0] <= 52.5\\ngini = 0.245\\nsamples = 21\\nvalue = [18, 3]'),\n",
              " Text(0.02616194917400181, 0.6282051282051282, 'X[4] <= 1.0\\ngini = 0.375\\nsamples = 12\\nvalue = [9, 3]'),\n",
              " Text(0.025318015329679172, 0.6025641025641025, 'gini = 0.0\\nsamples = 1\\nvalue = [0, 1]'),\n",
              " Text(0.02700588301832445, 0.6025641025641025, 'X[0] <= 49.5\\ngini = 0.298\\nsamples = 11\\nvalue = [9, 2]'),\n",
              " Text(0.02616194917400181, 0.5769230769230769, 'gini = 0.0\\nsamples = 6\\nvalue = [6, 0]'),\n",
              " Text(0.02784981686264709, 0.5769230769230769, 'X[10] <= 37.5\\ngini = 0.48\\nsamples = 5\\nvalue = [3, 2]'),\n",
              " Text(0.02700588301832445, 0.5512820512820513, 'gini = 0.0\\nsamples = 1\\nvalue = [1, 0]'),\n",
              " Text(0.028693750706969726, 0.5512820512820513, 'X[2] <= 6.5\\ngini = 0.5\\nsamples = 4\\nvalue = [2, 2]'),\n",
              " Text(0.02700588301832445, 0.5256410256410257, 'X[0] <= 51.0\\ngini = 0.5\\nsamples = 2\\nvalue = [1, 1]'),\n",
              " Text(0.02616194917400181, 0.5, 'gini = 0.0\\nsamples = 1\\nvalue = [0, 1]'),\n",
              " Text(0.02784981686264709, 0.5, 'gini = 0.0\\nsamples = 1\\nvalue = [1, 0]'),\n",
              " Text(0.030381618395615005, 0.5256410256410257, 'X[0] <= 51.0\\ngini = 0.5\\nsamples = 2\\nvalue = [1, 1]'),\n",
              " Text(0.029537684551292367, 0.5, 'gini = 0.0\\nsamples = 1\\nvalue = [1, 0]'),\n",
              " Text(0.031225552239937643, 0.5, 'gini = 0.0\\nsamples = 1\\nvalue = [0, 1]'),\n",
              " Text(0.02784981686264709, 0.6282051282051282, 'gini = 0.0\\nsamples = 9\\nvalue = [9, 0]'),\n",
              " Text(0.028693750706969726, 0.6538461538461539, 'gini = 0.0\\nsamples = 23\\nvalue = [23, 0]'),\n",
              " Text(0.03206948608426028, 0.6794871794871795, 'X[0] <= 65.5\\ngini = 0.266\\nsamples = 19\\nvalue = [16, 3]'),\n",
              " Text(0.031225552239937643, 0.6538461538461539, 'X[0] <= 63.5\\ngini = 0.397\\nsamples = 11\\nvalue = [8, 3]'),\n",
              " Text(0.029537684551292367, 0.6282051282051282, 'X[2] <= 6.5\\ngini = 0.245\\nsamples = 7\\nvalue = [6, 1]'),\n",
              " Text(0.028693750706969726, 0.6025641025641025, 'gini = 0.0\\nsamples = 4\\nvalue = [4, 0]'),\n",
              " Text(0.030381618395615005, 0.6025641025641025, 'X[4] <= 9.0\\ngini = 0.444\\nsamples = 3\\nvalue = [2, 1]'),\n",
              " Text(0.029537684551292367, 0.5769230769230769, 'gini = 0.0\\nsamples = 1\\nvalue = [0, 1]'),\n",
              " Text(0.031225552239937643, 0.5769230769230769, 'gini = 0.0\\nsamples = 2\\nvalue = [2, 0]'),\n",
              " Text(0.032913419928582925, 0.6282051282051282, 'X[2] <= 6.5\\ngini = 0.5\\nsamples = 4\\nvalue = [2, 2]'),\n",
              " Text(0.03206948608426028, 0.6025641025641025, 'gini = 0.0\\nsamples = 2\\nvalue = [0, 2]'),\n",
              " Text(0.03375735377290556, 0.6025641025641025, 'gini = 0.0\\nsamples = 2\\nvalue = [2, 0]'),\n",
              " Text(0.032913419928582925, 0.6538461538461539, 'gini = 0.0\\nsamples = 8\\nvalue = [8, 0]'),\n",
              " Text(0.036289155305873476, 0.7051282051282052, 'X[0] <= 51.5\\ngini = 0.444\\nsamples = 9\\nvalue = [6, 3]'),\n",
              " Text(0.03544522146155084, 0.6794871794871795, 'X[4] <= 2.5\\ngini = 0.375\\nsamples = 4\\nvalue = [1, 3]'),\n",
              " Text(0.0346012876172282, 0.6538461538461539, 'gini = 0.0\\nsamples = 1\\nvalue = [1, 0]'),\n",
              " Text(0.036289155305873476, 0.6538461538461539, 'gini = 0.0\\nsamples = 3\\nvalue = [0, 3]'),\n",
              " Text(0.03713308915019612, 0.6794871794871795, 'gini = 0.0\\nsamples = 5\\nvalue = [5, 0]'),\n",
              " Text(0.04662734489882581, 0.8076923076923077, 'X[4] <= 3.5\\ngini = 0.302\\nsamples = 54\\nvalue = [44, 10]'),\n",
              " Text(0.04261865913829327, 0.782051282051282, 'X[1] <= 2.5\\ngini = 0.475\\nsamples = 18\\nvalue = [11, 7]'),\n",
              " Text(0.04050882452748667, 0.7564102564102564, 'X[0] <= 30.0\\ngini = 0.32\\nsamples = 10\\nvalue = [8, 2]'),\n",
              " Text(0.038820956838841396, 0.7307692307692307, 'X[2] <= 6.5\\ngini = 0.5\\nsamples = 2\\nvalue = [1, 1]'),\n",
              " Text(0.03797702299451876, 0.7051282051282052, 'gini = 0.0\\nsamples = 1\\nvalue = [1, 0]'),\n",
              " Text(0.039664890683164034, 0.7051282051282052, 'gini = 0.0\\nsamples = 1\\nvalue = [0, 1]'),\n",
              " Text(0.042196692216131954, 0.7307692307692307, 'X[0] <= 49.5\\ngini = 0.219\\nsamples = 8\\nvalue = [7, 1]'),\n",
              " Text(0.041352758371809316, 0.7051282051282052, 'gini = 0.0\\nsamples = 6\\nvalue = [6, 0]'),\n",
              " Text(0.04304062606045459, 0.7051282051282052, 'X[2] <= 4.0\\ngini = 0.5\\nsamples = 2\\nvalue = [1, 1]'),\n",
              " Text(0.042196692216131954, 0.6794871794871795, 'gini = 0.0\\nsamples = 1\\nvalue = [1, 0]'),\n",
              " Text(0.04388455990477723, 0.6794871794871795, 'gini = 0.0\\nsamples = 1\\nvalue = [0, 1]'),\n",
              " Text(0.04472849374909987, 0.7564102564102564, 'X[0] <= 27.5\\ngini = 0.469\\nsamples = 8\\nvalue = [3, 5]'),\n",
              " Text(0.04388455990477723, 0.7307692307692307, 'gini = 0.0\\nsamples = 1\\nvalue = [1, 0]'),\n",
              " Text(0.04557242759342251, 0.7307692307692307, 'X[10] <= 52.5\\ngini = 0.408\\nsamples = 7\\nvalue = [2, 5]'),\n",
              " Text(0.04472849374909987, 0.7051282051282052, 'gini = 0.0\\nsamples = 4\\nvalue = [0, 4]'),\n",
              " Text(0.04641636143774515, 0.7051282051282052, 'X[2] <= 5.5\\ngini = 0.444\\nsamples = 3\\nvalue = [2, 1]'),\n",
              " Text(0.04557242759342251, 0.6794871794871795, 'X[11] <= 24.0\\ngini = 0.5\\nsamples = 2\\nvalue = [1, 1]'),\n",
              " Text(0.04472849374909987, 0.6538461538461539, 'gini = 0.0\\nsamples = 1\\nvalue = [1, 0]'),\n",
              " Text(0.04641636143774515, 0.6538461538461539, 'gini = 0.0\\nsamples = 1\\nvalue = [0, 1]'),\n",
              " Text(0.04726029528206779, 0.6794871794871795, 'gini = 0.0\\nsamples = 1\\nvalue = [1, 0]'),\n",
              " Text(0.050636030659358344, 0.782051282051282, 'X[4] <= 10.5\\ngini = 0.153\\nsamples = 36\\nvalue = [33, 3]'),\n",
              " Text(0.04979209681503571, 0.7564102564102564, 'gini = 0.0\\nsamples = 23\\nvalue = [23, 0]'),\n",
              " Text(0.05147996450368098, 0.7564102564102564, 'X[0] <= 60.5\\ngini = 0.355\\nsamples = 13\\nvalue = [10, 3]'),\n",
              " Text(0.050636030659358344, 0.7307692307692307, 'X[2] <= 4.5\\ngini = 0.165\\nsamples = 11\\nvalue = [10, 1]'),\n",
              " Text(0.04979209681503571, 0.7051282051282052, 'X[0] <= 51.5\\ngini = 0.32\\nsamples = 5\\nvalue = [4, 1]'),\n",
              " Text(0.04894816297071306, 0.6794871794871795, 'gini = 0.0\\nsamples = 3\\nvalue = [3, 0]'),\n",
              " Text(0.050636030659358344, 0.6794871794871795, 'X[4] <= 12.0\\ngini = 0.5\\nsamples = 2\\nvalue = [1, 1]'),\n",
              " Text(0.04979209681503571, 0.6538461538461539, 'gini = 0.0\\nsamples = 1\\nvalue = [1, 0]'),\n",
              " Text(0.05147996450368098, 0.6538461538461539, 'gini = 0.0\\nsamples = 1\\nvalue = [0, 1]'),\n",
              " Text(0.05147996450368098, 0.7051282051282052, 'gini = 0.0\\nsamples = 6\\nvalue = [6, 0]'),\n",
              " Text(0.05232389834800362, 0.7307692307692307, 'gini = 0.0\\nsamples = 2\\nvalue = [0, 2]'),\n",
              " Text(0.0540117660366489, 0.8333333333333334, 'X[9] <= 1952.0\\ngini = 0.48\\nsamples = 10\\nvalue = [6, 4]'),\n",
              " Text(0.05316783219232626, 0.8076923076923077, 'X[1] <= 1.5\\ngini = 0.32\\nsamples = 5\\nvalue = [1, 4]'),\n",
              " Text(0.05232389834800362, 0.782051282051282, 'gini = 0.0\\nsamples = 1\\nvalue = [1, 0]'),\n",
              " Text(0.0540117660366489, 0.782051282051282, 'gini = 0.0\\nsamples = 4\\nvalue = [0, 4]'),\n",
              " Text(0.05485569988097154, 0.8076923076923077, 'gini = 0.0\\nsamples = 5\\nvalue = [5, 0]'),\n",
              " Text(0.181204865970902, 0.8589743589743589, 'X[9] <= 1782.5\\ngini = 0.398\\nsamples = 1191\\nvalue = [864, 327]'),\n",
              " Text(0.11469701724192283, 0.8333333333333334, 'X[0] <= 35.5\\ngini = 0.384\\nsamples = 1144\\nvalue = [847, 297]'),\n",
              " Text(0.08518457241131638, 0.8076923076923077, 'X[10] <= 48.5\\ngini = 0.269\\nsamples = 388\\nvalue = [326, 62]'),\n",
              " Text(0.06382249697689958, 0.782051282051282, 'X[0] <= 27.5\\ngini = 0.203\\nsamples = 288\\nvalue = [255, 33]'),\n",
              " Text(0.05485569988097154, 0.7564102564102564, 'X[4] <= 2.5\\ngini = 0.024\\nsamples = 82\\nvalue = [81, 1]'),\n",
              " Text(0.0540117660366489, 0.7307692307692307, 'X[0] <= 25.5\\ngini = 0.067\\nsamples = 29\\nvalue = [28, 1]'),\n",
              " Text(0.05316783219232626, 0.7051282051282052, 'gini = 0.0\\nsamples = 14\\nvalue = [14, 0]'),\n",
              " Text(0.05485569988097154, 0.7051282051282052, 'X[0] <= 26.5\\ngini = 0.124\\nsamples = 15\\nvalue = [14, 1]'),\n",
              " Text(0.0540117660366489, 0.6794871794871795, 'X[10] <= 42.5\\ngini = 0.278\\nsamples = 6\\nvalue = [5, 1]'),\n",
              " Text(0.05316783219232626, 0.6538461538461539, 'X[10] <= 38.0\\ngini = 0.375\\nsamples = 4\\nvalue = [3, 1]'),\n",
              " Text(0.05232389834800362, 0.6282051282051282, 'gini = 0.0\\nsamples = 1\\nvalue = [1, 0]'),\n",
              " Text(0.0540117660366489, 0.6282051282051282, 'gini = 0.444\\nsamples = 3\\nvalue = [2, 1]'),\n",
              " Text(0.05485569988097154, 0.6538461538461539, 'gini = 0.0\\nsamples = 2\\nvalue = [2, 0]'),\n",
              " Text(0.05569963372529418, 0.6794871794871795, 'gini = 0.0\\nsamples = 9\\nvalue = [9, 0]'),\n",
              " Text(0.05569963372529418, 0.7307692307692307, 'gini = 0.0\\nsamples = 53\\nvalue = [53, 0]'),\n",
              " Text(0.07278929407282762, 0.7564102564102564, 'X[11] <= 37.5\\ngini = 0.262\\nsamples = 206\\nvalue = [174, 32]'),\n",
              " Text(0.07194536022850498, 0.7307692307692307, 'X[6] <= 3.5\\ngini = 0.257\\nsamples = 205\\nvalue = [174, 31]'),\n",
              " Text(0.05823143525826209, 0.7051282051282052, 'X[0] <= 29.5\\ngini = 0.08\\nsamples = 24\\nvalue = [23, 1]'),\n",
              " Text(0.05738750141393945, 0.6794871794871795, 'X[4] <= 5.0\\ngini = 0.198\\nsamples = 9\\nvalue = [8, 1]'),\n",
              " Text(0.056543567569616815, 0.6538461538461539, 'gini = 0.0\\nsamples = 4\\nvalue = [4, 0]'),\n",
              " Text(0.05823143525826209, 0.6538461538461539, 'X[4] <= 9.5\\ngini = 0.32\\nsamples = 5\\nvalue = [4, 1]'),\n",
              " Text(0.05738750141393945, 0.6282051282051282, 'X[10] <= 42.5\\ngini = 0.444\\nsamples = 3\\nvalue = [2, 1]'),\n",
              " Text(0.056543567569616815, 0.6025641025641025, 'X[0] <= 28.5\\ngini = 0.5\\nsamples = 2\\nvalue = [1, 1]'),\n",
              " Text(0.05569963372529418, 0.5769230769230769, 'gini = 0.0\\nsamples = 1\\nvalue = [1, 0]'),\n",
              " Text(0.05738750141393945, 0.5769230769230769, 'gini = 0.0\\nsamples = 1\\nvalue = [0, 1]'),\n",
              " Text(0.05823143525826209, 0.6025641025641025, 'gini = 0.0\\nsamples = 1\\nvalue = [1, 0]'),\n",
              " Text(0.059075369102584735, 0.6282051282051282, 'gini = 0.0\\nsamples = 2\\nvalue = [2, 0]'),\n",
              " Text(0.059075369102584735, 0.6794871794871795, 'gini = 0.0\\nsamples = 15\\nvalue = [15, 0]'),\n",
              " Text(0.08565928519874787, 0.7051282051282052, 'X[0] <= 34.5\\ngini = 0.277\\nsamples = 181\\nvalue = [151, 30]'),\n",
              " Text(0.07848584752200544, 0.6794871794871795, 'X[1] <= 4.5\\ngini = 0.296\\nsamples = 155\\nvalue = [127, 28]'),\n",
              " Text(0.0692025752344564, 0.6538461538461539, 'X[4] <= 2.5\\ngini = 0.282\\nsamples = 147\\nvalue = [122, 25]'),\n",
              " Text(0.06371700524635925, 0.6282051282051282, 'X[0] <= 33.5\\ngini = 0.209\\nsamples = 59\\nvalue = [52, 7]'),\n",
              " Text(0.06076323679123001, 0.6025641025641025, 'X[1] <= 1.5\\ngini = 0.147\\nsamples = 50\\nvalue = [46, 4]'),\n",
              " Text(0.059075369102584735, 0.5769230769230769, 'X[0] <= 31.5\\ngini = 0.375\\nsamples = 4\\nvalue = [3, 1]'),\n",
              " Text(0.05823143525826209, 0.5512820512820513, 'gini = 0.0\\nsamples = 3\\nvalue = [3, 0]'),\n",
              " Text(0.05991930294690737, 0.5512820512820513, 'gini = 0.0\\nsamples = 1\\nvalue = [0, 1]'),\n",
              " Text(0.062451104479875286, 0.5769230769230769, 'X[4] <= 1.0\\ngini = 0.122\\nsamples = 46\\nvalue = [43, 3]'),\n",
              " Text(0.06160717063555265, 0.5512820512820513, 'gini = 0.0\\nsamples = 7\\nvalue = [7, 0]'),\n",
              " Text(0.06329503832419793, 0.5512820512820513, 'X[10] <= 42.0\\ngini = 0.142\\nsamples = 39\\nvalue = [36, 3]'),\n",
              " Text(0.062451104479875286, 0.5256410256410257, 'X[0] <= 28.5\\ngini = 0.165\\nsamples = 33\\nvalue = [30, 3]'),\n",
              " Text(0.06160717063555265, 0.5, 'gini = 0.0\\nsamples = 4\\nvalue = [4, 0]'),\n",
              " Text(0.06329503832419793, 0.5, 'X[0] <= 31.5\\ngini = 0.185\\nsamples = 29\\nvalue = [26, 3]'),\n",
              " Text(0.06118520371339133, 0.47435897435897434, 'X[1] <= 3.0\\ngini = 0.245\\nsamples = 14\\nvalue = [12, 2]'),\n",
              " Text(0.05949733602474605, 0.44871794871794873, 'X[0] <= 29.5\\ngini = 0.165\\nsamples = 11\\nvalue = [10, 1]'),\n",
              " Text(0.05865340218042341, 0.4230769230769231, 'X[11] <= 21.5\\ngini = 0.245\\nsamples = 7\\nvalue = [6, 1]'),\n",
              " Text(0.057809468336100775, 0.3974358974358974, 'gini = 0.0\\nsamples = 1\\nvalue = [1, 0]'),\n",
              " Text(0.05949733602474605, 0.3974358974358974, 'gini = 0.278\\nsamples = 6\\nvalue = [5, 1]'),\n",
              " Text(0.06034126986906869, 0.4230769230769231, 'gini = 0.0\\nsamples = 4\\nvalue = [4, 0]'),\n",
              " Text(0.06287307140203661, 0.44871794871794873, 'X[0] <= 30.5\\ngini = 0.444\\nsamples = 3\\nvalue = [2, 1]'),\n",
              " Text(0.06202913755771397, 0.4230769230769231, 'gini = 0.0\\nsamples = 2\\nvalue = [2, 0]'),\n",
              " Text(0.06371700524635925, 0.4230769230769231, 'gini = 0.0\\nsamples = 1\\nvalue = [0, 1]'),\n",
              " Text(0.06540487293500452, 0.47435897435897434, 'X[0] <= 32.5\\ngini = 0.124\\nsamples = 15\\nvalue = [14, 1]'),\n",
              " Text(0.06456093909068189, 0.44871794871794873, 'gini = 0.0\\nsamples = 7\\nvalue = [7, 0]'),\n",
              " Text(0.06624880677932717, 0.44871794871794873, 'X[1] <= 3.0\\ngini = 0.219\\nsamples = 8\\nvalue = [7, 1]'),\n",
              " Text(0.06540487293500452, 0.4230769230769231, 'gini = 0.278\\nsamples = 6\\nvalue = [5, 1]'),\n",
              " Text(0.06709274062364981, 0.4230769230769231, 'gini = 0.0\\nsamples = 2\\nvalue = [2, 0]'),\n",
              " Text(0.06413897216852056, 0.5256410256410257, 'gini = 0.0\\nsamples = 6\\nvalue = [6, 0]'),\n",
              " Text(0.06667077370148848, 0.6025641025641025, 'X[1] <= 3.0\\ngini = 0.444\\nsamples = 9\\nvalue = [6, 3]'),\n",
              " Text(0.06582683985716585, 0.5769230769230769, 'X[4] <= 0.5\\ngini = 0.245\\nsamples = 7\\nvalue = [6, 1]'),\n",
              " Text(0.0649829060128432, 0.5512820512820513, 'gini = 0.0\\nsamples = 1\\nvalue = [0, 1]'),\n",
              " Text(0.06667077370148848, 0.5512820512820513, 'gini = 0.0\\nsamples = 6\\nvalue = [6, 0]'),\n",
              " Text(0.06751470754581113, 0.5769230769230769, 'gini = 0.0\\nsamples = 2\\nvalue = [0, 2]'),\n",
              " Text(0.07468814522255356, 0.6282051282051282, 'X[4] <= 3.5\\ngini = 0.325\\nsamples = 88\\nvalue = [70, 18]'),\n",
              " Text(0.07004650907877905, 0.6025641025641025, 'X[0] <= 30.5\\ngini = 0.5\\nsamples = 10\\nvalue = [5, 5]'),\n",
              " Text(0.0692025752344564, 0.5769230769230769, 'gini = 0.0\\nsamples = 2\\nvalue = [2, 0]'),\n",
              " Text(0.07089044292310168, 0.5769230769230769, 'X[1] <= 3.5\\ngini = 0.469\\nsamples = 8\\nvalue = [3, 5]'),\n",
              " Text(0.07004650907877905, 0.5512820512820513, 'X[0] <= 31.5\\ngini = 0.408\\nsamples = 7\\nvalue = [2, 5]'),\n",
              " Text(0.0692025752344564, 0.5256410256410257, 'gini = 0.0\\nsamples = 2\\nvalue = [0, 2]'),\n",
              " Text(0.07089044292310168, 0.5256410256410257, 'X[8] <= 1551.5\\ngini = 0.48\\nsamples = 5\\nvalue = [2, 3]'),\n",
              " Text(0.07004650907877905, 0.5, 'X[1] <= 2.5\\ngini = 0.5\\nsamples = 4\\nvalue = [2, 2]'),\n",
              " Text(0.0692025752344564, 0.47435897435897434, 'X[0] <= 33.0\\ngini = 0.444\\nsamples = 3\\nvalue = [2, 1]'),\n",
              " Text(0.06835864139013376, 0.44871794871794873, 'gini = 0.0\\nsamples = 1\\nvalue = [1, 0]'),\n",
              " Text(0.07004650907877905, 0.44871794871794873, 'gini = 0.5\\nsamples = 2\\nvalue = [1, 1]'),\n",
              " Text(0.07089044292310168, 0.47435897435897434, 'gini = 0.0\\nsamples = 1\\nvalue = [0, 1]'),\n",
              " Text(0.07173437676742432, 0.5, 'gini = 0.0\\nsamples = 1\\nvalue = [0, 1]'),\n",
              " Text(0.07173437676742432, 0.5512820512820513, 'gini = 0.0\\nsamples = 1\\nvalue = [1, 0]'),\n",
              " Text(0.07932978136632807, 0.6025641025641025, 'X[2] <= 8.5\\ngini = 0.278\\nsamples = 78\\nvalue = [65, 13]'),\n",
              " Text(0.07511011214471487, 0.5769230769230769, 'X[0] <= 32.5\\ngini = 0.5\\nsamples = 2\\nvalue = [1, 1]'),\n",
              " Text(0.07426617830039224, 0.5512820512820513, 'gini = 0.0\\nsamples = 1\\nvalue = [0, 1]'),\n",
              " Text(0.07595404598903752, 0.5512820512820513, 'gini = 0.0\\nsamples = 1\\nvalue = [1, 0]'),\n",
              " Text(0.08354945058794126, 0.5769230769230769, 'X[0] <= 31.5\\ngini = 0.266\\nsamples = 76\\nvalue = [64, 12]'),\n",
              " Text(0.07764191367768279, 0.5512820512820513, 'X[4] <= 8.0\\ngini = 0.325\\nsamples = 44\\nvalue = [35, 9]'),\n",
              " Text(0.07511011214471487, 0.5256410256410257, 'X[4] <= 6.5\\ngini = 0.227\\nsamples = 23\\nvalue = [20, 3]'),\n",
              " Text(0.07426617830039224, 0.5, 'X[10] <= 42.0\\ngini = 0.278\\nsamples = 18\\nvalue = [15, 3]'),\n",
              " Text(0.0734222444560696, 0.47435897435897434, 'X[0] <= 29.5\\ngini = 0.337\\nsamples = 14\\nvalue = [11, 3]'),\n",
              " Text(0.07173437676742432, 0.44871794871794873, 'X[4] <= 5.5\\ngini = 0.219\\nsamples = 8\\nvalue = [7, 1]'),\n",
              " Text(0.07089044292310168, 0.4230769230769231, 'gini = 0.0\\nsamples = 1\\nvalue = [0, 1]'),\n",
              " Text(0.07257831061174695, 0.4230769230769231, 'gini = 0.0\\nsamples = 7\\nvalue = [7, 0]'),\n",
              " Text(0.07511011214471487, 0.44871794871794873, 'X[4] <= 5.5\\ngini = 0.444\\nsamples = 6\\nvalue = [4, 2]'),\n",
              " Text(0.07426617830039224, 0.4230769230769231, 'gini = 0.0\\nsamples = 3\\nvalue = [3, 0]'),\n",
              " Text(0.07595404598903752, 0.4230769230769231, 'X[8] <= 2506.5\\ngini = 0.444\\nsamples = 3\\nvalue = [1, 2]'),\n",
              " Text(0.07511011214471487, 0.3974358974358974, 'gini = 0.0\\nsamples = 2\\nvalue = [0, 2]'),\n",
              " Text(0.07679797983336015, 0.3974358974358974, 'gini = 0.0\\nsamples = 1\\nvalue = [1, 0]'),\n",
              " Text(0.07511011214471487, 0.47435897435897434, 'gini = 0.0\\nsamples = 4\\nvalue = [4, 0]'),\n",
              " Text(0.07595404598903752, 0.5, 'gini = 0.0\\nsamples = 5\\nvalue = [5, 0]'),\n",
              " Text(0.08017371521065071, 0.5256410256410257, 'X[4] <= 10.5\\ngini = 0.408\\nsamples = 21\\nvalue = [15, 6]'),\n",
              " Text(0.07848584752200544, 0.5, 'X[1] <= 3.0\\ngini = 0.5\\nsamples = 6\\nvalue = [3, 3]'),\n",
              " Text(0.07764191367768279, 0.47435897435897434, 'X[10] <= 44.0\\ngini = 0.375\\nsamples = 4\\nvalue = [1, 3]'),\n",
              " Text(0.07679797983336015, 0.44871794871794873, 'gini = 0.0\\nsamples = 3\\nvalue = [0, 3]'),\n",
              " Text(0.07848584752200544, 0.44871794871794873, 'gini = 0.0\\nsamples = 1\\nvalue = [1, 0]'),\n",
              " Text(0.07932978136632807, 0.47435897435897434, 'gini = 0.0\\nsamples = 2\\nvalue = [2, 0]'),\n",
              " Text(0.08186158289929599, 0.5, 'X[4] <= 11.5\\ngini = 0.32\\nsamples = 15\\nvalue = [12, 3]'),\n",
              " Text(0.08101764905497334, 0.47435897435897434, 'gini = 0.0\\nsamples = 4\\nvalue = [4, 0]'),\n",
              " Text(0.08270551674361863, 0.47435897435897434, 'X[4] <= 12.5\\ngini = 0.397\\nsamples = 11\\nvalue = [8, 3]'),\n",
              " Text(0.08186158289929599, 0.44871794871794873, 'gini = 0.0\\nsamples = 1\\nvalue = [0, 1]'),\n",
              " Text(0.08354945058794126, 0.44871794871794873, 'X[0] <= 28.5\\ngini = 0.32\\nsamples = 10\\nvalue = [8, 2]'),\n",
              " Text(0.08270551674361863, 0.4230769230769231, 'gini = 0.0\\nsamples = 1\\nvalue = [0, 1]'),\n",
              " Text(0.08439338443226391, 0.4230769230769231, 'X[0] <= 29.5\\ngini = 0.198\\nsamples = 9\\nvalue = [8, 1]'),\n",
              " Text(0.08354945058794126, 0.3974358974358974, 'gini = 0.0\\nsamples = 3\\nvalue = [3, 0]'),\n",
              " Text(0.08523731827658654, 0.3974358974358974, 'X[10] <= 42.5\\ngini = 0.278\\nsamples = 6\\nvalue = [5, 1]'),\n",
              " Text(0.08439338443226391, 0.3717948717948718, 'X[8] <= 2506.5\\ngini = 0.375\\nsamples = 4\\nvalue = [3, 1]'),\n",
              " Text(0.08354945058794126, 0.34615384615384615, 'gini = 0.444\\nsamples = 3\\nvalue = [2, 1]'),\n",
              " Text(0.08523731827658654, 0.34615384615384615, 'gini = 0.0\\nsamples = 1\\nvalue = [1, 0]'),\n",
              " Text(0.08608125212090918, 0.3717948717948718, 'gini = 0.0\\nsamples = 2\\nvalue = [2, 0]'),\n",
              " Text(0.08945698749819973, 0.5512820512820513, 'X[0] <= 32.5\\ngini = 0.17\\nsamples = 32\\nvalue = [29, 3]'),\n",
              " Text(0.0886130536538771, 0.5256410256410257, 'gini = 0.0\\nsamples = 10\\nvalue = [10, 0]'),\n",
              " Text(0.09030092134252238, 0.5256410256410257, 'X[4] <= 11.5\\ngini = 0.236\\nsamples = 22\\nvalue = [19, 3]'),\n",
              " Text(0.08945698749819973, 0.5, 'X[0] <= 33.5\\ngini = 0.32\\nsamples = 15\\nvalue = [12, 3]'),\n",
              " Text(0.08776911980955446, 0.47435897435897434, 'X[10] <= 42.0\\ngini = 0.444\\nsamples = 6\\nvalue = [4, 2]'),\n",
              " Text(0.08692518596523183, 0.44871794871794873, 'X[4] <= 6.5\\ngini = 0.32\\nsamples = 5\\nvalue = [4, 1]'),\n",
              " Text(0.08608125212090918, 0.4230769230769231, 'gini = 0.0\\nsamples = 1\\nvalue = [0, 1]'),\n",
              " Text(0.08776911980955446, 0.4230769230769231, 'gini = 0.0\\nsamples = 4\\nvalue = [4, 0]'),\n",
              " Text(0.0886130536538771, 0.44871794871794873, 'gini = 0.0\\nsamples = 1\\nvalue = [0, 1]'),\n",
              " Text(0.09114485518684502, 0.47435897435897434, 'X[4] <= 6.5\\ngini = 0.198\\nsamples = 9\\nvalue = [8, 1]'),\n",
              " Text(0.09030092134252238, 0.44871794871794873, 'gini = 0.0\\nsamples = 4\\nvalue = [4, 0]'),\n",
              " Text(0.09198878903116765, 0.44871794871794873, 'X[4] <= 9.0\\ngini = 0.32\\nsamples = 5\\nvalue = [4, 1]'),\n",
              " Text(0.09114485518684502, 0.4230769230769231, 'X[10] <= 30.0\\ngini = 0.444\\nsamples = 3\\nvalue = [2, 1]'),\n",
              " Text(0.09030092134252238, 0.3974358974358974, 'gini = 0.0\\nsamples = 1\\nvalue = [1, 0]'),\n",
              " Text(0.09198878903116765, 0.3974358974358974, 'gini = 0.5\\nsamples = 2\\nvalue = [1, 1]'),\n",
              " Text(0.0928327228754903, 0.4230769230769231, 'gini = 0.0\\nsamples = 2\\nvalue = [2, 0]'),\n",
              " Text(0.09114485518684502, 0.5, 'gini = 0.0\\nsamples = 7\\nvalue = [7, 0]'),\n",
              " Text(0.08776911980955446, 0.6538461538461539, 'X[0] <= 32.5\\ngini = 0.469\\nsamples = 8\\nvalue = [5, 3]'),\n",
              " Text(0.08692518596523183, 0.6282051282051282, 'X[10] <= 42.5\\ngini = 0.48\\nsamples = 5\\nvalue = [2, 3]'),\n",
              " Text(0.08608125212090918, 0.6025641025641025, 'X[0] <= 28.5\\ngini = 0.375\\nsamples = 4\\nvalue = [1, 3]'),\n",
              " Text(0.08523731827658654, 0.5769230769230769, 'gini = 0.0\\nsamples = 1\\nvalue = [1, 0]'),\n",
              " Text(0.08692518596523183, 0.5769230769230769, 'gini = 0.0\\nsamples = 3\\nvalue = [0, 3]'),\n",
              " Text(0.08776911980955446, 0.6025641025641025, 'gini = 0.0\\nsamples = 1\\nvalue = [1, 0]'),\n",
              " Text(0.0886130536538771, 0.6282051282051282, 'gini = 0.0\\nsamples = 3\\nvalue = [3, 0]'),\n",
              " Text(0.0928327228754903, 0.6794871794871795, 'X[1] <= 1.5\\ngini = 0.142\\nsamples = 26\\nvalue = [24, 2]'),\n",
              " Text(0.09114485518684502, 0.6538461538461539, 'X[4] <= 4.5\\ngini = 0.444\\nsamples = 3\\nvalue = [2, 1]'),\n",
              " Text(0.09030092134252238, 0.6282051282051282, 'gini = 0.0\\nsamples = 1\\nvalue = [0, 1]'),\n",
              " Text(0.09198878903116765, 0.6282051282051282, 'gini = 0.0\\nsamples = 2\\nvalue = [2, 0]'),\n",
              " Text(0.09452059056413557, 0.6538461538461539, 'X[4] <= 2.5\\ngini = 0.083\\nsamples = 23\\nvalue = [22, 1]'),\n",
              " Text(0.09367665671981293, 0.6282051282051282, 'X[1] <= 3.0\\ngini = 0.165\\nsamples = 11\\nvalue = [10, 1]'),\n",
              " Text(0.0928327228754903, 0.6025641025641025, 'X[10] <= 41.5\\ngini = 0.198\\nsamples = 9\\nvalue = [8, 1]'),\n",
              " Text(0.09198878903116765, 0.5769230769230769, 'X[9] <= 870.0\\ngini = 0.219\\nsamples = 8\\nvalue = [7, 1]'),\n",
              " Text(0.09114485518684502, 0.5512820512820513, 'gini = 0.245\\nsamples = 7\\nvalue = [6, 1]'),\n",
              " Text(0.0928327228754903, 0.5512820512820513, 'gini = 0.0\\nsamples = 1\\nvalue = [1, 0]'),\n",
              " Text(0.09367665671981293, 0.5769230769230769, 'gini = 0.0\\nsamples = 1\\nvalue = [1, 0]'),\n",
              " Text(0.09452059056413557, 0.6025641025641025, 'gini = 0.0\\nsamples = 2\\nvalue = [2, 0]'),\n",
              " Text(0.09536452440845822, 0.6282051282051282, 'gini = 0.0\\nsamples = 12\\nvalue = [12, 0]'),\n",
              " Text(0.07363322791715025, 0.7307692307692307, 'gini = 0.0\\nsamples = 1\\nvalue = [0, 1]'),\n",
              " Text(0.10654664784573317, 0.782051282051282, 'X[4] <= 8.0\\ngini = 0.412\\nsamples = 100\\nvalue = [71, 29]'),\n",
              " Text(0.09874025978574877, 0.7564102564102564, 'X[11] <= 30.5\\ngini = 0.305\\nsamples = 64\\nvalue = [52, 12]'),\n",
              " Text(0.0970523920971035, 0.7307692307692307, 'X[10] <= 52.5\\ngini = 0.48\\nsamples = 5\\nvalue = [2, 3]'),\n",
              " Text(0.09620845825278085, 0.7051282051282052, 'gini = 0.0\\nsamples = 2\\nvalue = [2, 0]'),\n",
              " Text(0.09789632594142612, 0.7051282051282052, 'gini = 0.0\\nsamples = 3\\nvalue = [0, 3]'),\n",
              " Text(0.10042812747439404, 0.7307692307692307, 'X[1] <= 1.5\\ngini = 0.259\\nsamples = 59\\nvalue = [50, 9]'),\n",
              " Text(0.09958419363007141, 0.7051282051282052, 'gini = 0.0\\nsamples = 1\\nvalue = [0, 1]'),\n",
              " Text(0.10127206131871669, 0.7051282051282052, 'X[10] <= 49.5\\ngini = 0.238\\nsamples = 58\\nvalue = [50, 8]'),\n",
              " Text(0.10042812747439404, 0.6794871794871795, 'gini = 0.0\\nsamples = 1\\nvalue = [0, 1]'),\n",
              " Text(0.10211599516303932, 0.6794871794871795, 'X[0] <= 34.5\\ngini = 0.215\\nsamples = 57\\nvalue = [50, 7]'),\n",
              " Text(0.09874025978574877, 0.6538461538461539, 'X[10] <= 75.0\\ngini = 0.15\\nsamples = 49\\nvalue = [45, 4]'),\n",
              " Text(0.09789632594142612, 0.6282051282051282, 'X[4] <= 5.5\\ngini = 0.117\\nsamples = 48\\nvalue = [45, 3]'),\n",
              " Text(0.09620845825278085, 0.6025641025641025, 'X[0] <= 25.5\\ngini = 0.048\\nsamples = 41\\nvalue = [40, 1]'),\n",
              " Text(0.09536452440845822, 0.5769230769230769, 'X[1] <= 2.5\\ngini = 0.245\\nsamples = 7\\nvalue = [6, 1]'),\n",
              " Text(0.09452059056413557, 0.5512820512820513, 'gini = 0.0\\nsamples = 6\\nvalue = [6, 0]'),\n",
              " Text(0.09620845825278085, 0.5512820512820513, 'gini = 0.0\\nsamples = 1\\nvalue = [0, 1]'),\n",
              " Text(0.0970523920971035, 0.5769230769230769, 'gini = 0.0\\nsamples = 34\\nvalue = [34, 0]'),\n",
              " Text(0.09958419363007141, 0.6025641025641025, 'X[4] <= 6.5\\ngini = 0.408\\nsamples = 7\\nvalue = [5, 2]'),\n",
              " Text(0.09874025978574877, 0.5769230769230769, 'X[0] <= 30.0\\ngini = 0.5\\nsamples = 4\\nvalue = [2, 2]'),\n",
              " Text(0.09789632594142612, 0.5512820512820513, 'X[10] <= 52.5\\ngini = 0.444\\nsamples = 3\\nvalue = [1, 2]'),\n",
              " Text(0.0970523920971035, 0.5256410256410257, 'gini = 0.0\\nsamples = 2\\nvalue = [0, 2]'),\n",
              " Text(0.09874025978574877, 0.5256410256410257, 'gini = 0.0\\nsamples = 1\\nvalue = [1, 0]'),\n",
              " Text(0.09958419363007141, 0.5512820512820513, 'gini = 0.0\\nsamples = 1\\nvalue = [1, 0]'),\n",
              " Text(0.10042812747439404, 0.5769230769230769, 'gini = 0.0\\nsamples = 3\\nvalue = [3, 0]'),\n",
              " Text(0.09958419363007141, 0.6282051282051282, 'gini = 0.0\\nsamples = 1\\nvalue = [0, 1]'),\n",
              " Text(0.10549173054032988, 0.6538461538461539, 'X[4] <= 3.5\\ngini = 0.469\\nsamples = 8\\nvalue = [5, 3]'),\n",
              " Text(0.10464779669600724, 0.6282051282051282, 'X[10] <= 52.5\\ngini = 0.5\\nsamples = 6\\nvalue = [3, 3]'),\n",
              " Text(0.10295992900736196, 0.6025641025641025, 'X[1] <= 3.5\\ngini = 0.444\\nsamples = 3\\nvalue = [1, 2]'),\n",
              " Text(0.10211599516303932, 0.5769230769230769, 'gini = 0.0\\nsamples = 2\\nvalue = [0, 2]'),\n",
              " Text(0.10380386285168461, 0.5769230769230769, 'gini = 0.0\\nsamples = 1\\nvalue = [1, 0]'),\n",
              " Text(0.10633566438465251, 0.6025641025641025, 'X[1] <= 3.5\\ngini = 0.444\\nsamples = 3\\nvalue = [2, 1]'),\n",
              " Text(0.10549173054032988, 0.5769230769230769, 'gini = 0.0\\nsamples = 2\\nvalue = [2, 0]'),\n",
              " Text(0.10717959822897516, 0.5769230769230769, 'gini = 0.0\\nsamples = 1\\nvalue = [0, 1]'),\n",
              " Text(0.10633566438465251, 0.6282051282051282, 'gini = 0.0\\nsamples = 2\\nvalue = [2, 0]'),\n",
              " Text(0.11435303590571759, 0.7564102564102564, 'X[6] <= 3.5\\ngini = 0.498\\nsamples = 36\\nvalue = [19, 17]'),\n",
              " Text(0.11350910206139495, 0.7307692307692307, 'gini = 0.0\\nsamples = 3\\nvalue = [3, 0]'),\n",
              " Text(0.11519696975004023, 0.7307692307692307, 'X[10] <= 57.5\\ngini = 0.5\\nsamples = 33\\nvalue = [16, 17]'),\n",
              " Text(0.11308713513923363, 0.7051282051282052, 'X[10] <= 51.0\\ngini = 0.48\\nsamples = 20\\nvalue = [8, 12]'),\n",
              " Text(0.11139926745058835, 0.6794871794871795, 'X[10] <= 49.5\\ngini = 0.5\\nsamples = 14\\nvalue = [7, 7]'),\n",
              " Text(0.11055533360626571, 0.6538461538461539, 'gini = 0.0\\nsamples = 1\\nvalue = [0, 1]'),\n",
              " Text(0.112243201294911, 0.6538461538461539, 'X[8] <= 2032.0\\ngini = 0.497\\nsamples = 13\\nvalue = [7, 6]'),\n",
              " Text(0.11139926745058835, 0.6282051282051282, 'X[0] <= 32.5\\ngini = 0.5\\nsamples = 12\\nvalue = [6, 6]'),\n",
              " Text(0.10971139976194308, 0.6025641025641025, 'X[1] <= 3.5\\ngini = 0.469\\nsamples = 8\\nvalue = [5, 3]'),\n",
              " Text(0.10886746591762043, 0.5769230769230769, 'X[0] <= 27.0\\ngini = 0.408\\nsamples = 7\\nvalue = [5, 2]'),\n",
              " Text(0.10717959822897516, 0.5512820512820513, 'X[0] <= 25.0\\ngini = 0.5\\nsamples = 2\\nvalue = [1, 1]'),\n",
              " Text(0.10633566438465251, 0.5256410256410257, 'gini = 0.0\\nsamples = 1\\nvalue = [1, 0]'),\n",
              " Text(0.1080235320732978, 0.5256410256410257, 'gini = 0.0\\nsamples = 1\\nvalue = [0, 1]'),\n",
              " Text(0.11055533360626571, 0.5512820512820513, 'X[0] <= 29.5\\ngini = 0.32\\nsamples = 5\\nvalue = [4, 1]'),\n",
              " Text(0.10971139976194308, 0.5256410256410257, 'gini = 0.0\\nsamples = 2\\nvalue = [2, 0]'),\n",
              " Text(0.11139926745058835, 0.5256410256410257, 'X[1] <= 2.5\\ngini = 0.444\\nsamples = 3\\nvalue = [2, 1]'),\n",
              " Text(0.11055533360626571, 0.5, 'gini = 0.5\\nsamples = 2\\nvalue = [1, 1]'),\n",
              " Text(0.112243201294911, 0.5, 'gini = 0.0\\nsamples = 1\\nvalue = [1, 0]'),\n",
              " Text(0.11055533360626571, 0.5769230769230769, 'gini = 0.0\\nsamples = 1\\nvalue = [0, 1]'),\n",
              " Text(0.11308713513923363, 0.6025641025641025, 'X[1] <= 3.5\\ngini = 0.375\\nsamples = 4\\nvalue = [1, 3]'),\n",
              " Text(0.112243201294911, 0.5769230769230769, 'gini = 0.0\\nsamples = 3\\nvalue = [0, 3]'),\n",
              " Text(0.11393106898355627, 0.5769230769230769, 'gini = 0.0\\nsamples = 1\\nvalue = [1, 0]'),\n",
              " Text(0.11308713513923363, 0.6282051282051282, 'gini = 0.0\\nsamples = 1\\nvalue = [1, 0]'),\n",
              " Text(0.1147750028278789, 0.6794871794871795, 'X[9] <= 836.0\\ngini = 0.278\\nsamples = 6\\nvalue = [1, 5]'),\n",
              " Text(0.11393106898355627, 0.6538461538461539, 'gini = 0.0\\nsamples = 5\\nvalue = [0, 5]'),\n",
              " Text(0.11561893667220155, 0.6538461538461539, 'gini = 0.0\\nsamples = 1\\nvalue = [1, 0]'),\n",
              " Text(0.11730680436084683, 0.7051282051282052, 'X[0] <= 28.5\\ngini = 0.473\\nsamples = 13\\nvalue = [8, 5]'),\n",
              " Text(0.11646287051652418, 0.6794871794871795, 'gini = 0.0\\nsamples = 3\\nvalue = [3, 0]'),\n",
              " Text(0.11815073820516947, 0.6794871794871795, 'X[0] <= 32.0\\ngini = 0.5\\nsamples = 10\\nvalue = [5, 5]'),\n",
              " Text(0.11730680436084683, 0.6538461538461539, 'gini = 0.0\\nsamples = 2\\nvalue = [0, 2]'),\n",
              " Text(0.1189946720494921, 0.6538461538461539, 'X[11] <= 30.5\\ngini = 0.469\\nsamples = 8\\nvalue = [5, 3]'),\n",
              " Text(0.11815073820516947, 0.6282051282051282, 'gini = 0.0\\nsamples = 1\\nvalue = [0, 1]'),\n",
              " Text(0.11983860589381475, 0.6282051282051282, 'X[10] <= 62.5\\ngini = 0.408\\nsamples = 7\\nvalue = [5, 2]'),\n",
              " Text(0.1189946720494921, 0.6025641025641025, 'X[0] <= 33.5\\ngini = 0.48\\nsamples = 5\\nvalue = [3, 2]'),\n",
              " Text(0.11815073820516947, 0.5769230769230769, 'X[4] <= 12.0\\ngini = 0.5\\nsamples = 4\\nvalue = [2, 2]'),\n",
              " Text(0.11730680436084683, 0.5512820512820513, 'gini = 0.5\\nsamples = 2\\nvalue = [1, 1]'),\n",
              " Text(0.1189946720494921, 0.5512820512820513, 'gini = 0.5\\nsamples = 2\\nvalue = [1, 1]'),\n",
              " Text(0.11983860589381475, 0.5769230769230769, 'gini = 0.0\\nsamples = 1\\nvalue = [1, 0]'),\n",
              " Text(0.12068253973813738, 0.6025641025641025, 'gini = 0.0\\nsamples = 2\\nvalue = [2, 0]'),\n",
              " Text(0.14420946207252927, 0.8076923076923077, 'X[10] <= 36.5\\ngini = 0.428\\nsamples = 756\\nvalue = [521, 235]'),\n",
              " Text(0.1278559774148798, 0.782051282051282, 'X[2] <= 8.5\\ngini = 0.142\\nsamples = 91\\nvalue = [84, 7]'),\n",
              " Text(0.12701204357055718, 0.7564102564102564, 'gini = 0.0\\nsamples = 1\\nvalue = [0, 1]'),\n",
              " Text(0.12869991125920247, 0.7564102564102564, 'X[10] <= 27.5\\ngini = 0.124\\nsamples = 90\\nvalue = [84, 6]'),\n",
              " Text(0.1278559774148798, 0.7307692307692307, 'gini = 0.0\\nsamples = 50\\nvalue = [50, 0]'),\n",
              " Text(0.1295438451035251, 0.7307692307692307, 'X[1] <= 4.5\\ngini = 0.255\\nsamples = 40\\nvalue = [34, 6]'),\n",
              " Text(0.12869991125920247, 0.7051282051282052, 'X[4] <= 10.0\\ngini = 0.224\\nsamples = 39\\nvalue = [34, 5]'),\n",
              " Text(0.12574614280407323, 0.6794871794871795, 'X[0] <= 72.0\\ngini = 0.133\\nsamples = 28\\nvalue = [26, 2]'),\n",
              " Text(0.12405827511542794, 0.6538461538461539, 'X[0] <= 42.5\\ngini = 0.074\\nsamples = 26\\nvalue = [25, 1]'),\n",
              " Text(0.1232143412711053, 0.6282051282051282, 'X[0] <= 41.0\\ngini = 0.278\\nsamples = 6\\nvalue = [5, 1]'),\n",
              " Text(0.12237040742678267, 0.6025641025641025, 'gini = 0.0\\nsamples = 5\\nvalue = [5, 0]'),\n",
              " Text(0.12405827511542794, 0.6025641025641025, 'gini = 0.0\\nsamples = 1\\nvalue = [0, 1]'),\n",
              " Text(0.12490220895975057, 0.6282051282051282, 'gini = 0.0\\nsamples = 20\\nvalue = [20, 0]'),\n",
              " Text(0.1274340104927185, 0.6538461538461539, 'X[1] <= 2.5\\ngini = 0.5\\nsamples = 2\\nvalue = [1, 1]'),\n",
              " Text(0.12659007664839586, 0.6282051282051282, 'gini = 0.0\\nsamples = 1\\nvalue = [1, 0]'),\n",
              " Text(0.12827794433704112, 0.6282051282051282, 'gini = 0.0\\nsamples = 1\\nvalue = [0, 1]'),\n",
              " Text(0.1316536797143317, 0.6794871794871795, 'X[0] <= 60.5\\ngini = 0.397\\nsamples = 11\\nvalue = [8, 3]'),\n",
              " Text(0.13080974587000904, 0.6538461538461539, 'X[1] <= 2.5\\ngini = 0.49\\nsamples = 7\\nvalue = [4, 3]'),\n",
              " Text(0.1299658120256864, 0.6282051282051282, 'X[10] <= 31.0\\ngini = 0.32\\nsamples = 5\\nvalue = [4, 1]'),\n",
              " Text(0.12912187818136378, 0.6025641025641025, 'X[0] <= 52.0\\ngini = 0.5\\nsamples = 2\\nvalue = [1, 1]'),\n",
              " Text(0.12827794433704112, 0.5769230769230769, 'gini = 0.0\\nsamples = 1\\nvalue = [0, 1]'),\n",
              " Text(0.1299658120256864, 0.5769230769230769, 'gini = 0.0\\nsamples = 1\\nvalue = [1, 0]'),\n",
              " Text(0.13080974587000904, 0.6025641025641025, 'gini = 0.0\\nsamples = 3\\nvalue = [3, 0]'),\n",
              " Text(0.1316536797143317, 0.6282051282051282, 'gini = 0.0\\nsamples = 2\\nvalue = [0, 2]'),\n",
              " Text(0.13249761355865433, 0.6538461538461539, 'gini = 0.0\\nsamples = 4\\nvalue = [4, 0]'),\n",
              " Text(0.13038777894784773, 0.7051282051282052, 'gini = 0.0\\nsamples = 1\\nvalue = [0, 1]'),\n",
              " Text(0.16056294673017873, 0.782051282051282, 'X[1] <= 0.5\\ngini = 0.451\\nsamples = 665\\nvalue = [437, 228]'),\n",
              " Text(0.13882711739107412, 0.7564102564102564, 'X[0] <= 68.5\\ngini = 0.437\\nsamples = 31\\nvalue = [10, 21]'),\n",
              " Text(0.1379831835467515, 0.7307692307692307, 'X[0] <= 56.0\\ngini = 0.42\\nsamples = 30\\nvalue = [9, 21]'),\n",
              " Text(0.13713924970242886, 0.7051282051282052, 'X[0] <= 48.0\\ngini = 0.453\\nsamples = 26\\nvalue = [9, 17]'),\n",
              " Text(0.13502941509162225, 0.6794871794871795, 'X[0] <= 39.5\\ngini = 0.32\\nsamples = 15\\nvalue = [3, 12]'),\n",
              " Text(0.13418548124729962, 0.6538461538461539, 'X[10] <= 42.5\\ngini = 0.5\\nsamples = 6\\nvalue = [3, 3]'),\n",
              " Text(0.13334154740297696, 0.6282051282051282, 'X[4] <= 1.0\\ngini = 0.375\\nsamples = 4\\nvalue = [1, 3]'),\n",
              " Text(0.13249761355865433, 0.6025641025641025, 'gini = 0.0\\nsamples = 2\\nvalue = [0, 2]'),\n",
              " Text(0.13418548124729962, 0.6025641025641025, 'X[0] <= 38.0\\ngini = 0.5\\nsamples = 2\\nvalue = [1, 1]'),\n",
              " Text(0.13334154740297696, 0.5769230769230769, 'gini = 0.0\\nsamples = 1\\nvalue = [1, 0]'),\n",
              " Text(0.13502941509162225, 0.5769230769230769, 'gini = 0.0\\nsamples = 1\\nvalue = [0, 1]'),\n",
              " Text(0.13502941509162225, 0.6282051282051282, 'gini = 0.0\\nsamples = 2\\nvalue = [2, 0]'),\n",
              " Text(0.13587334893594488, 0.6538461538461539, 'gini = 0.0\\nsamples = 9\\nvalue = [0, 9]'),\n",
              " Text(0.13924908431323543, 0.6794871794871795, 'X[0] <= 51.5\\ngini = 0.496\\nsamples = 11\\nvalue = [6, 5]'),\n",
              " Text(0.13756121662459017, 0.6538461538461539, 'X[4] <= 3.0\\ngini = 0.32\\nsamples = 5\\nvalue = [4, 1]'),\n",
              " Text(0.1367172827802675, 0.6282051282051282, 'gini = 0.5\\nsamples = 2\\nvalue = [1, 1]'),\n",
              " Text(0.1384051504689128, 0.6282051282051282, 'gini = 0.0\\nsamples = 3\\nvalue = [3, 0]'),\n",
              " Text(0.14093695200188072, 0.6538461538461539, 'X[0] <= 54.5\\ngini = 0.444\\nsamples = 6\\nvalue = [2, 4]'),\n",
              " Text(0.1400930181575581, 0.6282051282051282, 'X[0] <= 53.5\\ngini = 0.32\\nsamples = 5\\nvalue = [1, 4]'),\n",
              " Text(0.13924908431323543, 0.6025641025641025, 'X[0] <= 52.5\\ngini = 0.444\\nsamples = 3\\nvalue = [1, 2]'),\n",
              " Text(0.1384051504689128, 0.5769230769230769, 'gini = 0.0\\nsamples = 1\\nvalue = [0, 1]'),\n",
              " Text(0.1400930181575581, 0.5769230769230769, 'X[4] <= 4.5\\ngini = 0.5\\nsamples = 2\\nvalue = [1, 1]'),\n",
              " Text(0.13924908431323543, 0.5512820512820513, 'gini = 0.0\\nsamples = 1\\nvalue = [1, 0]'),\n",
              " Text(0.14093695200188072, 0.5512820512820513, 'gini = 0.0\\nsamples = 1\\nvalue = [0, 1]'),\n",
              " Text(0.14093695200188072, 0.6025641025641025, 'gini = 0.0\\nsamples = 2\\nvalue = [0, 2]'),\n",
              " Text(0.14178088584620335, 0.6282051282051282, 'gini = 0.0\\nsamples = 1\\nvalue = [1, 0]'),\n",
              " Text(0.13882711739107412, 0.7051282051282052, 'gini = 0.0\\nsamples = 4\\nvalue = [0, 4]'),\n",
              " Text(0.13967105123539675, 0.7307692307692307, 'gini = 0.0\\nsamples = 1\\nvalue = [1, 0]'),\n",
              " Text(0.18229877606928335, 0.7564102564102564, 'X[10] <= 41.5\\ngini = 0.44\\nsamples = 634\\nvalue = [427, 207]'),\n",
              " Text(0.14853235660078448, 0.7307692307692307, 'X[8] <= 4225.0\\ngini = 0.396\\nsamples = 379\\nvalue = [276, 103]'),\n",
              " Text(0.14600055506781656, 0.7051282051282052, 'X[0] <= 36.5\\ngini = 0.389\\nsamples = 374\\nvalue = [275, 99]'),\n",
              " Text(0.14346875353484864, 0.6794871794871795, 'X[4] <= 5.5\\ngini = 0.105\\nsamples = 18\\nvalue = [17, 1]'),\n",
              " Text(0.142624819690526, 0.6538461538461539, 'gini = 0.0\\nsamples = 10\\nvalue = [10, 0]'),\n",
              " Text(0.14431268737917127, 0.6538461538461539, 'X[4] <= 8.5\\ngini = 0.219\\nsamples = 8\\nvalue = [7, 1]'),\n",
              " Text(0.14346875353484864, 0.6282051282051282, 'X[6] <= 2.5\\ngini = 0.444\\nsamples = 3\\nvalue = [2, 1]'),\n",
              " Text(0.142624819690526, 0.6025641025641025, 'gini = 0.0\\nsamples = 1\\nvalue = [1, 0]'),\n",
              " Text(0.14431268737917127, 0.6025641025641025, 'gini = 0.5\\nsamples = 2\\nvalue = [1, 1]'),\n",
              " Text(0.1451566212234939, 0.6282051282051282, 'gini = 0.0\\nsamples = 5\\nvalue = [5, 0]'),\n",
              " Text(0.14853235660078448, 0.6794871794871795, 'X[8] <= 3120.0\\ngini = 0.399\\nsamples = 356\\nvalue = [258, 98]'),\n",
              " Text(0.14768842275646182, 0.6538461538461539, 'X[8] <= 2758.5\\ngini = 0.404\\nsamples = 349\\nvalue = [251, 98]'),\n",
              " Text(0.1468444889121392, 0.6282051282051282, 'X[11] <= 1.0\\ngini = 0.398\\nsamples = 346\\nvalue = [251, 95]'),\n",
              " Text(0.14600055506781656, 0.6025641025641025, 'gini = 0.0\\nsamples = 1\\nvalue = [0, 1]'),\n",
              " Text(0.14768842275646182, 0.6025641025641025, 'X[11] <= 28.5\\ngini = 0.396\\nsamples = 345\\nvalue = [251, 94]'),\n",
              " Text(0.14600055506781656, 0.5769230769230769, 'X[0] <= 40.5\\ngini = 0.208\\nsamples = 17\\nvalue = [15, 2]'),\n",
              " Text(0.1451566212234939, 0.5512820512820513, 'gini = 0.0\\nsamples = 2\\nvalue = [0, 2]'),\n",
              " Text(0.1468444889121392, 0.5512820512820513, 'gini = 0.0\\nsamples = 15\\nvalue = [15, 0]'),\n",
              " Text(0.1493762904451071, 0.5769230769230769, 'X[11] <= 29.5\\ngini = 0.404\\nsamples = 328\\nvalue = [236, 92]'),\n",
              " Text(0.14853235660078448, 0.5512820512820513, 'gini = 0.0\\nsamples = 1\\nvalue = [0, 1]'),\n",
              " Text(0.15022022428942974, 0.5512820512820513, 'X[8] <= 704.5\\ngini = 0.402\\nsamples = 327\\nvalue = [236, 91]'),\n",
              " Text(0.1493762904451071, 0.5256410256410257, 'X[0] <= 70.0\\ngini = 0.405\\nsamples = 322\\nvalue = [231, 91]'),\n",
              " Text(0.14853235660078448, 0.5, 'X[0] <= 68.5\\ngini = 0.408\\nsamples = 319\\nvalue = [228, 91]'),\n",
              " Text(0.14768842275646182, 0.47435897435897434, 'X[9] <= 789.5\\ngini = 0.406\\nsamples = 318\\nvalue = [228, 90]'),\n",
              " Text(0.1468444889121392, 0.44871794871794873, 'X[0] <= 39.5\\ngini = 0.408\\nsamples = 315\\nvalue = [225, 90]'),\n",
              " Text(0.13673541417145416, 0.4230769230769231, 'X[4] <= 6.5\\ngini = 0.343\\nsamples = 50\\nvalue = [39, 11]'),\n",
              " Text(0.13357066225524425, 0.3974358974358974, 'X[4] <= 3.5\\ngini = 0.289\\nsamples = 40\\nvalue = [33, 7]'),\n",
              " Text(0.13272672841092162, 0.3717948717948718, 'X[2] <= 8.5\\ngini = 0.35\\nsamples = 31\\nvalue = [24, 7]'),\n",
              " Text(0.13188279456659896, 0.34615384615384615, 'gini = 0.0\\nsamples = 1\\nvalue = [0, 1]'),\n",
              " Text(0.13357066225524425, 0.34615384615384615, 'X[0] <= 38.5\\ngini = 0.32\\nsamples = 30\\nvalue = [24, 6]'),\n",
              " Text(0.130616893800115, 0.32051282051282054, 'X[1] <= 2.5\\ngini = 0.401\\nsamples = 18\\nvalue = [13, 5]'),\n",
              " Text(0.12892902611146972, 0.2948717948717949, 'X[0] <= 37.5\\ngini = 0.32\\nsamples = 15\\nvalue = [12, 3]'),\n",
              " Text(0.1280850922671471, 0.2692307692307692, 'X[4] <= 1.0\\ngini = 0.42\\nsamples = 10\\nvalue = [7, 3]'),\n",
              " Text(0.12724115842282446, 0.24358974358974358, 'gini = 0.0\\nsamples = 1\\nvalue = [1, 0]'),\n",
              " Text(0.12892902611146972, 0.24358974358974358, 'X[1] <= 1.5\\ngini = 0.444\\nsamples = 9\\nvalue = [6, 3]'),\n",
              " Text(0.1280850922671471, 0.21794871794871795, 'gini = 0.0\\nsamples = 1\\nvalue = [1, 0]'),\n",
              " Text(0.12977295995579238, 0.21794871794871795, 'X[4] <= 2.5\\ngini = 0.469\\nsamples = 8\\nvalue = [5, 3]'),\n",
              " Text(0.12892902611146972, 0.19230769230769232, 'gini = 0.49\\nsamples = 7\\nvalue = [4, 3]'),\n",
              " Text(0.130616893800115, 0.19230769230769232, 'gini = 0.0\\nsamples = 1\\nvalue = [1, 0]'),\n",
              " Text(0.12977295995579238, 0.2692307692307692, 'gini = 0.0\\nsamples = 5\\nvalue = [5, 0]'),\n",
              " Text(0.13230476148876028, 0.2948717948717949, 'X[0] <= 37.5\\ngini = 0.444\\nsamples = 3\\nvalue = [1, 2]'),\n",
              " Text(0.13146082764443764, 0.2692307692307692, 'gini = 0.0\\nsamples = 1\\nvalue = [1, 0]'),\n",
              " Text(0.13314869533308293, 0.2692307692307692, 'gini = 0.0\\nsamples = 2\\nvalue = [0, 2]'),\n",
              " Text(0.13652443071037348, 0.32051282051282054, 'X[4] <= 2.5\\ngini = 0.153\\nsamples = 12\\nvalue = [11, 1]'),\n",
              " Text(0.13568049686605085, 0.2948717948717949, 'X[6] <= 3.0\\ngini = 0.245\\nsamples = 7\\nvalue = [6, 1]'),\n",
              " Text(0.1348365630217282, 0.2692307692307692, 'gini = 0.0\\nsamples = 1\\nvalue = [1, 0]'),\n",
              " Text(0.13652443071037348, 0.2692307692307692, 'gini = 0.278\\nsamples = 6\\nvalue = [5, 1]'),\n",
              " Text(0.13736836455469612, 0.2948717948717949, 'gini = 0.0\\nsamples = 5\\nvalue = [5, 0]'),\n",
              " Text(0.13441459609956688, 0.3717948717948718, 'gini = 0.0\\nsamples = 9\\nvalue = [9, 0]'),\n",
              " Text(0.13990016608766404, 0.3974358974358974, 'X[6] <= 3.0\\ngini = 0.48\\nsamples = 10\\nvalue = [6, 4]'),\n",
              " Text(0.1390562322433414, 0.3717948717948718, 'gini = 0.0\\nsamples = 1\\nvalue = [0, 1]'),\n",
              " Text(0.14074409993198667, 0.3717948717948718, 'X[1] <= 1.5\\ngini = 0.444\\nsamples = 9\\nvalue = [6, 3]'),\n",
              " Text(0.13990016608766404, 0.34615384615384615, 'gini = 0.0\\nsamples = 2\\nvalue = [2, 0]'),\n",
              " Text(0.14158803377630932, 0.34615384615384615, 'X[4] <= 12.0\\ngini = 0.49\\nsamples = 7\\nvalue = [4, 3]'),\n",
              " Text(0.13990016608766404, 0.32051282051282054, 'X[4] <= 8.0\\ngini = 0.375\\nsamples = 4\\nvalue = [3, 1]'),\n",
              " Text(0.1390562322433414, 0.2948717948717949, 'X[0] <= 38.0\\ngini = 0.5\\nsamples = 2\\nvalue = [1, 1]'),\n",
              " Text(0.13821229839901877, 0.2692307692307692, 'gini = 0.0\\nsamples = 1\\nvalue = [1, 0]'),\n",
              " Text(0.13990016608766404, 0.2692307692307692, 'gini = 0.0\\nsamples = 1\\nvalue = [0, 1]'),\n",
              " Text(0.14074409993198667, 0.2948717948717949, 'gini = 0.0\\nsamples = 2\\nvalue = [2, 0]'),\n",
              " Text(0.14327590146495459, 0.32051282051282054, 'X[1] <= 3.0\\ngini = 0.444\\nsamples = 3\\nvalue = [1, 2]'),\n",
              " Text(0.14243196762063196, 0.2948717948717949, 'gini = 0.5\\nsamples = 2\\nvalue = [1, 1]'),\n",
              " Text(0.14411983530927724, 0.2948717948717949, 'gini = 0.0\\nsamples = 1\\nvalue = [0, 1]'),\n",
              " Text(0.15695356365282423, 0.4230769230769231, 'X[0] <= 45.5\\ngini = 0.418\\nsamples = 265\\nvalue = [186, 79]'),\n",
              " Text(0.1474955706865678, 0.3974358974358974, 'X[1] <= 1.5\\ngini = 0.46\\nsamples = 67\\nvalue = [43, 24]'),\n",
              " Text(0.14665163684224516, 0.3717948717948718, 'gini = 0.0\\nsamples = 4\\nvalue = [4, 0]'),\n",
              " Text(0.14833950453089043, 0.3717948717948718, 'X[2] <= 8.5\\ngini = 0.472\\nsamples = 63\\nvalue = [39, 24]'),\n",
              " Text(0.1474955706865678, 0.34615384615384615, 'gini = 0.0\\nsamples = 1\\nvalue = [0, 1]'),\n",
              " Text(0.14918343837521306, 0.34615384615384615, 'X[6] <= 1.0\\ngini = 0.467\\nsamples = 62\\nvalue = [39, 23]'),\n",
              " Text(0.14833950453089043, 0.32051282051282054, 'gini = 0.0\\nsamples = 2\\nvalue = [2, 0]'),\n",
              " Text(0.15002737221953572, 0.32051282051282054, 'X[0] <= 42.5\\ngini = 0.473\\nsamples = 60\\nvalue = [37, 23]'),\n",
              " Text(0.1458077029979225, 0.2948717948717949, 'X[4] <= 12.5\\ngini = 0.444\\nsamples = 30\\nvalue = [20, 10]'),\n",
              " Text(0.14496376915359988, 0.2692307692307692, 'X[1] <= 2.5\\ngini = 0.466\\nsamples = 27\\nvalue = [17, 10]'),\n",
              " Text(0.14285393454279327, 0.24358974358974358, 'X[0] <= 41.5\\ngini = 0.483\\nsamples = 22\\nvalue = [13, 9]'),\n",
              " Text(0.141166066854148, 0.21794871794871795, 'X[4] <= 11.5\\ngini = 0.498\\nsamples = 15\\nvalue = [7, 8]'),\n",
              " Text(0.14032213300982535, 0.19230769230769232, 'X[4] <= 4.0\\ngini = 0.49\\nsamples = 14\\nvalue = [6, 8]'),\n",
              " Text(0.1386342653211801, 0.16666666666666666, 'X[0] <= 40.5\\ngini = 0.49\\nsamples = 7\\nvalue = [4, 3]'),\n",
              " Text(0.13779033147685743, 0.14102564102564102, 'X[4] <= 2.5\\ngini = 0.32\\nsamples = 5\\nvalue = [4, 1]'),\n",
              " Text(0.1369463976325348, 0.11538461538461539, 'gini = 0.0\\nsamples = 3\\nvalue = [3, 0]'),\n",
              " Text(0.1386342653211801, 0.11538461538461539, 'gini = 0.5\\nsamples = 2\\nvalue = [1, 1]'),\n",
              " Text(0.13947819916550272, 0.14102564102564102, 'gini = 0.0\\nsamples = 2\\nvalue = [0, 2]'),\n",
              " Text(0.14201000069847064, 0.16666666666666666, 'X[0] <= 40.5\\ngini = 0.408\\nsamples = 7\\nvalue = [2, 5]'),\n",
              " Text(0.141166066854148, 0.14102564102564102, 'gini = 0.0\\nsamples = 3\\nvalue = [0, 3]'),\n",
              " Text(0.14285393454279327, 0.14102564102564102, 'X[4] <= 8.5\\ngini = 0.5\\nsamples = 4\\nvalue = [2, 2]'),\n",
              " Text(0.14201000069847064, 0.11538461538461539, 'gini = 0.5\\nsamples = 2\\nvalue = [1, 1]'),\n",
              " Text(0.14369786838711593, 0.11538461538461539, 'gini = 0.5\\nsamples = 2\\nvalue = [1, 1]'),\n",
              " Text(0.14201000069847064, 0.19230769230769232, 'gini = 0.0\\nsamples = 1\\nvalue = [1, 0]'),\n",
              " Text(0.14454180223143856, 0.21794871794871795, 'X[4] <= 11.5\\ngini = 0.245\\nsamples = 7\\nvalue = [6, 1]'),\n",
              " Text(0.14369786838711593, 0.19230769230769232, 'gini = 0.0\\nsamples = 6\\nvalue = [6, 0]'),\n",
              " Text(0.1453857360757612, 0.19230769230769232, 'gini = 0.0\\nsamples = 1\\nvalue = [0, 1]'),\n",
              " Text(0.14707360376440648, 0.24358974358974358, 'X[0] <= 41.5\\ngini = 0.32\\nsamples = 5\\nvalue = [4, 1]'),\n",
              " Text(0.14622966992008382, 0.21794871794871795, 'gini = 0.0\\nsamples = 4\\nvalue = [4, 0]'),\n",
              " Text(0.1479175376087291, 0.21794871794871795, 'gini = 0.0\\nsamples = 1\\nvalue = [0, 1]'),\n",
              " Text(0.14665163684224516, 0.2692307692307692, 'gini = 0.0\\nsamples = 3\\nvalue = [3, 0]'),\n",
              " Text(0.1542470414411489, 0.2948717948717949, 'X[4] <= 10.5\\ngini = 0.491\\nsamples = 30\\nvalue = [17, 13]'),\n",
              " Text(0.15213720683034232, 0.2692307692307692, 'X[1] <= 4.5\\ngini = 0.473\\nsamples = 26\\nvalue = [16, 10]'),\n",
              " Text(0.15044933914169703, 0.24358974358974358, 'X[4] <= 8.0\\ngini = 0.49\\nsamples = 21\\nvalue = [12, 9]'),\n",
              " Text(0.1496054052973744, 0.21794871794871795, 'X[4] <= 1.0\\ngini = 0.48\\nsamples = 20\\nvalue = [12, 8]'),\n",
              " Text(0.14876147145305174, 0.19230769230769232, 'gini = 0.0\\nsamples = 1\\nvalue = [1, 0]'),\n",
              " Text(0.15044933914169703, 0.19230769230769232, 'X[6] <= 3.0\\ngini = 0.488\\nsamples = 19\\nvalue = [11, 8]'),\n",
              " Text(0.1496054052973744, 0.16666666666666666, 'gini = 0.0\\nsamples = 1\\nvalue = [1, 0]'),\n",
              " Text(0.15129327298601966, 0.16666666666666666, 'X[10] <= 40.5\\ngini = 0.494\\nsamples = 18\\nvalue = [10, 8]'),\n",
              " Text(0.15044933914169703, 0.14102564102564102, 'X[4] <= 4.5\\ngini = 0.498\\nsamples = 17\\nvalue = [9, 8]'),\n",
              " Text(0.1474955706865678, 0.11538461538461539, 'X[1] <= 2.5\\ngini = 0.5\\nsamples = 14\\nvalue = [7, 7]'),\n",
              " Text(0.1458077029979225, 0.08974358974358974, 'X[4] <= 2.5\\ngini = 0.494\\nsamples = 9\\nvalue = [4, 5]'),\n",
              " Text(0.14496376915359988, 0.0641025641025641, 'X[0] <= 43.5\\ngini = 0.5\\nsamples = 8\\nvalue = [4, 4]'),\n",
              " Text(0.14411983530927724, 0.038461538461538464, 'gini = 0.5\\nsamples = 4\\nvalue = [2, 2]'),\n",
              " Text(0.1458077029979225, 0.038461538461538464, 'X[0] <= 44.5\\ngini = 0.5\\nsamples = 4\\nvalue = [2, 2]'),\n",
              " Text(0.14496376915359988, 0.01282051282051282, 'gini = 0.5\\nsamples = 2\\nvalue = [1, 1]'),\n",
              " Text(0.14665163684224516, 0.01282051282051282, 'gini = 0.5\\nsamples = 2\\nvalue = [1, 1]'),\n",
              " Text(0.14665163684224516, 0.0641025641025641, 'gini = 0.0\\nsamples = 1\\nvalue = [0, 1]'),\n",
              " Text(0.14918343837521306, 0.08974358974358974, 'X[0] <= 43.5\\ngini = 0.48\\nsamples = 5\\nvalue = [3, 2]'),\n",
              " Text(0.14833950453089043, 0.0641025641025641, 'gini = 0.0\\nsamples = 1\\nvalue = [1, 0]'),\n",
              " Text(0.15002737221953572, 0.0641025641025641, 'X[4] <= 2.5\\ngini = 0.5\\nsamples = 4\\nvalue = [2, 2]'),\n",
              " Text(0.14918343837521306, 0.038461538461538464, 'gini = 0.0\\nsamples = 1\\nvalue = [0, 1]'),\n",
              " Text(0.15087130606385835, 0.038461538461538464, 'X[0] <= 44.5\\ngini = 0.444\\nsamples = 3\\nvalue = [2, 1]'),\n",
              " Text(0.15002737221953572, 0.01282051282051282, 'gini = 0.5\\nsamples = 2\\nvalue = [1, 1]'),\n",
              " Text(0.15171523990818098, 0.01282051282051282, 'gini = 0.0\\nsamples = 1\\nvalue = [1, 0]'),\n",
              " Text(0.15340310759682627, 0.11538461538461539, 'X[0] <= 44.0\\ngini = 0.444\\nsamples = 3\\nvalue = [2, 1]'),\n",
              " Text(0.15255917375250364, 0.08974358974358974, 'X[4] <= 5.5\\ngini = 0.5\\nsamples = 2\\nvalue = [1, 1]'),\n",
              " Text(0.15171523990818098, 0.0641025641025641, 'gini = 0.0\\nsamples = 1\\nvalue = [1, 0]'),\n",
              " Text(0.15340310759682627, 0.0641025641025641, 'gini = 0.0\\nsamples = 1\\nvalue = [0, 1]'),\n",
              " Text(0.1542470414411489, 0.08974358974358974, 'gini = 0.0\\nsamples = 1\\nvalue = [1, 0]'),\n",
              " Text(0.15213720683034232, 0.14102564102564102, 'gini = 0.0\\nsamples = 1\\nvalue = [1, 0]'),\n",
              " Text(0.15129327298601966, 0.21794871794871795, 'gini = 0.0\\nsamples = 1\\nvalue = [0, 1]'),\n",
              " Text(0.15382507451898758, 0.24358974358974358, 'X[4] <= 6.0\\ngini = 0.32\\nsamples = 5\\nvalue = [4, 1]'),\n",
              " Text(0.15298114067466495, 0.21794871794871795, 'gini = 0.444\\nsamples = 3\\nvalue = [2, 1]'),\n",
              " Text(0.1546690083633102, 0.21794871794871795, 'gini = 0.0\\nsamples = 2\\nvalue = [2, 0]'),\n",
              " Text(0.1563568760519555, 0.2692307692307692, 'X[4] <= 12.0\\ngini = 0.375\\nsamples = 4\\nvalue = [1, 3]'),\n",
              " Text(0.15551294220763287, 0.24358974358974358, 'gini = 0.0\\nsamples = 1\\nvalue = [0, 1]'),\n",
              " Text(0.15720080989627813, 0.24358974358974358, 'X[10] <= 39.0\\ngini = 0.444\\nsamples = 3\\nvalue = [1, 2]'),\n",
              " Text(0.1563568760519555, 0.21794871794871795, 'gini = 0.0\\nsamples = 1\\nvalue = [0, 1]'),\n",
              " Text(0.1580447437406008, 0.21794871794871795, 'gini = 0.5\\nsamples = 2\\nvalue = [1, 1]'),\n",
              " Text(0.1664115566190807, 0.3974358974358974, 'X[0] <= 46.5\\ngini = 0.401\\nsamples = 198\\nvalue = [143, 55]'),\n",
              " Text(0.1605765452735687, 0.3717948717948718, 'X[6] <= 3.0\\ngini = 0.133\\nsamples = 14\\nvalue = [13, 1]'),\n",
              " Text(0.15973261142924605, 0.34615384615384615, 'X[4] <= 9.5\\ngini = 0.444\\nsamples = 3\\nvalue = [2, 1]'),\n",
              " Text(0.15888867758492342, 0.32051282051282054, 'gini = 0.0\\nsamples = 2\\nvalue = [2, 0]'),\n",
              " Text(0.1605765452735687, 0.32051282051282054, 'gini = 0.0\\nsamples = 1\\nvalue = [0, 1]'),\n",
              " Text(0.16142047911789134, 0.34615384615384615, 'gini = 0.0\\nsamples = 11\\nvalue = [11, 0]'),\n",
              " Text(0.1722465679645927, 0.3717948717948718, 'X[0] <= 47.5\\ngini = 0.415\\nsamples = 184\\nvalue = [130, 54]'),\n",
              " Text(0.1631083468065366, 0.34615384615384615, 'X[4] <= 11.5\\ngini = 0.494\\nsamples = 18\\nvalue = [10, 8]'),\n",
              " Text(0.16226441296221397, 0.32051282051282054, 'X[4] <= 3.5\\ngini = 0.49\\nsamples = 14\\nvalue = [6, 8]'),\n",
              " Text(0.1605765452735687, 0.2948717948717949, 'X[4] <= 2.5\\ngini = 0.408\\nsamples = 7\\nvalue = [2, 5]'),\n",
              " Text(0.15973261142924605, 0.2692307692307692, 'X[1] <= 2.5\\ngini = 0.48\\nsamples = 5\\nvalue = [2, 3]'),\n",
              " Text(0.15888867758492342, 0.24358974358974358, 'gini = 0.5\\nsamples = 4\\nvalue = [2, 2]'),\n",
              " Text(0.1605765452735687, 0.24358974358974358, 'gini = 0.0\\nsamples = 1\\nvalue = [0, 1]'),\n",
              " Text(0.16142047911789134, 0.2692307692307692, 'gini = 0.0\\nsamples = 2\\nvalue = [0, 2]'),\n",
              " Text(0.16395228065085926, 0.2948717948717949, 'X[6] <= 3.0\\ngini = 0.49\\nsamples = 7\\nvalue = [4, 3]'),\n",
              " Text(0.1631083468065366, 0.2692307692307692, 'gini = 0.0\\nsamples = 1\\nvalue = [0, 1]'),\n",
              " Text(0.1647962144951819, 0.2692307692307692, 'X[4] <= 5.0\\ngini = 0.444\\nsamples = 6\\nvalue = [4, 2]'),\n",
              " Text(0.16395228065085926, 0.24358974358974358, 'gini = 0.0\\nsamples = 1\\nvalue = [1, 0]'),\n",
              " Text(0.16564014833950452, 0.24358974358974358, 'X[4] <= 8.5\\ngini = 0.48\\nsamples = 5\\nvalue = [3, 2]'),\n",
              " Text(0.1647962144951819, 0.21794871794871795, 'gini = 0.444\\nsamples = 3\\nvalue = [2, 1]'),\n",
              " Text(0.16648408218382718, 0.21794871794871795, 'gini = 0.5\\nsamples = 2\\nvalue = [1, 1]'),\n",
              " Text(0.16395228065085926, 0.32051282051282054, 'gini = 0.0\\nsamples = 4\\nvalue = [4, 0]'),\n",
              " Text(0.18138478912264877, 0.34615384615384615, 'X[6] <= 0.5\\ngini = 0.401\\nsamples = 166\\nvalue = [120, 46]'),\n",
              " Text(0.17587284620191654, 0.32051282051282054, 'X[0] <= 51.5\\ngini = 0.444\\nsamples = 3\\nvalue = [1, 2]'),\n",
              " Text(0.17502891235759388, 0.2948717948717949, 'gini = 0.0\\nsamples = 1\\nvalue = [1, 0]'),\n",
              " Text(0.17671678004623917, 0.2948717948717949, 'gini = 0.0\\nsamples = 2\\nvalue = [0, 2]'),\n",
              " Text(0.186896732043381, 0.32051282051282054, 'X[4] <= 5.5\\ngini = 0.394\\nsamples = 163\\nvalue = [119, 44]'),\n",
              " Text(0.17840464773488446, 0.2948717948717949, 'X[4] <= 2.5\\ngini = 0.429\\nsamples = 90\\nvalue = [62, 28]'),\n",
              " Text(0.17070375140544036, 0.2692307692307692, 'X[0] <= 48.5\\ngini = 0.342\\nsamples = 64\\nvalue = [50, 14]'),\n",
              " Text(0.16901588371679507, 0.24358974358974358, 'X[1] <= 1.5\\ngini = 0.444\\nsamples = 3\\nvalue = [1, 2]'),\n",
              " Text(0.16817194987247244, 0.21794871794871795, 'gini = 0.0\\nsamples = 1\\nvalue = [0, 1]'),\n",
              " Text(0.16985981756111773, 0.21794871794871795, 'gini = 0.5\\nsamples = 2\\nvalue = [1, 1]'),\n",
              " Text(0.17239161909408565, 0.24358974358974358, 'X[6] <= 3.0\\ngini = 0.316\\nsamples = 61\\nvalue = [49, 12]'),\n",
              " Text(0.171547685249763, 0.21794871794871795, 'gini = 0.0\\nsamples = 7\\nvalue = [7, 0]'),\n",
              " Text(0.17323555293840828, 0.21794871794871795, 'X[1] <= 3.5\\ngini = 0.346\\nsamples = 54\\nvalue = [42, 12]'),\n",
              " Text(0.17239161909408565, 0.19230769230769232, 'X[0] <= 52.5\\ngini = 0.365\\nsamples = 50\\nvalue = [38, 12]'),\n",
              " Text(0.16922686717787574, 0.16666666666666666, 'X[4] <= 1.0\\ngini = 0.287\\nsamples = 23\\nvalue = [19, 4]'),\n",
              " Text(0.16838293333355311, 0.14102564102564102, 'gini = 0.5\\nsamples = 2\\nvalue = [1, 1]'),\n",
              " Text(0.17007080102219838, 0.14102564102564102, 'X[0] <= 50.5\\ngini = 0.245\\nsamples = 21\\nvalue = [18, 3]'),\n",
              " Text(0.16922686717787574, 0.11538461538461539, 'X[0] <= 49.5\\ngini = 0.375\\nsamples = 12\\nvalue = [9, 3]'),\n",
              " Text(0.16838293333355311, 0.08974358974358974, 'gini = 0.375\\nsamples = 4\\nvalue = [3, 1]'),\n",
              " Text(0.17007080102219838, 0.08974358974358974, 'gini = 0.375\\nsamples = 8\\nvalue = [6, 2]'),\n",
              " Text(0.17091473486652103, 0.11538461538461539, 'gini = 0.0\\nsamples = 9\\nvalue = [9, 0]'),\n",
              " Text(0.17555637101029553, 0.16666666666666666, 'X[0] <= 55.0\\ngini = 0.417\\nsamples = 27\\nvalue = [19, 8]'),\n",
              " Text(0.17344653639948895, 0.14102564102564102, 'X[1] <= 1.5\\ngini = 0.444\\nsamples = 6\\nvalue = [2, 4]'),\n",
              " Text(0.1726026025551663, 0.11538461538461539, 'gini = 0.0\\nsamples = 1\\nvalue = [0, 1]'),\n",
              " Text(0.17429047024381158, 0.11538461538461539, 'X[1] <= 2.5\\ngini = 0.48\\nsamples = 5\\nvalue = [2, 3]'),\n",
              " Text(0.17344653639948895, 0.08974358974358974, 'X[0] <= 53.5\\ngini = 0.5\\nsamples = 4\\nvalue = [2, 2]'),\n",
              " Text(0.1726026025551663, 0.0641025641025641, 'gini = 0.5\\nsamples = 2\\nvalue = [1, 1]'),\n",
              " Text(0.17429047024381158, 0.0641025641025641, 'gini = 0.5\\nsamples = 2\\nvalue = [1, 1]'),\n",
              " Text(0.17513440408813422, 0.08974358974358974, 'gini = 0.0\\nsamples = 1\\nvalue = [0, 1]'),\n",
              " Text(0.17766620562110214, 0.14102564102564102, 'X[0] <= 58.5\\ngini = 0.308\\nsamples = 21\\nvalue = [17, 4]'),\n",
              " Text(0.1768222717767795, 0.11538461538461539, 'gini = 0.0\\nsamples = 6\\nvalue = [6, 0]'),\n",
              " Text(0.17851013946542477, 0.11538461538461539, 'X[0] <= 60.5\\ngini = 0.391\\nsamples = 15\\nvalue = [11, 4]'),\n",
              " Text(0.1768222717767795, 0.08974358974358974, 'X[4] <= 1.0\\ngini = 0.49\\nsamples = 7\\nvalue = [4, 3]'),\n",
              " Text(0.17597833793245685, 0.0641025641025641, 'gini = 0.0\\nsamples = 1\\nvalue = [1, 0]'),\n",
              " Text(0.17766620562110214, 0.0641025641025641, 'X[0] <= 59.5\\ngini = 0.5\\nsamples = 6\\nvalue = [3, 3]'),\n",
              " Text(0.1768222717767795, 0.038461538461538464, 'gini = 0.5\\nsamples = 4\\nvalue = [2, 2]'),\n",
              " Text(0.17851013946542477, 0.038461538461538464, 'gini = 0.5\\nsamples = 2\\nvalue = [1, 1]'),\n",
              " Text(0.18019800715407006, 0.08974358974358974, 'X[0] <= 62.5\\ngini = 0.219\\nsamples = 8\\nvalue = [7, 1]'),\n",
              " Text(0.17935407330974742, 0.0641025641025641, 'gini = 0.0\\nsamples = 5\\nvalue = [5, 0]'),\n",
              " Text(0.1810419409983927, 0.0641025641025641, 'gini = 0.444\\nsamples = 3\\nvalue = [2, 1]'),\n",
              " Text(0.1740794867827309, 0.19230769230769232, 'gini = 0.0\\nsamples = 4\\nvalue = [4, 0]'),\n",
              " Text(0.18610554406432853, 0.2692307692307692, 'X[1] <= 1.5\\ngini = 0.497\\nsamples = 26\\nvalue = [12, 14]'),\n",
              " Text(0.18441767637568324, 0.24358974358974358, 'X[4] <= 3.5\\ngini = 0.245\\nsamples = 7\\nvalue = [6, 1]'),\n",
              " Text(0.1835737425313606, 0.21794871794871795, 'X[0] <= 56.5\\ngini = 0.5\\nsamples = 2\\nvalue = [1, 1]'),\n",
              " Text(0.18272980868703798, 0.19230769230769232, 'gini = 0.0\\nsamples = 1\\nvalue = [1, 0]'),\n",
              " Text(0.18441767637568324, 0.19230769230769232, 'gini = 0.0\\nsamples = 1\\nvalue = [0, 1]'),\n",
              " Text(0.1852616102200059, 0.21794871794871795, 'gini = 0.0\\nsamples = 5\\nvalue = [5, 0]'),\n",
              " Text(0.18779341175297382, 0.24358974358974358, 'X[1] <= 2.5\\ngini = 0.432\\nsamples = 19\\nvalue = [6, 13]'),\n",
              " Text(0.18694947790865116, 0.21794871794871795, 'X[0] <= 67.5\\ngini = 0.48\\nsamples = 15\\nvalue = [6, 9]'),\n",
              " Text(0.18610554406432853, 0.19230769230769232, 'X[0] <= 57.5\\ngini = 0.459\\nsamples = 14\\nvalue = [5, 9]'),\n",
              " Text(0.18441767637568324, 0.16666666666666666, 'X[0] <= 51.0\\ngini = 0.5\\nsamples = 8\\nvalue = [4, 4]'),\n",
              " Text(0.1835737425313606, 0.14102564102564102, 'gini = 0.0\\nsamples = 2\\nvalue = [0, 2]'),\n",
              " Text(0.1852616102200059, 0.14102564102564102, 'X[0] <= 56.5\\ngini = 0.444\\nsamples = 6\\nvalue = [4, 2]'),\n",
              " Text(0.18441767637568324, 0.11538461538461539, 'X[4] <= 4.0\\ngini = 0.5\\nsamples = 4\\nvalue = [2, 2]'),\n",
              " Text(0.1835737425313606, 0.08974358974358974, 'X[0] <= 52.5\\ngini = 0.444\\nsamples = 3\\nvalue = [2, 1]'),\n",
              " Text(0.18272980868703798, 0.0641025641025641, 'gini = 0.5\\nsamples = 2\\nvalue = [1, 1]'),\n",
              " Text(0.18441767637568324, 0.0641025641025641, 'gini = 0.0\\nsamples = 1\\nvalue = [1, 0]'),\n",
              " Text(0.1852616102200059, 0.08974358974358974, 'gini = 0.0\\nsamples = 1\\nvalue = [0, 1]'),\n",
              " Text(0.18610554406432853, 0.11538461538461539, 'gini = 0.0\\nsamples = 2\\nvalue = [2, 0]'),\n",
              " Text(0.18779341175297382, 0.16666666666666666, 'X[4] <= 4.0\\ngini = 0.278\\nsamples = 6\\nvalue = [1, 5]'),\n",
              " Text(0.18694947790865116, 0.14102564102564102, 'gini = 0.0\\nsamples = 4\\nvalue = [0, 4]'),\n",
              " Text(0.18863734559729645, 0.14102564102564102, 'X[0] <= 62.5\\ngini = 0.5\\nsamples = 2\\nvalue = [1, 1]'),\n",
              " Text(0.18779341175297382, 0.11538461538461539, 'gini = 0.0\\nsamples = 1\\nvalue = [0, 1]'),\n",
              " Text(0.18948127944161908, 0.11538461538461539, 'gini = 0.0\\nsamples = 1\\nvalue = [1, 0]'),\n",
              " Text(0.18779341175297382, 0.19230769230769232, 'gini = 0.0\\nsamples = 1\\nvalue = [1, 0]'),\n",
              " Text(0.18863734559729645, 0.21794871794871795, 'gini = 0.0\\nsamples = 4\\nvalue = [0, 4]'),\n",
              " Text(0.19538881635187755, 0.2948717948717949, 'X[0] <= 53.5\\ngini = 0.342\\nsamples = 73\\nvalue = [57, 16]'),\n",
              " Text(0.1937009486632323, 0.2692307692307692, 'X[0] <= 51.5\\ngini = 0.452\\nsamples = 29\\nvalue = [19, 10]'),\n",
              " Text(0.19285701481890963, 0.24358974358974358, 'X[0] <= 50.5\\ngini = 0.33\\nsamples = 24\\nvalue = [19, 5]'),\n",
              " Text(0.19116914713026437, 0.21794871794871795, 'X[4] <= 8.0\\ngini = 0.208\\nsamples = 17\\nvalue = [15, 2]'),\n",
              " Text(0.19032521328594174, 0.19230769230769232, 'gini = 0.0\\nsamples = 7\\nvalue = [7, 0]'),\n",
              " Text(0.192013080974587, 0.19230769230769232, 'X[4] <= 9.5\\ngini = 0.32\\nsamples = 10\\nvalue = [8, 2]'),\n",
              " Text(0.19116914713026437, 0.16666666666666666, 'gini = 0.0\\nsamples = 1\\nvalue = [0, 1]'),\n",
              " Text(0.19285701481890963, 0.16666666666666666, 'X[1] <= 1.5\\ngini = 0.198\\nsamples = 9\\nvalue = [8, 1]'),\n",
              " Text(0.192013080974587, 0.14102564102564102, 'X[4] <= 11.5\\ngini = 0.444\\nsamples = 3\\nvalue = [2, 1]'),\n",
              " Text(0.19116914713026437, 0.11538461538461539, 'gini = 0.5\\nsamples = 2\\nvalue = [1, 1]'),\n",
              " Text(0.19285701481890963, 0.11538461538461539, 'gini = 0.0\\nsamples = 1\\nvalue = [1, 0]'),\n",
              " Text(0.1937009486632323, 0.14102564102564102, 'gini = 0.0\\nsamples = 6\\nvalue = [6, 0]'),\n",
              " Text(0.19454488250755492, 0.21794871794871795, 'X[4] <= 11.5\\ngini = 0.49\\nsamples = 7\\nvalue = [4, 3]'),\n",
              " Text(0.1937009486632323, 0.19230769230769232, 'gini = 0.0\\nsamples = 3\\nvalue = [0, 3]'),\n",
              " Text(0.19538881635187755, 0.19230769230769232, 'gini = 0.0\\nsamples = 4\\nvalue = [4, 0]'),\n",
              " Text(0.19454488250755492, 0.24358974358974358, 'gini = 0.0\\nsamples = 5\\nvalue = [0, 5]'),\n",
              " Text(0.19707668404052284, 0.2692307692307692, 'X[2] <= 8.5\\ngini = 0.236\\nsamples = 44\\nvalue = [38, 6]'),\n",
              " Text(0.1962327501962002, 0.24358974358974358, 'gini = 0.0\\nsamples = 1\\nvalue = [0, 1]'),\n",
              " Text(0.19792061788484547, 0.24358974358974358, 'X[4] <= 8.0\\ngini = 0.206\\nsamples = 43\\nvalue = [38, 5]'),\n",
              " Text(0.19707668404052284, 0.21794871794871795, 'gini = 0.0\\nsamples = 20\\nvalue = [20, 0]'),\n",
              " Text(0.19876455172916813, 0.21794871794871795, 'X[4] <= 9.5\\ngini = 0.34\\nsamples = 23\\nvalue = [18, 5]'),\n",
              " Text(0.19792061788484547, 0.19230769230769232, 'gini = 0.0\\nsamples = 2\\nvalue = [0, 2]'),\n",
              " Text(0.19960848557349076, 0.19230769230769232, 'X[4] <= 12.0\\ngini = 0.245\\nsamples = 21\\nvalue = [18, 3]'),\n",
              " Text(0.19876455172916813, 0.16666666666666666, 'gini = 0.0\\nsamples = 9\\nvalue = [9, 0]'),\n",
              " Text(0.2004524194178134, 0.16666666666666666, 'X[1] <= 3.5\\ngini = 0.375\\nsamples = 12\\nvalue = [9, 3]'),\n",
              " Text(0.19960848557349076, 0.14102564102564102, 'X[0] <= 59.5\\ngini = 0.298\\nsamples = 11\\nvalue = [9, 2]'),\n",
              " Text(0.19876455172916813, 0.11538461538461539, 'X[0] <= 57.5\\ngini = 0.408\\nsamples = 7\\nvalue = [5, 2]'),\n",
              " Text(0.19792061788484547, 0.08974358974358974, 'X[0] <= 55.0\\ngini = 0.278\\nsamples = 6\\nvalue = [5, 1]'),\n",
              " Text(0.19707668404052284, 0.0641025641025641, 'gini = 0.0\\nsamples = 2\\nvalue = [2, 0]'),\n",
              " Text(0.19876455172916813, 0.0641025641025641, 'X[1] <= 1.5\\ngini = 0.375\\nsamples = 4\\nvalue = [3, 1]'),\n",
              " Text(0.19792061788484547, 0.038461538461538464, 'gini = 0.5\\nsamples = 2\\nvalue = [1, 1]'),\n",
              " Text(0.19960848557349076, 0.038461538461538464, 'gini = 0.0\\nsamples = 2\\nvalue = [2, 0]'),\n",
              " Text(0.19960848557349076, 0.08974358974358974, 'gini = 0.0\\nsamples = 1\\nvalue = [0, 1]'),\n",
              " Text(0.2004524194178134, 0.11538461538461539, 'gini = 0.0\\nsamples = 4\\nvalue = [4, 0]'),\n",
              " Text(0.20129635326213602, 0.14102564102564102, 'gini = 0.0\\nsamples = 1\\nvalue = [0, 1]'),\n",
              " Text(0.14853235660078448, 0.44871794871794873, 'gini = 0.0\\nsamples = 3\\nvalue = [3, 0]'),\n",
              " Text(0.1493762904451071, 0.47435897435897434, 'gini = 0.0\\nsamples = 1\\nvalue = [0, 1]'),\n",
              " Text(0.15022022428942974, 0.5, 'gini = 0.0\\nsamples = 3\\nvalue = [3, 0]'),\n",
              " Text(0.1510641581337524, 0.5256410256410257, 'gini = 0.0\\nsamples = 5\\nvalue = [5, 0]'),\n",
              " Text(0.14853235660078448, 0.6282051282051282, 'gini = 0.0\\nsamples = 3\\nvalue = [0, 3]'),\n",
              " Text(0.1493762904451071, 0.6538461538461539, 'gini = 0.0\\nsamples = 7\\nvalue = [7, 0]'),\n",
              " Text(0.1510641581337524, 0.7051282051282052, 'X[0] <= 55.5\\ngini = 0.32\\nsamples = 5\\nvalue = [1, 4]'),\n",
              " Text(0.15022022428942974, 0.6794871794871795, 'gini = 0.0\\nsamples = 4\\nvalue = [0, 4]'),\n",
              " Text(0.15190809197807503, 0.6794871794871795, 'gini = 0.0\\nsamples = 1\\nvalue = [1, 0]'),\n",
              " Text(0.21606519553778222, 0.7307692307692307, 'X[1] <= 2.5\\ngini = 0.483\\nsamples = 255\\nvalue = [151, 104]'),\n",
              " Text(0.19074718020810305, 0.7051282051282052, 'X[0] <= 43.5\\ngini = 0.5\\nsamples = 169\\nvalue = [85, 84]'),\n",
              " Text(0.1759255920671867, 0.6794871794871795, 'X[4] <= 2.5\\ngini = 0.489\\nsamples = 82\\nvalue = [47, 35]'),\n",
              " Text(0.16964883410003706, 0.6538461538461539, 'X[10] <= 46.5\\ngini = 0.43\\nsamples = 32\\nvalue = [22, 10]'),\n",
              " Text(0.16753899948923046, 0.6282051282051282, 'X[4] <= 1.0\\ngini = 0.18\\nsamples = 10\\nvalue = [9, 1]'),\n",
              " Text(0.16669506564490782, 0.6025641025641025, 'X[10] <= 43.5\\ngini = 0.444\\nsamples = 3\\nvalue = [2, 1]'),\n",
              " Text(0.1658511318005852, 0.5769230769230769, 'gini = 0.0\\nsamples = 1\\nvalue = [1, 0]'),\n",
              " Text(0.16753899948923046, 0.5769230769230769, 'X[0] <= 37.0\\ngini = 0.5\\nsamples = 2\\nvalue = [1, 1]'),\n",
              " Text(0.16669506564490782, 0.5512820512820513, 'gini = 0.0\\nsamples = 1\\nvalue = [1, 0]'),\n",
              " Text(0.16838293333355311, 0.5512820512820513, 'gini = 0.0\\nsamples = 1\\nvalue = [0, 1]'),\n",
              " Text(0.16838293333355311, 0.6025641025641025, 'gini = 0.0\\nsamples = 7\\nvalue = [7, 0]'),\n",
              " Text(0.17175866871084366, 0.6282051282051282, 'X[4] <= 1.0\\ngini = 0.483\\nsamples = 22\\nvalue = [13, 9]'),\n",
              " Text(0.17091473486652103, 0.6025641025641025, 'gini = 0.0\\nsamples = 2\\nvalue = [0, 2]'),\n",
              " Text(0.1726026025551663, 0.6025641025641025, 'X[10] <= 62.5\\ngini = 0.455\\nsamples = 20\\nvalue = [13, 7]'),\n",
              " Text(0.17175866871084366, 0.5769230769230769, 'X[0] <= 37.5\\ngini = 0.484\\nsamples = 17\\nvalue = [10, 7]'),\n",
              " Text(0.17007080102219838, 0.5512820512820513, 'X[10] <= 51.0\\ngini = 0.444\\nsamples = 6\\nvalue = [2, 4]'),\n",
              " Text(0.16922686717787574, 0.5256410256410257, 'X[0] <= 36.5\\ngini = 0.444\\nsamples = 3\\nvalue = [2, 1]'),\n",
              " Text(0.16838293333355311, 0.5, 'gini = 0.0\\nsamples = 1\\nvalue = [1, 0]'),\n",
              " Text(0.17007080102219838, 0.5, 'gini = 0.5\\nsamples = 2\\nvalue = [1, 1]'),\n",
              " Text(0.17091473486652103, 0.5256410256410257, 'gini = 0.0\\nsamples = 3\\nvalue = [0, 3]'),\n",
              " Text(0.17344653639948895, 0.5512820512820513, 'X[10] <= 53.5\\ngini = 0.397\\nsamples = 11\\nvalue = [8, 3]'),\n",
              " Text(0.1726026025551663, 0.5256410256410257, 'X[0] <= 42.5\\ngini = 0.49\\nsamples = 7\\nvalue = [4, 3]'),\n",
              " Text(0.17175866871084366, 0.5, 'X[10] <= 51.0\\ngini = 0.444\\nsamples = 6\\nvalue = [4, 2]'),\n",
              " Text(0.17091473486652103, 0.47435897435897434, 'X[0] <= 39.0\\ngini = 0.32\\nsamples = 5\\nvalue = [4, 1]'),\n",
              " Text(0.17007080102219838, 0.44871794871794873, 'X[10] <= 49.0\\ngini = 0.444\\nsamples = 3\\nvalue = [2, 1]'),\n",
              " Text(0.16922686717787574, 0.4230769230769231, 'gini = 0.0\\nsamples = 1\\nvalue = [1, 0]'),\n",
              " Text(0.17091473486652103, 0.4230769230769231, 'gini = 0.5\\nsamples = 2\\nvalue = [1, 1]'),\n",
              " Text(0.17175866871084366, 0.44871794871794873, 'gini = 0.0\\nsamples = 2\\nvalue = [2, 0]'),\n",
              " Text(0.1726026025551663, 0.47435897435897434, 'gini = 0.0\\nsamples = 1\\nvalue = [0, 1]'),\n",
              " Text(0.17344653639948895, 0.5, 'gini = 0.0\\nsamples = 1\\nvalue = [0, 1]'),\n",
              " Text(0.17429047024381158, 0.5256410256410257, 'gini = 0.0\\nsamples = 4\\nvalue = [4, 0]'),\n",
              " Text(0.17344653639948895, 0.5769230769230769, 'gini = 0.0\\nsamples = 3\\nvalue = [3, 0]'),\n",
              " Text(0.18220235003433632, 0.6538461538461539, 'X[0] <= 37.5\\ngini = 0.5\\nsamples = 50\\nvalue = [25, 25]'),\n",
              " Text(0.17851013946542477, 0.6282051282051282, 'X[10] <= 43.0\\ngini = 0.457\\nsamples = 17\\nvalue = [6, 11]'),\n",
              " Text(0.17766620562110214, 0.6025641025641025, 'gini = 0.0\\nsamples = 1\\nvalue = [1, 0]'),\n",
              " Text(0.17935407330974742, 0.6025641025641025, 'X[8] <= 1732.0\\ngini = 0.43\\nsamples = 16\\nvalue = [5, 11]'),\n",
              " Text(0.17851013946542477, 0.5769230769230769, 'X[0] <= 36.5\\ngini = 0.391\\nsamples = 15\\nvalue = [4, 11]'),\n",
              " Text(0.17766620562110214, 0.5512820512820513, 'X[4] <= 8.0\\ngini = 0.444\\nsamples = 12\\nvalue = [4, 8]'),\n",
              " Text(0.17597833793245685, 0.5256410256410257, 'X[1] <= 1.5\\ngini = 0.49\\nsamples = 7\\nvalue = [3, 4]'),\n",
              " Text(0.17513440408813422, 0.5, 'gini = 0.0\\nsamples = 1\\nvalue = [0, 1]'),\n",
              " Text(0.1768222717767795, 0.5, 'X[10] <= 44.5\\ngini = 0.5\\nsamples = 6\\nvalue = [3, 3]'),\n",
              " Text(0.17597833793245685, 0.47435897435897434, 'gini = 0.0\\nsamples = 1\\nvalue = [0, 1]'),\n",
              " Text(0.17766620562110214, 0.47435897435897434, 'X[10] <= 47.5\\ngini = 0.48\\nsamples = 5\\nvalue = [3, 2]'),\n",
              " Text(0.1768222717767795, 0.44871794871794873, 'gini = 0.0\\nsamples = 1\\nvalue = [1, 0]'),\n",
              " Text(0.17851013946542477, 0.44871794871794873, 'X[10] <= 55.0\\ngini = 0.5\\nsamples = 4\\nvalue = [2, 2]'),\n",
              " Text(0.1768222717767795, 0.4230769230769231, 'X[4] <= 6.5\\ngini = 0.5\\nsamples = 2\\nvalue = [1, 1]'),\n",
              " Text(0.17597833793245685, 0.3974358974358974, 'gini = 0.0\\nsamples = 1\\nvalue = [0, 1]'),\n",
              " Text(0.17766620562110214, 0.3974358974358974, 'gini = 0.0\\nsamples = 1\\nvalue = [1, 0]'),\n",
              " Text(0.18019800715407006, 0.4230769230769231, 'X[4] <= 6.5\\ngini = 0.5\\nsamples = 2\\nvalue = [1, 1]'),\n",
              " Text(0.17935407330974742, 0.3974358974358974, 'gini = 0.0\\nsamples = 1\\nvalue = [1, 0]'),\n",
              " Text(0.1810419409983927, 0.3974358974358974, 'gini = 0.0\\nsamples = 1\\nvalue = [0, 1]'),\n",
              " Text(0.17935407330974742, 0.5256410256410257, 'X[10] <= 47.5\\ngini = 0.32\\nsamples = 5\\nvalue = [1, 4]'),\n",
              " Text(0.17851013946542477, 0.5, 'gini = 0.0\\nsamples = 2\\nvalue = [0, 2]'),\n",
              " Text(0.18019800715407006, 0.5, 'X[4] <= 11.5\\ngini = 0.444\\nsamples = 3\\nvalue = [1, 2]'),\n",
              " Text(0.17935407330974742, 0.47435897435897434, 'gini = 0.0\\nsamples = 1\\nvalue = [0, 1]'),\n",
              " Text(0.1810419409983927, 0.47435897435897434, 'X[4] <= 12.5\\ngini = 0.5\\nsamples = 2\\nvalue = [1, 1]'),\n",
              " Text(0.18019800715407006, 0.44871794871794873, 'gini = 0.0\\nsamples = 1\\nvalue = [1, 0]'),\n",
              " Text(0.18188587484271534, 0.44871794871794873, 'gini = 0.0\\nsamples = 1\\nvalue = [0, 1]'),\n",
              " Text(0.17935407330974742, 0.5512820512820513, 'gini = 0.0\\nsamples = 3\\nvalue = [0, 3]'),\n",
              " Text(0.18019800715407006, 0.5769230769230769, 'gini = 0.0\\nsamples = 1\\nvalue = [1, 0]'),\n",
              " Text(0.18589456060324785, 0.6282051282051282, 'X[4] <= 3.5\\ngini = 0.489\\nsamples = 33\\nvalue = [19, 14]'),\n",
              " Text(0.1835737425313606, 0.6025641025641025, 'X[0] <= 39.5\\ngini = 0.444\\nsamples = 6\\nvalue = [2, 4]'),\n",
              " Text(0.18272980868703798, 0.5769230769230769, 'X[10] <= 52.5\\ngini = 0.5\\nsamples = 4\\nvalue = [2, 2]'),\n",
              " Text(0.18188587484271534, 0.5512820512820513, 'gini = 0.0\\nsamples = 1\\nvalue = [1, 0]'),\n",
              " Text(0.1835737425313606, 0.5512820512820513, 'X[10] <= 57.5\\ngini = 0.444\\nsamples = 3\\nvalue = [1, 2]'),\n",
              " Text(0.18272980868703798, 0.5256410256410257, 'X[0] <= 38.5\\ngini = 0.5\\nsamples = 2\\nvalue = [1, 1]'),\n",
              " Text(0.18188587484271534, 0.5, 'gini = 0.0\\nsamples = 1\\nvalue = [0, 1]'),\n",
              " Text(0.1835737425313606, 0.5, 'gini = 0.0\\nsamples = 1\\nvalue = [1, 0]'),\n",
              " Text(0.18441767637568324, 0.5256410256410257, 'gini = 0.0\\nsamples = 1\\nvalue = [0, 1]'),\n",
              " Text(0.18441767637568324, 0.5769230769230769, 'gini = 0.0\\nsamples = 2\\nvalue = [0, 2]'),\n",
              " Text(0.18821537867513513, 0.6025641025641025, 'X[10] <= 42.5\\ngini = 0.466\\nsamples = 27\\nvalue = [17, 10]'),\n",
              " Text(0.18737144483081247, 0.5769230769230769, 'gini = 0.0\\nsamples = 1\\nvalue = [0, 1]'),\n",
              " Text(0.18905931251945776, 0.5769230769230769, 'X[8] <= 2193.0\\ngini = 0.453\\nsamples = 26\\nvalue = [17, 9]'),\n",
              " Text(0.18821537867513513, 0.5512820512820513, 'X[10] <= 49.0\\ngini = 0.435\\nsamples = 25\\nvalue = [17, 8]'),\n",
              " Text(0.18610554406432853, 0.5256410256410257, 'X[1] <= 1.5\\ngini = 0.198\\nsamples = 9\\nvalue = [8, 1]'),\n",
              " Text(0.1852616102200059, 0.5, 'gini = 0.0\\nsamples = 1\\nvalue = [0, 1]'),\n",
              " Text(0.18694947790865116, 0.5, 'gini = 0.0\\nsamples = 8\\nvalue = [8, 0]'),\n",
              " Text(0.19032521328594174, 0.5256410256410257, 'X[0] <= 39.5\\ngini = 0.492\\nsamples = 16\\nvalue = [9, 7]'),\n",
              " Text(0.18863734559729645, 0.5, 'X[4] <= 12.5\\ngini = 0.32\\nsamples = 5\\nvalue = [1, 4]'),\n",
              " Text(0.18779341175297382, 0.47435897435897434, 'gini = 0.0\\nsamples = 3\\nvalue = [0, 3]'),\n",
              " Text(0.18948127944161908, 0.47435897435897434, 'X[0] <= 38.5\\ngini = 0.5\\nsamples = 2\\nvalue = [1, 1]'),\n",
              " Text(0.18863734559729645, 0.44871794871794873, 'gini = 0.0\\nsamples = 1\\nvalue = [1, 0]'),\n",
              " Text(0.19032521328594174, 0.44871794871794873, 'gini = 0.0\\nsamples = 1\\nvalue = [0, 1]'),\n",
              " Text(0.192013080974587, 0.5, 'X[10] <= 55.0\\ngini = 0.397\\nsamples = 11\\nvalue = [8, 3]'),\n",
              " Text(0.19116914713026437, 0.47435897435897434, 'gini = 0.0\\nsamples = 4\\nvalue = [4, 0]'),\n",
              " Text(0.19285701481890963, 0.47435897435897434, 'X[10] <= 61.5\\ngini = 0.49\\nsamples = 7\\nvalue = [4, 3]'),\n",
              " Text(0.192013080974587, 0.44871794871794873, 'X[4] <= 12.0\\ngini = 0.48\\nsamples = 5\\nvalue = [2, 3]'),\n",
              " Text(0.19116914713026437, 0.4230769230769231, 'gini = 0.444\\nsamples = 3\\nvalue = [2, 1]'),\n",
              " Text(0.19285701481890963, 0.4230769230769231, 'gini = 0.0\\nsamples = 2\\nvalue = [0, 2]'),\n",
              " Text(0.1937009486632323, 0.44871794871794873, 'gini = 0.0\\nsamples = 2\\nvalue = [2, 0]'),\n",
              " Text(0.1899032463637804, 0.5512820512820513, 'gini = 0.0\\nsamples = 1\\nvalue = [0, 1]'),\n",
              " Text(0.20556876834901938, 0.6794871794871795, 'X[1] <= 1.5\\ngini = 0.492\\nsamples = 87\\nvalue = [38, 49]'),\n",
              " Text(0.20472483450469675, 0.6538461538461539, 'gini = 0.0\\nsamples = 4\\nvalue = [4, 0]'),\n",
              " Text(0.20641270219334204, 0.6538461538461539, 'X[8] <= 4699.5\\ngini = 0.484\\nsamples = 83\\nvalue = [34, 49]'),\n",
              " Text(0.20556876834901938, 0.6282051282051282, 'X[10] <= 44.5\\ngini = 0.478\\nsamples = 81\\nvalue = [32, 49]'),\n",
              " Text(0.20472483450469675, 0.6025641025641025, 'gini = 0.0\\nsamples = 4\\nvalue = [0, 4]'),\n",
              " Text(0.20641270219334204, 0.6025641025641025, 'X[10] <= 47.0\\ngini = 0.486\\nsamples = 77\\nvalue = [32, 45]'),\n",
              " Text(0.2004524194178134, 0.5769230769230769, 'X[0] <= 59.5\\ngini = 0.497\\nsamples = 26\\nvalue = [14, 12]'),\n",
              " Text(0.19960848557349076, 0.5512820512820513, 'X[8] <= 1551.5\\ngini = 0.486\\nsamples = 24\\nvalue = [14, 10]'),\n",
              " Text(0.19876455172916813, 0.5256410256410257, 'X[0] <= 53.5\\ngini = 0.476\\nsamples = 23\\nvalue = [14, 9]'),\n",
              " Text(0.19707668404052284, 0.5, 'X[4] <= 12.0\\ngini = 0.5\\nsamples = 16\\nvalue = [8, 8]'),\n",
              " Text(0.1962327501962002, 0.47435897435897434, 'X[2] <= 8.5\\ngini = 0.473\\nsamples = 13\\nvalue = [5, 8]'),\n",
              " Text(0.19538881635187755, 0.44871794871794873, 'gini = 0.0\\nsamples = 1\\nvalue = [1, 0]'),\n",
              " Text(0.19707668404052284, 0.44871794871794873, 'X[4] <= 8.5\\ngini = 0.444\\nsamples = 12\\nvalue = [4, 8]'),\n",
              " Text(0.1962327501962002, 0.4230769230769231, 'X[0] <= 44.5\\ngini = 0.48\\nsamples = 10\\nvalue = [4, 6]'),\n",
              " Text(0.19538881635187755, 0.3974358974358974, 'gini = 0.0\\nsamples = 1\\nvalue = [0, 1]'),\n",
              " Text(0.19707668404052284, 0.3974358974358974, 'X[4] <= 2.5\\ngini = 0.494\\nsamples = 9\\nvalue = [4, 5]'),\n",
              " Text(0.19454488250755492, 0.3717948717948718, 'X[10] <= 45.5\\ngini = 0.375\\nsamples = 4\\nvalue = [1, 3]'),\n",
              " Text(0.1937009486632323, 0.34615384615384615, 'gini = 0.0\\nsamples = 2\\nvalue = [0, 2]'),\n",
              " Text(0.19538881635187755, 0.34615384615384615, 'X[0] <= 50.5\\ngini = 0.5\\nsamples = 2\\nvalue = [1, 1]'),\n",
              " Text(0.19454488250755492, 0.32051282051282054, 'gini = 0.0\\nsamples = 1\\nvalue = [1, 0]'),\n",
              " Text(0.1962327501962002, 0.32051282051282054, 'gini = 0.0\\nsamples = 1\\nvalue = [0, 1]'),\n",
              " Text(0.19960848557349076, 0.3717948717948718, 'X[0] <= 46.5\\ngini = 0.48\\nsamples = 5\\nvalue = [3, 2]'),\n",
              " Text(0.19876455172916813, 0.34615384615384615, 'X[4] <= 4.5\\ngini = 0.444\\nsamples = 3\\nvalue = [1, 2]'),\n",
              " Text(0.19792061788484547, 0.32051282051282054, 'X[0] <= 45.5\\ngini = 0.5\\nsamples = 2\\nvalue = [1, 1]'),\n",
              " Text(0.19707668404052284, 0.2948717948717949, 'gini = 0.0\\nsamples = 1\\nvalue = [1, 0]'),\n",
              " Text(0.19876455172916813, 0.2948717948717949, 'gini = 0.0\\nsamples = 1\\nvalue = [0, 1]'),\n",
              " Text(0.19960848557349076, 0.32051282051282054, 'gini = 0.0\\nsamples = 1\\nvalue = [0, 1]'),\n",
              " Text(0.2004524194178134, 0.34615384615384615, 'gini = 0.0\\nsamples = 2\\nvalue = [2, 0]'),\n",
              " Text(0.19792061788484547, 0.4230769230769231, 'gini = 0.0\\nsamples = 2\\nvalue = [0, 2]'),\n",
              " Text(0.19792061788484547, 0.47435897435897434, 'gini = 0.0\\nsamples = 3\\nvalue = [3, 0]'),\n",
              " Text(0.2004524194178134, 0.5, 'X[9] <= 742.5\\ngini = 0.245\\nsamples = 7\\nvalue = [6, 1]'),\n",
              " Text(0.19960848557349076, 0.47435897435897434, 'gini = 0.0\\nsamples = 6\\nvalue = [6, 0]'),\n",
              " Text(0.20129635326213602, 0.47435897435897434, 'gini = 0.0\\nsamples = 1\\nvalue = [0, 1]'),\n",
              " Text(0.2004524194178134, 0.5256410256410257, 'gini = 0.0\\nsamples = 1\\nvalue = [0, 1]'),\n",
              " Text(0.20129635326213602, 0.5512820512820513, 'gini = 0.0\\nsamples = 2\\nvalue = [0, 2]'),\n",
              " Text(0.21237298496887067, 0.5769230769230769, 'X[4] <= 5.5\\ngini = 0.457\\nsamples = 51\\nvalue = [18, 33]'),\n",
              " Text(0.20593798940591054, 0.5512820512820513, 'X[0] <= 58.5\\ngini = 0.375\\nsamples = 24\\nvalue = [6, 18]'),\n",
              " Text(0.20425012171726525, 0.5256410256410257, 'X[0] <= 47.0\\ngini = 0.308\\nsamples = 21\\nvalue = [4, 17]'),\n",
              " Text(0.20340618787294262, 0.5, 'gini = 0.0\\nsamples = 4\\nvalue = [0, 4]'),\n",
              " Text(0.2050940555615879, 0.5, 'X[0] <= 51.5\\ngini = 0.36\\nsamples = 17\\nvalue = [4, 13]'),\n",
              " Text(0.2029842209507813, 0.47435897435897434, 'X[10] <= 54.5\\ngini = 0.469\\nsamples = 8\\nvalue = [3, 5]'),\n",
              " Text(0.20129635326213602, 0.44871794871794873, 'X[4] <= 2.5\\ngini = 0.444\\nsamples = 3\\nvalue = [2, 1]'),\n",
              " Text(0.2004524194178134, 0.4230769230769231, 'gini = 0.0\\nsamples = 2\\nvalue = [2, 0]'),\n",
              " Text(0.20214028710645868, 0.4230769230769231, 'gini = 0.0\\nsamples = 1\\nvalue = [0, 1]'),\n",
              " Text(0.2046720886394266, 0.44871794871794873, 'X[0] <= 49.0\\ngini = 0.32\\nsamples = 5\\nvalue = [1, 4]'),\n",
              " Text(0.20382815479510394, 0.4230769230769231, 'X[4] <= 2.0\\ngini = 0.5\\nsamples = 2\\nvalue = [1, 1]'),\n",
              " Text(0.2029842209507813, 0.3974358974358974, 'gini = 0.0\\nsamples = 1\\nvalue = [0, 1]'),\n",
              " Text(0.2046720886394266, 0.3974358974358974, 'gini = 0.0\\nsamples = 1\\nvalue = [1, 0]'),\n",
              " Text(0.20551602248374923, 0.4230769230769231, 'gini = 0.0\\nsamples = 3\\nvalue = [0, 3]'),\n",
              " Text(0.20720389017239452, 0.47435897435897434, 'X[10] <= 57.5\\ngini = 0.198\\nsamples = 9\\nvalue = [1, 8]'),\n",
              " Text(0.20635995632807186, 0.44871794871794873, 'gini = 0.0\\nsamples = 6\\nvalue = [0, 6]'),\n",
              " Text(0.20804782401671715, 0.44871794871794873, 'X[0] <= 54.5\\ngini = 0.444\\nsamples = 3\\nvalue = [1, 2]'),\n",
              " Text(0.20720389017239452, 0.4230769230769231, 'gini = 0.0\\nsamples = 1\\nvalue = [0, 1]'),\n",
              " Text(0.20889175786103978, 0.4230769230769231, 'X[4] <= 2.5\\ngini = 0.5\\nsamples = 2\\nvalue = [1, 1]'),\n",
              " Text(0.20804782401671715, 0.3974358974358974, 'gini = 0.0\\nsamples = 1\\nvalue = [0, 1]'),\n",
              " Text(0.2097356917053624, 0.3974358974358974, 'gini = 0.0\\nsamples = 1\\nvalue = [1, 0]'),\n",
              " Text(0.20762585709455583, 0.5256410256410257, 'X[4] <= 2.5\\ngini = 0.444\\nsamples = 3\\nvalue = [2, 1]'),\n",
              " Text(0.20678192325023317, 0.5, 'gini = 0.0\\nsamples = 1\\nvalue = [1, 0]'),\n",
              " Text(0.20846979093887846, 0.5, 'gini = 0.5\\nsamples = 2\\nvalue = [1, 1]'),\n",
              " Text(0.2188079805318308, 0.5512820512820513, 'X[4] <= 12.0\\ngini = 0.494\\nsamples = 27\\nvalue = [12, 15]'),\n",
              " Text(0.21479929477129825, 0.5256410256410257, 'X[0] <= 51.0\\ngini = 0.49\\nsamples = 14\\nvalue = [8, 6]'),\n",
              " Text(0.21395536092697562, 0.5, 'X[0] <= 44.5\\ngini = 0.5\\nsamples = 12\\nvalue = [6, 6]'),\n",
              " Text(0.213111427082653, 0.47435897435897434, 'gini = 0.0\\nsamples = 1\\nvalue = [1, 0]'),\n",
              " Text(0.21479929477129825, 0.47435897435897434, 'X[10] <= 72.5\\ngini = 0.496\\nsamples = 11\\nvalue = [5, 6]'),\n",
              " Text(0.21395536092697562, 0.44871794871794873, 'X[4] <= 10.0\\ngini = 0.48\\nsamples = 10\\nvalue = [4, 6]'),\n",
              " Text(0.21226749323833033, 0.4230769230769231, 'X[10] <= 55.0\\ngini = 0.48\\nsamples = 5\\nvalue = [3, 2]'),\n",
              " Text(0.2114235593940077, 0.3974358974358974, 'X[0] <= 46.5\\ngini = 0.375\\nsamples = 4\\nvalue = [3, 1]'),\n",
              " Text(0.21057962554968507, 0.3717948717948718, 'gini = 0.0\\nsamples = 1\\nvalue = [1, 0]'),\n",
              " Text(0.21226749323833033, 0.3717948717948718, 'X[4] <= 7.5\\ngini = 0.444\\nsamples = 3\\nvalue = [2, 1]'),\n",
              " Text(0.2114235593940077, 0.34615384615384615, 'X[0] <= 48.5\\ngini = 0.5\\nsamples = 2\\nvalue = [1, 1]'),\n",
              " Text(0.21057962554968507, 0.32051282051282054, 'gini = 0.0\\nsamples = 1\\nvalue = [0, 1]'),\n",
              " Text(0.21226749323833033, 0.32051282051282054, 'gini = 0.0\\nsamples = 1\\nvalue = [1, 0]'),\n",
              " Text(0.213111427082653, 0.34615384615384615, 'gini = 0.0\\nsamples = 1\\nvalue = [1, 0]'),\n",
              " Text(0.213111427082653, 0.3974358974358974, 'gini = 0.0\\nsamples = 1\\nvalue = [0, 1]'),\n",
              " Text(0.2156432286156209, 0.4230769230769231, 'X[10] <= 55.0\\ngini = 0.32\\nsamples = 5\\nvalue = [1, 4]'),\n",
              " Text(0.21479929477129825, 0.3974358974358974, 'gini = 0.0\\nsamples = 2\\nvalue = [0, 2]'),\n",
              " Text(0.21648716245994354, 0.3974358974358974, 'X[0] <= 47.5\\ngini = 0.444\\nsamples = 3\\nvalue = [1, 2]'),\n",
              " Text(0.2156432286156209, 0.3717948717948718, 'gini = 0.5\\nsamples = 2\\nvalue = [1, 1]'),\n",
              " Text(0.21733109630426617, 0.3717948717948718, 'gini = 0.0\\nsamples = 1\\nvalue = [0, 1]'),\n",
              " Text(0.2156432286156209, 0.44871794871794873, 'gini = 0.0\\nsamples = 1\\nvalue = [1, 0]'),\n",
              " Text(0.2156432286156209, 0.5, 'gini = 0.0\\nsamples = 2\\nvalue = [2, 0]'),\n",
              " Text(0.22281666629236332, 0.5256410256410257, 'X[0] <= 55.0\\ngini = 0.426\\nsamples = 13\\nvalue = [4, 9]'),\n",
              " Text(0.22070683168155672, 0.5, 'X[10] <= 65.0\\ngini = 0.32\\nsamples = 10\\nvalue = [2, 8]'),\n",
              " Text(0.21901896399291146, 0.47435897435897434, 'X[0] <= 47.5\\ngini = 0.219\\nsamples = 8\\nvalue = [1, 7]'),\n",
              " Text(0.2181750301485888, 0.44871794871794873, 'X[11] <= 28.5\\ngini = 0.375\\nsamples = 4\\nvalue = [1, 3]'),\n",
              " Text(0.21733109630426617, 0.4230769230769231, 'gini = 0.0\\nsamples = 1\\nvalue = [0, 1]'),\n",
              " Text(0.21901896399291146, 0.4230769230769231, 'X[10] <= 52.5\\ngini = 0.444\\nsamples = 3\\nvalue = [1, 2]'),\n",
              " Text(0.2181750301485888, 0.3974358974358974, 'gini = 0.5\\nsamples = 2\\nvalue = [1, 1]'),\n",
              " Text(0.2198628978372341, 0.3974358974358974, 'gini = 0.0\\nsamples = 1\\nvalue = [0, 1]'),\n",
              " Text(0.2198628978372341, 0.44871794871794873, 'gini = 0.0\\nsamples = 4\\nvalue = [0, 4]'),\n",
              " Text(0.222394699370202, 0.47435897435897434, 'X[10] <= 77.5\\ngini = 0.5\\nsamples = 2\\nvalue = [1, 1]'),\n",
              " Text(0.22155076552587938, 0.44871794871794873, 'gini = 0.0\\nsamples = 1\\nvalue = [1, 0]'),\n",
              " Text(0.22323863321452464, 0.44871794871794873, 'gini = 0.0\\nsamples = 1\\nvalue = [0, 1]'),\n",
              " Text(0.22492650090316993, 0.5, 'X[0] <= 57.0\\ngini = 0.444\\nsamples = 3\\nvalue = [2, 1]'),\n",
              " Text(0.22408256705884727, 0.47435897435897434, 'gini = 0.0\\nsamples = 2\\nvalue = [2, 0]'),\n",
              " Text(0.22577043474749256, 0.47435897435897434, 'gini = 0.0\\nsamples = 1\\nvalue = [0, 1]'),\n",
              " Text(0.20725663603766467, 0.6282051282051282, 'gini = 0.0\\nsamples = 2\\nvalue = [2, 0]'),\n",
              " Text(0.2413832108674614, 0.7051282051282052, 'X[10] <= 44.0\\ngini = 0.357\\nsamples = 86\\nvalue = [66, 20]'),\n",
              " Text(0.24053927702313874, 0.6794871794871795, 'gini = 0.0\\nsamples = 3\\nvalue = [0, 3]'),\n",
              " Text(0.24222714471178403, 0.6794871794871795, 'X[1] <= 4.5\\ngini = 0.326\\nsamples = 83\\nvalue = [66, 17]'),\n",
              " Text(0.2413832108674614, 0.6538461538461539, 'X[4] <= 3.5\\ngini = 0.314\\nsamples = 82\\nvalue = [66, 16]'),\n",
              " Text(0.23420977319071895, 0.6282051282051282, 'X[10] <= 62.5\\ngini = 0.401\\nsamples = 36\\nvalue = [26, 10]'),\n",
              " Text(0.23336583934639632, 0.6025641025641025, 'X[4] <= 2.5\\ngini = 0.437\\nsamples = 31\\nvalue = [21, 10]'),\n",
              " Text(0.22999010396910577, 0.5769230769230769, 'X[0] <= 56.5\\ngini = 0.291\\nsamples = 17\\nvalue = [14, 3]'),\n",
              " Text(0.22830223628046048, 0.5512820512820513, 'X[1] <= 3.5\\ngini = 0.133\\nsamples = 14\\nvalue = [13, 1]'),\n",
              " Text(0.22745830243613785, 0.5256410256410257, 'X[0] <= 46.5\\ngini = 0.375\\nsamples = 4\\nvalue = [3, 1]'),\n",
              " Text(0.2266143685918152, 0.5, 'gini = 0.0\\nsamples = 3\\nvalue = [3, 0]'),\n",
              " Text(0.22830223628046048, 0.5, 'gini = 0.0\\nsamples = 1\\nvalue = [0, 1]'),\n",
              " Text(0.2291461701247831, 0.5256410256410257, 'gini = 0.0\\nsamples = 10\\nvalue = [10, 0]'),\n",
              " Text(0.23167797165775103, 0.5512820512820513, 'X[10] <= 49.0\\ngini = 0.444\\nsamples = 3\\nvalue = [1, 2]'),\n",
              " Text(0.2308340378134284, 0.5256410256410257, 'gini = 0.0\\nsamples = 1\\nvalue = [0, 1]'),\n",
              " Text(0.23252190550207366, 0.5256410256410257, 'gini = 0.5\\nsamples = 2\\nvalue = [1, 1]'),\n",
              " Text(0.23674157472368687, 0.5769230769230769, 'X[0] <= 48.0\\ngini = 0.5\\nsamples = 14\\nvalue = [7, 7]'),\n",
              " Text(0.23505370703504158, 0.5512820512820513, 'X[0] <= 38.5\\ngini = 0.278\\nsamples = 6\\nvalue = [1, 5]'),\n",
              " Text(0.23420977319071895, 0.5256410256410257, 'X[0] <= 37.5\\ngini = 0.5\\nsamples = 2\\nvalue = [1, 1]'),\n",
              " Text(0.23336583934639632, 0.5, 'gini = 0.0\\nsamples = 1\\nvalue = [0, 1]'),\n",
              " Text(0.23505370703504158, 0.5, 'gini = 0.0\\nsamples = 1\\nvalue = [1, 0]'),\n",
              " Text(0.23589764087936424, 0.5256410256410257, 'gini = 0.0\\nsamples = 4\\nvalue = [0, 4]'),\n",
              " Text(0.23842944241233216, 0.5512820512820513, 'X[1] <= 3.5\\ngini = 0.375\\nsamples = 8\\nvalue = [6, 2]'),\n",
              " Text(0.2375855085680095, 0.5256410256410257, 'gini = 0.0\\nsamples = 4\\nvalue = [4, 0]'),\n",
              " Text(0.2392733762566548, 0.5256410256410257, 'X[6] <= 3.0\\ngini = 0.5\\nsamples = 4\\nvalue = [2, 2]'),\n",
              " Text(0.23842944241233216, 0.5, 'gini = 0.0\\nsamples = 1\\nvalue = [1, 0]'),\n",
              " Text(0.24011731010097742, 0.5, 'X[10] <= 46.5\\ngini = 0.444\\nsamples = 3\\nvalue = [1, 2]'),\n",
              " Text(0.2392733762566548, 0.47435897435897434, 'gini = 0.0\\nsamples = 1\\nvalue = [0, 1]'),\n",
              " Text(0.24096124394530005, 0.47435897435897434, 'X[10] <= 49.0\\ngini = 0.5\\nsamples = 2\\nvalue = [1, 1]'),\n",
              " Text(0.24011731010097742, 0.44871794871794873, 'gini = 0.0\\nsamples = 1\\nvalue = [1, 0]'),\n",
              " Text(0.2418051777896227, 0.44871794871794873, 'gini = 0.0\\nsamples = 1\\nvalue = [0, 1]'),\n",
              " Text(0.23505370703504158, 0.6025641025641025, 'gini = 0.0\\nsamples = 5\\nvalue = [5, 0]'),\n",
              " Text(0.2485566485442038, 0.6282051282051282, 'X[0] <= 58.5\\ngini = 0.227\\nsamples = 46\\nvalue = [40, 6]'),\n",
              " Text(0.24518091316691326, 0.6025641025641025, 'X[0] <= 37.5\\ngini = 0.149\\nsamples = 37\\nvalue = [34, 3]'),\n",
              " Text(0.24264911163394534, 0.5769230769230769, 'X[1] <= 3.5\\ngini = 0.444\\nsamples = 6\\nvalue = [4, 2]'),\n",
              " Text(0.2418051777896227, 0.5512820512820513, 'gini = 0.0\\nsamples = 1\\nvalue = [1, 0]'),\n",
              " Text(0.24349304547826797, 0.5512820512820513, 'X[10] <= 65.0\\ngini = 0.48\\nsamples = 5\\nvalue = [3, 2]'),\n",
              " Text(0.24264911163394534, 0.5256410256410257, 'X[0] <= 36.5\\ngini = 0.5\\nsamples = 4\\nvalue = [2, 2]'),\n",
              " Text(0.2418051777896227, 0.5, 'gini = 0.0\\nsamples = 1\\nvalue = [0, 1]'),\n",
              " Text(0.24349304547826797, 0.5, 'X[10] <= 55.0\\ngini = 0.444\\nsamples = 3\\nvalue = [2, 1]'),\n",
              " Text(0.24264911163394534, 0.47435897435897434, 'gini = 0.0\\nsamples = 1\\nvalue = [1, 0]'),\n",
              " Text(0.24433697932259063, 0.47435897435897434, 'gini = 0.5\\nsamples = 2\\nvalue = [1, 1]'),\n",
              " Text(0.24433697932259063, 0.5256410256410257, 'gini = 0.0\\nsamples = 1\\nvalue = [1, 0]'),\n",
              " Text(0.24771271469988118, 0.5769230769230769, 'X[1] <= 3.5\\ngini = 0.062\\nsamples = 31\\nvalue = [30, 1]'),\n",
              " Text(0.24686878085555855, 0.5512820512820513, 'X[0] <= 53.5\\ngini = 0.278\\nsamples = 6\\nvalue = [5, 1]'),\n",
              " Text(0.2460248470112359, 0.5256410256410257, 'gini = 0.0\\nsamples = 4\\nvalue = [4, 0]'),\n",
              " Text(0.24771271469988118, 0.5256410256410257, 'X[0] <= 57.0\\ngini = 0.5\\nsamples = 2\\nvalue = [1, 1]'),\n",
              " Text(0.24686878085555855, 0.5, 'gini = 0.0\\nsamples = 1\\nvalue = [0, 1]'),\n",
              " Text(0.2485566485442038, 0.5, 'gini = 0.0\\nsamples = 1\\nvalue = [1, 0]'),\n",
              " Text(0.2485566485442038, 0.5512820512820513, 'gini = 0.0\\nsamples = 25\\nvalue = [25, 0]'),\n",
              " Text(0.25193238392149436, 0.6025641025641025, 'X[10] <= 62.5\\ngini = 0.444\\nsamples = 9\\nvalue = [6, 3]'),\n",
              " Text(0.25108845007717173, 0.5769230769230769, 'X[0] <= 67.5\\ngini = 0.245\\nsamples = 7\\nvalue = [6, 1]'),\n",
              " Text(0.2502445162328491, 0.5512820512820513, 'gini = 0.0\\nsamples = 5\\nvalue = [5, 0]'),\n",
              " Text(0.25193238392149436, 0.5512820512820513, 'X[4] <= 7.5\\ngini = 0.5\\nsamples = 2\\nvalue = [1, 1]'),\n",
              " Text(0.25108845007717173, 0.5256410256410257, 'gini = 0.0\\nsamples = 1\\nvalue = [0, 1]'),\n",
              " Text(0.252776317765817, 0.5256410256410257, 'gini = 0.0\\nsamples = 1\\nvalue = [1, 0]'),\n",
              " Text(0.252776317765817, 0.5769230769230769, 'gini = 0.0\\nsamples = 2\\nvalue = [0, 2]'),\n",
              " Text(0.24307107855610666, 0.6538461538461539, 'gini = 0.0\\nsamples = 1\\nvalue = [0, 1]'),\n",
              " Text(0.24771271469988118, 0.8333333333333334, 'X[9] <= 1989.5\\ngini = 0.462\\nsamples = 47\\nvalue = [17, 30]'),\n",
              " Text(0.24475894624475195, 0.8076923076923077, 'X[4] <= 1.0\\ngini = 0.124\\nsamples = 30\\nvalue = [2, 28]'),\n",
              " Text(0.24391501240042932, 0.782051282051282, 'gini = 0.0\\nsamples = 1\\nvalue = [1, 0]'),\n",
              " Text(0.24560288008907458, 0.782051282051282, 'X[4] <= 2.5\\ngini = 0.067\\nsamples = 29\\nvalue = [1, 28]'),\n",
              " Text(0.24475894624475195, 0.7564102564102564, 'X[0] <= 37.5\\ngini = 0.219\\nsamples = 8\\nvalue = [1, 7]'),\n",
              " Text(0.24391501240042932, 0.7307692307692307, 'X[9] <= 1894.5\\ngini = 0.375\\nsamples = 4\\nvalue = [1, 3]'),\n",
              " Text(0.24307107855610666, 0.7051282051282052, 'gini = 0.0\\nsamples = 3\\nvalue = [0, 3]'),\n",
              " Text(0.24475894624475195, 0.7051282051282052, 'gini = 0.0\\nsamples = 1\\nvalue = [1, 0]'),\n",
              " Text(0.24560288008907458, 0.7307692307692307, 'gini = 0.0\\nsamples = 4\\nvalue = [0, 4]'),\n",
              " Text(0.2464468139333972, 0.7564102564102564, 'gini = 0.0\\nsamples = 21\\nvalue = [0, 21]'),\n",
              " Text(0.2506664831550104, 0.8076923076923077, 'X[9] <= 2396.0\\ngini = 0.208\\nsamples = 17\\nvalue = [15, 2]'),\n",
              " Text(0.24897861546636513, 0.782051282051282, 'X[0] <= 67.5\\ngini = 0.124\\nsamples = 15\\nvalue = [14, 1]'),\n",
              " Text(0.2481346816220425, 0.7564102564102564, 'gini = 0.0\\nsamples = 13\\nvalue = [13, 0]'),\n",
              " Text(0.24982254931068779, 0.7564102564102564, 'X[9] <= 2161.5\\ngini = 0.5\\nsamples = 2\\nvalue = [1, 1]'),\n",
              " Text(0.24897861546636513, 0.7307692307692307, 'gini = 0.0\\nsamples = 1\\nvalue = [1, 0]'),\n",
              " Text(0.2506664831550104, 0.7307692307692307, 'gini = 0.0\\nsamples = 1\\nvalue = [0, 1]'),\n",
              " Text(0.2523543508436557, 0.782051282051282, 'X[0] <= 60.0\\ngini = 0.5\\nsamples = 2\\nvalue = [1, 1]'),\n",
              " Text(0.2515104169993331, 0.7564102564102564, 'gini = 0.0\\nsamples = 1\\nvalue = [0, 1]'),\n",
              " Text(0.25319828468797834, 0.7564102564102564, 'gini = 0.0\\nsamples = 1\\nvalue = [1, 0]'),\n",
              " Text(0.4242557527504599, 0.8846153846153846, 'X[9] <= 1794.0\\ngini = 0.485\\nsamples = 897\\nvalue = [526, 371]'),\n",
              " Text(0.38488420943322715, 0.8589743589743589, 'X[0] <= 43.5\\ngini = 0.478\\nsamples = 862\\nvalue = [521, 341]'),\n",
              " Text(0.3164793123917139, 0.8333333333333334, 'X[0] <= 31.5\\ngini = 0.436\\nsamples = 492\\nvalue = [334, 158]'),\n",
              " Text(0.2756680232930686, 0.8076923076923077, 'X[11] <= 11.0\\ngini = 0.371\\nsamples = 175\\nvalue = [132, 43]'),\n",
              " Text(0.274824089448746, 0.782051282051282, 'gini = 0.0\\nsamples = 2\\nvalue = [0, 2]'),\n",
              " Text(0.27651195713739124, 0.782051282051282, 'X[4] <= 9.5\\ngini = 0.362\\nsamples = 173\\nvalue = [132, 41]'),\n",
              " Text(0.2603717223647208, 0.7564102564102564, 'X[0] <= 24.5\\ngini = 0.322\\nsamples = 124\\nvalue = [99, 25]'),\n",
              " Text(0.2523543508436557, 0.7307692307692307, 'X[4] <= 1.0\\ngini = 0.105\\nsamples = 18\\nvalue = [17, 1]'),\n",
              " Text(0.2515104169993331, 0.7051282051282052, 'X[6] <= 3.0\\ngini = 0.444\\nsamples = 3\\nvalue = [2, 1]'),\n",
              " Text(0.2506664831550104, 0.6794871794871795, 'gini = 0.0\\nsamples = 1\\nvalue = [1, 0]'),\n",
              " Text(0.2523543508436557, 0.6794871794871795, 'X[0] <= 22.0\\ngini = 0.5\\nsamples = 2\\nvalue = [1, 1]'),\n",
              " Text(0.2515104169993331, 0.6538461538461539, 'gini = 0.0\\nsamples = 1\\nvalue = [1, 0]'),\n",
              " Text(0.25319828468797834, 0.6538461538461539, 'gini = 0.0\\nsamples = 1\\nvalue = [0, 1]'),\n",
              " Text(0.25319828468797834, 0.7051282051282052, 'gini = 0.0\\nsamples = 15\\nvalue = [15, 0]'),\n",
              " Text(0.26838909388578586, 0.7307692307692307, 'X[0] <= 28.5\\ngini = 0.35\\nsamples = 106\\nvalue = [82, 24]'),\n",
              " Text(0.26205959005336604, 0.7051282051282052, 'X[0] <= 27.5\\ngini = 0.436\\nsamples = 53\\nvalue = [36, 17]'),\n",
              " Text(0.2582618877539142, 0.6794871794871795, 'X[4] <= 2.5\\ngini = 0.375\\nsamples = 32\\nvalue = [24, 8]'),\n",
              " Text(0.2548861523766236, 0.6538461538461539, 'X[4] <= 1.0\\ngini = 0.496\\nsamples = 11\\nvalue = [6, 5]'),\n",
              " Text(0.25404221853230097, 0.6282051282051282, 'gini = 0.0\\nsamples = 5\\nvalue = [5, 0]'),\n",
              " Text(0.25573008622094623, 0.6282051282051282, 'X[1] <= 3.0\\ngini = 0.278\\nsamples = 6\\nvalue = [1, 5]'),\n",
              " Text(0.2548861523766236, 0.6025641025641025, 'gini = 0.0\\nsamples = 4\\nvalue = [0, 4]'),\n",
              " Text(0.2565740200652689, 0.6025641025641025, 'X[0] <= 25.5\\ngini = 0.5\\nsamples = 2\\nvalue = [1, 1]'),\n",
              " Text(0.25573008622094623, 0.5769230769230769, 'gini = 0.0\\nsamples = 1\\nvalue = [0, 1]'),\n",
              " Text(0.25741795390959155, 0.5769230769230769, 'gini = 0.0\\nsamples = 1\\nvalue = [1, 0]'),\n",
              " Text(0.2616376231312047, 0.6538461538461539, 'X[2] <= 10.5\\ngini = 0.245\\nsamples = 21\\nvalue = [18, 3]'),\n",
              " Text(0.26079368928688207, 0.6282051282051282, 'X[4] <= 5.5\\ngini = 0.337\\nsamples = 14\\nvalue = [11, 3]'),\n",
              " Text(0.25994975544255944, 0.6025641025641025, 'X[10] <= 52.5\\ngini = 0.444\\nsamples = 9\\nvalue = [6, 3]'),\n",
              " Text(0.2591058215982368, 0.5769230769230769, 'X[10] <= 35.0\\ngini = 0.5\\nsamples = 6\\nvalue = [3, 3]'),\n",
              " Text(0.2582618877539142, 0.5512820512820513, 'gini = 0.0\\nsamples = 2\\nvalue = [2, 0]'),\n",
              " Text(0.25994975544255944, 0.5512820512820513, 'X[4] <= 3.5\\ngini = 0.375\\nsamples = 4\\nvalue = [1, 3]'),\n",
              " Text(0.2591058215982368, 0.5256410256410257, 'gini = 0.0\\nsamples = 2\\nvalue = [0, 2]'),\n",
              " Text(0.26079368928688207, 0.5256410256410257, 'X[1] <= 1.5\\ngini = 0.5\\nsamples = 2\\nvalue = [1, 1]'),\n",
              " Text(0.25994975544255944, 0.5, 'gini = 0.0\\nsamples = 1\\nvalue = [1, 0]'),\n",
              " Text(0.2616376231312047, 0.5, 'gini = 0.0\\nsamples = 1\\nvalue = [0, 1]'),\n",
              " Text(0.26079368928688207, 0.5769230769230769, 'gini = 0.0\\nsamples = 3\\nvalue = [3, 0]'),\n",
              " Text(0.2616376231312047, 0.6025641025641025, 'gini = 0.0\\nsamples = 5\\nvalue = [5, 0]'),\n",
              " Text(0.2624815569755274, 0.6282051282051282, 'gini = 0.0\\nsamples = 7\\nvalue = [7, 0]'),\n",
              " Text(0.2658572923528179, 0.6794871794871795, 'X[4] <= 5.5\\ngini = 0.49\\nsamples = 21\\nvalue = [12, 9]'),\n",
              " Text(0.2650133585084953, 0.6538461538461539, 'X[10] <= 52.5\\ngini = 0.415\\nsamples = 17\\nvalue = [12, 5]'),\n",
              " Text(0.26416942466417265, 0.6282051282051282, 'X[4] <= 1.0\\ngini = 0.473\\nsamples = 13\\nvalue = [8, 5]'),\n",
              " Text(0.26332549081985, 0.6025641025641025, 'gini = 0.0\\nsamples = 1\\nvalue = [0, 1]'),\n",
              " Text(0.2650133585084953, 0.6025641025641025, 'X[10] <= 47.5\\ngini = 0.444\\nsamples = 12\\nvalue = [8, 4]'),\n",
              " Text(0.26416942466417265, 0.5769230769230769, 'X[2] <= 10.5\\ngini = 0.397\\nsamples = 11\\nvalue = [8, 3]'),\n",
              " Text(0.26332549081985, 0.5512820512820513, 'X[11] <= 30.5\\ngini = 0.444\\nsamples = 9\\nvalue = [6, 3]'),\n",
              " Text(0.2624815569755274, 0.5256410256410257, 'gini = 0.0\\nsamples = 1\\nvalue = [1, 0]'),\n",
              " Text(0.26416942466417265, 0.5256410256410257, 'X[1] <= 3.0\\ngini = 0.469\\nsamples = 8\\nvalue = [5, 3]'),\n",
              " Text(0.26332549081985, 0.5, 'X[10] <= 42.5\\ngini = 0.49\\nsamples = 7\\nvalue = [4, 3]'),\n",
              " Text(0.2624815569755274, 0.47435897435897434, 'X[4] <= 3.5\\ngini = 0.5\\nsamples = 6\\nvalue = [3, 3]'),\n",
              " Text(0.26079368928688207, 0.44871794871794873, 'X[4] <= 2.5\\ngini = 0.444\\nsamples = 3\\nvalue = [1, 2]'),\n",
              " Text(0.25994975544255944, 0.4230769230769231, 'gini = 0.5\\nsamples = 2\\nvalue = [1, 1]'),\n",
              " Text(0.2616376231312047, 0.4230769230769231, 'gini = 0.0\\nsamples = 1\\nvalue = [0, 1]'),\n",
              " Text(0.26416942466417265, 0.44871794871794873, 'X[4] <= 4.5\\ngini = 0.444\\nsamples = 3\\nvalue = [2, 1]'),\n",
              " Text(0.26332549081985, 0.4230769230769231, 'gini = 0.0\\nsamples = 1\\nvalue = [1, 0]'),\n",
              " Text(0.2650133585084953, 0.4230769230769231, 'gini = 0.5\\nsamples = 2\\nvalue = [1, 1]'),\n",
              " Text(0.26416942466417265, 0.47435897435897434, 'gini = 0.0\\nsamples = 1\\nvalue = [1, 0]'),\n",
              " Text(0.2650133585084953, 0.5, 'gini = 0.0\\nsamples = 1\\nvalue = [1, 0]'),\n",
              " Text(0.2650133585084953, 0.5512820512820513, 'gini = 0.0\\nsamples = 2\\nvalue = [2, 0]'),\n",
              " Text(0.2658572923528179, 0.5769230769230769, 'gini = 0.0\\nsamples = 1\\nvalue = [0, 1]'),\n",
              " Text(0.2658572923528179, 0.6282051282051282, 'gini = 0.0\\nsamples = 4\\nvalue = [4, 0]'),\n",
              " Text(0.26670122619714054, 0.6538461538461539, 'gini = 0.0\\nsamples = 4\\nvalue = [0, 4]'),\n",
              " Text(0.2747185977182056, 0.7051282051282052, 'X[0] <= 29.5\\ngini = 0.229\\nsamples = 53\\nvalue = [46, 7]'),\n",
              " Text(0.273874663873883, 0.6794871794871795, 'gini = 0.0\\nsamples = 17\\nvalue = [17, 0]'),\n",
              " Text(0.27556253156252825, 0.6794871794871795, 'X[10] <= 47.5\\ngini = 0.313\\nsamples = 36\\nvalue = [29, 7]'),\n",
              " Text(0.272608763107399, 0.6538461538461539, 'X[0] <= 30.5\\ngini = 0.252\\nsamples = 27\\nvalue = [23, 4]'),\n",
              " Text(0.2692330277301085, 0.6282051282051282, 'X[1] <= 3.5\\ngini = 0.42\\nsamples = 10\\nvalue = [7, 3]'),\n",
              " Text(0.26838909388578586, 0.6025641025641025, 'X[4] <= 5.5\\ngini = 0.346\\nsamples = 9\\nvalue = [7, 2]'),\n",
              " Text(0.26754516004146317, 0.5769230769230769, 'gini = 0.0\\nsamples = 4\\nvalue = [4, 0]'),\n",
              " Text(0.2692330277301085, 0.5769230769230769, 'X[10] <= 35.0\\ngini = 0.48\\nsamples = 5\\nvalue = [3, 2]'),\n",
              " Text(0.26838909388578586, 0.5512820512820513, 'gini = 0.0\\nsamples = 1\\nvalue = [1, 0]'),\n",
              " ...]"
            ]
          },
          "metadata": {},
          "execution_count": 77
        },
        {
          "output_type": "display_data",
          "data": {
            "text/plain": [
              "<Figure size 1800x1080 with 1 Axes>"
            ],
            "image/png": "[encoded data removed]"
          },
          "metadata": {
            "needs_background": "light"
          }
        }
      ]
    },
    {
      "cell_type": "code",
      "source": [
        "y_prediction = dt_c.predict(X_test)"
      ],
      "metadata": {
        "id": "f3URrqcZwaa1"
      },
      "execution_count": 78,
      "outputs": []
    },
    {
      "cell_type": "code",
      "source": [
        "from sklearn.metrics import accuracy_score, classification_report"
      ],
      "metadata": {
        "id": "kUDq0KN0w2Zu"
      },
      "execution_count": 99,
      "outputs": []
    },
    {
      "cell_type": "code",
      "source": [
        "accuracy_score(y_test, y_prediction)"
      ],
      "metadata": {
        "colab": {
          "base_uri": "https://localhost:8080/"
        },
        "id": "Inn5h26gwxPI",
        "outputId": "d3d8c2f9-a1f9-4adb-c42d-b96efb000255"
      },
      "execution_count": 88,
      "outputs": [
        {
          "output_type": "execute_result",
          "data": {
            "text/plain": [
              "0.805071664829107"
            ]
          },
          "metadata": {},
          "execution_count": 88
        }
      ]
    },
    {
      "cell_type": "code",
      "source": [
        "print(classification_report(y_test, y_prediction))"
      ],
      "metadata": {
        "colab": {
          "base_uri": "https://localhost:8080/"
        },
        "id": "nxUxsF740J-i",
        "outputId": "bf7a8e58-07b7-4524-a552-a3f7d4b99446"
      },
      "execution_count": 101,
      "outputs": [
        {
          "output_type": "stream",
          "name": "stdout",
          "text": [
            "              precision    recall  f1-score   support\n",
            "\n",
            "           0       0.86      0.88      0.87      3407\n",
            "           1       0.61      0.58      0.60      1128\n",
            "\n",
            "    accuracy                           0.81      4535\n",
            "   macro avg       0.74      0.73      0.73      4535\n",
            "weighted avg       0.80      0.81      0.80      4535\n",
            "\n"
          ]
        }
      ]
    },
    {
      "cell_type": "markdown",
      "source": [
        "# Hyperparameter - GridSearchCV"
      ],
      "metadata": {
        "id": "fJ9bgVYTw7rl"
      }
    },
    {
      "cell_type": "code",
      "source": [
        "from sklearn.model_selection import GridSearchCV"
      ],
      "metadata": {
        "id": "fOo-y23CwziD"
      },
      "execution_count": 83,
      "outputs": []
    },
    {
      "cell_type": "code",
      "source": [
        "params = {\n",
        "    'max_depth': [2, 3, 5, 10, 20],\n",
        "    'min_samples_leaf': [5, 10, 20, 50, 100],\n",
        "    'criterion': [\"gini\", \"entropy\"]\n",
        "}"
      ],
      "metadata": {
        "id": "U6Ii3r8xxEOs"
      },
      "execution_count": 89,
      "outputs": []
    },
    {
      "cell_type": "code",
      "source": [
        "dt_c_gscv = GridSearchCV(estimator = dt_c,\n",
        "                         param_grid = params,\n",
        "                         cv = 4,\n",
        "                         n_jobs = -1,\n",
        "                         verbose = 1,\n",
        "                         scoring = \"accuracy\")"
      ],
      "metadata": {
        "id": "3-vOaLptyt0r"
      },
      "execution_count": 90,
      "outputs": []
    },
    {
      "cell_type": "code",
      "source": [
        "%%time\n",
        "dt_c_gscv.fit(X_train, y_train)"
      ],
      "metadata": {
        "colab": {
          "base_uri": "https://localhost:8080/"
        },
        "id": "ajAipYMkzC8a",
        "outputId": "ea6eed60-a4ec-4e25-9de5-427aed991440"
      },
      "execution_count": 92,
      "outputs": [
        {
          "output_type": "stream",
          "name": "stdout",
          "text": [
            "Fitting 4 folds for each of 50 candidates, totalling 200 fits\n",
            "CPU times: user 501 ms, sys: 92.8 ms, total: 594 ms\n",
            "Wall time: 4.34 s\n"
          ]
        },
        {
          "output_type": "execute_result",
          "data": {
            "text/plain": [
              "GridSearchCV(cv=4, estimator=DecisionTreeClassifier(), n_jobs=-1,\n",
              "             param_grid={'criterion': ['gini', 'entropy'],\n",
              "                         'max_depth': [2, 3, 5, 10, 20],\n",
              "                         'min_samples_leaf': [5, 10, 20, 50, 100]},\n",
              "             scoring='accuracy', verbose=1)"
            ]
          },
          "metadata": {},
          "execution_count": 92
        }
      ]
    },
    {
      "cell_type": "code",
      "source": [
        "score_df = pd.DataFrame(dt_c_gscv.cv_results_)\n",
        "score_df.head()"
      ],
      "metadata": {
        "colab": {
          "base_uri": "https://localhost:8080/",
          "height": 617
        },
        "id": "5cdbP54fzFwj",
        "outputId": "96a983f6-942f-4601-a785-a4c5441c24f8"
      },
      "execution_count": 94,
      "outputs": [
        {
          "output_type": "execute_result",
          "data": {
            "text/plain": [
              "   mean_fit_time  std_fit_time  mean_score_time  std_score_time  \\\n",
              "0       0.008390      0.000366         0.002891        0.000324   \n",
              "1       0.008948      0.000042         0.002911        0.000143   \n",
              "2       0.008641      0.000343         0.002906        0.000149   \n",
              "3       0.008759      0.000424         0.003611        0.000814   \n",
              "4       0.009234      0.000847         0.002800        0.000243   \n",
              "\n",
              "  param_criterion param_max_depth param_min_samples_leaf  \\\n",
              "0            gini               2                      5   \n",
              "1            gini               2                     10   \n",
              "2            gini               2                     20   \n",
              "3            gini               2                     50   \n",
              "4            gini               2                    100   \n",
              "\n",
              "                                              params  split0_test_score  \\\n",
              "0  {'criterion': 'gini', 'max_depth': 2, 'min_sam...           0.813051   \n",
              "1  {'criterion': 'gini', 'max_depth': 2, 'min_sam...           0.813051   \n",
              "2  {'criterion': 'gini', 'max_depth': 2, 'min_sam...           0.813051   \n",
              "3  {'criterion': 'gini', 'max_depth': 2, 'min_sam...           0.813051   \n",
              "4  {'criterion': 'gini', 'max_depth': 2, 'min_sam...           0.813051   \n",
              "\n",
              "   split1_test_score  split2_test_score  split3_test_score  mean_test_score  \\\n",
              "0           0.815615           0.828849           0.816498         0.818503   \n",
              "1           0.815615           0.828849           0.816498         0.818503   \n",
              "2           0.815615           0.828849           0.816498         0.818503   \n",
              "3           0.815615           0.828849           0.816498         0.818503   \n",
              "4           0.816939           0.828408           0.816056         0.818613   \n",
              "\n",
              "   std_test_score  rank_test_score  \n",
              "0        0.006106               42  \n",
              "1        0.006106               42  \n",
              "2        0.006106               42  \n",
              "3        0.006106               42  \n",
              "4        0.005835               41  "
            ],
            "text/html": [
              "\n",
              "  <div id=\"df-18a273e3-e6d0-438c-a563-74a1ffaec63f\">\n",
              "    <div class=\"colab-df-container\">\n",
              "      <div>\n",
              "<style scoped>\n",
              "    .dataframe tbody tr th:only-of-type {\n",
              "        vertical-align: middle;\n",
              "    }\n",
              "\n",
              "    .dataframe tbody tr th {\n",
              "        vertical-align: top;\n",
              "    }\n",
              "\n",
              "    .dataframe thead th {\n",
              "        text-align: right;\n",
              "    }\n",
              "</style>\n",
              "<table border=\"1\" class=\"dataframe\">\n",
              "  <thead>\n",
              "    <tr style=\"text-align: right;\">\n",
              "      <th></th>\n",
              "      <th>mean_fit_time</th>\n",
              "      <th>std_fit_time</th>\n",
              "      <th>mean_score_time</th>\n",
              "      <th>std_score_time</th>\n",
              "      <th>param_criterion</th>\n",
              "      <th>param_max_depth</th>\n",
              "      <th>param_min_samples_leaf</th>\n",
              "      <th>params</th>\n",
              "      <th>split0_test_score</th>\n",
              "      <th>split1_test_score</th>\n",
              "      <th>split2_test_score</th>\n",
              "      <th>split3_test_score</th>\n",
              "      <th>mean_test_score</th>\n",
              "      <th>std_test_score</th>\n",
              "      <th>rank_test_score</th>\n",
              "    </tr>\n",
              "  </thead>\n",
              "  <tbody>\n",
              "    <tr>\n",
              "      <th>0</th>\n",
              "      <td>0.008390</td>\n",
              "      <td>0.000366</td>\n",
              "      <td>0.002891</td>\n",
              "      <td>0.000324</td>\n",
              "      <td>gini</td>\n",
              "      <td>2</td>\n",
              "      <td>5</td>\n",
              "      <td>{'criterion': 'gini', 'max_depth': 2, 'min_sam...</td>\n",
              "      <td>0.813051</td>\n",
              "      <td>0.815615</td>\n",
              "      <td>0.828849</td>\n",
              "      <td>0.816498</td>\n",
              "      <td>0.818503</td>\n",
              "      <td>0.006106</td>\n",
              "      <td>42</td>\n",
              "    </tr>\n",
              "    <tr>\n",
              "      <th>1</th>\n",
              "      <td>0.008948</td>\n",
              "      <td>0.000042</td>\n",
              "      <td>0.002911</td>\n",
              "      <td>0.000143</td>\n",
              "      <td>gini</td>\n",
              "      <td>2</td>\n",
              "      <td>10</td>\n",
              "      <td>{'criterion': 'gini', 'max_depth': 2, 'min_sam...</td>\n",
              "      <td>0.813051</td>\n",
              "      <td>0.815615</td>\n",
              "      <td>0.828849</td>\n",
              "      <td>0.816498</td>\n",
              "      <td>0.818503</td>\n",
              "      <td>0.006106</td>\n",
              "      <td>42</td>\n",
              "    </tr>\n",
              "    <tr>\n",
              "      <th>2</th>\n",
              "      <td>0.008641</td>\n",
              "      <td>0.000343</td>\n",
              "      <td>0.002906</td>\n",
              "      <td>0.000149</td>\n",
              "      <td>gini</td>\n",
              "      <td>2</td>\n",
              "      <td>20</td>\n",
              "      <td>{'criterion': 'gini', 'max_depth': 2, 'min_sam...</td>\n",
              "      <td>0.813051</td>\n",
              "      <td>0.815615</td>\n",
              "      <td>0.828849</td>\n",
              "      <td>0.816498</td>\n",
              "      <td>0.818503</td>\n",
              "      <td>0.006106</td>\n",
              "      <td>42</td>\n",
              "    </tr>\n",
              "    <tr>\n",
              "      <th>3</th>\n",
              "      <td>0.008759</td>\n",
              "      <td>0.000424</td>\n",
              "      <td>0.003611</td>\n",
              "      <td>0.000814</td>\n",
              "      <td>gini</td>\n",
              "      <td>2</td>\n",
              "      <td>50</td>\n",
              "      <td>{'criterion': 'gini', 'max_depth': 2, 'min_sam...</td>\n",
              "      <td>0.813051</td>\n",
              "      <td>0.815615</td>\n",
              "      <td>0.828849</td>\n",
              "      <td>0.816498</td>\n",
              "      <td>0.818503</td>\n",
              "      <td>0.006106</td>\n",
              "      <td>42</td>\n",
              "    </tr>\n",
              "    <tr>\n",
              "      <th>4</th>\n",
              "      <td>0.009234</td>\n",
              "      <td>0.000847</td>\n",
              "      <td>0.002800</td>\n",
              "      <td>0.000243</td>\n",
              "      <td>gini</td>\n",
              "      <td>2</td>\n",
              "      <td>100</td>\n",
              "      <td>{'criterion': 'gini', 'max_depth': 2, 'min_sam...</td>\n",
              "      <td>0.813051</td>\n",
              "      <td>0.816939</td>\n",
              "      <td>0.828408</td>\n",
              "      <td>0.816056</td>\n",
              "      <td>0.818613</td>\n",
              "      <td>0.005835</td>\n",
              "      <td>41</td>\n",
              "    </tr>\n",
              "  </tbody>\n",
              "</table>\n",
              "</div>\n",
              "      <button class=\"colab-df-convert\" onclick=\"convertToInteractive('df-18a273e3-e6d0-438c-a563-74a1ffaec63f')\"\n",
              "              title=\"Convert this dataframe to an interactive table.\"\n",
              "              style=\"display:none;\">\n",
              "        \n",
              "  <svg xmlns=\"http://www.w3.org/2000/svg\" height=\"24px\"viewBox=\"0 0 24 24\"\n",
              "       width=\"24px\">\n",
              "    <path d=\"M0 0h24v24H0V0z\" fill=\"none\"/>\n",
              "    <path d=\"M18.56 5.44l.94 2.06.94-2.06 2.06-.94-2.06-.94-.94-2.06-.94 2.06-2.06.94zm-11 1L8.5 8.5l.94-2.06 2.06-.94-2.06-.94L8.5 2.5l-.94 2.06-2.06.94zm10 10l.94 2.06.94-2.06 2.06-.94-2.06-.94-.94-2.06-.94 2.06-2.06.94z\"/><path d=\"M17.41 7.96l-1.37-1.37c-.4-.4-.92-.59-1.43-.59-.52 0-1.04.2-1.43.59L10.3 9.45l-7.72 7.72c-.78.78-.78 2.05 0 2.83L4 21.41c.39.39.9.59 1.41.59.51 0 1.02-.2 1.41-.59l7.78-7.78 2.81-2.81c.8-.78.8-2.07 0-2.86zM5.41 20L4 18.59l7.72-7.72 1.47 1.35L5.41 20z\"/>\n",
              "  </svg>\n",
              "      </button>\n",
              "      \n",
              "  <style>\n",
              "    .colab-df-container {\n",
              "      display:flex;\n",
              "      flex-wrap:wrap;\n",
              "      gap: 12px;\n",
              "    }\n",
              "\n",
              "    .colab-df-convert {\n",
              "      background-color: #E8F0FE;\n",
              "      border: none;\n",
              "      border-radius: 50%;\n",
              "      cursor: pointer;\n",
              "      display: none;\n",
              "      fill: #1967D2;\n",
              "      height: 32px;\n",
              "      padding: 0 0 0 0;\n",
              "      width: 32px;\n",
              "    }\n",
              "\n",
              "    .colab-df-convert:hover {\n",
              "      background-color: #E2EBFA;\n",
              "      box-shadow: 0px 1px 2px rgba(60, 64, 67, 0.3), 0px 1px 3px 1px rgba(60, 64, 67, 0.15);\n",
              "      fill: #174EA6;\n",
              "    }\n",
              "\n",
              "    [theme=dark] .colab-df-convert {\n",
              "      background-color: #3B4455;\n",
              "      fill: #D2E3FC;\n",
              "    }\n",
              "\n",
              "    [theme=dark] .colab-df-convert:hover {\n",
              "      background-color: #434B5C;\n",
              "      box-shadow: 0px 1px 3px 1px rgba(0, 0, 0, 0.15);\n",
              "      filter: drop-shadow(0px 1px 2px rgba(0, 0, 0, 0.3));\n",
              "      fill: #FFFFFF;\n",
              "    }\n",
              "  </style>\n",
              "\n",
              "      <script>\n",
              "        const buttonEl =\n",
              "          document.querySelector('#df-18a273e3-e6d0-438c-a563-74a1ffaec63f button.colab-df-convert');\n",
              "        buttonEl.style.display =\n",
              "          google.colab.kernel.accessAllowed ? 'block' : 'none';\n",
              "\n",
              "        async function convertToInteractive(key) {\n",
              "          const element = document.querySelector('#df-18a273e3-e6d0-438c-a563-74a1ffaec63f');\n",
              "          const dataTable =\n",
              "            await google.colab.kernel.invokeFunction('convertToInteractive',\n",
              "                                                     [key], {});\n",
              "          if (!dataTable) return;\n",
              "\n",
              "          const docLinkHtml = 'Like what you see? Visit the ' +\n",
              "            '<a target=\"_blank\" href=https://colab.research.google.com/notebooks/data_table.ipynb>data table notebook</a>'\n",
              "            + ' to learn more about interactive tables.';\n",
              "          element.innerHTML = '';\n",
              "          dataTable['output_type'] = 'display_data';\n",
              "          await google.colab.output.renderOutput(dataTable, element);\n",
              "          const docLink = document.createElement('div');\n",
              "          docLink.innerHTML = docLinkHtml;\n",
              "          element.appendChild(docLink);\n",
              "        }\n",
              "      </script>\n",
              "    </div>\n",
              "  </div>\n",
              "  "
            ]
          },
          "metadata": {},
          "execution_count": 94
        }
      ]
    },
    {
      "cell_type": "code",
      "source": [
        "score_df.nlargest(5,\"mean_test_score\")"
      ],
      "metadata": {
        "colab": {
          "base_uri": "https://localhost:8080/",
          "height": 565
        },
        "id": "cQc7G1EFzQ8t",
        "outputId": "35c53f4a-21e8-4fa6-ac99-956b64f2d35e"
      },
      "execution_count": 95,
      "outputs": [
        {
          "output_type": "execute_result",
          "data": {
            "text/plain": [
              "    mean_fit_time  std_fit_time  mean_score_time  std_score_time  \\\n",
              "35       0.013486      0.000442         0.002570        0.000120   \n",
              "36       0.015153      0.002316         0.002563        0.000217   \n",
              "37       0.016498      0.003790         0.003164        0.000755   \n",
              "10       0.015535      0.002670         0.002764        0.000219   \n",
              "11       0.017029      0.004269         0.002742        0.000122   \n",
              "\n",
              "   param_criterion param_max_depth param_min_samples_leaf  \\\n",
              "35         entropy               5                      5   \n",
              "36         entropy               5                     10   \n",
              "37         entropy               5                     20   \n",
              "10            gini               5                      5   \n",
              "11            gini               5                     10   \n",
              "\n",
              "                                               params  split0_test_score  \\\n",
              "35  {'criterion': 'entropy', 'max_depth': 5, 'min_...           0.843474   \n",
              "36  {'criterion': 'entropy', 'max_depth': 5, 'min_...           0.843474   \n",
              "37  {'criterion': 'entropy', 'max_depth': 5, 'min_...           0.839065   \n",
              "10  {'criterion': 'gini', 'max_depth': 5, 'min_sam...           0.834656   \n",
              "11  {'criterion': 'gini', 'max_depth': 5, 'min_sam...           0.834656   \n",
              "\n",
              "    split1_test_score  split2_test_score  split3_test_score  mean_test_score  \\\n",
              "35           0.844288           0.849140           0.844729         0.845408   \n",
              "36           0.843405           0.849140           0.844729         0.845187   \n",
              "37           0.843405           0.848258           0.844729         0.843864   \n",
              "10           0.842082           0.850904           0.843846         0.842872   \n",
              "11           0.841200           0.850904           0.843846         0.842652   \n",
              "\n",
              "    std_test_score  rank_test_score  \n",
              "35        0.002201                1  \n",
              "36        0.002342                2  \n",
              "37        0.003290                3  \n",
              "10        0.005779                4  \n",
              "11        0.005822                5  "
            ],
            "text/html": [
              "\n",
              "  <div id=\"df-09862456-2871-474f-94cf-9629f18b4305\">\n",
              "    <div class=\"colab-df-container\">\n",
              "      <div>\n",
              "<style scoped>\n",
              "    .dataframe tbody tr th:only-of-type {\n",
              "        vertical-align: middle;\n",
              "    }\n",
              "\n",
              "    .dataframe tbody tr th {\n",
              "        vertical-align: top;\n",
              "    }\n",
              "\n",
              "    .dataframe thead th {\n",
              "        text-align: right;\n",
              "    }\n",
              "</style>\n",
              "<table border=\"1\" class=\"dataframe\">\n",
              "  <thead>\n",
              "    <tr style=\"text-align: right;\">\n",
              "      <th></th>\n",
              "      <th>mean_fit_time</th>\n",
              "      <th>std_fit_time</th>\n",
              "      <th>mean_score_time</th>\n",
              "      <th>std_score_time</th>\n",
              "      <th>param_criterion</th>\n",
              "      <th>param_max_depth</th>\n",
              "      <th>param_min_samples_leaf</th>\n",
              "      <th>params</th>\n",
              "      <th>split0_test_score</th>\n",
              "      <th>split1_test_score</th>\n",
              "      <th>split2_test_score</th>\n",
              "      <th>split3_test_score</th>\n",
              "      <th>mean_test_score</th>\n",
              "      <th>std_test_score</th>\n",
              "      <th>rank_test_score</th>\n",
              "    </tr>\n",
              "  </thead>\n",
              "  <tbody>\n",
              "    <tr>\n",
              "      <th>35</th>\n",
              "      <td>0.013486</td>\n",
              "      <td>0.000442</td>\n",
              "      <td>0.002570</td>\n",
              "      <td>0.000120</td>\n",
              "      <td>entropy</td>\n",
              "      <td>5</td>\n",
              "      <td>5</td>\n",
              "      <td>{'criterion': 'entropy', 'max_depth': 5, 'min_...</td>\n",
              "      <td>0.843474</td>\n",
              "      <td>0.844288</td>\n",
              "      <td>0.849140</td>\n",
              "      <td>0.844729</td>\n",
              "      <td>0.845408</td>\n",
              "      <td>0.002201</td>\n",
              "      <td>1</td>\n",
              "    </tr>\n",
              "    <tr>\n",
              "      <th>36</th>\n",
              "      <td>0.015153</td>\n",
              "      <td>0.002316</td>\n",
              "      <td>0.002563</td>\n",
              "      <td>0.000217</td>\n",
              "      <td>entropy</td>\n",
              "      <td>5</td>\n",
              "      <td>10</td>\n",
              "      <td>{'criterion': 'entropy', 'max_depth': 5, 'min_...</td>\n",
              "      <td>0.843474</td>\n",
              "      <td>0.843405</td>\n",
              "      <td>0.849140</td>\n",
              "      <td>0.844729</td>\n",
              "      <td>0.845187</td>\n",
              "      <td>0.002342</td>\n",
              "      <td>2</td>\n",
              "    </tr>\n",
              "    <tr>\n",
              "      <th>37</th>\n",
              "      <td>0.016498</td>\n",
              "      <td>0.003790</td>\n",
              "      <td>0.003164</td>\n",
              "      <td>0.000755</td>\n",
              "      <td>entropy</td>\n",
              "      <td>5</td>\n",
              "      <td>20</td>\n",
              "      <td>{'criterion': 'entropy', 'max_depth': 5, 'min_...</td>\n",
              "      <td>0.839065</td>\n",
              "      <td>0.843405</td>\n",
              "      <td>0.848258</td>\n",
              "      <td>0.844729</td>\n",
              "      <td>0.843864</td>\n",
              "      <td>0.003290</td>\n",
              "      <td>3</td>\n",
              "    </tr>\n",
              "    <tr>\n",
              "      <th>10</th>\n",
              "      <td>0.015535</td>\n",
              "      <td>0.002670</td>\n",
              "      <td>0.002764</td>\n",
              "      <td>0.000219</td>\n",
              "      <td>gini</td>\n",
              "      <td>5</td>\n",
              "      <td>5</td>\n",
              "      <td>{'criterion': 'gini', 'max_depth': 5, 'min_sam...</td>\n",
              "      <td>0.834656</td>\n",
              "      <td>0.842082</td>\n",
              "      <td>0.850904</td>\n",
              "      <td>0.843846</td>\n",
              "      <td>0.842872</td>\n",
              "      <td>0.005779</td>\n",
              "      <td>4</td>\n",
              "    </tr>\n",
              "    <tr>\n",
              "      <th>11</th>\n",
              "      <td>0.017029</td>\n",
              "      <td>0.004269</td>\n",
              "      <td>0.002742</td>\n",
              "      <td>0.000122</td>\n",
              "      <td>gini</td>\n",
              "      <td>5</td>\n",
              "      <td>10</td>\n",
              "      <td>{'criterion': 'gini', 'max_depth': 5, 'min_sam...</td>\n",
              "      <td>0.834656</td>\n",
              "      <td>0.841200</td>\n",
              "      <td>0.850904</td>\n",
              "      <td>0.843846</td>\n",
              "      <td>0.842652</td>\n",
              "      <td>0.005822</td>\n",
              "      <td>5</td>\n",
              "    </tr>\n",
              "  </tbody>\n",
              "</table>\n",
              "</div>\n",
              "      <button class=\"colab-df-convert\" onclick=\"convertToInteractive('df-09862456-2871-474f-94cf-9629f18b4305')\"\n",
              "              title=\"Convert this dataframe to an interactive table.\"\n",
              "              style=\"display:none;\">\n",
              "        \n",
              "  <svg xmlns=\"http://www.w3.org/2000/svg\" height=\"24px\"viewBox=\"0 0 24 24\"\n",
              "       width=\"24px\">\n",
              "    <path d=\"M0 0h24v24H0V0z\" fill=\"none\"/>\n",
              "    <path d=\"M18.56 5.44l.94 2.06.94-2.06 2.06-.94-2.06-.94-.94-2.06-.94 2.06-2.06.94zm-11 1L8.5 8.5l.94-2.06 2.06-.94-2.06-.94L8.5 2.5l-.94 2.06-2.06.94zm10 10l.94 2.06.94-2.06 2.06-.94-2.06-.94-.94-2.06-.94 2.06-2.06.94z\"/><path d=\"M17.41 7.96l-1.37-1.37c-.4-.4-.92-.59-1.43-.59-.52 0-1.04.2-1.43.59L10.3 9.45l-7.72 7.72c-.78.78-.78 2.05 0 2.83L4 21.41c.39.39.9.59 1.41.59.51 0 1.02-.2 1.41-.59l7.78-7.78 2.81-2.81c.8-.78.8-2.07 0-2.86zM5.41 20L4 18.59l7.72-7.72 1.47 1.35L5.41 20z\"/>\n",
              "  </svg>\n",
              "      </button>\n",
              "      \n",
              "  <style>\n",
              "    .colab-df-container {\n",
              "      display:flex;\n",
              "      flex-wrap:wrap;\n",
              "      gap: 12px;\n",
              "    }\n",
              "\n",
              "    .colab-df-convert {\n",
              "      background-color: #E8F0FE;\n",
              "      border: none;\n",
              "      border-radius: 50%;\n",
              "      cursor: pointer;\n",
              "      display: none;\n",
              "      fill: #1967D2;\n",
              "      height: 32px;\n",
              "      padding: 0 0 0 0;\n",
              "      width: 32px;\n",
              "    }\n",
              "\n",
              "    .colab-df-convert:hover {\n",
              "      background-color: #E2EBFA;\n",
              "      box-shadow: 0px 1px 2px rgba(60, 64, 67, 0.3), 0px 1px 3px 1px rgba(60, 64, 67, 0.15);\n",
              "      fill: #174EA6;\n",
              "    }\n",
              "\n",
              "    [theme=dark] .colab-df-convert {\n",
              "      background-color: #3B4455;\n",
              "      fill: #D2E3FC;\n",
              "    }\n",
              "\n",
              "    [theme=dark] .colab-df-convert:hover {\n",
              "      background-color: #434B5C;\n",
              "      box-shadow: 0px 1px 3px 1px rgba(0, 0, 0, 0.15);\n",
              "      filter: drop-shadow(0px 1px 2px rgba(0, 0, 0, 0.3));\n",
              "      fill: #FFFFFF;\n",
              "    }\n",
              "  </style>\n",
              "\n",
              "      <script>\n",
              "        const buttonEl =\n",
              "          document.querySelector('#df-09862456-2871-474f-94cf-9629f18b4305 button.colab-df-convert');\n",
              "        buttonEl.style.display =\n",
              "          google.colab.kernel.accessAllowed ? 'block' : 'none';\n",
              "\n",
              "        async function convertToInteractive(key) {\n",
              "          const element = document.querySelector('#df-09862456-2871-474f-94cf-9629f18b4305');\n",
              "          const dataTable =\n",
              "            await google.colab.kernel.invokeFunction('convertToInteractive',\n",
              "                                                     [key], {});\n",
              "          if (!dataTable) return;\n",
              "\n",
              "          const docLinkHtml = 'Like what you see? Visit the ' +\n",
              "            '<a target=\"_blank\" href=https://colab.research.google.com/notebooks/data_table.ipynb>data table notebook</a>'\n",
              "            + ' to learn more about interactive tables.';\n",
              "          element.innerHTML = '';\n",
              "          dataTable['output_type'] = 'display_data';\n",
              "          await google.colab.output.renderOutput(dataTable, element);\n",
              "          const docLink = document.createElement('div');\n",
              "          docLink.innerHTML = docLinkHtml;\n",
              "          element.appendChild(docLink);\n",
              "        }\n",
              "      </script>\n",
              "    </div>\n",
              "  </div>\n",
              "  "
            ]
          },
          "metadata": {},
          "execution_count": 95
        }
      ]
    },
    {
      "cell_type": "code",
      "source": [
        "dt_c_gscv.best_estimator_\n"
      ],
      "metadata": {
        "colab": {
          "base_uri": "https://localhost:8080/"
        },
        "id": "EyZolF3pzglr",
        "outputId": "b6f1b391-3464-4bc5-ae00-fdeed93b647a"
      },
      "execution_count": 97,
      "outputs": [
        {
          "output_type": "execute_result",
          "data": {
            "text/plain": [
              "DecisionTreeClassifier(criterion='entropy', max_depth=5, min_samples_leaf=5)"
            ]
          },
          "metadata": {},
          "execution_count": 97
        }
      ]
    },
    {
      "cell_type": "code",
      "source": [
        "dt_best = dt_c_gscv.best_estimator_"
      ],
      "metadata": {
        "id": "vIi2KOAVzjpY"
      },
      "execution_count": 98,
      "outputs": []
    },
    {
      "cell_type": "code",
      "source": [
        "dt_best"
      ],
      "metadata": {
        "colab": {
          "base_uri": "https://localhost:8080/"
        },
        "id": "wbP6_pS4zq8U",
        "outputId": "367dbab7-e849-4b30-9572-815c635d7a8b"
      },
      "execution_count": 102,
      "outputs": [
        {
          "output_type": "execute_result",
          "data": {
            "text/plain": [
              "DecisionTreeClassifier(criterion='entropy', max_depth=5, min_samples_leaf=5)"
            ]
          },
          "metadata": {},
          "execution_count": 102
        }
      ]
    },
    {
      "cell_type": "code",
      "source": [
        "y_predict_2 = dt_best.predict(X_test)"
      ],
      "metadata": {
        "id": "447BrrLG0c9y"
      },
      "execution_count": 103,
      "outputs": []
    },
    {
      "cell_type": "code",
      "source": [
        "accuracy_score(y_test, y_predict_2)"
      ],
      "metadata": {
        "colab": {
          "base_uri": "https://localhost:8080/"
        },
        "id": "Eqg9QLjK0v6w",
        "outputId": "384ab55e-56ac-4299-a5d5-d6e91f106313"
      },
      "execution_count": 104,
      "outputs": [
        {
          "output_type": "execute_result",
          "data": {
            "text/plain": [
              "0.8374862183020948"
            ]
          },
          "metadata": {},
          "execution_count": 104
        }
      ]
    },
    {
      "cell_type": "code",
      "source": [
        "print(classification_report(y_test, y_predict_2))"
      ],
      "metadata": {
        "colab": {
          "base_uri": "https://localhost:8080/"
        },
        "id": "mguetr72073p",
        "outputId": "a8a70978-dae0-419f-99f7-ee23a12f2efb"
      },
      "execution_count": 105,
      "outputs": [
        {
          "output_type": "stream",
          "name": "stdout",
          "text": [
            "              precision    recall  f1-score   support\n",
            "\n",
            "           0       0.85      0.96      0.90      3407\n",
            "           1       0.78      0.48      0.59      1128\n",
            "\n",
            "    accuracy                           0.84      4535\n",
            "   macro avg       0.82      0.72      0.75      4535\n",
            "weighted avg       0.83      0.84      0.82      4535\n",
            "\n"
          ]
        }
      ]
    },
    {
      "cell_type": "markdown",
      "source": [
        "**==========THE END==========**"
      ],
      "metadata": {
        "id": "mkC5rmjC1QnR"
      }
    },
    {
      "cell_type": "code",
      "source": [],
      "metadata": {
        "id": "Vcp8jkpc1CRA"
      },
      "execution_count": null,
      "outputs": []
    }
  ]
}