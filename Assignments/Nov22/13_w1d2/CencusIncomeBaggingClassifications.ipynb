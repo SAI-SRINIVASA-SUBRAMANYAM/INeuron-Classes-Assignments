{
  "nbformat": 4,
  "nbformat_minor": 0,
  "metadata": {
    "colab": {
      "provenance": [],
      "collapsed_sections": [],
      "toc_visible": true
    },
    "kernelspec": {
      "name": "python3",
      "display_name": "Python 3"
    },
    "language_info": {
      "name": "python"
    }
  },
  "cells": [
    {
      "cell_type": "markdown",
      "source": [
        "# Data Gathering"
      ],
      "metadata": {
        "id": "0NgkJqUzHNKY"
      }
    },
    {
      "cell_type": "code",
      "execution_count": 1,
      "metadata": {
        "id": "WwSzgT5dF8s3"
      },
      "outputs": [],
      "source": [
        "from urllib.request import urlopen\n",
        "from io import BytesIO"
      ]
    },
    {
      "cell_type": "code",
      "source": [
        "def parse_binary_data_uci_repo(URL):\n",
        "  with urlopen(URL) as fptr:\n",
        "    return BytesIO(fptr.read())"
      ],
      "metadata": {
        "id": "0ZANgvQ1HTVn"
      },
      "execution_count": 2,
      "outputs": []
    },
    {
      "cell_type": "code",
      "source": [
        "DATA_URL = \"https://archive.ics.uci.edu/ml/machine-learning-databases/adult/adult.data\"\n",
        "data = parse_binary_data_uci_repo(DATA_URL)\n",
        "\n",
        "TEST_DATA_URL = \"https://archive.ics.uci.edu/ml/machine-learning-databases/adult/adult.test\"\n",
        "test_data = parse_binary_data_uci_repo(TEST_DATA_URL)\n",
        "\n",
        "HEADER_URL = \"https://archive.ics.uci.edu/ml/machine-learning-databases/adult/adult.names\"\n",
        "data_info = parse_binary_data_uci_repo(HEADER_URL)\n",
        "header_info = data_info.readlines()[-1:-15:-1]"
      ],
      "metadata": {
        "id": "KmggdlH3Hby5"
      },
      "execution_count": 3,
      "outputs": []
    },
    {
      "cell_type": "code",
      "source": [
        "columns = []\n",
        "for header in header_info[::-1]:\n",
        "  columns.append(header.decode().split(':')[0])\n",
        "columns.append(\"Income\")"
      ],
      "metadata": {
        "id": "5Yjh960XHi2b"
      },
      "execution_count": 4,
      "outputs": []
    },
    {
      "cell_type": "markdown",
      "source": [
        "# Data Ingestion"
      ],
      "metadata": {
        "id": "EhA_53WoH2mG"
      }
    },
    {
      "cell_type": "code",
      "source": [
        "import pandas as pd\n",
        "import numpy as np"
      ],
      "metadata": {
        "id": "eZn2t7xwHlkc"
      },
      "execution_count": 5,
      "outputs": []
    },
    {
      "cell_type": "code",
      "source": [
        "data.seek(0)\n",
        "df = pd.read_csv(data, skip_blank_lines=True, header=None, names=columns, sep=' *, *', na_values='?')"
      ],
      "metadata": {
        "colab": {
          "base_uri": "https://localhost:8080/"
        },
        "id": "bPPXXr6QH5yp",
        "outputId": "38860adc-dc62-4861-d9e1-a00e3d61c144"
      },
      "execution_count": 6,
      "outputs": [
        {
          "output_type": "stream",
          "name": "stderr",
          "text": [
            "/usr/local/lib/python3.7/dist-packages/pandas/util/_decorators.py:311: ParserWarning: Falling back to the 'python' engine because the 'c' engine does not support regex separators (separators > 1 char and different from '\\s+' are interpreted as regex); you can avoid this warning by specifying engine='python'.\n",
            "  return func(*args, **kwargs)\n"
          ]
        }
      ]
    },
    {
      "cell_type": "code",
      "source": [
        "test_data.seek(0)\n",
        "test_df = pd.read_csv(test_data, skip_blank_lines=True, header=None, skiprows=1, names=columns, sep=' *, *', na_values='?')"
      ],
      "metadata": {
        "id": "uSMyzfkVH7xO"
      },
      "execution_count": 7,
      "outputs": []
    },
    {
      "cell_type": "code",
      "source": [
        "df = df.sample(frac=0.3)\n",
        "test_df = test_df.sample(frac=0.2)"
      ],
      "metadata": {
        "id": "ViAV7sfiH-06"
      },
      "execution_count": 8,
      "outputs": []
    },
    {
      "cell_type": "markdown",
      "source": [
        "# EDA"
      ],
      "metadata": {
        "id": "x6nrecw5Imo2"
      }
    },
    {
      "cell_type": "code",
      "source": [
        "print(\"Shape:\\n1.\", df.shape, \"\\n2.\", test_df.shape)"
      ],
      "metadata": {
        "colab": {
          "base_uri": "https://localhost:8080/"
        },
        "id": "bFFnfKKcIOHR",
        "outputId": "5d27228a-d2dd-49b5-e055-e43fdc7bca51"
      },
      "execution_count": 9,
      "outputs": [
        {
          "output_type": "stream",
          "name": "stdout",
          "text": [
            "Shape:\n",
            "1. (9768, 15) \n",
            "2. (3256, 15)\n"
          ]
        }
      ]
    },
    {
      "cell_type": "code",
      "source": [
        "df.info()"
      ],
      "metadata": {
        "colab": {
          "base_uri": "https://localhost:8080/"
        },
        "id": "5jIyPL7dIXHm",
        "outputId": "5761ef16-d008-440e-ea9e-0dab62a7632f"
      },
      "execution_count": 10,
      "outputs": [
        {
          "output_type": "stream",
          "name": "stdout",
          "text": [
            "<class 'pandas.core.frame.DataFrame'>\n",
            "Int64Index: 9768 entries, 22039 to 13786\n",
            "Data columns (total 15 columns):\n",
            " #   Column          Non-Null Count  Dtype \n",
            "---  ------          --------------  ----- \n",
            " 0   age             9768 non-null   int64 \n",
            " 1   workclass       9205 non-null   object\n",
            " 2   fnlwgt          9768 non-null   int64 \n",
            " 3   education       9768 non-null   object\n",
            " 4   education-num   9768 non-null   int64 \n",
            " 5   marital-status  9768 non-null   object\n",
            " 6   occupation      9203 non-null   object\n",
            " 7   relationship    9768 non-null   object\n",
            " 8   race            9768 non-null   object\n",
            " 9   sex             9768 non-null   object\n",
            " 10  capital-gain    9768 non-null   int64 \n",
            " 11  capital-loss    9768 non-null   int64 \n",
            " 12  hours-per-week  9768 non-null   int64 \n",
            " 13  native-country  9574 non-null   object\n",
            " 14  Income          9768 non-null   object\n",
            "dtypes: int64(6), object(9)\n",
            "memory usage: 1.2+ MB\n"
          ]
        }
      ]
    },
    {
      "cell_type": "code",
      "source": [
        "test_df.info()"
      ],
      "metadata": {
        "colab": {
          "base_uri": "https://localhost:8080/"
        },
        "id": "kqTtv4dIIqTP",
        "outputId": "48d3939e-eece-4918-c20c-86183fd50ed9"
      },
      "execution_count": 11,
      "outputs": [
        {
          "output_type": "stream",
          "name": "stdout",
          "text": [
            "<class 'pandas.core.frame.DataFrame'>\n",
            "Int64Index: 3256 entries, 9719 to 4241\n",
            "Data columns (total 15 columns):\n",
            " #   Column          Non-Null Count  Dtype \n",
            "---  ------          --------------  ----- \n",
            " 0   age             3256 non-null   int64 \n",
            " 1   workclass       3045 non-null   object\n",
            " 2   fnlwgt          3256 non-null   int64 \n",
            " 3   education       3256 non-null   object\n",
            " 4   education-num   3256 non-null   int64 \n",
            " 5   marital-status  3256 non-null   object\n",
            " 6   occupation      3045 non-null   object\n",
            " 7   relationship    3256 non-null   object\n",
            " 8   race            3256 non-null   object\n",
            " 9   sex             3256 non-null   object\n",
            " 10  capital-gain    3256 non-null   int64 \n",
            " 11  capital-loss    3256 non-null   int64 \n",
            " 12  hours-per-week  3256 non-null   int64 \n",
            " 13  native-country  3202 non-null   object\n",
            " 14  Income          3256 non-null   object\n",
            "dtypes: int64(6), object(9)\n",
            "memory usage: 407.0+ KB\n"
          ]
        }
      ]
    },
    {
      "cell_type": "code",
      "source": [
        "df.describe().T"
      ],
      "metadata": {
        "colab": {
          "base_uri": "https://localhost:8080/",
          "height": 238
        },
        "id": "k2-lhHheIudZ",
        "outputId": "d7384413-070c-4b9e-c9d7-2c0619400f4e"
      },
      "execution_count": 12,
      "outputs": [
        {
          "output_type": "execute_result",
          "data": {
            "text/plain": [
              "                 count           mean            std      min       25%  \\\n",
              "age             9768.0      38.448301      13.553152     17.0      28.0   \n",
              "fnlwgt          9768.0  189764.671478  106194.057079  14878.0  117833.0   \n",
              "education-num   9768.0      10.083129       2.563866      1.0       9.0   \n",
              "capital-gain    9768.0    1027.671683    6999.231327      0.0       0.0   \n",
              "capital-loss    9768.0      83.349304     394.060542      0.0       0.0   \n",
              "hours-per-week  9768.0      40.585176      12.608498      1.0      40.0   \n",
              "\n",
              "                     50%        75%        max  \n",
              "age                 37.0      47.00       90.0  \n",
              "fnlwgt          178564.0  238783.75  1484705.0  \n",
              "education-num       10.0      12.00       16.0  \n",
              "capital-gain         0.0       0.00    99999.0  \n",
              "capital-loss         0.0       0.00     4356.0  \n",
              "hours-per-week      40.0      45.00       99.0  "
            ],
            "text/html": [
              "\n",
              "  <div id=\"df-f252f0cf-5323-4caf-8121-9308617c0746\">\n",
              "    <div class=\"colab-df-container\">\n",
              "      <div>\n",
              "<style scoped>\n",
              "    .dataframe tbody tr th:only-of-type {\n",
              "        vertical-align: middle;\n",
              "    }\n",
              "\n",
              "    .dataframe tbody tr th {\n",
              "        vertical-align: top;\n",
              "    }\n",
              "\n",
              "    .dataframe thead th {\n",
              "        text-align: right;\n",
              "    }\n",
              "</style>\n",
              "<table border=\"1\" class=\"dataframe\">\n",
              "  <thead>\n",
              "    <tr style=\"text-align: right;\">\n",
              "      <th></th>\n",
              "      <th>count</th>\n",
              "      <th>mean</th>\n",
              "      <th>std</th>\n",
              "      <th>min</th>\n",
              "      <th>25%</th>\n",
              "      <th>50%</th>\n",
              "      <th>75%</th>\n",
              "      <th>max</th>\n",
              "    </tr>\n",
              "  </thead>\n",
              "  <tbody>\n",
              "    <tr>\n",
              "      <th>age</th>\n",
              "      <td>9768.0</td>\n",
              "      <td>38.448301</td>\n",
              "      <td>13.553152</td>\n",
              "      <td>17.0</td>\n",
              "      <td>28.0</td>\n",
              "      <td>37.0</td>\n",
              "      <td>47.00</td>\n",
              "      <td>90.0</td>\n",
              "    </tr>\n",
              "    <tr>\n",
              "      <th>fnlwgt</th>\n",
              "      <td>9768.0</td>\n",
              "      <td>189764.671478</td>\n",
              "      <td>106194.057079</td>\n",
              "      <td>14878.0</td>\n",
              "      <td>117833.0</td>\n",
              "      <td>178564.0</td>\n",
              "      <td>238783.75</td>\n",
              "      <td>1484705.0</td>\n",
              "    </tr>\n",
              "    <tr>\n",
              "      <th>education-num</th>\n",
              "      <td>9768.0</td>\n",
              "      <td>10.083129</td>\n",
              "      <td>2.563866</td>\n",
              "      <td>1.0</td>\n",
              "      <td>9.0</td>\n",
              "      <td>10.0</td>\n",
              "      <td>12.00</td>\n",
              "      <td>16.0</td>\n",
              "    </tr>\n",
              "    <tr>\n",
              "      <th>capital-gain</th>\n",
              "      <td>9768.0</td>\n",
              "      <td>1027.671683</td>\n",
              "      <td>6999.231327</td>\n",
              "      <td>0.0</td>\n",
              "      <td>0.0</td>\n",
              "      <td>0.0</td>\n",
              "      <td>0.00</td>\n",
              "      <td>99999.0</td>\n",
              "    </tr>\n",
              "    <tr>\n",
              "      <th>capital-loss</th>\n",
              "      <td>9768.0</td>\n",
              "      <td>83.349304</td>\n",
              "      <td>394.060542</td>\n",
              "      <td>0.0</td>\n",
              "      <td>0.0</td>\n",
              "      <td>0.0</td>\n",
              "      <td>0.00</td>\n",
              "      <td>4356.0</td>\n",
              "    </tr>\n",
              "    <tr>\n",
              "      <th>hours-per-week</th>\n",
              "      <td>9768.0</td>\n",
              "      <td>40.585176</td>\n",
              "      <td>12.608498</td>\n",
              "      <td>1.0</td>\n",
              "      <td>40.0</td>\n",
              "      <td>40.0</td>\n",
              "      <td>45.00</td>\n",
              "      <td>99.0</td>\n",
              "    </tr>\n",
              "  </tbody>\n",
              "</table>\n",
              "</div>\n",
              "      <button class=\"colab-df-convert\" onclick=\"convertToInteractive('df-f252f0cf-5323-4caf-8121-9308617c0746')\"\n",
              "              title=\"Convert this dataframe to an interactive table.\"\n",
              "              style=\"display:none;\">\n",
              "        \n",
              "  <svg xmlns=\"http://www.w3.org/2000/svg\" height=\"24px\"viewBox=\"0 0 24 24\"\n",
              "       width=\"24px\">\n",
              "    <path d=\"M0 0h24v24H0V0z\" fill=\"none\"/>\n",
              "    <path d=\"M18.56 5.44l.94 2.06.94-2.06 2.06-.94-2.06-.94-.94-2.06-.94 2.06-2.06.94zm-11 1L8.5 8.5l.94-2.06 2.06-.94-2.06-.94L8.5 2.5l-.94 2.06-2.06.94zm10 10l.94 2.06.94-2.06 2.06-.94-2.06-.94-.94-2.06-.94 2.06-2.06.94z\"/><path d=\"M17.41 7.96l-1.37-1.37c-.4-.4-.92-.59-1.43-.59-.52 0-1.04.2-1.43.59L10.3 9.45l-7.72 7.72c-.78.78-.78 2.05 0 2.83L4 21.41c.39.39.9.59 1.41.59.51 0 1.02-.2 1.41-.59l7.78-7.78 2.81-2.81c.8-.78.8-2.07 0-2.86zM5.41 20L4 18.59l7.72-7.72 1.47 1.35L5.41 20z\"/>\n",
              "  </svg>\n",
              "      </button>\n",
              "      \n",
              "  <style>\n",
              "    .colab-df-container {\n",
              "      display:flex;\n",
              "      flex-wrap:wrap;\n",
              "      gap: 12px;\n",
              "    }\n",
              "\n",
              "    .colab-df-convert {\n",
              "      background-color: #E8F0FE;\n",
              "      border: none;\n",
              "      border-radius: 50%;\n",
              "      cursor: pointer;\n",
              "      display: none;\n",
              "      fill: #1967D2;\n",
              "      height: 32px;\n",
              "      padding: 0 0 0 0;\n",
              "      width: 32px;\n",
              "    }\n",
              "\n",
              "    .colab-df-convert:hover {\n",
              "      background-color: #E2EBFA;\n",
              "      box-shadow: 0px 1px 2px rgba(60, 64, 67, 0.3), 0px 1px 3px 1px rgba(60, 64, 67, 0.15);\n",
              "      fill: #174EA6;\n",
              "    }\n",
              "\n",
              "    [theme=dark] .colab-df-convert {\n",
              "      background-color: #3B4455;\n",
              "      fill: #D2E3FC;\n",
              "    }\n",
              "\n",
              "    [theme=dark] .colab-df-convert:hover {\n",
              "      background-color: #434B5C;\n",
              "      box-shadow: 0px 1px 3px 1px rgba(0, 0, 0, 0.15);\n",
              "      filter: drop-shadow(0px 1px 2px rgba(0, 0, 0, 0.3));\n",
              "      fill: #FFFFFF;\n",
              "    }\n",
              "  </style>\n",
              "\n",
              "      <script>\n",
              "        const buttonEl =\n",
              "          document.querySelector('#df-f252f0cf-5323-4caf-8121-9308617c0746 button.colab-df-convert');\n",
              "        buttonEl.style.display =\n",
              "          google.colab.kernel.accessAllowed ? 'block' : 'none';\n",
              "\n",
              "        async function convertToInteractive(key) {\n",
              "          const element = document.querySelector('#df-f252f0cf-5323-4caf-8121-9308617c0746');\n",
              "          const dataTable =\n",
              "            await google.colab.kernel.invokeFunction('convertToInteractive',\n",
              "                                                     [key], {});\n",
              "          if (!dataTable) return;\n",
              "\n",
              "          const docLinkHtml = 'Like what you see? Visit the ' +\n",
              "            '<a target=\"_blank\" href=https://colab.research.google.com/notebooks/data_table.ipynb>data table notebook</a>'\n",
              "            + ' to learn more about interactive tables.';\n",
              "          element.innerHTML = '';\n",
              "          dataTable['output_type'] = 'display_data';\n",
              "          await google.colab.output.renderOutput(dataTable, element);\n",
              "          const docLink = document.createElement('div');\n",
              "          docLink.innerHTML = docLinkHtml;\n",
              "          element.appendChild(docLink);\n",
              "        }\n",
              "      </script>\n",
              "    </div>\n",
              "  </div>\n",
              "  "
            ]
          },
          "metadata": {},
          "execution_count": 12
        }
      ]
    },
    {
      "cell_type": "code",
      "source": [
        "df.columns"
      ],
      "metadata": {
        "colab": {
          "base_uri": "https://localhost:8080/"
        },
        "id": "Gp56TIbZIxHr",
        "outputId": "ee57260f-0cca-4268-ac3b-437d9a3f5cd3"
      },
      "execution_count": 13,
      "outputs": [
        {
          "output_type": "execute_result",
          "data": {
            "text/plain": [
              "Index(['age', 'workclass', 'fnlwgt', 'education', 'education-num',\n",
              "       'marital-status', 'occupation', 'relationship', 'race', 'sex',\n",
              "       'capital-gain', 'capital-loss', 'hours-per-week', 'native-country',\n",
              "       'Income'],\n",
              "      dtype='object')"
            ]
          },
          "metadata": {},
          "execution_count": 13
        }
      ]
    },
    {
      "cell_type": "markdown",
      "source": [
        "# Data Cleaning"
      ],
      "metadata": {
        "id": "9y2CrbWEI1vT"
      }
    },
    {
      "cell_type": "code",
      "source": [
        "print(\"Null values\")\n",
        "print(\"Train dataset:\", df.isna().sum().sum())\n",
        "print(\"Test dataset:\", test_df.isna().sum().sum())"
      ],
      "metadata": {
        "colab": {
          "base_uri": "https://localhost:8080/"
        },
        "id": "ndEg7GqxIz1c",
        "outputId": "cc47caff-f706-47bc-ea24-5ec61e3f6f75"
      },
      "execution_count": 14,
      "outputs": [
        {
          "output_type": "stream",
          "name": "stdout",
          "text": [
            "Null values\n",
            "Train dataset: 1322\n",
            "Test dataset: 476\n"
          ]
        }
      ]
    },
    {
      "cell_type": "code",
      "source": [
        "df.dropna(inplace=True)\n",
        "test_df.dropna(inplace=True)"
      ],
      "metadata": {
        "id": "3uW6TvR4I6Cf"
      },
      "execution_count": 15,
      "outputs": []
    },
    {
      "cell_type": "code",
      "source": [
        "print(\"Null values\")\n",
        "print(\"Train dataset:\", df.isna().sum().sum())\n",
        "print(\"Test dataset:\", test_df.isna().sum().sum())"
      ],
      "metadata": {
        "colab": {
          "base_uri": "https://localhost:8080/"
        },
        "id": "BCn3YIPTJP18",
        "outputId": "706603d4-b02a-42b6-b229-c7d33ee45cf6"
      },
      "execution_count": 16,
      "outputs": [
        {
          "output_type": "stream",
          "name": "stdout",
          "text": [
            "Null values\n",
            "Train dataset: 0\n",
            "Test dataset: 0\n"
          ]
        }
      ]
    },
    {
      "cell_type": "code",
      "source": [
        "print(\"Duplicate values\")\n",
        "print(\"Duplicate training:\", df.duplicated().sum())\n",
        "print(\"Duplicate testing:\", test_df.duplicated().sum())"
      ],
      "metadata": {
        "colab": {
          "base_uri": "https://localhost:8080/"
        },
        "id": "ZAAuN9XjJRQy",
        "outputId": "d751449c-e0ef-4bb1-f675-7e5e4ccee260"
      },
      "execution_count": 17,
      "outputs": [
        {
          "output_type": "stream",
          "name": "stdout",
          "text": [
            "Duplicate values\n",
            "Duplicate training: 1\n",
            "Duplicate testing: 0\n"
          ]
        }
      ]
    },
    {
      "cell_type": "code",
      "source": [
        "df.drop_duplicates(inplace=True)\n",
        "test_df.drop_duplicates(inplace=True)"
      ],
      "metadata": {
        "id": "-o-UklDcJgQA"
      },
      "execution_count": 18,
      "outputs": []
    },
    {
      "cell_type": "code",
      "source": [
        "print(\"Duplicate values\")\n",
        "print(\"Duplicate training:\", df.duplicated().sum())\n",
        "print(\"Duplicate testing:\", test_df.duplicated().sum())"
      ],
      "metadata": {
        "colab": {
          "base_uri": "https://localhost:8080/"
        },
        "id": "zXlzCrsAJkMv",
        "outputId": "f3168224-1c80-4ed5-d42c-d6153d19d570"
      },
      "execution_count": 19,
      "outputs": [
        {
          "output_type": "stream",
          "name": "stdout",
          "text": [
            "Duplicate values\n",
            "Duplicate training: 0\n",
            "Duplicate testing: 0\n"
          ]
        }
      ]
    },
    {
      "cell_type": "code",
      "source": [
        "print(\"Irrelavent and duplicate deletion\")\n",
        "df.drop(labels=['education', 'fnlwgt'], axis=1, inplace=True)\n",
        "test_df.drop(labels=['education', 'fnlwgt'], axis=1, inplace=True)"
      ],
      "metadata": {
        "colab": {
          "base_uri": "https://localhost:8080/"
        },
        "id": "VPYRA4x3Jlly",
        "outputId": "20963523-e65e-4d07-f174-8536a08e90be"
      },
      "execution_count": 20,
      "outputs": [
        {
          "output_type": "stream",
          "name": "stdout",
          "text": [
            "Irrelavent and duplicate deletion\n"
          ]
        }
      ]
    },
    {
      "cell_type": "code",
      "source": [
        "df.shape"
      ],
      "metadata": {
        "colab": {
          "base_uri": "https://localhost:8080/"
        },
        "id": "AwnFzyBPJz_a",
        "outputId": "4b92f63c-3d50-4ace-a6ee-34af7ec2758f"
      },
      "execution_count": 21,
      "outputs": [
        {
          "output_type": "execute_result",
          "data": {
            "text/plain": [
              "(9016, 13)"
            ]
          },
          "metadata": {},
          "execution_count": 21
        }
      ]
    },
    {
      "cell_type": "code",
      "source": [
        "test_df.shape"
      ],
      "metadata": {
        "colab": {
          "base_uri": "https://localhost:8080/"
        },
        "id": "n196YMfcJ9Ux",
        "outputId": "57790e60-3d72-4c84-b78a-92c8bff4bcc8"
      },
      "execution_count": 22,
      "outputs": [
        {
          "output_type": "execute_result",
          "data": {
            "text/plain": [
              "(2994, 13)"
            ]
          },
          "metadata": {},
          "execution_count": 22
        }
      ]
    },
    {
      "cell_type": "code",
      "source": [
        "def unique_values_count(frame: pd.DataFrame) -> pd.DataFrame:\n",
        "  columnsToEncode = list(frame.select_dtypes(include=['object']))\n",
        "  for feature in columnsToEncode:\n",
        "    print(feature, \"\\n\")\n",
        "    print(frame[[feature]].value_counts())"
      ],
      "metadata": {
        "id": "fkl2X8eDN_EL"
      },
      "execution_count": 23,
      "outputs": []
    },
    {
      "cell_type": "code",
      "source": [
        "unique_values_count(df)"
      ],
      "metadata": {
        "colab": {
          "base_uri": "https://localhost:8080/"
        },
        "id": "GDEwjf95ORCi",
        "outputId": "1d1b2cce-e911-472d-dfde-8c4769e04b1f"
      },
      "execution_count": 24,
      "outputs": [
        {
          "output_type": "stream",
          "name": "stdout",
          "text": [
            "workclass \n",
            "\n",
            "workclass       \n",
            "Private             6618\n",
            "Self-emp-not-inc     756\n",
            "Local-gov            640\n",
            "State-gov            378\n",
            "Self-emp-inc         343\n",
            "Federal-gov          277\n",
            "Without-pay            4\n",
            "dtype: int64\n",
            "marital-status \n",
            "\n",
            "marital-status       \n",
            "Married-civ-spouse       4216\n",
            "Never-married            2946\n",
            "Divorced                 1231\n",
            "Separated                 287\n",
            "Widowed                   211\n",
            "Married-spouse-absent     120\n",
            "Married-AF-spouse           5\n",
            "dtype: int64\n",
            "occupation \n",
            "\n",
            "occupation       \n",
            "Exec-managerial      1222\n",
            "Prof-specialty       1190\n",
            "Craft-repair         1181\n",
            "Adm-clerical         1111\n",
            "Sales                1072\n",
            "Other-service         949\n",
            "Machine-op-inspct     583\n",
            "Transport-moving      476\n",
            "Handlers-cleaners     419\n",
            "Farming-fishing       306\n",
            "Tech-support          274\n",
            "Protective-serv       193\n",
            "Priv-house-serv        36\n",
            "Armed-Forces            4\n",
            "dtype: int64\n",
            "relationship \n",
            "\n",
            "relationship  \n",
            "Husband           3757\n",
            "Not-in-family     2333\n",
            "Own-child         1340\n",
            "Unmarried          908\n",
            "Wife               389\n",
            "Other-relative     289\n",
            "dtype: int64\n",
            "race \n",
            "\n",
            "race              \n",
            "White                 7744\n",
            "Black                  837\n",
            "Asian-Pac-Islander     284\n",
            "Amer-Indian-Eskimo      78\n",
            "Other                   73\n",
            "dtype: int64\n",
            "sex \n",
            "\n",
            "sex   \n",
            "Male      6133\n",
            "Female    2883\n",
            "dtype: int64\n",
            "native-country \n",
            "\n",
            "native-country            \n",
            "United-States                 8214\n",
            "Mexico                         179\n",
            "Philippines                     51\n",
            "Germany                         40\n",
            "India                           39\n",
            "Canada                          32\n",
            "El-Salvador                     30\n",
            "Japan                           30\n",
            "England                         28\n",
            "China                           24\n",
            "Vietnam                         24\n",
            "Cuba                            23\n",
            "Jamaica                         23\n",
            "Italy                           19\n",
            "South                           19\n",
            "Poland                          18\n",
            "Puerto-Rico                     18\n",
            "Haiti                           17\n",
            "Columbia                        17\n",
            "Dominican-Republic              16\n",
            "Iran                            15\n",
            "Taiwan                          14\n",
            "Ireland                         12\n",
            "Guatemala                       12\n",
            "France                          12\n",
            "Nicaragua                       10\n",
            "Portugal                        10\n",
            "Ecuador                          9\n",
            "Greece                           8\n",
            "Thailand                         7\n",
            "Peru                             7\n",
            "Trinadad&Tobago                  7\n",
            "Cambodia                         6\n",
            "Hong                             6\n",
            "Laos                             5\n",
            "Yugoslavia                       5\n",
            "Hungary                          4\n",
            "Scotland                         3\n",
            "Honduras                         2\n",
            "Outlying-US(Guam-USVI-etc)       1\n",
            "dtype: int64\n",
            "Income \n",
            "\n",
            "Income\n",
            "<=50K     6790\n",
            ">50K      2226\n",
            "dtype: int64\n"
          ]
        }
      ]
    },
    {
      "cell_type": "code",
      "source": [
        "df['Income'] = df['Income'].apply(lambda x: 0 if x == \"<=50K\" else 1)\n",
        "test_df['Income'] = test_df['Income'].apply(lambda x: 0 if x == \"<=50K.\" else 1)"
      ],
      "metadata": {
        "id": "TFqlYcnf1qD8"
      },
      "execution_count": 25,
      "outputs": []
    },
    {
      "cell_type": "code",
      "source": [
        "df[['Income']].value_counts()"
      ],
      "metadata": {
        "colab": {
          "base_uri": "https://localhost:8080/"
        },
        "id": "4x0WxRK-14OY",
        "outputId": "73154563-523e-4abf-c000-da6a0c893dcf"
      },
      "execution_count": 26,
      "outputs": [
        {
          "output_type": "execute_result",
          "data": {
            "text/plain": [
              "Income\n",
              "0         6790\n",
              "1         2226\n",
              "dtype: int64"
            ]
          },
          "metadata": {},
          "execution_count": 26
        }
      ]
    },
    {
      "cell_type": "code",
      "source": [
        "test_df[['Income']].value_counts()"
      ],
      "metadata": {
        "colab": {
          "base_uri": "https://localhost:8080/"
        },
        "id": "zeZfnr932IdK",
        "outputId": "4e3d34e9-6dc4-4ea1-c242-7f602af57df4"
      },
      "execution_count": 27,
      "outputs": [
        {
          "output_type": "execute_result",
          "data": {
            "text/plain": [
              "Income\n",
              "0         2226\n",
              "1          768\n",
              "dtype: int64"
            ]
          },
          "metadata": {},
          "execution_count": 27
        }
      ]
    },
    {
      "cell_type": "markdown",
      "source": [
        "# Imputation"
      ],
      "metadata": {
        "id": "-qUU6AXeNvR4"
      }
    },
    {
      "cell_type": "code",
      "source": [
        "from sklearn.compose import make_column_transformer\n",
        "from sklearn.preprocessing import OneHotEncoder\n",
        "from sklearn.pipeline import make_pipeline\n",
        "from sklearn.metrics import accuracy_score"
      ],
      "metadata": {
        "id": "0MQ4_5h8SL4z"
      },
      "execution_count": 28,
      "outputs": []
    },
    {
      "cell_type": "code",
      "source": [
        "object_columns = df.select_dtypes(include=['object']).columns\n",
        "object_columns = [c for c in object_columns if c != 'Income']"
      ],
      "metadata": {
        "id": "1BawAJacNpOU"
      },
      "execution_count": 29,
      "outputs": []
    },
    {
      "cell_type": "code",
      "source": [
        "object_columns"
      ],
      "metadata": {
        "colab": {
          "base_uri": "https://localhost:8080/"
        },
        "id": "tY4N1bZOydGC",
        "outputId": "a2477cae-d8d5-45e3-95ef-6c44c71be666"
      },
      "execution_count": 30,
      "outputs": [
        {
          "output_type": "execute_result",
          "data": {
            "text/plain": [
              "['workclass',\n",
              " 'marital-status',\n",
              " 'occupation',\n",
              " 'relationship',\n",
              " 'race',\n",
              " 'sex',\n",
              " 'native-country']"
            ]
          },
          "metadata": {},
          "execution_count": 30
        }
      ]
    },
    {
      "cell_type": "code",
      "source": [
        "X_train = df.iloc[:, :-1]\n",
        "X_test = test_df.iloc[:, :-1]"
      ],
      "metadata": {
        "id": "nhpT91uEuDhp"
      },
      "execution_count": 31,
      "outputs": []
    },
    {
      "cell_type": "code",
      "source": [
        "y_train = df.iloc[:, -1]\n",
        "y_test = test_df.iloc[:, -1]"
      ],
      "metadata": {
        "id": "UWWgYoPyuXTo"
      },
      "execution_count": 32,
      "outputs": []
    },
    {
      "cell_type": "code",
      "source": [
        "print(\"Train: \", X_train.shape, y_train.shape)\n",
        "print(\"Test: \", X_test.shape, y_test.shape)"
      ],
      "metadata": {
        "colab": {
          "base_uri": "https://localhost:8080/"
        },
        "id": "GxbZmRyzuXQu",
        "outputId": "103ef432-528f-41b5-8491-c280782d9454"
      },
      "execution_count": 33,
      "outputs": [
        {
          "output_type": "stream",
          "name": "stdout",
          "text": [
            "Train:  (9016, 12) (9016,)\n",
            "Test:  (2994, 12) (2994,)\n"
          ]
        }
      ]
    },
    {
      "cell_type": "code",
      "source": [
        "column_transform = make_column_transformer(\n",
        "    (OneHotEncoder(handle_unknown=\"ignore\", dtype=np.int64), object_columns),\n",
        "    remainder='passthrough'\n",
        ")"
      ],
      "metadata": {
        "id": "7JqSlcBdReDl"
      },
      "execution_count": 34,
      "outputs": []
    },
    {
      "cell_type": "markdown",
      "source": [
        "# Bagging Classifier"
      ],
      "metadata": {
        "id": "2nwbalMV0vzd"
      }
    },
    {
      "cell_type": "code",
      "source": [
        "from sklearn.ensemble import BaggingClassifier"
      ],
      "metadata": {
        "id": "l3ptqpJLwk2e"
      },
      "execution_count": 35,
      "outputs": []
    },
    {
      "cell_type": "code",
      "source": [
        "bg_c = BaggingClassifier()"
      ],
      "metadata": {
        "id": "kqDdqi0GTW25"
      },
      "execution_count": 36,
      "outputs": []
    },
    {
      "cell_type": "code",
      "source": [
        "pl_bg_c = make_pipeline(column_transform, bg_c)"
      ],
      "metadata": {
        "id": "pfJKE_0PwdD7"
      },
      "execution_count": 37,
      "outputs": []
    },
    {
      "cell_type": "code",
      "source": [
        "pl_bg_c.fit(X_train, y_train)"
      ],
      "metadata": {
        "colab": {
          "base_uri": "https://localhost:8080/"
        },
        "id": "45rCKH_axh1B",
        "outputId": "622ba0ba-d87e-427a-bb4f-4beca524e5f7"
      },
      "execution_count": 38,
      "outputs": [
        {
          "output_type": "execute_result",
          "data": {
            "text/plain": [
              "Pipeline(steps=[('columntransformer',\n",
              "                 ColumnTransformer(remainder='passthrough',\n",
              "                                   transformers=[('onehotencoder',\n",
              "                                                  OneHotEncoder(dtype=<class 'numpy.int64'>,\n",
              "                                                                handle_unknown='ignore'),\n",
              "                                                  ['workclass',\n",
              "                                                   'marital-status',\n",
              "                                                   'occupation', 'relationship',\n",
              "                                                   'race', 'sex',\n",
              "                                                   'native-country'])])),\n",
              "                ('baggingclassifier', BaggingClassifier())])"
            ]
          },
          "metadata": {},
          "execution_count": 38
        }
      ]
    },
    {
      "cell_type": "code",
      "source": [
        "pl_bg_c.score(X_train, y_train)"
      ],
      "metadata": {
        "colab": {
          "base_uri": "https://localhost:8080/"
        },
        "id": "BuVWWUT6y3ce",
        "outputId": "be0af539-e72a-4525-8c96-2f5751e0c529"
      },
      "execution_count": 39,
      "outputs": [
        {
          "output_type": "execute_result",
          "data": {
            "text/plain": [
              "0.9739352262644189"
            ]
          },
          "metadata": {},
          "execution_count": 39
        }
      ]
    },
    {
      "cell_type": "code",
      "source": [
        "y_predict_bg_c = pl_bg_c.predict(X_test)"
      ],
      "metadata": {
        "id": "uX0uSmFtx1fU"
      },
      "execution_count": 40,
      "outputs": []
    },
    {
      "cell_type": "code",
      "source": [
        "accuracy_score(y_test, y_predict_bg_c)"
      ],
      "metadata": {
        "colab": {
          "base_uri": "https://localhost:8080/"
        },
        "id": "uAjgp4wPzYNx",
        "outputId": "fd0573d4-da08-481a-ec11-8ff51e07367c"
      },
      "execution_count": 41,
      "outputs": [
        {
          "output_type": "execute_result",
          "data": {
            "text/plain": [
              "0.8390113560454242"
            ]
          },
          "metadata": {},
          "execution_count": 41
        }
      ]
    },
    {
      "cell_type": "markdown",
      "source": [
        "# Extra Trees Classifier"
      ],
      "metadata": {
        "id": "Zv_Zjj-p4A3w"
      }
    },
    {
      "cell_type": "code",
      "source": [
        "from sklearn.ensemble import ExtraTreesClassifier"
      ],
      "metadata": {
        "id": "J0aeWCNZ4Amn"
      },
      "execution_count": 42,
      "outputs": []
    },
    {
      "cell_type": "code",
      "source": [
        "et_c = ExtraTreesClassifier()"
      ],
      "metadata": {
        "id": "Aqpt3Xau0YIs"
      },
      "execution_count": 43,
      "outputs": []
    },
    {
      "cell_type": "code",
      "source": [
        "et_bg_c = make_pipeline(column_transform, et_c)"
      ],
      "metadata": {
        "id": "7kRzAK7a4kTc"
      },
      "execution_count": 44,
      "outputs": []
    },
    {
      "cell_type": "code",
      "source": [
        "et_bg_c.fit(X_train, y_train)"
      ],
      "metadata": {
        "colab": {
          "base_uri": "https://localhost:8080/"
        },
        "id": "YTvRakY74zHf",
        "outputId": "b24805c1-cc8c-4564-d470-30b4d54a8de1"
      },
      "execution_count": 45,
      "outputs": [
        {
          "output_type": "execute_result",
          "data": {
            "text/plain": [
              "Pipeline(steps=[('columntransformer',\n",
              "                 ColumnTransformer(remainder='passthrough',\n",
              "                                   transformers=[('onehotencoder',\n",
              "                                                  OneHotEncoder(dtype=<class 'numpy.int64'>,\n",
              "                                                                handle_unknown='ignore'),\n",
              "                                                  ['workclass',\n",
              "                                                   'marital-status',\n",
              "                                                   'occupation', 'relationship',\n",
              "                                                   'race', 'sex',\n",
              "                                                   'native-country'])])),\n",
              "                ('extratreesclassifier', ExtraTreesClassifier())])"
            ]
          },
          "metadata": {},
          "execution_count": 45
        }
      ]
    },
    {
      "cell_type": "code",
      "source": [
        "et_bg_c.score(X_train, y_train)"
      ],
      "metadata": {
        "colab": {
          "base_uri": "https://localhost:8080/"
        },
        "id": "Afc9YHtYLlQB",
        "outputId": "aeed29f1-b919-4b82-e4a4-e1329b61c9f4"
      },
      "execution_count": 46,
      "outputs": [
        {
          "output_type": "execute_result",
          "data": {
            "text/plain": [
              "0.9856921029281278"
            ]
          },
          "metadata": {},
          "execution_count": 46
        }
      ]
    },
    {
      "cell_type": "code",
      "source": [
        "y_predict_et_c = et_bg_c.predict(X_test)"
      ],
      "metadata": {
        "id": "ByERRzBxMCPt"
      },
      "execution_count": 47,
      "outputs": []
    },
    {
      "cell_type": "code",
      "source": [
        "accuracy_score(y_test, y_predict_et_c)"
      ],
      "metadata": {
        "colab": {
          "base_uri": "https://localhost:8080/"
        },
        "id": "SFP_hQ0XMJ_v",
        "outputId": "490454cb-f211-4481-d139-fe73672869c3"
      },
      "execution_count": 48,
      "outputs": [
        {
          "output_type": "execute_result",
          "data": {
            "text/plain": [
              "0.8303273213092852"
            ]
          },
          "metadata": {},
          "execution_count": 48
        }
      ]
    },
    {
      "cell_type": "markdown",
      "source": [
        "# Gradient Boosting Classifier"
      ],
      "metadata": {
        "id": "Z5vmQFHWM68l"
      }
    },
    {
      "cell_type": "code",
      "source": [
        "from sklearn.ensemble import GradientBoostingClassifier"
      ],
      "metadata": {
        "id": "0OyASkS3MPyM"
      },
      "execution_count": 49,
      "outputs": []
    },
    {
      "cell_type": "code",
      "source": [
        "gb_c = GradientBoostingClassifier()"
      ],
      "metadata": {
        "id": "qwHWAxh5NBfE"
      },
      "execution_count": 50,
      "outputs": []
    },
    {
      "cell_type": "code",
      "source": [
        "p_gb_c = make_pipeline(column_transform, gb_c)"
      ],
      "metadata": {
        "id": "kYI-lzitNDuj"
      },
      "execution_count": 51,
      "outputs": []
    },
    {
      "cell_type": "code",
      "source": [
        "p_gb_c.fit(X_train, y_train)"
      ],
      "metadata": {
        "colab": {
          "base_uri": "https://localhost:8080/"
        },
        "id": "5mFjBl_eNTiT",
        "outputId": "d0070b11-3f33-4dce-9831-881b18d930e4"
      },
      "execution_count": 52,
      "outputs": [
        {
          "output_type": "execute_result",
          "data": {
            "text/plain": [
              "Pipeline(steps=[('columntransformer',\n",
              "                 ColumnTransformer(remainder='passthrough',\n",
              "                                   transformers=[('onehotencoder',\n",
              "                                                  OneHotEncoder(dtype=<class 'numpy.int64'>,\n",
              "                                                                handle_unknown='ignore'),\n",
              "                                                  ['workclass',\n",
              "                                                   'marital-status',\n",
              "                                                   'occupation', 'relationship',\n",
              "                                                   'race', 'sex',\n",
              "                                                   'native-country'])])),\n",
              "                ('gradientboostingclassifier', GradientBoostingClassifier())])"
            ]
          },
          "metadata": {},
          "execution_count": 52
        }
      ]
    },
    {
      "cell_type": "code",
      "source": [
        "p_gb_c.score(X_train, y_train)"
      ],
      "metadata": {
        "colab": {
          "base_uri": "https://localhost:8080/"
        },
        "id": "IPPBK8hdNewi",
        "outputId": "4de672a8-df6b-43a5-b6e7-f0a796588173"
      },
      "execution_count": 53,
      "outputs": [
        {
          "output_type": "execute_result",
          "data": {
            "text/plain": [
              "0.8661268855368234"
            ]
          },
          "metadata": {},
          "execution_count": 53
        }
      ]
    },
    {
      "cell_type": "code",
      "source": [
        "y_predict_gb_c = p_gb_c.predict(X_test)"
      ],
      "metadata": {
        "id": "RDDOu8lbNrsQ"
      },
      "execution_count": 54,
      "outputs": []
    },
    {
      "cell_type": "code",
      "source": [
        "accuracy_score(y_test, y_predict_gb_c)"
      ],
      "metadata": {
        "colab": {
          "base_uri": "https://localhost:8080/"
        },
        "id": "Fwd6GAkiN0nm",
        "outputId": "7ebb005e-246f-46bd-aa16-8ae52cdd0d23"
      },
      "execution_count": 55,
      "outputs": [
        {
          "output_type": "execute_result",
          "data": {
            "text/plain": [
              "0.8557114228456913"
            ]
          },
          "metadata": {},
          "execution_count": 55
        }
      ]
    },
    {
      "cell_type": "markdown",
      "source": [
        "# Random Forest Classifier"
      ],
      "metadata": {
        "id": "d4LKacC2S6-t"
      }
    },
    {
      "cell_type": "code",
      "source": [
        "from sklearn.ensemble import RandomForestClassifier"
      ],
      "metadata": {
        "id": "g8oofNO6N4f1"
      },
      "execution_count": 56,
      "outputs": []
    },
    {
      "cell_type": "code",
      "source": [
        "rf_c = RandomForestClassifier()"
      ],
      "metadata": {
        "id": "tN9PpCOwTCU_"
      },
      "execution_count": 57,
      "outputs": []
    },
    {
      "cell_type": "code",
      "source": [
        "p_rf_c = make_pipeline(column_transform, rf_c)"
      ],
      "metadata": {
        "id": "iyZPSwYeTfnC"
      },
      "execution_count": 58,
      "outputs": []
    },
    {
      "cell_type": "code",
      "source": [
        "p_rf_c.fit(X_train, y_train)"
      ],
      "metadata": {
        "colab": {
          "base_uri": "https://localhost:8080/"
        },
        "id": "H5GfYX8eTkWR",
        "outputId": "e0bd62e0-ca54-4574-8554-bce6cd0236b0"
      },
      "execution_count": 59,
      "outputs": [
        {
          "output_type": "execute_result",
          "data": {
            "text/plain": [
              "Pipeline(steps=[('columntransformer',\n",
              "                 ColumnTransformer(remainder='passthrough',\n",
              "                                   transformers=[('onehotencoder',\n",
              "                                                  OneHotEncoder(dtype=<class 'numpy.int64'>,\n",
              "                                                                handle_unknown='ignore'),\n",
              "                                                  ['workclass',\n",
              "                                                   'marital-status',\n",
              "                                                   'occupation', 'relationship',\n",
              "                                                   'race', 'sex',\n",
              "                                                   'native-country'])])),\n",
              "                ('randomforestclassifier', RandomForestClassifier())])"
            ]
          },
          "metadata": {},
          "execution_count": 59
        }
      ]
    },
    {
      "cell_type": "code",
      "source": [
        "p_rf_c.score(X_train, y_train)"
      ],
      "metadata": {
        "colab": {
          "base_uri": "https://localhost:8080/"
        },
        "id": "e4G6sCRmTn4F",
        "outputId": "c1f4f1c3-5505-45e6-e825-b2a99f157590"
      },
      "execution_count": 60,
      "outputs": [
        {
          "output_type": "execute_result",
          "data": {
            "text/plain": [
              "0.985581188997338"
            ]
          },
          "metadata": {},
          "execution_count": 60
        }
      ]
    },
    {
      "cell_type": "code",
      "source": [
        "y_predict_rf_c = p_rf_c.predict(X_test)"
      ],
      "metadata": {
        "id": "ng1V3ersTsNa"
      },
      "execution_count": 61,
      "outputs": []
    },
    {
      "cell_type": "code",
      "source": [
        "accuracy_score(y_test, y_predict_gb_c)"
      ],
      "metadata": {
        "colab": {
          "base_uri": "https://localhost:8080/"
        },
        "id": "hQHQteGgTxJt",
        "outputId": "25f2971e-ba6c-48e3-fcc7-f93d02b0eb6f"
      },
      "execution_count": 62,
      "outputs": [
        {
          "output_type": "execute_result",
          "data": {
            "text/plain": [
              "0.8557114228456913"
            ]
          },
          "metadata": {},
          "execution_count": 62
        }
      ]
    },
    {
      "cell_type": "markdown",
      "source": [
        "# Stacking Classifier"
      ],
      "metadata": {
        "id": "kCoppku0UMQH"
      }
    },
    {
      "cell_type": "code",
      "source": [
        "from sklearn.ensemble import StackingClassifier\n",
        "from sklearn.ensemble import RandomForestClassifier\n",
        "from sklearn.svm import SVC\n",
        "from sklearn.linear_model import LogisticRegression"
      ],
      "metadata": {
        "id": "CJBzHueHT1ND"
      },
      "execution_count": 63,
      "outputs": []
    },
    {
      "cell_type": "code",
      "source": [
        "estimators = [\n",
        "    ('rf', make_pipeline(column_transform, RandomForestClassifier(n_estimators=10))),\n",
        "    ('svc', make_pipeline(column_transform, SVC()))\n",
        "]"
      ],
      "metadata": {
        "id": "bX53aOJCWqsz"
      },
      "execution_count": 64,
      "outputs": []
    },
    {
      "cell_type": "code",
      "source": [
        "st_c = StackingClassifier(\n",
        "    estimators = estimators,\n",
        "    final_estimator=LogisticRegression()\n",
        "  )"
      ],
      "metadata": {
        "id": "MuGV4CIfWqox"
      },
      "execution_count": 65,
      "outputs": []
    },
    {
      "cell_type": "code",
      "source": [
        "st_c.fit(X_train, y_train)"
      ],
      "metadata": {
        "colab": {
          "base_uri": "https://localhost:8080/"
        },
        "id": "JETmCb3eURX3",
        "outputId": "6e70d750-70d7-4e8f-b7c5-b40331b03c8d"
      },
      "execution_count": 66,
      "outputs": [
        {
          "output_type": "execute_result",
          "data": {
            "text/plain": [
              "StackingClassifier(estimators=[('rf',\n",
              "                                Pipeline(steps=[('columntransformer',\n",
              "                                                 ColumnTransformer(remainder='passthrough',\n",
              "                                                                   transformers=[('onehotencoder',\n",
              "                                                                                  OneHotEncoder(dtype=<class 'numpy.int64'>,\n",
              "                                                                                                handle_unknown='ignore'),\n",
              "                                                                                  ['workclass',\n",
              "                                                                                   'marital-status',\n",
              "                                                                                   'occupation',\n",
              "                                                                                   'relationship',\n",
              "                                                                                   'race',\n",
              "                                                                                   'sex',\n",
              "                                                                                   'native-country'])])),\n",
              "                                                ('randomforestclassifier',\n",
              "                                                 RandomForestClassi...estimators=10))])),\n",
              "                               ('svc',\n",
              "                                Pipeline(steps=[('columntransformer',\n",
              "                                                 ColumnTransformer(remainder='passthrough',\n",
              "                                                                   transformers=[('onehotencoder',\n",
              "                                                                                  OneHotEncoder(dtype=<class 'numpy.int64'>,\n",
              "                                                                                                handle_unknown='ignore'),\n",
              "                                                                                  ['workclass',\n",
              "                                                                                   'marital-status',\n",
              "                                                                                   'occupation',\n",
              "                                                                                   'relationship',\n",
              "                                                                                   'race',\n",
              "                                                                                   'sex',\n",
              "                                                                                   'native-country'])])),\n",
              "                                                ('svc', SVC())]))],\n",
              "                   final_estimator=LogisticRegression())"
            ]
          },
          "metadata": {},
          "execution_count": 66
        }
      ]
    },
    {
      "cell_type": "code",
      "source": [
        "st_c.score(X_train, y_train)"
      ],
      "metadata": {
        "colab": {
          "base_uri": "https://localhost:8080/"
        },
        "id": "IHSd6HLeSuI6",
        "outputId": "3d154cae-f820-49a6-fedc-dd0d5f62c179"
      },
      "execution_count": 67,
      "outputs": [
        {
          "output_type": "execute_result",
          "data": {
            "text/plain": [
              "0.9615128660159716"
            ]
          },
          "metadata": {},
          "execution_count": 67
        }
      ]
    },
    {
      "cell_type": "code",
      "source": [
        "st_c.classes_"
      ],
      "metadata": {
        "colab": {
          "base_uri": "https://localhost:8080/"
        },
        "id": "GuNsCBQJYOMl",
        "outputId": "0ed1cfbf-59b1-4df3-9611-e3ccbb6b5fef"
      },
      "execution_count": 68,
      "outputs": [
        {
          "output_type": "execute_result",
          "data": {
            "text/plain": [
              "array([0, 1])"
            ]
          },
          "metadata": {},
          "execution_count": 68
        }
      ]
    },
    {
      "cell_type": "code",
      "source": [
        "st_c.decision_function(X_test)"
      ],
      "metadata": {
        "colab": {
          "base_uri": "https://localhost:8080/"
        },
        "id": "tLaZtX8cadgr",
        "outputId": "875e06e7-9ca1-4257-9b3f-6a06cd04de17"
      },
      "execution_count": 69,
      "outputs": [
        {
          "output_type": "execute_result",
          "data": {
            "text/plain": [
              "array([-2.63046819, -2.63051471, -2.63050362, ..., -2.63049999,\n",
              "       -0.92838937,  1.1992347 ])"
            ]
          },
          "metadata": {},
          "execution_count": 69
        }
      ]
    },
    {
      "cell_type": "code",
      "source": [
        "y_predict_st_c = st_c.predict(X_test)"
      ],
      "metadata": {
        "id": "wZzl-HI_apVT"
      },
      "execution_count": 70,
      "outputs": []
    },
    {
      "cell_type": "code",
      "source": [
        "accuracy_score(y_test, y_predict_st_c)"
      ],
      "metadata": {
        "colab": {
          "base_uri": "https://localhost:8080/"
        },
        "id": "wcYkNtzYcYD1",
        "outputId": "20d56d96-294b-476a-8f39-92c0f4b39058"
      },
      "execution_count": 71,
      "outputs": [
        {
          "output_type": "execute_result",
          "data": {
            "text/plain": [
              "0.8323313293253173"
            ]
          },
          "metadata": {},
          "execution_count": 71
        }
      ]
    },
    {
      "cell_type": "markdown",
      "source": [
        "# Voting Classifier"
      ],
      "metadata": {
        "id": "nRYgX0QMdt6s"
      }
    },
    {
      "cell_type": "code",
      "source": [
        "from sklearn.ensemble import RandomForestClassifier, VotingClassifier\n",
        "from sklearn.linear_model import LogisticRegression\n",
        "from sklearn.svm import SVC"
      ],
      "metadata": {
        "id": "-RO07Eu8dA6X"
      },
      "execution_count": 72,
      "outputs": []
    },
    {
      "cell_type": "code",
      "source": [
        "voting_estimators = [\n",
        "    ('lr', make_pipeline(column_transform, LogisticRegression(random_state=1))),\n",
        "    ('rfc', make_pipeline(column_transform, RandomForestClassifier(n_estimators=10, random_state=1))),\n",
        "    ('svc', make_pipeline(column_transform, SVC()))\n",
        "]"
      ],
      "metadata": {
        "id": "F8_SsO0wnbDs"
      },
      "execution_count": 73,
      "outputs": []
    },
    {
      "cell_type": "code",
      "source": [
        "v_c = VotingClassifier(estimators=voting_estimators, voting='hard')"
      ],
      "metadata": {
        "id": "GRvMEj-OoM0A"
      },
      "execution_count": 74,
      "outputs": []
    },
    {
      "cell_type": "code",
      "source": [
        "v_c.fit(X_train, y_train)"
      ],
      "metadata": {
        "colab": {
          "base_uri": "https://localhost:8080/"
        },
        "id": "tzb1i-mAovDa",
        "outputId": "5429bae9-76cc-4749-96c9-d10538a3e938"
      },
      "execution_count": 75,
      "outputs": [
        {
          "output_type": "stream",
          "name": "stderr",
          "text": [
            "/usr/local/lib/python3.7/dist-packages/sklearn/linear_model/_logistic.py:818: ConvergenceWarning: lbfgs failed to converge (status=1):\n",
            "STOP: TOTAL NO. of ITERATIONS REACHED LIMIT.\n",
            "\n",
            "Increase the number of iterations (max_iter) or scale the data as shown in:\n",
            "    https://scikit-learn.org/stable/modules/preprocessing.html\n",
            "Please also refer to the documentation for alternative solver options:\n",
            "    https://scikit-learn.org/stable/modules/linear_model.html#logistic-regression\n",
            "  extra_warning_msg=_LOGISTIC_SOLVER_CONVERGENCE_MSG,\n"
          ]
        },
        {
          "output_type": "execute_result",
          "data": {
            "text/plain": [
              "VotingClassifier(estimators=[('lr',\n",
              "                              Pipeline(steps=[('columntransformer',\n",
              "                                               ColumnTransformer(remainder='passthrough',\n",
              "                                                                 transformers=[('onehotencoder',\n",
              "                                                                                OneHotEncoder(dtype=<class 'numpy.int64'>,\n",
              "                                                                                              handle_unknown='ignore'),\n",
              "                                                                                ['workclass',\n",
              "                                                                                 'marital-status',\n",
              "                                                                                 'occupation',\n",
              "                                                                                 'relationship',\n",
              "                                                                                 'race',\n",
              "                                                                                 'sex',\n",
              "                                                                                 'native-country'])])),\n",
              "                                              ('logisticregression',\n",
              "                                               LogisticRegression(rando...\n",
              "                                               RandomForestClassifier(n_estimators=10,\n",
              "                                                                      random_state=1))])),\n",
              "                             ('svc',\n",
              "                              Pipeline(steps=[('columntransformer',\n",
              "                                               ColumnTransformer(remainder='passthrough',\n",
              "                                                                 transformers=[('onehotencoder',\n",
              "                                                                                OneHotEncoder(dtype=<class 'numpy.int64'>,\n",
              "                                                                                              handle_unknown='ignore'),\n",
              "                                                                                ['workclass',\n",
              "                                                                                 'marital-status',\n",
              "                                                                                 'occupation',\n",
              "                                                                                 'relationship',\n",
              "                                                                                 'race',\n",
              "                                                                                 'sex',\n",
              "                                                                                 'native-country'])])),\n",
              "                                              ('svc', SVC())]))])"
            ]
          },
          "metadata": {},
          "execution_count": 75
        }
      ]
    },
    {
      "cell_type": "code",
      "source": [
        "v_c.score(X_train, y_train)"
      ],
      "metadata": {
        "colab": {
          "base_uri": "https://localhost:8080/"
        },
        "id": "YKA5XguBo4Al",
        "outputId": "11181a95-a450-4f5d-ee84-74d5d6b94912"
      },
      "execution_count": 76,
      "outputs": [
        {
          "output_type": "execute_result",
          "data": {
            "text/plain": [
              "0.876109139307897"
            ]
          },
          "metadata": {},
          "execution_count": 76
        }
      ]
    },
    {
      "cell_type": "code",
      "source": [
        "y_predict_v_c = v_c.predict(X_test)"
      ],
      "metadata": {
        "id": "rrwwWo5hpIWT"
      },
      "execution_count": 77,
      "outputs": []
    },
    {
      "cell_type": "code",
      "source": [
        "accuracy_score(y_test, y_predict_v_c)"
      ],
      "metadata": {
        "colab": {
          "base_uri": "https://localhost:8080/"
        },
        "id": "4WAcdwYvpQVB",
        "outputId": "e91fdaf1-c76e-423c-8766-aa660e8b639f"
      },
      "execution_count": 78,
      "outputs": [
        {
          "output_type": "execute_result",
          "data": {
            "text/plain": [
              "0.8229792919171677"
            ]
          },
          "metadata": {},
          "execution_count": 78
        }
      ]
    },
    {
      "cell_type": "markdown",
      "source": [
        "**==========THE END==========**"
      ],
      "metadata": {
        "id": "KMyCdi-9-Knw"
      }
    },
    {
      "cell_type": "code",
      "source": [],
      "metadata": {
        "id": "lje0YhwG-Sby"
      },
      "execution_count": 78,
      "outputs": []
    }
  ]
}