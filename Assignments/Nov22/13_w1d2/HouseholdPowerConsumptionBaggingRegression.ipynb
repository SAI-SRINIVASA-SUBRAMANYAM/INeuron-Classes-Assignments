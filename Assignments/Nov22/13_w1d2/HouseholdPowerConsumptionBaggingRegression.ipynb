{
  "nbformat": 4,
  "nbformat_minor": 0,
  "metadata": {
    "colab": {
      "provenance": [],
      "toc_visible": true
    },
    "kernelspec": {
      "name": "python3",
      "display_name": "Python 3"
    },
    "language_info": {
      "name": "python"
    }
  },
  "cells": [
    {
      "cell_type": "markdown",
      "source": [
        "# Gathering data"
      ],
      "metadata": {
        "id": "qWG0FJtm_Q9D"
      }
    },
    {
      "cell_type": "code",
      "execution_count": null,
      "metadata": {
        "id": "kMxGqChM_Cq9"
      },
      "outputs": [],
      "source": [
        "import zipfile\n",
        "from io import BytesIO\n",
        "from urllib.request import urlopen\n",
        "import glob\n",
        "import os"
      ]
    },
    {
      "cell_type": "code",
      "source": [
        "def reading_file_data_from_zip_url(URL, FILENAME):\n",
        "  data = BytesIO()\n",
        "  with urlopen(URL) as zip_file_ref:\n",
        "    with zipfile.ZipFile(BytesIO(zip_file_ref.read()), 'r') as zip_ref:\n",
        "      data = zip_ref.read(FILENAME)\n",
        "  return data"
      ],
      "metadata": {
        "id": "4xeAJYqR_VN4"
      },
      "execution_count": null,
      "outputs": []
    },
    {
      "cell_type": "code",
      "source": [
        "ZIP_FILE_PATH = \"https://archive.ics.uci.edu/ml/machine-learning-databases/00235/household_power_consumption.zip\"\n",
        "RAW_FILENAME = \"household_power_consumption.txt\"\n",
        "rawdata = reading_file_data_from_zip_url(ZIP_FILE_PATH, RAW_FILENAME)\n",
        "\n",
        "FILENAME = 'temp.csv'\n",
        "with open(FILENAME, 'w') as fptr:\n",
        "  fptr.writelines(rawdata.decode())"
      ],
      "metadata": {
        "id": "sFPDfWfE_exU"
      },
      "execution_count": null,
      "outputs": []
    },
    {
      "cell_type": "markdown",
      "source": [
        "# Data Ingestion"
      ],
      "metadata": {
        "id": "fiZculf1_uud"
      }
    },
    {
      "cell_type": "code",
      "source": [
        "import pandas as pd\n",
        "import numpy as np"
      ],
      "metadata": {
        "id": "4cPhqT_d_p4g"
      },
      "execution_count": null,
      "outputs": []
    },
    {
      "cell_type": "code",
      "source": [
        "df = pd.read_csv(FILENAME, sep=';', na_values='?')"
      ],
      "metadata": {
        "id": "91kUo52U_yC4"
      },
      "execution_count": null,
      "outputs": []
    },
    {
      "cell_type": "code",
      "source": [
        "# DATA CLEANUP\n",
        "\n",
        "os.remove(FILENAME)"
      ],
      "metadata": {
        "id": "dY3uzS3SB9NU"
      },
      "execution_count": null,
      "outputs": []
    },
    {
      "cell_type": "code",
      "source": [
        "df.shape"
      ],
      "metadata": {
        "colab": {
          "base_uri": "https://localhost:8080/"
        },
        "id": "H5-Purl_GXNH",
        "outputId": "e95116fa-d05b-44da-bbe9-412d5d902bcb"
      },
      "execution_count": null,
      "outputs": [
        {
          "output_type": "execute_result",
          "data": {
            "text/plain": [
              "(2075259, 9)"
            ]
          },
          "metadata": {},
          "execution_count": 7
        }
      ]
    },
    {
      "cell_type": "code",
      "source": [
        "df = df.sample(frac=0.05)"
      ],
      "metadata": {
        "id": "wSd4IPHsCBLM"
      },
      "execution_count": null,
      "outputs": []
    },
    {
      "cell_type": "markdown",
      "source": [
        "# EDA"
      ],
      "metadata": {
        "id": "k3hyxrx6CCN_"
      }
    },
    {
      "cell_type": "code",
      "source": [
        "df.info()"
      ],
      "metadata": {
        "colab": {
          "base_uri": "https://localhost:8080/"
        },
        "id": "p9FL42mR_1Ws",
        "outputId": "d2de982d-b7ef-4bcf-9600-153c0624aacc"
      },
      "execution_count": null,
      "outputs": [
        {
          "output_type": "stream",
          "name": "stdout",
          "text": [
            "<class 'pandas.core.frame.DataFrame'>\n",
            "Int64Index: 103763 entries, 1454623 to 1978057\n",
            "Data columns (total 9 columns):\n",
            " #   Column                 Non-Null Count   Dtype  \n",
            "---  ------                 --------------   -----  \n",
            " 0   Date                   103763 non-null  object \n",
            " 1   Time                   103763 non-null  object \n",
            " 2   Global_active_power    102500 non-null  float64\n",
            " 3   Global_reactive_power  102500 non-null  float64\n",
            " 4   Voltage                102500 non-null  float64\n",
            " 5   Global_intensity       102500 non-null  float64\n",
            " 6   Sub_metering_1         102500 non-null  float64\n",
            " 7   Sub_metering_2         102500 non-null  float64\n",
            " 8   Sub_metering_3         102500 non-null  float64\n",
            "dtypes: float64(7), object(2)\n",
            "memory usage: 7.9+ MB\n"
          ]
        }
      ]
    },
    {
      "cell_type": "code",
      "source": [
        "df.isna().sum()"
      ],
      "metadata": {
        "colab": {
          "base_uri": "https://localhost:8080/"
        },
        "id": "LgdBivpbATfU",
        "outputId": "db5fd087-9d99-4733-f650-f226454da746"
      },
      "execution_count": null,
      "outputs": [
        {
          "output_type": "execute_result",
          "data": {
            "text/plain": [
              "Date                        0\n",
              "Time                        0\n",
              "Global_active_power      1263\n",
              "Global_reactive_power    1263\n",
              "Voltage                  1263\n",
              "Global_intensity         1263\n",
              "Sub_metering_1           1263\n",
              "Sub_metering_2           1263\n",
              "Sub_metering_3           1263\n",
              "dtype: int64"
            ]
          },
          "metadata": {},
          "execution_count": 10
        }
      ]
    },
    {
      "cell_type": "code",
      "source": [
        "df.dropna(inplace=True)"
      ],
      "metadata": {
        "id": "8KNdKyfyKP5G"
      },
      "execution_count": null,
      "outputs": []
    },
    {
      "cell_type": "code",
      "source": [
        "df.shape"
      ],
      "metadata": {
        "colab": {
          "base_uri": "https://localhost:8080/"
        },
        "id": "WTxPonAQAg5p",
        "outputId": "eb9bdaac-b722-48d3-8236-e401a76ab8c1"
      },
      "execution_count": null,
      "outputs": [
        {
          "output_type": "execute_result",
          "data": {
            "text/plain": [
              "(102500, 9)"
            ]
          },
          "metadata": {},
          "execution_count": 13
        }
      ]
    },
    {
      "cell_type": "code",
      "source": [
        "df['Total_Sub_metering'] = df['Sub_metering_1'] + df['Sub_metering_2'] + df['Sub_metering_3']"
      ],
      "metadata": {
        "id": "lzW98hqdAjB6"
      },
      "execution_count": null,
      "outputs": []
    },
    {
      "cell_type": "code",
      "source": [
        "df.describe()"
      ],
      "metadata": {
        "colab": {
          "base_uri": "https://localhost:8080/",
          "height": 364
        },
        "id": "6yLyyMhFCclx",
        "outputId": "18fd5e24-af98-4439-ffc2-f57fed4c6659"
      },
      "execution_count": null,
      "outputs": [
        {
          "output_type": "execute_result",
          "data": {
            "text/plain": [
              "       Global_active_power  Global_reactive_power        Voltage  \\\n",
              "count        102500.000000          102500.000000  102500.000000   \n",
              "mean              1.085921               0.123673     240.843245   \n",
              "std               1.050701               0.112544       3.246500   \n",
              "min               0.078000               0.000000     224.240000   \n",
              "25%               0.308000               0.048000     238.990000   \n",
              "50%               0.596000               0.100000     241.010000   \n",
              "75%               1.526000               0.194000     242.890000   \n",
              "max               9.482000               1.130000     254.150000   \n",
              "\n",
              "       Global_intensity  Sub_metering_1  Sub_metering_2  Sub_metering_3  \\\n",
              "count     102500.000000   102500.000000   102500.000000   102500.000000   \n",
              "mean           4.604425        1.091766        1.274302        6.422498   \n",
              "std            4.416879        6.086809        5.719327        8.419594   \n",
              "min            0.200000        0.000000        0.000000        0.000000   \n",
              "25%            1.400000        0.000000        0.000000        0.000000   \n",
              "50%            2.600000        0.000000        0.000000        1.000000   \n",
              "75%            6.400000        0.000000        1.000000       17.000000   \n",
              "max           41.200000       84.000000       76.000000       31.000000   \n",
              "\n",
              "       Total_Sub_metering  \n",
              "count       102500.000000  \n",
              "mean             8.788566  \n",
              "std             12.784714  \n",
              "min              0.000000  \n",
              "25%              0.000000  \n",
              "50%              1.000000  \n",
              "75%             18.000000  \n",
              "max            127.000000  "
            ],
            "text/html": [
              "\n",
              "  <div id=\"df-64744534-2c0c-40f2-a044-8689989392dd\">\n",
              "    <div class=\"colab-df-container\">\n",
              "      <div>\n",
              "<style scoped>\n",
              "    .dataframe tbody tr th:only-of-type {\n",
              "        vertical-align: middle;\n",
              "    }\n",
              "\n",
              "    .dataframe tbody tr th {\n",
              "        vertical-align: top;\n",
              "    }\n",
              "\n",
              "    .dataframe thead th {\n",
              "        text-align: right;\n",
              "    }\n",
              "</style>\n",
              "<table border=\"1\" class=\"dataframe\">\n",
              "  <thead>\n",
              "    <tr style=\"text-align: right;\">\n",
              "      <th></th>\n",
              "      <th>Global_active_power</th>\n",
              "      <th>Global_reactive_power</th>\n",
              "      <th>Voltage</th>\n",
              "      <th>Global_intensity</th>\n",
              "      <th>Sub_metering_1</th>\n",
              "      <th>Sub_metering_2</th>\n",
              "      <th>Sub_metering_3</th>\n",
              "      <th>Total_Sub_metering</th>\n",
              "    </tr>\n",
              "  </thead>\n",
              "  <tbody>\n",
              "    <tr>\n",
              "      <th>count</th>\n",
              "      <td>102500.000000</td>\n",
              "      <td>102500.000000</td>\n",
              "      <td>102500.000000</td>\n",
              "      <td>102500.000000</td>\n",
              "      <td>102500.000000</td>\n",
              "      <td>102500.000000</td>\n",
              "      <td>102500.000000</td>\n",
              "      <td>102500.000000</td>\n",
              "    </tr>\n",
              "    <tr>\n",
              "      <th>mean</th>\n",
              "      <td>1.085921</td>\n",
              "      <td>0.123673</td>\n",
              "      <td>240.843245</td>\n",
              "      <td>4.604425</td>\n",
              "      <td>1.091766</td>\n",
              "      <td>1.274302</td>\n",
              "      <td>6.422498</td>\n",
              "      <td>8.788566</td>\n",
              "    </tr>\n",
              "    <tr>\n",
              "      <th>std</th>\n",
              "      <td>1.050701</td>\n",
              "      <td>0.112544</td>\n",
              "      <td>3.246500</td>\n",
              "      <td>4.416879</td>\n",
              "      <td>6.086809</td>\n",
              "      <td>5.719327</td>\n",
              "      <td>8.419594</td>\n",
              "      <td>12.784714</td>\n",
              "    </tr>\n",
              "    <tr>\n",
              "      <th>min</th>\n",
              "      <td>0.078000</td>\n",
              "      <td>0.000000</td>\n",
              "      <td>224.240000</td>\n",
              "      <td>0.200000</td>\n",
              "      <td>0.000000</td>\n",
              "      <td>0.000000</td>\n",
              "      <td>0.000000</td>\n",
              "      <td>0.000000</td>\n",
              "    </tr>\n",
              "    <tr>\n",
              "      <th>25%</th>\n",
              "      <td>0.308000</td>\n",
              "      <td>0.048000</td>\n",
              "      <td>238.990000</td>\n",
              "      <td>1.400000</td>\n",
              "      <td>0.000000</td>\n",
              "      <td>0.000000</td>\n",
              "      <td>0.000000</td>\n",
              "      <td>0.000000</td>\n",
              "    </tr>\n",
              "    <tr>\n",
              "      <th>50%</th>\n",
              "      <td>0.596000</td>\n",
              "      <td>0.100000</td>\n",
              "      <td>241.010000</td>\n",
              "      <td>2.600000</td>\n",
              "      <td>0.000000</td>\n",
              "      <td>0.000000</td>\n",
              "      <td>1.000000</td>\n",
              "      <td>1.000000</td>\n",
              "    </tr>\n",
              "    <tr>\n",
              "      <th>75%</th>\n",
              "      <td>1.526000</td>\n",
              "      <td>0.194000</td>\n",
              "      <td>242.890000</td>\n",
              "      <td>6.400000</td>\n",
              "      <td>0.000000</td>\n",
              "      <td>1.000000</td>\n",
              "      <td>17.000000</td>\n",
              "      <td>18.000000</td>\n",
              "    </tr>\n",
              "    <tr>\n",
              "      <th>max</th>\n",
              "      <td>9.482000</td>\n",
              "      <td>1.130000</td>\n",
              "      <td>254.150000</td>\n",
              "      <td>41.200000</td>\n",
              "      <td>84.000000</td>\n",
              "      <td>76.000000</td>\n",
              "      <td>31.000000</td>\n",
              "      <td>127.000000</td>\n",
              "    </tr>\n",
              "  </tbody>\n",
              "</table>\n",
              "</div>\n",
              "      <button class=\"colab-df-convert\" onclick=\"convertToInteractive('df-64744534-2c0c-40f2-a044-8689989392dd')\"\n",
              "              title=\"Convert this dataframe to an interactive table.\"\n",
              "              style=\"display:none;\">\n",
              "        \n",
              "  <svg xmlns=\"http://www.w3.org/2000/svg\" height=\"24px\"viewBox=\"0 0 24 24\"\n",
              "       width=\"24px\">\n",
              "    <path d=\"M0 0h24v24H0V0z\" fill=\"none\"/>\n",
              "    <path d=\"M18.56 5.44l.94 2.06.94-2.06 2.06-.94-2.06-.94-.94-2.06-.94 2.06-2.06.94zm-11 1L8.5 8.5l.94-2.06 2.06-.94-2.06-.94L8.5 2.5l-.94 2.06-2.06.94zm10 10l.94 2.06.94-2.06 2.06-.94-2.06-.94-.94-2.06-.94 2.06-2.06.94z\"/><path d=\"M17.41 7.96l-1.37-1.37c-.4-.4-.92-.59-1.43-.59-.52 0-1.04.2-1.43.59L10.3 9.45l-7.72 7.72c-.78.78-.78 2.05 0 2.83L4 21.41c.39.39.9.59 1.41.59.51 0 1.02-.2 1.41-.59l7.78-7.78 2.81-2.81c.8-.78.8-2.07 0-2.86zM5.41 20L4 18.59l7.72-7.72 1.47 1.35L5.41 20z\"/>\n",
              "  </svg>\n",
              "      </button>\n",
              "      \n",
              "  <style>\n",
              "    .colab-df-container {\n",
              "      display:flex;\n",
              "      flex-wrap:wrap;\n",
              "      gap: 12px;\n",
              "    }\n",
              "\n",
              "    .colab-df-convert {\n",
              "      background-color: #E8F0FE;\n",
              "      border: none;\n",
              "      border-radius: 50%;\n",
              "      cursor: pointer;\n",
              "      display: none;\n",
              "      fill: #1967D2;\n",
              "      height: 32px;\n",
              "      padding: 0 0 0 0;\n",
              "      width: 32px;\n",
              "    }\n",
              "\n",
              "    .colab-df-convert:hover {\n",
              "      background-color: #E2EBFA;\n",
              "      box-shadow: 0px 1px 2px rgba(60, 64, 67, 0.3), 0px 1px 3px 1px rgba(60, 64, 67, 0.15);\n",
              "      fill: #174EA6;\n",
              "    }\n",
              "\n",
              "    [theme=dark] .colab-df-convert {\n",
              "      background-color: #3B4455;\n",
              "      fill: #D2E3FC;\n",
              "    }\n",
              "\n",
              "    [theme=dark] .colab-df-convert:hover {\n",
              "      background-color: #434B5C;\n",
              "      box-shadow: 0px 1px 3px 1px rgba(0, 0, 0, 0.15);\n",
              "      filter: drop-shadow(0px 1px 2px rgba(0, 0, 0, 0.3));\n",
              "      fill: #FFFFFF;\n",
              "    }\n",
              "  </style>\n",
              "\n",
              "      <script>\n",
              "        const buttonEl =\n",
              "          document.querySelector('#df-64744534-2c0c-40f2-a044-8689989392dd button.colab-df-convert');\n",
              "        buttonEl.style.display =\n",
              "          google.colab.kernel.accessAllowed ? 'block' : 'none';\n",
              "\n",
              "        async function convertToInteractive(key) {\n",
              "          const element = document.querySelector('#df-64744534-2c0c-40f2-a044-8689989392dd');\n",
              "          const dataTable =\n",
              "            await google.colab.kernel.invokeFunction('convertToInteractive',\n",
              "                                                     [key], {});\n",
              "          if (!dataTable) return;\n",
              "\n",
              "          const docLinkHtml = 'Like what you see? Visit the ' +\n",
              "            '<a target=\"_blank\" href=https://colab.research.google.com/notebooks/data_table.ipynb>data table notebook</a>'\n",
              "            + ' to learn more about interactive tables.';\n",
              "          element.innerHTML = '';\n",
              "          dataTable['output_type'] = 'display_data';\n",
              "          await google.colab.output.renderOutput(dataTable, element);\n",
              "          const docLink = document.createElement('div');\n",
              "          docLink.innerHTML = docLinkHtml;\n",
              "          element.appendChild(docLink);\n",
              "        }\n",
              "      </script>\n",
              "    </div>\n",
              "  </div>\n",
              "  "
            ]
          },
          "metadata": {},
          "execution_count": 15
        }
      ]
    },
    {
      "cell_type": "code",
      "source": [
        "df.corr()"
      ],
      "metadata": {
        "colab": {
          "base_uri": "https://localhost:8080/",
          "height": 364
        },
        "id": "GipazFAnKdME",
        "outputId": "28150e90-2114-4691-a535-550ef0a58719"
      },
      "execution_count": null,
      "outputs": [
        {
          "output_type": "execute_result",
          "data": {
            "text/plain": [
              "                       Global_active_power  Global_reactive_power   Voltage  \\\n",
              "Global_active_power               1.000000               0.249362 -0.398465   \n",
              "Global_reactive_power             0.249362               1.000000 -0.113019   \n",
              "Voltage                          -0.398465              -0.113019  1.000000   \n",
              "Global_intensity                  0.998870               0.268565 -0.410149   \n",
              "Sub_metering_1                    0.483174               0.130598 -0.195222   \n",
              "Sub_metering_2                    0.433916               0.139466 -0.163648   \n",
              "Sub_metering_3                    0.641040               0.087428 -0.270423   \n",
              "Total_Sub_metering                0.846323               0.182146 -0.344246   \n",
              "\n",
              "                       Global_intensity  Sub_metering_1  Sub_metering_2  \\\n",
              "Global_active_power            0.998870        0.483174        0.433916   \n",
              "Global_reactive_power          0.268565        0.130598        0.139466   \n",
              "Voltage                       -0.410149       -0.195222       -0.163648   \n",
              "Global_intensity               1.000000        0.488328        0.439572   \n",
              "Sub_metering_1                 0.488328        1.000000        0.057042   \n",
              "Sub_metering_2                 0.439572        0.057042        1.000000   \n",
              "Sub_metering_3                 0.628857        0.105098        0.083644   \n",
              "Total_Sub_metering             0.843283        0.570833        0.529600   \n",
              "\n",
              "                       Sub_metering_3  Total_Sub_metering  \n",
              "Global_active_power          0.641040            0.846323  \n",
              "Global_reactive_power        0.087428            0.182146  \n",
              "Voltage                     -0.270423           -0.344246  \n",
              "Global_intensity             0.628857            0.843283  \n",
              "Sub_metering_1               0.105098            0.570833  \n",
              "Sub_metering_2               0.083644            0.529600  \n",
              "Sub_metering_3               1.000000            0.746023  \n",
              "Total_Sub_metering           0.746023            1.000000  "
            ],
            "text/html": [
              "\n",
              "  <div id=\"df-1a93b729-e7fe-4062-9c74-56d457ec73b3\">\n",
              "    <div class=\"colab-df-container\">\n",
              "      <div>\n",
              "<style scoped>\n",
              "    .dataframe tbody tr th:only-of-type {\n",
              "        vertical-align: middle;\n",
              "    }\n",
              "\n",
              "    .dataframe tbody tr th {\n",
              "        vertical-align: top;\n",
              "    }\n",
              "\n",
              "    .dataframe thead th {\n",
              "        text-align: right;\n",
              "    }\n",
              "</style>\n",
              "<table border=\"1\" class=\"dataframe\">\n",
              "  <thead>\n",
              "    <tr style=\"text-align: right;\">\n",
              "      <th></th>\n",
              "      <th>Global_active_power</th>\n",
              "      <th>Global_reactive_power</th>\n",
              "      <th>Voltage</th>\n",
              "      <th>Global_intensity</th>\n",
              "      <th>Sub_metering_1</th>\n",
              "      <th>Sub_metering_2</th>\n",
              "      <th>Sub_metering_3</th>\n",
              "      <th>Total_Sub_metering</th>\n",
              "    </tr>\n",
              "  </thead>\n",
              "  <tbody>\n",
              "    <tr>\n",
              "      <th>Global_active_power</th>\n",
              "      <td>1.000000</td>\n",
              "      <td>0.249362</td>\n",
              "      <td>-0.398465</td>\n",
              "      <td>0.998870</td>\n",
              "      <td>0.483174</td>\n",
              "      <td>0.433916</td>\n",
              "      <td>0.641040</td>\n",
              "      <td>0.846323</td>\n",
              "    </tr>\n",
              "    <tr>\n",
              "      <th>Global_reactive_power</th>\n",
              "      <td>0.249362</td>\n",
              "      <td>1.000000</td>\n",
              "      <td>-0.113019</td>\n",
              "      <td>0.268565</td>\n",
              "      <td>0.130598</td>\n",
              "      <td>0.139466</td>\n",
              "      <td>0.087428</td>\n",
              "      <td>0.182146</td>\n",
              "    </tr>\n",
              "    <tr>\n",
              "      <th>Voltage</th>\n",
              "      <td>-0.398465</td>\n",
              "      <td>-0.113019</td>\n",
              "      <td>1.000000</td>\n",
              "      <td>-0.410149</td>\n",
              "      <td>-0.195222</td>\n",
              "      <td>-0.163648</td>\n",
              "      <td>-0.270423</td>\n",
              "      <td>-0.344246</td>\n",
              "    </tr>\n",
              "    <tr>\n",
              "      <th>Global_intensity</th>\n",
              "      <td>0.998870</td>\n",
              "      <td>0.268565</td>\n",
              "      <td>-0.410149</td>\n",
              "      <td>1.000000</td>\n",
              "      <td>0.488328</td>\n",
              "      <td>0.439572</td>\n",
              "      <td>0.628857</td>\n",
              "      <td>0.843283</td>\n",
              "    </tr>\n",
              "    <tr>\n",
              "      <th>Sub_metering_1</th>\n",
              "      <td>0.483174</td>\n",
              "      <td>0.130598</td>\n",
              "      <td>-0.195222</td>\n",
              "      <td>0.488328</td>\n",
              "      <td>1.000000</td>\n",
              "      <td>0.057042</td>\n",
              "      <td>0.105098</td>\n",
              "      <td>0.570833</td>\n",
              "    </tr>\n",
              "    <tr>\n",
              "      <th>Sub_metering_2</th>\n",
              "      <td>0.433916</td>\n",
              "      <td>0.139466</td>\n",
              "      <td>-0.163648</td>\n",
              "      <td>0.439572</td>\n",
              "      <td>0.057042</td>\n",
              "      <td>1.000000</td>\n",
              "      <td>0.083644</td>\n",
              "      <td>0.529600</td>\n",
              "    </tr>\n",
              "    <tr>\n",
              "      <th>Sub_metering_3</th>\n",
              "      <td>0.641040</td>\n",
              "      <td>0.087428</td>\n",
              "      <td>-0.270423</td>\n",
              "      <td>0.628857</td>\n",
              "      <td>0.105098</td>\n",
              "      <td>0.083644</td>\n",
              "      <td>1.000000</td>\n",
              "      <td>0.746023</td>\n",
              "    </tr>\n",
              "    <tr>\n",
              "      <th>Total_Sub_metering</th>\n",
              "      <td>0.846323</td>\n",
              "      <td>0.182146</td>\n",
              "      <td>-0.344246</td>\n",
              "      <td>0.843283</td>\n",
              "      <td>0.570833</td>\n",
              "      <td>0.529600</td>\n",
              "      <td>0.746023</td>\n",
              "      <td>1.000000</td>\n",
              "    </tr>\n",
              "  </tbody>\n",
              "</table>\n",
              "</div>\n",
              "      <button class=\"colab-df-convert\" onclick=\"convertToInteractive('df-1a93b729-e7fe-4062-9c74-56d457ec73b3')\"\n",
              "              title=\"Convert this dataframe to an interactive table.\"\n",
              "              style=\"display:none;\">\n",
              "        \n",
              "  <svg xmlns=\"http://www.w3.org/2000/svg\" height=\"24px\"viewBox=\"0 0 24 24\"\n",
              "       width=\"24px\">\n",
              "    <path d=\"M0 0h24v24H0V0z\" fill=\"none\"/>\n",
              "    <path d=\"M18.56 5.44l.94 2.06.94-2.06 2.06-.94-2.06-.94-.94-2.06-.94 2.06-2.06.94zm-11 1L8.5 8.5l.94-2.06 2.06-.94-2.06-.94L8.5 2.5l-.94 2.06-2.06.94zm10 10l.94 2.06.94-2.06 2.06-.94-2.06-.94-.94-2.06-.94 2.06-2.06.94z\"/><path d=\"M17.41 7.96l-1.37-1.37c-.4-.4-.92-.59-1.43-.59-.52 0-1.04.2-1.43.59L10.3 9.45l-7.72 7.72c-.78.78-.78 2.05 0 2.83L4 21.41c.39.39.9.59 1.41.59.51 0 1.02-.2 1.41-.59l7.78-7.78 2.81-2.81c.8-.78.8-2.07 0-2.86zM5.41 20L4 18.59l7.72-7.72 1.47 1.35L5.41 20z\"/>\n",
              "  </svg>\n",
              "      </button>\n",
              "      \n",
              "  <style>\n",
              "    .colab-df-container {\n",
              "      display:flex;\n",
              "      flex-wrap:wrap;\n",
              "      gap: 12px;\n",
              "    }\n",
              "\n",
              "    .colab-df-convert {\n",
              "      background-color: #E8F0FE;\n",
              "      border: none;\n",
              "      border-radius: 50%;\n",
              "      cursor: pointer;\n",
              "      display: none;\n",
              "      fill: #1967D2;\n",
              "      height: 32px;\n",
              "      padding: 0 0 0 0;\n",
              "      width: 32px;\n",
              "    }\n",
              "\n",
              "    .colab-df-convert:hover {\n",
              "      background-color: #E2EBFA;\n",
              "      box-shadow: 0px 1px 2px rgba(60, 64, 67, 0.3), 0px 1px 3px 1px rgba(60, 64, 67, 0.15);\n",
              "      fill: #174EA6;\n",
              "    }\n",
              "\n",
              "    [theme=dark] .colab-df-convert {\n",
              "      background-color: #3B4455;\n",
              "      fill: #D2E3FC;\n",
              "    }\n",
              "\n",
              "    [theme=dark] .colab-df-convert:hover {\n",
              "      background-color: #434B5C;\n",
              "      box-shadow: 0px 1px 3px 1px rgba(0, 0, 0, 0.15);\n",
              "      filter: drop-shadow(0px 1px 2px rgba(0, 0, 0, 0.3));\n",
              "      fill: #FFFFFF;\n",
              "    }\n",
              "  </style>\n",
              "\n",
              "      <script>\n",
              "        const buttonEl =\n",
              "          document.querySelector('#df-1a93b729-e7fe-4062-9c74-56d457ec73b3 button.colab-df-convert');\n",
              "        buttonEl.style.display =\n",
              "          google.colab.kernel.accessAllowed ? 'block' : 'none';\n",
              "\n",
              "        async function convertToInteractive(key) {\n",
              "          const element = document.querySelector('#df-1a93b729-e7fe-4062-9c74-56d457ec73b3');\n",
              "          const dataTable =\n",
              "            await google.colab.kernel.invokeFunction('convertToInteractive',\n",
              "                                                     [key], {});\n",
              "          if (!dataTable) return;\n",
              "\n",
              "          const docLinkHtml = 'Like what you see? Visit the ' +\n",
              "            '<a target=\"_blank\" href=https://colab.research.google.com/notebooks/data_table.ipynb>data table notebook</a>'\n",
              "            + ' to learn more about interactive tables.';\n",
              "          element.innerHTML = '';\n",
              "          dataTable['output_type'] = 'display_data';\n",
              "          await google.colab.output.renderOutput(dataTable, element);\n",
              "          const docLink = document.createElement('div');\n",
              "          docLink.innerHTML = docLinkHtml;\n",
              "          element.appendChild(docLink);\n",
              "        }\n",
              "      </script>\n",
              "    </div>\n",
              "  </div>\n",
              "  "
            ]
          },
          "metadata": {},
          "execution_count": 16
        }
      ]
    },
    {
      "cell_type": "code",
      "source": [
        "df['Date'] = pd.to_datetime(df['Date'])"
      ],
      "metadata": {
        "id": "nEyVaQUQK0KM"
      },
      "execution_count": null,
      "outputs": []
    },
    {
      "cell_type": "code",
      "source": [
        "df['Month'] = df['Date'].dt.month"
      ],
      "metadata": {
        "id": "2ir0quYjKlqC"
      },
      "execution_count": null,
      "outputs": []
    },
    {
      "cell_type": "code",
      "source": [
        "df['Year'] = df['Date'].dt.year"
      ],
      "metadata": {
        "id": "DfG67hAzMCBH"
      },
      "execution_count": null,
      "outputs": []
    },
    {
      "cell_type": "code",
      "source": [
        "df.info()"
      ],
      "metadata": {
        "colab": {
          "base_uri": "https://localhost:8080/"
        },
        "id": "dpZzXX1FMT-F",
        "outputId": "f19201c4-a37b-4df3-c2fc-c284047ae8e6"
      },
      "execution_count": null,
      "outputs": [
        {
          "output_type": "stream",
          "name": "stdout",
          "text": [
            "<class 'pandas.core.frame.DataFrame'>\n",
            "Int64Index: 102500 entries, 1454623 to 1978057\n",
            "Data columns (total 12 columns):\n",
            " #   Column                 Non-Null Count   Dtype         \n",
            "---  ------                 --------------   -----         \n",
            " 0   Date                   102500 non-null  datetime64[ns]\n",
            " 1   Time                   102500 non-null  object        \n",
            " 2   Global_active_power    102500 non-null  float64       \n",
            " 3   Global_reactive_power  102500 non-null  float64       \n",
            " 4   Voltage                102500 non-null  float64       \n",
            " 5   Global_intensity       102500 non-null  float64       \n",
            " 6   Sub_metering_1         102500 non-null  float64       \n",
            " 7   Sub_metering_2         102500 non-null  float64       \n",
            " 8   Sub_metering_3         102500 non-null  float64       \n",
            " 9   Total_Sub_metering     102500 non-null  float64       \n",
            " 10  Year                   102500 non-null  int64         \n",
            " 11  Month                  102500 non-null  int64         \n",
            "dtypes: datetime64[ns](1), float64(8), int64(2), object(1)\n",
            "memory usage: 10.2+ MB\n"
          ]
        }
      ]
    },
    {
      "cell_type": "code",
      "source": [
        "df.isna().sum()"
      ],
      "metadata": {
        "colab": {
          "base_uri": "https://localhost:8080/"
        },
        "id": "HHQXSxKdMWjh",
        "outputId": "501be35a-968b-45c5-ff4e-e7439832d8b0"
      },
      "execution_count": null,
      "outputs": [
        {
          "output_type": "execute_result",
          "data": {
            "text/plain": [
              "Date                     0\n",
              "Time                     0\n",
              "Global_active_power      0\n",
              "Global_reactive_power    0\n",
              "Voltage                  0\n",
              "Global_intensity         0\n",
              "Sub_metering_1           0\n",
              "Sub_metering_2           0\n",
              "Sub_metering_3           0\n",
              "Total_Sub_metering       0\n",
              "Year                     0\n",
              "Month                    0\n",
              "dtype: int64"
            ]
          },
          "metadata": {},
          "execution_count": 29
        }
      ]
    },
    {
      "cell_type": "code",
      "source": [
        "df.duplicated().sum()"
      ],
      "metadata": {
        "colab": {
          "base_uri": "https://localhost:8080/"
        },
        "id": "4saZz2SIMefS",
        "outputId": "038f30bf-9f98-4fa8-bace-df3490f0b009"
      },
      "execution_count": null,
      "outputs": [
        {
          "output_type": "execute_result",
          "data": {
            "text/plain": [
              "0"
            ]
          },
          "metadata": {},
          "execution_count": 31
        }
      ]
    },
    {
      "cell_type": "markdown",
      "source": [
        "# Feature engineering"
      ],
      "metadata": {
        "id": "FfqcWDajMxAC"
      }
    },
    {
      "cell_type": "code",
      "source": [
        "from sklearn.model_selection import train_test_split"
      ],
      "metadata": {
        "id": "Tng47ZeCOfU5"
      },
      "execution_count": null,
      "outputs": []
    },
    {
      "cell_type": "code",
      "source": [
        "df_train_test = df.sample(frac=0.2)"
      ],
      "metadata": {
        "id": "QPvLLcZhMlvj"
      },
      "execution_count": null,
      "outputs": []
    },
    {
      "cell_type": "code",
      "source": [
        "df_train_test.columns"
      ],
      "metadata": {
        "colab": {
          "base_uri": "https://localhost:8080/"
        },
        "id": "vnKwEWs6Nnlq",
        "outputId": "72cd8c62-428f-4198-b5f0-37432fca9c1b"
      },
      "execution_count": null,
      "outputs": [
        {
          "output_type": "execute_result",
          "data": {
            "text/plain": [
              "Index(['Date', 'Time', 'Global_active_power', 'Global_reactive_power',\n",
              "       'Voltage', 'Global_intensity', 'Sub_metering_1', 'Sub_metering_2',\n",
              "       'Sub_metering_3', 'Total_Sub_metering', 'Year', 'Month'],\n",
              "      dtype='object')"
            ]
          },
          "metadata": {},
          "execution_count": 34
        }
      ]
    },
    {
      "cell_type": "code",
      "source": [
        "independent_feature = ['Year', 'Month', 'Global_active_power', 'Global_reactive_power', 'Voltage', 'Global_intensity']\n",
        "dependent_feature = ['Total_Sub_metering']"
      ],
      "metadata": {
        "id": "KGEOsq8GNslc"
      },
      "execution_count": null,
      "outputs": []
    },
    {
      "cell_type": "code",
      "source": [
        "X = df_train_test.loc[:, independent_feature]"
      ],
      "metadata": {
        "id": "cYVQKWKHM7jB"
      },
      "execution_count": null,
      "outputs": []
    },
    {
      "cell_type": "code",
      "source": [
        "y = df_train_test.loc[:, dependent_feature]"
      ],
      "metadata": {
        "id": "GL0P6v13OG-l"
      },
      "execution_count": null,
      "outputs": []
    },
    {
      "cell_type": "code",
      "source": [
        "X_train, X_test, y_train, y_test = train_test_split(X, y, random_state=0, test_size=0.2)"
      ],
      "metadata": {
        "id": "MvYgNLAhOXDa"
      },
      "execution_count": null,
      "outputs": []
    },
    {
      "cell_type": "code",
      "source": [
        "print(\"X:\", X_train.shape, X_test.shape)\n",
        "print(\"y:\", y_train.shape, y_test.shape)"
      ],
      "metadata": {
        "colab": {
          "base_uri": "https://localhost:8080/"
        },
        "id": "6cGVo2ZFO0M4",
        "outputId": "25d5600b-c153-4661-8c43-1106e13cc7ba"
      },
      "execution_count": null,
      "outputs": [
        {
          "output_type": "stream",
          "name": "stdout",
          "text": [
            "X: (16400, 6) (4100, 6)\n",
            "y: (16400, 1) (4100, 1)\n"
          ]
        }
      ]
    },
    {
      "cell_type": "markdown",
      "source": [
        "# Bagging Regression"
      ],
      "metadata": {
        "id": "2wvv9xgCPMmT"
      }
    },
    {
      "cell_type": "code",
      "source": [
        "from sklearn.svm import SVR\n",
        "from sklearn.ensemble import BaggingRegressor"
      ],
      "metadata": {
        "id": "zUzHStKSO3hH"
      },
      "execution_count": null,
      "outputs": []
    },
    {
      "cell_type": "code",
      "source": [
        "b_g = BaggingRegressor(base_estimator=SVR(),n_estimators=10, random_state=0)"
      ],
      "metadata": {
        "id": "3eg8T72WPW9H"
      },
      "execution_count": null,
      "outputs": []
    },
    {
      "cell_type": "code",
      "source": [
        "b_g.fit(X_train, y_train)"
      ],
      "metadata": {
        "colab": {
          "base_uri": "https://localhost:8080/"
        },
        "id": "068_p6yPPrnJ",
        "outputId": "19717a68-09f5-4af9-aacc-3960590f8c52"
      },
      "execution_count": null,
      "outputs": [
        {
          "output_type": "stream",
          "name": "stderr",
          "text": [
            "/usr/local/lib/python3.7/dist-packages/sklearn/ensemble/_bagging.py:429: DataConversionWarning: A column-vector y was passed when a 1d array was expected. Please change the shape of y to (n_samples, ), for example using ravel().\n",
            "  return column_or_1d(y, warn=True)\n"
          ]
        },
        {
          "output_type": "execute_result",
          "data": {
            "text/plain": [
              "BaggingRegressor(base_estimator=SVR(), random_state=0)"
            ]
          },
          "metadata": {},
          "execution_count": 51
        }
      ]
    },
    {
      "cell_type": "code",
      "source": [
        "b_g.score(X_test, y_test)"
      ],
      "metadata": {
        "colab": {
          "base_uri": "https://localhost:8080/"
        },
        "id": "rWPvAN39QGuS",
        "outputId": "a8c46671-57df-4280-a8a2-6af8c8695639"
      },
      "execution_count": null,
      "outputs": [
        {
          "output_type": "execute_result",
          "data": {
            "text/plain": [
              "-0.34368867942758996"
            ]
          },
          "metadata": {},
          "execution_count": 53
        }
      ]
    },
    {
      "cell_type": "code",
      "source": [
        "y_predict_b_g = b_g.predict(X_test)"
      ],
      "metadata": {
        "id": "wsUH-sgVQ_Fw"
      },
      "execution_count": null,
      "outputs": []
    },
    {
      "cell_type": "code",
      "source": [
        "from sklearn.metrics import mean_squared_error, mean_absolute_error"
      ],
      "metadata": {
        "id": "F5Df5zEvRXsn"
      },
      "execution_count": null,
      "outputs": []
    },
    {
      "cell_type": "code",
      "source": [
        "print(\"MSE: %.2f\" % mean_squared_error(y_test, y_predict_b_g))\n",
        "print(\"MAE: %.2f\" % mean_absolute_error(y_test, y_predict_b_g))"
      ],
      "metadata": {
        "colab": {
          "base_uri": "https://localhost:8080/"
        },
        "id": "2gpyB9WORlj-",
        "outputId": "bc2df985-9efc-4eed-fc83-927d0b9afc23"
      },
      "execution_count": null,
      "outputs": [
        {
          "output_type": "stream",
          "name": "stdout",
          "text": [
            "MSE: 232.42\n",
            "MAE: 8.60\n"
          ]
        }
      ]
    },
    {
      "cell_type": "markdown",
      "source": [
        "# Extra Trees Regression"
      ],
      "metadata": {
        "id": "B_DV558uSAwZ"
      }
    },
    {
      "cell_type": "code",
      "source": [
        "from sklearn.ensemble import ExtraTreesRegressor"
      ],
      "metadata": {
        "id": "Qm6osCbIRurg"
      },
      "execution_count": null,
      "outputs": []
    },
    {
      "cell_type": "code",
      "source": [
        "e_t_r = ExtraTreesRegressor(n_estimators=10, random_state=0)"
      ],
      "metadata": {
        "id": "AetfBg_bSKp9"
      },
      "execution_count": null,
      "outputs": []
    },
    {
      "cell_type": "code",
      "source": [
        "e_t_r.fit(X_train, y_train)"
      ],
      "metadata": {
        "colab": {
          "base_uri": "https://localhost:8080/"
        },
        "id": "PTAw7O1DSezd",
        "outputId": "39ef528b-5662-42c5-f539-3f8e03bc9bfb"
      },
      "execution_count": null,
      "outputs": [
        {
          "output_type": "stream",
          "name": "stderr",
          "text": [
            "/usr/local/lib/python3.7/dist-packages/ipykernel_launcher.py:1: DataConversionWarning: A column-vector y was passed when a 1d array was expected. Please change the shape of y to (n_samples,), for example using ravel().\n",
            "  \"\"\"Entry point for launching an IPython kernel.\n"
          ]
        },
        {
          "output_type": "execute_result",
          "data": {
            "text/plain": [
              "ExtraTreesRegressor(n_estimators=10, random_state=0)"
            ]
          },
          "metadata": {},
          "execution_count": 60
        }
      ]
    },
    {
      "cell_type": "code",
      "source": [
        "e_t_r.score(X_test, y_test)"
      ],
      "metadata": {
        "colab": {
          "base_uri": "https://localhost:8080/"
        },
        "id": "MvOzc-1NSt8_",
        "outputId": "ccb9df51-c7ca-4a27-fea6-1d900f248f8c"
      },
      "execution_count": null,
      "outputs": [
        {
          "output_type": "execute_result",
          "data": {
            "text/plain": [
              "0.7660526543428826"
            ]
          },
          "metadata": {},
          "execution_count": 61
        }
      ]
    },
    {
      "cell_type": "code",
      "source": [
        "y_predict_e_t_r = e_t_r.predict(X_test)"
      ],
      "metadata": {
        "id": "LSVwApHtSySU"
      },
      "execution_count": null,
      "outputs": []
    },
    {
      "cell_type": "code",
      "source": [
        "print(\"MSE: %.2f\" % mean_squared_error(y_test, y_predict_e_t_r))\n",
        "print(\"MAE: %.2f\" % mean_absolute_error(y_test, y_predict_e_t_r))"
      ],
      "metadata": {
        "colab": {
          "base_uri": "https://localhost:8080/"
        },
        "id": "QJxnehj9S43Q",
        "outputId": "1458b9a6-8498-4829-d7ab-bda46cfef1a5"
      },
      "execution_count": null,
      "outputs": [
        {
          "output_type": "stream",
          "name": "stdout",
          "text": [
            "MSE: 40.47\n",
            "MAE: 3.10\n"
          ]
        }
      ]
    },
    {
      "cell_type": "markdown",
      "source": [
        "# Random Forest Regression"
      ],
      "metadata": {
        "id": "lxU45uFOTEOu"
      }
    },
    {
      "cell_type": "code",
      "source": [
        "from sklearn.ensemble import RandomForestRegressor"
      ],
      "metadata": {
        "id": "QeqL-7v6S_aO"
      },
      "execution_count": null,
      "outputs": []
    },
    {
      "cell_type": "code",
      "source": [
        "r_f_r = RandomForestRegressor(n_estimators=10, random_state=0)"
      ],
      "metadata": {
        "id": "wSSPz7_3TT-Z"
      },
      "execution_count": null,
      "outputs": []
    },
    {
      "cell_type": "code",
      "source": [
        "r_f_r.fit(X_train, y_train)"
      ],
      "metadata": {
        "colab": {
          "base_uri": "https://localhost:8080/"
        },
        "id": "r01s_Fe_TZIl",
        "outputId": "79ca2876-ecb2-4944-fb1c-204b6d0fe0a0"
      },
      "execution_count": null,
      "outputs": [
        {
          "output_type": "stream",
          "name": "stderr",
          "text": [
            "/usr/local/lib/python3.7/dist-packages/ipykernel_launcher.py:1: DataConversionWarning: A column-vector y was passed when a 1d array was expected. Please change the shape of y to (n_samples,), for example using ravel().\n",
            "  \"\"\"Entry point for launching an IPython kernel.\n"
          ]
        },
        {
          "output_type": "execute_result",
          "data": {
            "text/plain": [
              "RandomForestRegressor(n_estimators=10, random_state=0)"
            ]
          },
          "metadata": {},
          "execution_count": 66
        }
      ]
    },
    {
      "cell_type": "code",
      "source": [
        "r_f_r.score(X_test, y_test)"
      ],
      "metadata": {
        "colab": {
          "base_uri": "https://localhost:8080/"
        },
        "id": "bYp09GQzTes4",
        "outputId": "b12a1ca2-e818-420c-8a30-d296d3494e8f"
      },
      "execution_count": null,
      "outputs": [
        {
          "output_type": "execute_result",
          "data": {
            "text/plain": [
              "0.7717904033524223"
            ]
          },
          "metadata": {},
          "execution_count": 68
        }
      ]
    },
    {
      "cell_type": "code",
      "source": [
        "y_predict_r_f_r = r_f_r.predict(X_test)"
      ],
      "metadata": {
        "id": "wp6tiqhzTj0b"
      },
      "execution_count": null,
      "outputs": []
    },
    {
      "cell_type": "code",
      "source": [
        "print(\"MSE: %.2f\" % mean_squared_error(y_test, y_predict_r_f_r))\n",
        "print(\"MAE: %.2f\" % mean_absolute_error(y_test, y_predict_r_f_r))"
      ],
      "metadata": {
        "colab": {
          "base_uri": "https://localhost:8080/"
        },
        "id": "ySXJaK4mTsPc",
        "outputId": "6730cef9-d6e5-49ca-e473-6b20126d1eff"
      },
      "execution_count": null,
      "outputs": [
        {
          "output_type": "stream",
          "name": "stdout",
          "text": [
            "MSE: 39.47\n",
            "MAE: 3.08\n"
          ]
        }
      ]
    },
    {
      "cell_type": "markdown",
      "source": [
        "# Stacking Regressor"
      ],
      "metadata": {
        "id": "scXgvZ28T09t"
      }
    },
    {
      "cell_type": "code",
      "source": [
        "from sklearn.ensemble import StackingRegressor\n",
        "from sklearn.linear_model import RidgeCV\n",
        "from sklearn.svm import LinearSVR"
      ],
      "metadata": {
        "id": "A1ITd67eTw8u"
      },
      "execution_count": null,
      "outputs": []
    },
    {
      "cell_type": "code",
      "source": [
        "estimators = [\n",
        "    ('lr', RidgeCV()),\n",
        "    ('svr', LinearSVR(random_state=42))\n",
        "]"
      ],
      "metadata": {
        "id": "ehPc3DP-UPTt"
      },
      "execution_count": null,
      "outputs": []
    },
    {
      "cell_type": "code",
      "source": [
        "s_r = StackingRegressor(\n",
        "    estimators=estimators, \n",
        "    final_estimator=RandomForestRegressor(n_estimators=10, random_state=42)\n",
        ")"
      ],
      "metadata": {
        "id": "pIjxq56PUBjO"
      },
      "execution_count": null,
      "outputs": []
    },
    {
      "cell_type": "code",
      "source": [
        "s_r.fit(X_train, y_train)"
      ],
      "metadata": {
        "colab": {
          "base_uri": "https://localhost:8080/"
        },
        "id": "3CXMhq97UHF3",
        "outputId": "8592e857-8377-4af1-d9b4-7ca1aa66c5d8"
      },
      "execution_count": null,
      "outputs": [
        {
          "output_type": "stream",
          "name": "stderr",
          "text": [
            "/usr/local/lib/python3.7/dist-packages/sklearn/ensemble/_stacking.py:758: DataConversionWarning: A column-vector y was passed when a 1d array was expected. Please change the shape of y to (n_samples, ), for example using ravel().\n",
            "  y = column_or_1d(y, warn=True)\n",
            "/usr/local/lib/python3.7/dist-packages/sklearn/svm/_base.py:1208: ConvergenceWarning: Liblinear failed to converge, increase the number of iterations.\n",
            "  ConvergenceWarning,\n",
            "/usr/local/lib/python3.7/dist-packages/sklearn/svm/_base.py:1208: ConvergenceWarning: Liblinear failed to converge, increase the number of iterations.\n",
            "  ConvergenceWarning,\n",
            "/usr/local/lib/python3.7/dist-packages/sklearn/svm/_base.py:1208: ConvergenceWarning: Liblinear failed to converge, increase the number of iterations.\n",
            "  ConvergenceWarning,\n",
            "/usr/local/lib/python3.7/dist-packages/sklearn/svm/_base.py:1208: ConvergenceWarning: Liblinear failed to converge, increase the number of iterations.\n",
            "  ConvergenceWarning,\n",
            "/usr/local/lib/python3.7/dist-packages/sklearn/svm/_base.py:1208: ConvergenceWarning: Liblinear failed to converge, increase the number of iterations.\n",
            "  ConvergenceWarning,\n",
            "/usr/local/lib/python3.7/dist-packages/sklearn/svm/_base.py:1208: ConvergenceWarning: Liblinear failed to converge, increase the number of iterations.\n",
            "  ConvergenceWarning,\n"
          ]
        },
        {
          "output_type": "execute_result",
          "data": {
            "text/plain": [
              "StackingRegressor(estimators=[('lr', RidgeCV(alphas=array([ 0.1,  1. , 10. ]))),\n",
              "                              ('svr', LinearSVR(random_state=42))],\n",
              "                  final_estimator=RandomForestRegressor(n_estimators=10,\n",
              "                                                        random_state=42))"
            ]
          },
          "metadata": {},
          "execution_count": 76
        }
      ]
    },
    {
      "cell_type": "code",
      "source": [
        "s_r.score(X_test, y_test)"
      ],
      "metadata": {
        "colab": {
          "base_uri": "https://localhost:8080/"
        },
        "id": "cTeSai34VJpO",
        "outputId": "32685750-6e15-4f8c-db1b-f1c8d8f68b2c"
      },
      "execution_count": null,
      "outputs": [
        {
          "output_type": "execute_result",
          "data": {
            "text/plain": [
              "0.6970710895803988"
            ]
          },
          "metadata": {},
          "execution_count": 77
        }
      ]
    },
    {
      "cell_type": "code",
      "source": [
        "y_predict_s_r = s_r.predict(X_test)"
      ],
      "metadata": {
        "id": "vLCxVM8MVQQb"
      },
      "execution_count": null,
      "outputs": []
    },
    {
      "cell_type": "code",
      "source": [
        "print(\"MSE: %.2f\" % mean_squared_error(y_test, y_predict_s_r))\n",
        "print(\"MAE: %.2f\" % mean_absolute_error(y_test, y_predict_s_r))"
      ],
      "metadata": {
        "colab": {
          "base_uri": "https://localhost:8080/"
        },
        "id": "JbRGDvlXVVpd",
        "outputId": "93f5551a-1261-4988-a95b-347e4eafdc78"
      },
      "execution_count": null,
      "outputs": [
        {
          "output_type": "stream",
          "name": "stdout",
          "text": [
            "MSE: 52.40\n",
            "MAE: 4.06\n"
          ]
        }
      ]
    },
    {
      "cell_type": "markdown",
      "source": [
        "# Voting Regression"
      ],
      "metadata": {
        "id": "rDgM5V_kVySB"
      }
    },
    {
      "cell_type": "code",
      "source": [
        "from sklearn.ensemble import VotingRegressor\n",
        "from sklearn.linear_model import ElasticNet"
      ],
      "metadata": {
        "id": "SQwbqHqvVob7"
      },
      "execution_count": null,
      "outputs": []
    },
    {
      "cell_type": "code",
      "source": [
        "v_estimators = [\n",
        "    ('er', ElasticNet()),\n",
        "    ('lr', SVR()),\n",
        "    ('rfr', RandomForestRegressor(n_estimators=10, random_state=1))\n",
        "]"
      ],
      "metadata": {
        "id": "HN3suGj5V74B"
      },
      "execution_count": null,
      "outputs": []
    },
    {
      "cell_type": "code",
      "source": [
        "v_r = VotingRegressor(v_estimators)"
      ],
      "metadata": {
        "id": "i8KAso2FWjr2"
      },
      "execution_count": null,
      "outputs": []
    },
    {
      "cell_type": "code",
      "source": [
        "v_r.fit(X_train, y_train)"
      ],
      "metadata": {
        "colab": {
          "base_uri": "https://localhost:8080/"
        },
        "id": "KIp9SPrIWquU",
        "outputId": "ebc8e1f4-0456-4cff-a308-e2399c4462d8"
      },
      "execution_count": null,
      "outputs": [
        {
          "output_type": "stream",
          "name": "stderr",
          "text": [
            "/usr/local/lib/python3.7/dist-packages/sklearn/ensemble/_voting.py:528: DataConversionWarning: A column-vector y was passed when a 1d array was expected. Please change the shape of y to (n_samples, ), for example using ravel().\n",
            "  y = column_or_1d(y, warn=True)\n"
          ]
        },
        {
          "output_type": "execute_result",
          "data": {
            "text/plain": [
              "VotingRegressor(estimators=[('er', ElasticNet()), ('lr', SVR()),\n",
              "                            ('rfr',\n",
              "                             RandomForestRegressor(n_estimators=10,\n",
              "                                                   random_state=1))])"
            ]
          },
          "metadata": {},
          "execution_count": 86
        }
      ]
    },
    {
      "cell_type": "code",
      "source": [
        "v_r.score(X_test, y_test)"
      ],
      "metadata": {
        "colab": {
          "base_uri": "https://localhost:8080/"
        },
        "id": "LrK11ztCWvzG",
        "outputId": "1667b31f-84db-4030-aa09-b1f4948ed40c"
      },
      "execution_count": null,
      "outputs": [
        {
          "output_type": "execute_result",
          "data": {
            "text/plain": [
              "0.6360585718881523"
            ]
          },
          "metadata": {},
          "execution_count": 87
        }
      ]
    },
    {
      "cell_type": "code",
      "source": [
        "y_predict_v_r = v_r.predict(X_test)"
      ],
      "metadata": {
        "id": "CAAgN7g4W2e6"
      },
      "execution_count": null,
      "outputs": []
    },
    {
      "cell_type": "code",
      "source": [
        "print(\"MSE: %.2f\" % mean_squared_error(y_test, y_predict_v_r))\n",
        "print(\"MAE: %.2f\" % mean_absolute_error(y_test, y_predict_v_r))"
      ],
      "metadata": {
        "colab": {
          "base_uri": "https://localhost:8080/"
        },
        "id": "JGytkswWW84y",
        "outputId": "14bc5e8f-2017-4316-f049-741bb20a9eda"
      },
      "execution_count": null,
      "outputs": [
        {
          "output_type": "stream",
          "name": "stdout",
          "text": [
            "MSE: 62.95\n",
            "MAE: 4.76\n"
          ]
        }
      ]
    },
    {
      "cell_type": "markdown",
      "source": [
        "**==========THE END==========**"
      ],
      "metadata": {
        "id": "G0PTavlEXXmB"
      }
    },
    {
      "cell_type": "code",
      "source": [],
      "metadata": {
        "id": "drrY7sVSXFNg"
      },
      "execution_count": null,
      "outputs": []
    }
  ]
}